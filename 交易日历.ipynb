{
 "cells": [
  {
   "cell_type": "code",
   "execution_count": 1,
   "metadata": {
    "ExecuteTime": {
     "end_time": "2019-01-02T18:59:50.828620Z",
     "start_time": "2019-01-02T18:59:50.305060Z"
    }
   },
   "outputs": [],
   "source": [
    "from trading_calendars import get_calendar"
   ]
  },
  {
   "cell_type": "code",
   "execution_count": 2,
   "metadata": {
    "ExecuteTime": {
     "end_time": "2019-01-02T18:59:54.788604Z",
     "start_time": "2019-01-02T18:59:50.828620Z"
    }
   },
   "outputs": [],
   "source": [
    "calendar = get_calendar('XSHG')"
   ]
  },
  {
   "cell_type": "code",
   "execution_count": 3,
   "metadata": {},
   "outputs": [
    {
     "output_type": "execute_result",
     "data": {
      "text/plain": "                                  market_open              am_end  \\\n1990-01-01 00:00:00+00:00 1990-01-01 01:31:00 1990-01-01 03:31:00   \n1990-01-02 00:00:00+00:00 1990-01-02 01:31:00 1990-01-02 03:31:00   \n1990-01-03 00:00:00+00:00 1990-01-03 01:31:00 1990-01-03 03:31:00   \n1990-01-04 00:00:00+00:00 1990-01-04 01:31:00 1990-01-04 03:31:00   \n1990-01-05 00:00:00+00:00 1990-01-05 01:31:00 1990-01-05 03:31:00   \n...                                       ...                 ...   \n2020-12-25 00:00:00+00:00 2020-12-25 01:31:00 2020-12-25 03:31:00   \n2020-12-28 00:00:00+00:00 2020-12-28 01:31:00 2020-12-28 03:31:00   \n2020-12-29 00:00:00+00:00 2020-12-29 01:31:00 2020-12-29 03:31:00   \n2020-12-30 00:00:00+00:00 2020-12-30 01:31:00 2020-12-30 03:31:00   \n2020-12-31 00:00:00+00:00 2020-12-31 01:31:00 2020-12-31 03:31:00   \n\n                                     pm_start        market_close  \n1990-01-01 00:00:00+00:00 1990-01-01 05:01:00 1990-01-01 07:01:00  \n1990-01-02 00:00:00+00:00 1990-01-02 05:01:00 1990-01-02 07:01:00  \n1990-01-03 00:00:00+00:00 1990-01-03 05:01:00 1990-01-03 07:01:00  \n1990-01-04 00:00:00+00:00 1990-01-04 05:01:00 1990-01-04 07:01:00  \n1990-01-05 00:00:00+00:00 1990-01-05 05:01:00 1990-01-05 07:01:00  \n...                                       ...                 ...  \n2020-12-25 00:00:00+00:00 2020-12-25 05:01:00 2020-12-25 07:01:00  \n2020-12-28 00:00:00+00:00 2020-12-28 05:01:00 2020-12-28 07:01:00  \n2020-12-29 00:00:00+00:00 2020-12-29 05:01:00 2020-12-29 07:01:00  \n2020-12-30 00:00:00+00:00 2020-12-30 05:01:00 2020-12-30 07:01:00  \n2020-12-31 00:00:00+00:00 2020-12-31 05:01:00 2020-12-31 07:01:00  \n\n[7593 rows x 4 columns]",
      "text/html": "<div>\n<style scoped>\n    .dataframe tbody tr th:only-of-type {\n        vertical-align: middle;\n    }\n\n    .dataframe tbody tr th {\n        vertical-align: top;\n    }\n\n    .dataframe thead th {\n        text-align: right;\n    }\n</style>\n<table border=\"1\" class=\"dataframe\">\n  <thead>\n    <tr style=\"text-align: right;\">\n      <th></th>\n      <th>market_open</th>\n      <th>am_end</th>\n      <th>pm_start</th>\n      <th>market_close</th>\n    </tr>\n  </thead>\n  <tbody>\n    <tr>\n      <th>1990-01-01 00:00:00+00:00</th>\n      <td>1990-01-01 01:31:00</td>\n      <td>1990-01-01 03:31:00</td>\n      <td>1990-01-01 05:01:00</td>\n      <td>1990-01-01 07:01:00</td>\n    </tr>\n    <tr>\n      <th>1990-01-02 00:00:00+00:00</th>\n      <td>1990-01-02 01:31:00</td>\n      <td>1990-01-02 03:31:00</td>\n      <td>1990-01-02 05:01:00</td>\n      <td>1990-01-02 07:01:00</td>\n    </tr>\n    <tr>\n      <th>1990-01-03 00:00:00+00:00</th>\n      <td>1990-01-03 01:31:00</td>\n      <td>1990-01-03 03:31:00</td>\n      <td>1990-01-03 05:01:00</td>\n      <td>1990-01-03 07:01:00</td>\n    </tr>\n    <tr>\n      <th>1990-01-04 00:00:00+00:00</th>\n      <td>1990-01-04 01:31:00</td>\n      <td>1990-01-04 03:31:00</td>\n      <td>1990-01-04 05:01:00</td>\n      <td>1990-01-04 07:01:00</td>\n    </tr>\n    <tr>\n      <th>1990-01-05 00:00:00+00:00</th>\n      <td>1990-01-05 01:31:00</td>\n      <td>1990-01-05 03:31:00</td>\n      <td>1990-01-05 05:01:00</td>\n      <td>1990-01-05 07:01:00</td>\n    </tr>\n    <tr>\n      <th>...</th>\n      <td>...</td>\n      <td>...</td>\n      <td>...</td>\n      <td>...</td>\n    </tr>\n    <tr>\n      <th>2020-12-25 00:00:00+00:00</th>\n      <td>2020-12-25 01:31:00</td>\n      <td>2020-12-25 03:31:00</td>\n      <td>2020-12-25 05:01:00</td>\n      <td>2020-12-25 07:01:00</td>\n    </tr>\n    <tr>\n      <th>2020-12-28 00:00:00+00:00</th>\n      <td>2020-12-28 01:31:00</td>\n      <td>2020-12-28 03:31:00</td>\n      <td>2020-12-28 05:01:00</td>\n      <td>2020-12-28 07:01:00</td>\n    </tr>\n    <tr>\n      <th>2020-12-29 00:00:00+00:00</th>\n      <td>2020-12-29 01:31:00</td>\n      <td>2020-12-29 03:31:00</td>\n      <td>2020-12-29 05:01:00</td>\n      <td>2020-12-29 07:01:00</td>\n    </tr>\n    <tr>\n      <th>2020-12-30 00:00:00+00:00</th>\n      <td>2020-12-30 01:31:00</td>\n      <td>2020-12-30 03:31:00</td>\n      <td>2020-12-30 05:01:00</td>\n      <td>2020-12-30 07:01:00</td>\n    </tr>\n    <tr>\n      <th>2020-12-31 00:00:00+00:00</th>\n      <td>2020-12-31 01:31:00</td>\n      <td>2020-12-31 03:31:00</td>\n      <td>2020-12-31 05:01:00</td>\n      <td>2020-12-31 07:01:00</td>\n    </tr>\n  </tbody>\n</table>\n<p>7593 rows × 4 columns</p>\n</div>"
     },
     "metadata": {},
     "execution_count": 3
    }
   ],
   "source": [
    "calendar.schedule"
   ]
  },
  {
   "cell_type": "code",
   "execution_count": 4,
   "metadata": {},
   "outputs": [],
   "source": [
    "import pandas as pd"
   ]
  },
  {
   "cell_type": "code",
   "execution_count": 5,
   "metadata": {},
   "outputs": [
    {
     "output_type": "execute_result",
     "data": {
      "text/plain": "Timestamp('2020-07-03 00:00:00+0000', tz='UTC', freq='C')"
     },
     "metadata": {},
     "execution_count": 5
    }
   ],
   "source": [
    "calendar.actual_last_session"
   ]
  },
  {
   "cell_type": "code",
   "execution_count": 6,
   "metadata": {},
   "outputs": [],
   "source": [
    "dt = pd.Timestamp('2020-07-03 11:31:00',tz=calendar.tz)"
   ]
  },
  {
   "cell_type": "code",
   "execution_count": 7,
   "metadata": {},
   "outputs": [],
   "source": [
    "ndt = calendar.next_minute(dt)"
   ]
  },
  {
   "cell_type": "code",
   "execution_count": 8,
   "metadata": {},
   "outputs": [
    {
     "output_type": "execute_result",
     "data": {
      "text/plain": "Timestamp('2020-07-03 13:01:00+0800', tz='Asia/Shanghai')"
     },
     "metadata": {},
     "execution_count": 8
    }
   ],
   "source": [
    "ndt.tz_convert(calendar.tz)"
   ]
  }
 ],
 "metadata": {
  "kernelspec": {
   "display_name": "Python 3.7.7 64-bit ('zipline': conda)",
   "language": "python",
   "name": "python37764bitziplinecondafc6f11bd3b9c4249a9fc63b5c8ae4fcf"
  },
  "language_info": {
   "codemirror_mode": {
    "name": "ipython",
    "version": 3
   },
   "file_extension": ".py",
   "mimetype": "text/x-python",
   "name": "python",
   "nbconvert_exporter": "python",
   "pygments_lexer": "ipython3",
   "version": "3.7.7-final"
  },
  "toc": {
   "base_numbering": 1,
   "nav_menu": {},
   "number_sections": true,
   "sideBar": true,
   "skip_h1_title": false,
   "title_cell": "Table of Contents",
   "title_sidebar": "Contents",
   "toc_cell": false,
   "toc_position": {
    "height": "calc(100% - 180px)",
    "left": "10px",
    "top": "150px",
    "width": "384px"
   },
   "toc_section_display": true,
   "toc_window_display": true
  }
 },
 "nbformat": 4,
 "nbformat_minor": 2
}