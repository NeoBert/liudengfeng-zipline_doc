{
 "cells": [
  {
   "cell_type": "markdown",
   "metadata": {},
   "source": [
    "[参考](https://www.zhihu.com/question/25404709)@木水小亭有关设置介绍。只不过，本机选择`SimHei`。"
   ]
  },
  {
   "cell_type": "markdown",
   "metadata": {
    "ExecuteTime": {
     "end_time": "2019-05-02T10:19:09.044934Z",
     "start_time": "2019-05-02T10:19:09.016478Z"
    }
   },
   "source": [
    "![字体拷贝](./images/font.png)"
   ]
  },
  {
   "cell_type": "markdown",
   "metadata": {},
   "source": [
    "# 选择字体"
   ]
  },
  {
   "cell_type": "code",
   "execution_count": 1,
   "metadata": {
    "ExecuteTime": {
     "end_time": "2019-07-07T08:56:06.938131Z",
     "start_time": "2019-07-07T08:56:06.852269Z"
    }
   },
   "outputs": [],
   "source": [
    "from matplotlib.font_manager import fontManager"
   ]
  },
  {
   "cell_type": "code",
   "execution_count": 2,
   "metadata": {
    "ExecuteTime": {
     "end_time": "2019-07-07T08:56:06.942029Z",
     "start_time": "2019-07-07T08:56:06.939038Z"
    }
   },
   "outputs": [],
   "source": [
    "import os"
   ]
  },
  {
   "cell_type": "code",
   "execution_count": 3,
   "metadata": {
    "ExecuteTime": {
     "end_time": "2019-07-07T08:56:06.956989Z",
     "start_time": "2019-07-07T08:56:06.943027Z"
    }
   },
   "outputs": [],
   "source": [
    "fonts = [font.name for font in fontManager.ttflist if os.path.exists(font.fname) and os.stat(font.fname).st_size>1e6] "
   ]
  },
  {
   "cell_type": "code",
   "execution_count": 4,
   "metadata": {
    "ExecuteTime": {
     "end_time": "2019-07-07T08:56:06.964968Z",
     "start_time": "2019-07-07T08:56:06.957985Z"
    }
   },
   "outputs": [
    {
     "name": "stdout",
     "output_type": "stream",
     "text": [
      "Arial\n",
      "DengXian\n",
      "Nirmala UI\n",
      "Microsoft JhengHei\n",
      "Microsoft YaHei\n",
      "Segoe UI Emoji\n",
      "MingLiU-ExtB\n",
      "Microsoft YaHei\n",
      "Microsoft JhengHei\n",
      "MS Gothic\n",
      "DengXian\n",
      "FangSong\n",
      "Malgun Gothic\n",
      "Cambria\n",
      "Calibri\n",
      "Microsoft JhengHei\n",
      "Malgun Gothic\n",
      "Segoe UI Symbol\n",
      "Times New Roman\n",
      "SimHei\n",
      "DengXian\n",
      "Nirmala UI\n",
      "Microsoft YaHei\n",
      "Calibri\n",
      "Calibri\n",
      "SimSun\n",
      "Gabriola\n",
      "Segoe UI Historic\n",
      "Calibri\n",
      "Nirmala UI\n",
      "SimSun-ExtB\n",
      "Malgun Gothic\n",
      "Yu Gothic\n",
      "Calibri\n",
      "Yu Gothic\n",
      "KaiTi\n",
      "Times New Roman\n",
      "Yu Gothic\n",
      "Yu Gothic\n"
     ]
    }
   ],
   "source": [
    "for font in fonts:\n",
    "    print(font)"
   ]
  },
  {
   "cell_type": "markdown",
   "metadata": {},
   "source": [
    "选择`SimHei`(ttf扩展名称)"
   ]
  },
  {
   "cell_type": "markdown",
   "metadata": {},
   "source": [
    "# `matplotlib`"
   ]
  },
  {
   "cell_type": "code",
   "execution_count": 5,
   "metadata": {
    "ExecuteTime": {
     "end_time": "2019-07-07T08:56:07.100605Z",
     "start_time": "2019-07-07T08:56:06.965966Z"
    }
   },
   "outputs": [],
   "source": [
    "%matplotlib inline"
   ]
  },
  {
   "cell_type": "code",
   "execution_count": 6,
   "metadata": {
    "ExecuteTime": {
     "end_time": "2019-07-07T08:56:07.203337Z",
     "start_time": "2019-07-07T08:56:07.101602Z"
    }
   },
   "outputs": [
    {
     "data": {
      "image/png": "[encoded data removed]",
      "text/plain": [
       "<Figure size 432x288 with 1 Axes>"
      ]
     },
     "metadata": {
      "needs_background": "light"
     },
     "output_type": "display_data"
    }
   ],
   "source": [
    "import matplotlib.pyplot as plt\n",
    "plt.figure()\n",
    "plt.title(\"标题\")\n",
    "plt.plot([1, 2, 3], [4, 5, 6])\n",
    "plt.xlabel(\"横轴\")\n",
    "plt.ylabel(\"纵轴\")\n",
    "plt.show()"
   ]
  },
  {
   "cell_type": "code",
   "execution_count": 7,
   "metadata": {
    "ExecuteTime": {
     "end_time": "2019-07-07T08:56:08.214875Z",
     "start_time": "2019-07-07T08:56:07.204328Z"
    }
   },
   "outputs": [],
   "source": [
    "import pandas as pd"
   ]
  },
  {
   "cell_type": "code",
   "execution_count": 8,
   "metadata": {
    "ExecuteTime": {
     "end_time": "2019-07-07T08:56:08.218865Z",
     "start_time": "2019-07-07T08:56:08.215876Z"
    }
   },
   "outputs": [],
   "source": [
    "df = pd.DataFrame({'列1':[1,2,3,4],'列2':[1.5,2.5,3.5,4.5]})"
   ]
  },
  {
   "cell_type": "code",
   "execution_count": 9,
   "metadata": {
    "ExecuteTime": {
     "end_time": "2019-07-07T08:56:08.335552Z",
     "start_time": "2019-07-07T08:56:08.219834Z"
    }
   },
   "outputs": [
    {
     "data": {
      "text/plain": [
       "<matplotlib.axes._subplots.AxesSubplot at 0x25a7fe39588>"
      ]
     },
     "execution_count": 9,
     "metadata": {},
     "output_type": "execute_result"
    },
    {
     "data": {
      "image/png": "[encoded data removed]",
      "text/plain": [
       "<Figure size 432x288 with 1 Axes>"
      ]
     },
     "metadata": {
      "needs_background": "light"
     },
     "output_type": "display_data"
    }
   ],
   "source": [
    "df.plot()"
   ]
  },
  {
   "cell_type": "code",
   "execution_count": 10,
   "metadata": {
    "ExecuteTime": {
     "end_time": "2019-07-07T08:56:08.339513Z",
     "start_time": "2019-07-07T08:56:08.336522Z"
    }
   },
   "outputs": [],
   "source": [
    "import numpy as np"
   ]
  },
  {
   "cell_type": "code",
   "execution_count": 11,
   "metadata": {
    "ExecuteTime": {
     "end_time": "2019-07-07T08:56:08.345499Z",
     "start_time": "2019-07-07T08:56:08.340512Z"
    }
   },
   "outputs": [],
   "source": [
    "df = pd.DataFrame(np.arange(10))"
   ]
  },
  {
   "cell_type": "code",
   "execution_count": 12,
   "metadata": {
    "ExecuteTime": {
     "end_time": "2019-07-07T08:56:08.451243Z",
     "start_time": "2019-07-07T08:56:08.346496Z"
    }
   },
   "outputs": [
    {
     "data": {
      "text/plain": [
       "<matplotlib.axes._subplots.AxesSubplot at 0x25a7fe0f780>"
      ]
     },
     "execution_count": 12,
     "metadata": {},
     "output_type": "execute_result"
    },
    {
     "data": {
      "image/png": "[encoded data removed]",
      "text/plain": [
       "<Figure size 432x288 with 1 Axes>"
      ]
     },
     "metadata": {
      "needs_background": "light"
     },
     "output_type": "display_data"
    }
   ],
   "source": [
    "df.plot(title=\"因子分位数的均值周期回报率\")"
   ]
  },
  {
   "cell_type": "markdown",
   "metadata": {},
   "source": [
    "# `seaborn`"
   ]
  },
  {
   "cell_type": "code",
   "execution_count": 13,
   "metadata": {
    "ExecuteTime": {
     "end_time": "2019-07-07T08:56:08.703613Z",
     "start_time": "2019-07-07T08:56:08.452240Z"
    }
   },
   "outputs": [],
   "source": [
    "import seaborn as sns"
   ]
  },
  {
   "cell_type": "code",
   "execution_count": 14,
   "metadata": {
    "ExecuteTime": {
     "end_time": "2019-07-07T08:56:09.350447Z",
     "start_time": "2019-07-07T08:56:08.704580Z"
    }
   },
   "outputs": [],
   "source": [
    "tips = sns.load_dataset(\"tips\")"
   ]
  },
  {
   "cell_type": "code",
   "execution_count": 15,
   "metadata": {
    "ExecuteTime": {
     "end_time": "2019-07-07T08:56:09.355278Z",
     "start_time": "2019-07-07T08:56:09.351280Z"
    }
   },
   "outputs": [],
   "source": [
    "tips.rename(columns={\"day\": \"天\", \"total_bill\": \"总额\"},inplace=True)"
   ]
  },
  {
   "cell_type": "code",
   "execution_count": 16,
   "metadata": {
    "ExecuteTime": {
     "end_time": "2019-07-07T08:56:09.468965Z",
     "start_time": "2019-07-07T08:56:09.356266Z"
    }
   },
   "outputs": [
    {
     "data": {
      "image/png": "[encoded data removed]",
      "text/plain": [
       "<Figure size 360x360 with 1 Axes>"
      ]
     },
     "metadata": {
      "needs_background": "light"
     },
     "output_type": "display_data"
    }
   ],
   "source": [
    "sns.catplot(x=\"天\", y=\"总额\", data=tips);"
   ]
  }
 ],
 "metadata": {
  "kernelspec": {
   "display_name": "Python 3.7.7 64-bit ('zipline': conda)",
   "language": "python",
   "name": "python37764bitziplinecondafc6f11bd3b9c4249a9fc63b5c8ae4fcf"
  },
  "language_info": {
   "codemirror_mode": {
    "name": "ipython",
    "version": 3
   },
   "file_extension": ".py",
   "mimetype": "text/x-python",
   "name": "python",
   "nbconvert_exporter": "python",
   "pygments_lexer": "ipython3",
   "version": "3.7.7-final"
  },
  "toc": {
   "base_numbering": 1,
   "nav_menu": {},
   "number_sections": true,
   "sideBar": true,
   "skip_h1_title": false,
   "title_cell": "Table of Contents",
   "title_sidebar": "Contents",
   "toc_cell": false,
   "toc_position": {},
   "toc_section_display": true,
   "toc_window_display": true
  }
 },
 "nbformat": 4,
 "nbformat_minor": 2
}