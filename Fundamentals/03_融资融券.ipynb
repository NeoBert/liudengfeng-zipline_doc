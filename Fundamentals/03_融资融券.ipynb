{
 "cells": [
  {
   "cell_type": "code",
   "execution_count": 1,
   "metadata": {
    "ExecuteTime": {
     "end_time": "2019-01-02T05:48:20.086188Z",
     "start_time": "2019-01-02T05:48:17.016528Z"
    }
   },
   "outputs": [],
   "source": [
    "from zipline.pipeline import Pipeline\n",
    "from zipline.research import run_pipeline, symbols, symbol, select_output_by\n",
    "from zipline.pipeline.fundamentals import Fundamentals"
   ]
  },
  {
   "cell_type": "code",
   "execution_count": 2,
   "metadata": {
    "ExecuteTime": {
     "end_time": "2019-01-02T05:48:24.365401Z",
     "start_time": "2019-01-02T05:48:20.086188Z"
    }
   },
   "outputs": [],
   "source": [
    "def make_pipeline():\n",
    "    return Pipeline(\n",
    "        columns={\n",
    "            '融资融券余额': Fundamentals.margin.融资融券余额.latest,\n",
    "            '本日融资买入额': Fundamentals.margin.本日融资买入额.latest,\n",
    "        })\n",
    "\n",
    "\n",
    "data_output = run_pipeline(\n",
    "    make_pipeline(), start_date='2018-03-01', end_date='2018-06-10')"
   ]
  },
  {
   "cell_type": "code",
   "execution_count": 3,
   "metadata": {
    "ExecuteTime": {
     "end_time": "2019-01-02T05:48:24.580807Z",
     "start_time": "2019-01-02T05:48:24.365401Z"
    }
   },
   "outputs": [
    {
     "data": {
      "text/html": [
       "<div>\n",
       "<style scoped>\n",
       "    .dataframe tbody tr th:only-of-type {\n",
       "        vertical-align: middle;\n",
       "    }\n",
       "\n",
       "    .dataframe tbody tr th {\n",
       "        vertical-align: top;\n",
       "    }\n",
       "\n",
       "    .dataframe thead th {\n",
       "        text-align: right;\n",
       "    }\n",
       "</style>\n",
       "<table border=\"1\" class=\"dataframe\">\n",
       "  <thead>\n",
       "    <tr style=\"text-align: right;\">\n",
       "      <th></th>\n",
       "      <th></th>\n",
       "      <th>融资融券余额</th>\n",
       "      <th>本日融资买入额</th>\n",
       "    </tr>\n",
       "  </thead>\n",
       "  <tbody>\n",
       "    <tr>\n",
       "      <th rowspan=\"3\" valign=\"top\">2018-06-01 00:00:00+00:00</th>\n",
       "      <th>美的集团(000333)</th>\n",
       "      <td>3.372735e+09</td>\n",
       "      <td>294466719.0</td>\n",
       "    </tr>\n",
       "    <tr>\n",
       "      <th>苏宁易购(002024)</th>\n",
       "      <td>3.590998e+09</td>\n",
       "      <td>413864268.0</td>\n",
       "    </tr>\n",
       "    <tr>\n",
       "      <th>中源协和(600645)</th>\n",
       "      <td>9.869811e+08</td>\n",
       "      <td>0.0</td>\n",
       "    </tr>\n",
       "    <tr>\n",
       "      <th rowspan=\"3\" valign=\"top\">2018-06-04 00:00:00+00:00</th>\n",
       "      <th>美的集团(000333)</th>\n",
       "      <td>3.294874e+09</td>\n",
       "      <td>181719282.0</td>\n",
       "    </tr>\n",
       "    <tr>\n",
       "      <th>苏宁易购(002024)</th>\n",
       "      <td>3.592597e+09</td>\n",
       "      <td>339762466.0</td>\n",
       "    </tr>\n",
       "    <tr>\n",
       "      <th>中源协和(600645)</th>\n",
       "      <td>9.833014e+08</td>\n",
       "      <td>0.0</td>\n",
       "    </tr>\n",
       "    <tr>\n",
       "      <th rowspan=\"3\" valign=\"top\">2018-06-05 00:00:00+00:00</th>\n",
       "      <th>美的集团(000333)</th>\n",
       "      <td>3.185394e+09</td>\n",
       "      <td>154868618.0</td>\n",
       "    </tr>\n",
       "    <tr>\n",
       "      <th>苏宁易购(002024)</th>\n",
       "      <td>3.537371e+09</td>\n",
       "      <td>162755414.0</td>\n",
       "    </tr>\n",
       "    <tr>\n",
       "      <th>中源协和(600645)</th>\n",
       "      <td>9.790997e+08</td>\n",
       "      <td>0.0</td>\n",
       "    </tr>\n",
       "    <tr>\n",
       "      <th rowspan=\"3\" valign=\"top\">2018-06-06 00:00:00+00:00</th>\n",
       "      <th>美的集团(000333)</th>\n",
       "      <td>3.109961e+09</td>\n",
       "      <td>163529770.0</td>\n",
       "    </tr>\n",
       "    <tr>\n",
       "      <th>苏宁易购(002024)</th>\n",
       "      <td>3.569226e+09</td>\n",
       "      <td>192476883.0</td>\n",
       "    </tr>\n",
       "    <tr>\n",
       "      <th>中源协和(600645)</th>\n",
       "      <td>9.763470e+08</td>\n",
       "      <td>0.0</td>\n",
       "    </tr>\n",
       "    <tr>\n",
       "      <th rowspan=\"3\" valign=\"top\">2018-06-07 00:00:00+00:00</th>\n",
       "      <th>美的集团(000333)</th>\n",
       "      <td>3.107956e+09</td>\n",
       "      <td>229011963.0</td>\n",
       "    </tr>\n",
       "    <tr>\n",
       "      <th>苏宁易购(002024)</th>\n",
       "      <td>3.562872e+09</td>\n",
       "      <td>179058340.0</td>\n",
       "    </tr>\n",
       "    <tr>\n",
       "      <th>中源协和(600645)</th>\n",
       "      <td>9.750034e+08</td>\n",
       "      <td>0.0</td>\n",
       "    </tr>\n",
       "    <tr>\n",
       "      <th rowspan=\"3\" valign=\"top\">2018-06-08 00:00:00+00:00</th>\n",
       "      <th>美的集团(000333)</th>\n",
       "      <td>3.097131e+09</td>\n",
       "      <td>136084106.0</td>\n",
       "    </tr>\n",
       "    <tr>\n",
       "      <th>苏宁易购(002024)</th>\n",
       "      <td>3.581247e+09</td>\n",
       "      <td>219302179.0</td>\n",
       "    </tr>\n",
       "    <tr>\n",
       "      <th>中源协和(600645)</th>\n",
       "      <td>9.805811e+08</td>\n",
       "      <td>93700865.0</td>\n",
       "    </tr>\n",
       "  </tbody>\n",
       "</table>\n",
       "</div>"
      ],
      "text/plain": [
       "                                              融资融券余额      本日融资买入额\n",
       "2018-06-01 00:00:00+00:00 美的集团(000333)  3.372735e+09  294466719.0\n",
       "                          苏宁易购(002024)  3.590998e+09  413864268.0\n",
       "                          中源协和(600645)  9.869811e+08          0.0\n",
       "2018-06-04 00:00:00+00:00 美的集团(000333)  3.294874e+09  181719282.0\n",
       "                          苏宁易购(002024)  3.592597e+09  339762466.0\n",
       "                          中源协和(600645)  9.833014e+08          0.0\n",
       "2018-06-05 00:00:00+00:00 美的集团(000333)  3.185394e+09  154868618.0\n",
       "                          苏宁易购(002024)  3.537371e+09  162755414.0\n",
       "                          中源协和(600645)  9.790997e+08          0.0\n",
       "2018-06-06 00:00:00+00:00 美的集团(000333)  3.109961e+09  163529770.0\n",
       "                          苏宁易购(002024)  3.569226e+09  192476883.0\n",
       "                          中源协和(600645)  9.763470e+08          0.0\n",
       "2018-06-07 00:00:00+00:00 美的集团(000333)  3.107956e+09  229011963.0\n",
       "                          苏宁易购(002024)  3.562872e+09  179058340.0\n",
       "                          中源协和(600645)  9.750034e+08          0.0\n",
       "2018-06-08 00:00:00+00:00 美的集团(000333)  3.097131e+09  136084106.0\n",
       "                          苏宁易购(002024)  3.581247e+09  219302179.0\n",
       "                          中源协和(600645)  9.805811e+08   93700865.0"
      ]
     },
     "execution_count": 3,
     "metadata": {},
     "output_type": "execute_result"
    }
   ],
   "source": [
    "select_output_by(data_output, '2018-06-01', assets=['000333', '600645','002024'])"
   ]
  }
 ],
 "metadata": {
  "kernelspec": {
   "display_name": "zipline",
   "language": "python",
   "name": "zipline"
  },
  "language_info": {
   "codemirror_mode": {
    "name": "ipython",
    "version": 3
   },
   "file_extension": ".py",
   "mimetype": "text/x-python",
   "name": "python",
   "nbconvert_exporter": "python",
   "pygments_lexer": "ipython3",
   "version": "3.7.1"
  },
  "toc": {
   "base_numbering": 1,
   "nav_menu": {},
   "number_sections": true,
   "sideBar": true,
   "skip_h1_title": false,
   "title_cell": "Table of Contents",
   "title_sidebar": "Contents",
   "toc_cell": false,
   "toc_position": {},
   "toc_section_display": true,
   "toc_window_display": false
  }
 },
 "nbformat": 4,
 "nbformat_minor": 2
}
