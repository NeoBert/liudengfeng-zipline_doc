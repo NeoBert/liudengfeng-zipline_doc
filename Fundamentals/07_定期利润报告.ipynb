{
 "cells": [
  {
   "cell_type": "code",
   "execution_count": 1,
   "metadata": {
    "ExecuteTime": {
     "end_time": "2019-01-02T06:17:08.784594Z",
     "start_time": "2019-01-02T06:17:04.934081Z"
    }
   },
   "outputs": [],
   "source": [
    "from zipline.pipeline import Pipeline\n",
    "from zipline.research import run_pipeline, symbols, symbol, select_output_by\n",
    "from zipline.pipeline.fundamentals import Fundamentals"
   ]
  },
  {
   "cell_type": "code",
   "execution_count": 2,
   "metadata": {
    "ExecuteTime": {
     "end_time": "2019-01-02T06:17:10.924208Z",
     "start_time": "2019-01-02T06:17:08.784594Z"
    }
   },
   "outputs": [],
   "source": [
    "def make_pipeline():\n",
    "    return Pipeline(\n",
    "        columns={\n",
    "            '二稀释每股收益': Fundamentals.profit_statement.二稀释每股收益.latest,\n",
    "            '财务费用': Fundamentals.profit_statement.财务费用.latest,\n",
    "        })\n",
    "\n",
    "\n",
    "data_output = run_pipeline(\n",
    "    make_pipeline(), start_date='2018-03-01', end_date='2018-06-10')"
   ]
  },
  {
   "cell_type": "code",
   "execution_count": 3,
   "metadata": {
    "ExecuteTime": {
     "end_time": "2019-01-02T06:17:11.261086Z",
     "start_time": "2019-01-02T06:17:10.924208Z"
    }
   },
   "outputs": [
    {
     "data": {
      "text/html": [
       "<div>\n",
       "<style scoped>\n",
       "    .dataframe tbody tr th:only-of-type {\n",
       "        vertical-align: middle;\n",
       "    }\n",
       "\n",
       "    .dataframe tbody tr th {\n",
       "        vertical-align: top;\n",
       "    }\n",
       "\n",
       "    .dataframe thead th {\n",
       "        text-align: right;\n",
       "    }\n",
       "</style>\n",
       "<table border=\"1\" class=\"dataframe\">\n",
       "  <thead>\n",
       "    <tr style=\"text-align: right;\">\n",
       "      <th></th>\n",
       "      <th></th>\n",
       "      <th>二稀释每股收益</th>\n",
       "      <th>财务费用</th>\n",
       "    </tr>\n",
       "  </thead>\n",
       "  <tbody>\n",
       "    <tr>\n",
       "      <th rowspan=\"3\" valign=\"top\">2018-06-01 00:00:00+00:00</th>\n",
       "      <th>美的集团(000333)</th>\n",
       "      <td>NaN</td>\n",
       "      <td>NaN</td>\n",
       "    </tr>\n",
       "    <tr>\n",
       "      <th>苏宁易购(002024)</th>\n",
       "      <td>0.0119</td>\n",
       "      <td>1.931900e+08</td>\n",
       "    </tr>\n",
       "    <tr>\n",
       "      <th>中源协和(600645)</th>\n",
       "      <td>0.3000</td>\n",
       "      <td>1.923904e+06</td>\n",
       "    </tr>\n",
       "    <tr>\n",
       "      <th rowspan=\"3\" valign=\"top\">2018-06-04 00:00:00+00:00</th>\n",
       "      <th>美的集团(000333)</th>\n",
       "      <td>NaN</td>\n",
       "      <td>NaN</td>\n",
       "    </tr>\n",
       "    <tr>\n",
       "      <th>苏宁易购(002024)</th>\n",
       "      <td>0.0119</td>\n",
       "      <td>1.931900e+08</td>\n",
       "    </tr>\n",
       "    <tr>\n",
       "      <th>中源协和(600645)</th>\n",
       "      <td>0.3000</td>\n",
       "      <td>1.923904e+06</td>\n",
       "    </tr>\n",
       "    <tr>\n",
       "      <th rowspan=\"3\" valign=\"top\">2018-06-05 00:00:00+00:00</th>\n",
       "      <th>美的集团(000333)</th>\n",
       "      <td>NaN</td>\n",
       "      <td>NaN</td>\n",
       "    </tr>\n",
       "    <tr>\n",
       "      <th>苏宁易购(002024)</th>\n",
       "      <td>0.0119</td>\n",
       "      <td>1.931900e+08</td>\n",
       "    </tr>\n",
       "    <tr>\n",
       "      <th>中源协和(600645)</th>\n",
       "      <td>0.3000</td>\n",
       "      <td>1.923904e+06</td>\n",
       "    </tr>\n",
       "    <tr>\n",
       "      <th rowspan=\"3\" valign=\"top\">2018-06-06 00:00:00+00:00</th>\n",
       "      <th>美的集团(000333)</th>\n",
       "      <td>NaN</td>\n",
       "      <td>NaN</td>\n",
       "    </tr>\n",
       "    <tr>\n",
       "      <th>苏宁易购(002024)</th>\n",
       "      <td>0.0119</td>\n",
       "      <td>1.931900e+08</td>\n",
       "    </tr>\n",
       "    <tr>\n",
       "      <th>中源协和(600645)</th>\n",
       "      <td>0.3000</td>\n",
       "      <td>1.923904e+06</td>\n",
       "    </tr>\n",
       "    <tr>\n",
       "      <th rowspan=\"3\" valign=\"top\">2018-06-07 00:00:00+00:00</th>\n",
       "      <th>美的集团(000333)</th>\n",
       "      <td>NaN</td>\n",
       "      <td>NaN</td>\n",
       "    </tr>\n",
       "    <tr>\n",
       "      <th>苏宁易购(002024)</th>\n",
       "      <td>0.0119</td>\n",
       "      <td>1.931900e+08</td>\n",
       "    </tr>\n",
       "    <tr>\n",
       "      <th>中源协和(600645)</th>\n",
       "      <td>0.3000</td>\n",
       "      <td>1.923904e+06</td>\n",
       "    </tr>\n",
       "    <tr>\n",
       "      <th rowspan=\"3\" valign=\"top\">2018-06-08 00:00:00+00:00</th>\n",
       "      <th>美的集团(000333)</th>\n",
       "      <td>NaN</td>\n",
       "      <td>NaN</td>\n",
       "    </tr>\n",
       "    <tr>\n",
       "      <th>苏宁易购(002024)</th>\n",
       "      <td>0.0119</td>\n",
       "      <td>1.931900e+08</td>\n",
       "    </tr>\n",
       "    <tr>\n",
       "      <th>中源协和(600645)</th>\n",
       "      <td>0.3000</td>\n",
       "      <td>1.923904e+06</td>\n",
       "    </tr>\n",
       "  </tbody>\n",
       "</table>\n",
       "</div>"
      ],
      "text/plain": [
       "                                        二稀释每股收益          财务费用\n",
       "2018-06-01 00:00:00+00:00 美的集团(000333)      NaN           NaN\n",
       "                          苏宁易购(002024)   0.0119  1.931900e+08\n",
       "                          中源协和(600645)   0.3000  1.923904e+06\n",
       "2018-06-04 00:00:00+00:00 美的集团(000333)      NaN           NaN\n",
       "                          苏宁易购(002024)   0.0119  1.931900e+08\n",
       "                          中源协和(600645)   0.3000  1.923904e+06\n",
       "2018-06-05 00:00:00+00:00 美的集团(000333)      NaN           NaN\n",
       "                          苏宁易购(002024)   0.0119  1.931900e+08\n",
       "                          中源协和(600645)   0.3000  1.923904e+06\n",
       "2018-06-06 00:00:00+00:00 美的集团(000333)      NaN           NaN\n",
       "                          苏宁易购(002024)   0.0119  1.931900e+08\n",
       "                          中源协和(600645)   0.3000  1.923904e+06\n",
       "2018-06-07 00:00:00+00:00 美的集团(000333)      NaN           NaN\n",
       "                          苏宁易购(002024)   0.0119  1.931900e+08\n",
       "                          中源协和(600645)   0.3000  1.923904e+06\n",
       "2018-06-08 00:00:00+00:00 美的集团(000333)      NaN           NaN\n",
       "                          苏宁易购(002024)   0.0119  1.931900e+08\n",
       "                          中源协和(600645)   0.3000  1.923904e+06"
      ]
     },
     "execution_count": 3,
     "metadata": {},
     "output_type": "execute_result"
    }
   ],
   "source": [
    "select_output_by(data_output, '2018-06-01', assets=['000333', '600645','002024'])"
   ]
  }
 ],
 "metadata": {
  "kernelspec": {
   "display_name": "zipline",
   "language": "python",
   "name": "zipline"
  },
  "language_info": {
   "codemirror_mode": {
    "name": "ipython",
    "version": 3
   },
   "file_extension": ".py",
   "mimetype": "text/x-python",
   "name": "python",
   "nbconvert_exporter": "python",
   "pygments_lexer": "ipython3",
   "version": "3.7.1"
  },
  "toc": {
   "base_numbering": 1,
   "nav_menu": {},
   "number_sections": true,
   "sideBar": true,
   "skip_h1_title": false,
   "title_cell": "Table of Contents",
   "title_sidebar": "Contents",
   "toc_cell": false,
   "toc_position": {},
   "toc_section_display": true,
   "toc_window_display": false
  }
 },
 "nbformat": 4,
 "nbformat_minor": 2
}
