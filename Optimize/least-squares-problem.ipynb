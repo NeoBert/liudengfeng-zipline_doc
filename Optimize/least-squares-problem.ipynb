{
 "cells": [
  {
   "cell_type": "code",
   "execution_count": 1,
   "metadata": {
    "ExecuteTime": {
     "end_time": "2019-01-03T05:08:58.572704Z",
     "start_time": "2019-01-03T05:08:58.131962Z"
    }
   },
   "outputs": [
    {
     "name": "stdout",
     "output_type": "stream",
     "text": [
      "[-1.00049723e-03  2.78867474e-02  1.72324009e-03  3.67299258e-05\n",
      " -1.34110728e-03  1.49849244e-01 -6.94547812e-04  4.95171402e-04\n",
      "  2.46109612e-01  5.76052476e-01 -2.31429313e-03  2.33210221e-04\n",
      " -4.49099455e-04  2.25180894e-01 -9.46443449e-04 -4.96566507e-04\n",
      " -8.01071048e-04 -8.34661500e-04  7.72478759e-04 -2.09625000e-03]\n",
      "[2.41161342e+00 4.92193692e-19 2.91982608e+00 1.81300065e+00\n",
      " 1.29433888e+01 0.00000000e+00 6.70948368e-01 3.43738150e+00\n",
      " 0.00000000e+00 0.00000000e+00 8.77021713e+00 1.93819216e-02\n",
      " 6.99394978e+00 0.00000000e+00 4.57405947e+00 3.12997531e+00\n",
      " 1.96784540e+00 1.00217575e+01 3.14871920e+00 8.35476682e+00]\n"
     ]
    }
   ],
   "source": [
    "from cvxpy import *\n",
    "import numpy\n",
    "\n",
    "# Problem data.\n",
    "m = 30\n",
    "n = 20\n",
    "numpy.random.seed(1)\n",
    "A = numpy.random.randn(m, n)\n",
    "b = numpy.random.randn(m)\n",
    "\n",
    "# Construct the problem.\n",
    "x = Variable(n)\n",
    "objective = Minimize(sum_squares(A*x - b))\n",
    "constraints = [0 <= x, x <= 1]\n",
    "prob = Problem(objective, constraints)\n",
    "\n",
    "# The optimal objective is returned by prob.solve().\n",
    "result = prob.solve()\n",
    "# The optimal value for x is stored in x.value.\n",
    "print(x.value)\n",
    "# The optimal Lagrange multiplier for a constraint\n",
    "# is stored in constraint.dual_value.\n",
    "print(constraints[0].dual_value)"
   ]
  }
 ],
 "metadata": {
  "kernelspec": {
   "display_name": "zipline",
   "language": "python",
   "name": "zipline"
  },
  "language_info": {
   "codemirror_mode": {
    "name": "ipython",
    "version": 3
   },
   "file_extension": ".py",
   "mimetype": "text/x-python",
   "name": "python",
   "nbconvert_exporter": "python",
   "pygments_lexer": "ipython3",
   "version": "3.7.1"
  },
  "toc": {
   "base_numbering": 1,
   "nav_menu": {},
   "number_sections": true,
   "sideBar": true,
   "skip_h1_title": false,
   "title_cell": "Table of Contents",
   "title_sidebar": "Contents",
   "toc_cell": false,
   "toc_position": {},
   "toc_section_display": true,
   "toc_window_display": false
  }
 },
 "nbformat": 4,
 "nbformat_minor": 2
}
