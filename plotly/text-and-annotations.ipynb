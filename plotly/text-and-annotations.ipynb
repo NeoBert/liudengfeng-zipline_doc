{
 "cells": [
  {
   "cell_type": "markdown",
   "metadata": {},
   "source": [
    "#### New to Plotly?\n",
    "Plotly's Python library is free and open source! [Get started](https://plot.ly/python/getting-started/) by downloading the client and [reading the primer](https://plot.ly/python/getting-started/).\n",
    "<br>You can set up Plotly to work in [online](https://plot.ly/python/getting-started/#initialization-for-online-plotting) or [offline](https://plot.ly/python/getting-started/#initialization-for-offline-plotting) mode, or in [jupyter notebooks](https://plot.ly/python/getting-started/#start-plotting-online).\n",
    "<br>We also have a quick-reference [cheatsheet](https://images.plot.ly/plotly-documentation/images/python_cheat_sheet.pdf) (new!) to help you get started!"
   ]
  },
  {
   "cell_type": "markdown",
   "metadata": {},
   "source": [
    "#### Version Check\n",
    "Plotly's python package is updated frequently. Run `pip install plotly --upgrade` to use the latest version."
   ]
  },
  {
   "cell_type": "code",
   "execution_count": 1,
   "metadata": {
    "ExecuteTime": {
     "end_time": "2019-07-10T09:33:42.002283Z",
     "start_time": "2019-07-10T09:33:41.250268Z"
    }
   },
   "outputs": [],
   "source": [
    "import plotly as py\n",
    "import plotly.graph_objs as go"
   ]
  },
  {
   "cell_type": "code",
   "execution_count": 2,
   "metadata": {
    "ExecuteTime": {
     "end_time": "2019-07-10T09:33:42.006247Z",
     "start_time": "2019-07-10T09:33:42.003253Z"
    }
   },
   "outputs": [
    {
     "data": {
      "text/html": [
       "        <script type=\"text/javascript\">\n",
       "        window.PlotlyConfig = {MathJaxConfig: 'local'};\n",
       "        if (window.MathJax) {MathJax.Hub.Config({SVG: {font: \"STIX-Web\"}});}\n",
       "        if (typeof require !== 'undefined') {\n",
       "        require.undef(\"plotly\");\n",
       "        requirejs.config({\n",
       "            paths: {\n",
       "                'plotly': ['https://cdn.plot.ly/plotly-latest.min']\n",
       "            }\n",
       "        });\n",
       "        require(['plotly'], function(Plotly) {\n",
       "            window._Plotly = Plotly;\n",
       "        });\n",
       "        }\n",
       "        </script>\n",
       "        "
      ]
     },
     "metadata": {},
     "output_type": "display_data"
    }
   ],
   "source": [
    "py.offline.init_notebook_mode(connected=True)"
   ]
  },
  {
   "cell_type": "markdown",
   "metadata": {},
   "source": [
    "### Adding Text to Data in Line and Scatter Plots"
   ]
  },
  {
   "cell_type": "code",
   "execution_count": 3,
   "metadata": {
    "ExecuteTime": {
     "end_time": "2019-07-10T09:33:43.481853Z",
     "start_time": "2019-07-10T09:33:43.259448Z"
    }
   },
   "outputs": [
    {
     "data": {
      "application/vnd.plotly.v1+json": {
       "config": {
        "linkText": "Export to plot.ly",
        "plotlyServerURL": "https://plot.ly",
        "showLink": false
       },
       "data": [
        {
         "mode": "lines+markers+text",
         "name": "Lines, Markers and Text",
         "text": [
          "Text A",
          "Text B",
          "Text C"
         ],
         "textposition": "top center",
         "type": "scatter",
         "uid": "c2d40725-dd8a-4bcb-a3bd-f0f5f3e08680",
         "x": [
          0,
          1,
          2
         ],
         "y": [
          1,
          1,
          1
         ]
        },
        {
         "mode": "markers+text",
         "name": "Markers and Text",
         "text": [
          "Text D",
          "Text E",
          "Text F"
         ],
         "textposition": "bottom center",
         "type": "scatter",
         "uid": "06a05810-d724-42ca-98d2-393caba57943",
         "x": [
          0,
          1,
          2
         ],
         "y": [
          2,
          2,
          2
         ]
        },
        {
         "mode": "lines+text",
         "name": "Lines and Text",
         "text": [
          "Text G",
          "Text H",
          "Text I"
         ],
         "textposition": "bottom center",
         "type": "scatter",
         "uid": "4467ab7b-dd3a-4d71-a0fa-2e3a384581dd",
         "x": [
          0,
          1,
          2
         ],
         "y": [
          3,
          3,
          3
         ]
        }
       ],
       "layout": {
        "showlegend": false
       }
      },
      "text/html": [
       "<div>\n",
       "        \n",
       "        \n",
       "            <div id=\"4ea6bd2f-729d-46d8-aa94-e1c900a50b91\" class=\"plotly-graph-div\" style=\"height:525px; width:100%;\"></div>\n",
       "            <script type=\"text/javascript\">\n",
       "                require([\"plotly\"], function(Plotly) {\n",
       "                    window.PLOTLYENV=window.PLOTLYENV || {};\n",
       "                    window.PLOTLYENV.BASE_URL='https://plot.ly';\n",
       "                    \n",
       "                if (document.getElementById(\"4ea6bd2f-729d-46d8-aa94-e1c900a50b91\")) {\n",
       "                    Plotly.newPlot(\n",
       "                        '4ea6bd2f-729d-46d8-aa94-e1c900a50b91',\n",
       "                        [{\"mode\": \"lines+markers+text\", \"name\": \"Lines, Markers and Text\", \"text\": [\"Text A\", \"Text B\", \"Text C\"], \"textposition\": \"top center\", \"type\": \"scatter\", \"uid\": \"c2d40725-dd8a-4bcb-a3bd-f0f5f3e08680\", \"x\": [0, 1, 2], \"y\": [1, 1, 1]}, {\"mode\": \"markers+text\", \"name\": \"Markers and Text\", \"text\": [\"Text D\", \"Text E\", \"Text F\"], \"textposition\": \"bottom center\", \"type\": \"scatter\", \"uid\": \"06a05810-d724-42ca-98d2-393caba57943\", \"x\": [0, 1, 2], \"y\": [2, 2, 2]}, {\"mode\": \"lines+text\", \"name\": \"Lines and Text\", \"text\": [\"Text G\", \"Text H\", \"Text I\"], \"textposition\": \"bottom center\", \"type\": \"scatter\", \"uid\": \"4467ab7b-dd3a-4d71-a0fa-2e3a384581dd\", \"x\": [0, 1, 2], \"y\": [3, 3, 3]}],\n",
       "                        {\"showlegend\": false},\n",
       "                        {\"showLink\": false, \"linkText\": \"Export to plot.ly\", \"plotlyServerURL\": \"https://plot.ly\", \"responsive\": true}\n",
       "                    ).then(function(){\n",
       "                            \n",
       "var gd = document.getElementById('4ea6bd2f-729d-46d8-aa94-e1c900a50b91');\n",
       "var x = new MutationObserver(function (mutations, observer) {{\n",
       "        var display = window.getComputedStyle(gd).display;\n",
       "        if (!display || display === 'none') {{\n",
       "            console.log([gd, 'removed!']);\n",
       "            Plotly.purge(gd);\n",
       "            observer.disconnect();\n",
       "        }}\n",
       "}});\n",
       "\n",
       "// Listen for the removal of the full notebook cells\n",
       "var notebookContainer = gd.closest('#notebook-container');\n",
       "if (notebookContainer) {{\n",
       "    x.observe(notebookContainer, {childList: true});\n",
       "}}\n",
       "\n",
       "// Listen for the clearing of the current output cell\n",
       "var outputEl = gd.closest('.output');\n",
       "if (outputEl) {{\n",
       "    x.observe(outputEl, {childList: true});\n",
       "}}\n",
       "\n",
       "                        })\n",
       "                };\n",
       "                });\n",
       "            </script>\n",
       "        </div>"
      ]
     },
     "metadata": {},
     "output_type": "display_data"
    }
   ],
   "source": [
    "trace1 = go.Scatter(\n",
    "    x=[0, 1, 2],\n",
    "    y=[1, 1, 1],\n",
    "    mode='lines+markers+text',\n",
    "    name='Lines, Markers and Text',\n",
    "    text=['Text A', 'Text B', 'Text C'],\n",
    "    textposition='top center'\n",
    ")\n",
    "\n",
    "trace2 = go.Scatter(\n",
    "    x=[0, 1, 2],\n",
    "    y=[2, 2, 2],\n",
    "    mode='markers+text',\n",
    "    name='Markers and Text',\n",
    "    text=['Text D', 'Text E', 'Text F'],\n",
    "    textposition='bottom center'\n",
    ")\n",
    "\n",
    "trace3 = go.Scatter(\n",
    "    x=[0, 1, 2],\n",
    "    y=[3, 3, 3],\n",
    "    mode='lines+text',\n",
    "    name='Lines and Text',\n",
    "    text=['Text G', 'Text H', 'Text I'],\n",
    "    textposition='bottom center'\n",
    ")\n",
    "\n",
    "data = [trace1, trace2, trace3]\n",
    "\n",
    "layout = go.Layout(\n",
    "    showlegend=False\n",
    ")\n",
    "\n",
    "fig = go.Figure(data=data, layout=layout)\n",
    "py.offline.iplot(fig, filename='text-chart-basic')"
   ]
  },
  {
   "cell_type": "markdown",
   "metadata": {},
   "source": [
    "### Adding Hover Text to Data in Line and Scatter Plots"
   ]
  },
  {
   "cell_type": "code",
   "execution_count": 4,
   "metadata": {
    "ExecuteTime": {
     "end_time": "2019-07-10T09:34:21.239610Z",
     "start_time": "2019-07-10T09:34:21.147855Z"
    }
   },
   "outputs": [
    {
     "data": {
      "application/vnd.plotly.v1+json": {
       "config": {
        "linkText": "Export to plot.ly",
        "plotlyServerURL": "https://plot.ly",
        "showLink": false
       },
       "data": [
        {
         "mode": "markers",
         "text": [
          "Text A",
          "Text B",
          "Text C"
         ],
         "type": "scatter",
         "uid": "bf71e616-8739-4eb6-8b80-d4ee82ea6fd7",
         "x": [
          0,
          1,
          2
         ],
         "y": [
          1,
          3,
          2
         ]
        }
       ],
       "layout": {
        "title": {
         "text": "Hover over the points to see the text"
        }
       }
      },
      "text/html": [
       "<div>\n",
       "        \n",
       "        \n",
       "            <div id=\"52873212-52b5-446c-a2a7-feb46591e085\" class=\"plotly-graph-div\" style=\"height:525px; width:100%;\"></div>\n",
       "            <script type=\"text/javascript\">\n",
       "                require([\"plotly\"], function(Plotly) {\n",
       "                    window.PLOTLYENV=window.PLOTLYENV || {};\n",
       "                    window.PLOTLYENV.BASE_URL='https://plot.ly';\n",
       "                    \n",
       "                if (document.getElementById(\"52873212-52b5-446c-a2a7-feb46591e085\")) {\n",
       "                    Plotly.newPlot(\n",
       "                        '52873212-52b5-446c-a2a7-feb46591e085',\n",
       "                        [{\"mode\": \"markers\", \"text\": [\"Text A\", \"Text B\", \"Text C\"], \"type\": \"scatter\", \"uid\": \"bf71e616-8739-4eb6-8b80-d4ee82ea6fd7\", \"x\": [0, 1, 2], \"y\": [1, 3, 2]}],\n",
       "                        {\"title\": {\"text\": \"Hover over the points to see the text\"}},\n",
       "                        {\"showLink\": false, \"linkText\": \"Export to plot.ly\", \"plotlyServerURL\": \"https://plot.ly\", \"responsive\": true}\n",
       "                    ).then(function(){\n",
       "                            \n",
       "var gd = document.getElementById('52873212-52b5-446c-a2a7-feb46591e085');\n",
       "var x = new MutationObserver(function (mutations, observer) {{\n",
       "        var display = window.getComputedStyle(gd).display;\n",
       "        if (!display || display === 'none') {{\n",
       "            console.log([gd, 'removed!']);\n",
       "            Plotly.purge(gd);\n",
       "            observer.disconnect();\n",
       "        }}\n",
       "}});\n",
       "\n",
       "// Listen for the removal of the full notebook cells\n",
       "var notebookContainer = gd.closest('#notebook-container');\n",
       "if (notebookContainer) {{\n",
       "    x.observe(notebookContainer, {childList: true});\n",
       "}}\n",
       "\n",
       "// Listen for the clearing of the current output cell\n",
       "var outputEl = gd.closest('.output');\n",
       "if (outputEl) {{\n",
       "    x.observe(outputEl, {childList: true});\n",
       "}}\n",
       "\n",
       "                        })\n",
       "                };\n",
       "                });\n",
       "            </script>\n",
       "        </div>"
      ]
     },
     "metadata": {},
     "output_type": "display_data"
    }
   ],
   "source": [
    "data = [\n",
    "    go.Scatter(\n",
    "        x=[0, 1, 2],\n",
    "        y=[1, 3, 2],\n",
    "        mode='markers',\n",
    "        text=['Text A', 'Text B', 'Text C']\n",
    "    )\n",
    "]\n",
    "\n",
    "layout = go.Layout(\n",
    "    title='Hover over the points to see the text'\n",
    ")\n",
    "\n",
    "fig = go.Figure(data=data, layout=layout)\n",
    "py.offline.iplot(fig, filename='hover-chart-basic')"
   ]
  },
  {
   "cell_type": "markdown",
   "metadata": {},
   "source": [
    "### Simple Annotation"
   ]
  },
  {
   "cell_type": "code",
   "execution_count": 5,
   "metadata": {
    "ExecuteTime": {
     "end_time": "2019-07-10T09:34:57.700586Z",
     "start_time": "2019-07-10T09:34:57.603817Z"
    }
   },
   "outputs": [
    {
     "data": {
      "application/vnd.plotly.v1+json": {
       "config": {
        "linkText": "Export to plot.ly",
        "plotlyServerURL": "https://plot.ly",
        "showLink": false
       },
       "data": [
        {
         "type": "scatter",
         "uid": "3fa9f824-268f-4100-b5a6-8d9c35cbfa9c",
         "x": [
          0,
          1,
          2,
          3,
          4,
          5,
          6,
          7,
          8
         ],
         "y": [
          0,
          1,
          3,
          2,
          4,
          3,
          4,
          6,
          5
         ]
        },
        {
         "type": "scatter",
         "uid": "cf70c258-1bb4-49d7-abbb-634c6bfa0609",
         "x": [
          0,
          1,
          2,
          3,
          4,
          5,
          6,
          7,
          8
         ],
         "y": [
          0,
          4,
          5,
          1,
          2,
          2,
          3,
          4,
          2
         ]
        }
       ],
       "layout": {
        "annotations": [
         {
          "arrowhead": 7,
          "ax": 0,
          "ay": -40,
          "showarrow": true,
          "text": "dict Text",
          "x": 2,
          "xref": "x",
          "y": 5,
          "yref": "y"
         }
        ],
        "showlegend": false
       }
      },
      "text/html": [
       "<div>\n",
       "        \n",
       "        \n",
       "            <div id=\"e7b5a3fe-aafc-44d1-b93c-69ba143d2c2d\" class=\"plotly-graph-div\" style=\"height:525px; width:100%;\"></div>\n",
       "            <script type=\"text/javascript\">\n",
       "                require([\"plotly\"], function(Plotly) {\n",
       "                    window.PLOTLYENV=window.PLOTLYENV || {};\n",
       "                    window.PLOTLYENV.BASE_URL='https://plot.ly';\n",
       "                    \n",
       "                if (document.getElementById(\"e7b5a3fe-aafc-44d1-b93c-69ba143d2c2d\")) {\n",
       "                    Plotly.newPlot(\n",
       "                        'e7b5a3fe-aafc-44d1-b93c-69ba143d2c2d',\n",
       "                        [{\"type\": \"scatter\", \"uid\": \"3fa9f824-268f-4100-b5a6-8d9c35cbfa9c\", \"x\": [0, 1, 2, 3, 4, 5, 6, 7, 8], \"y\": [0, 1, 3, 2, 4, 3, 4, 6, 5]}, {\"type\": \"scatter\", \"uid\": \"cf70c258-1bb4-49d7-abbb-634c6bfa0609\", \"x\": [0, 1, 2, 3, 4, 5, 6, 7, 8], \"y\": [0, 4, 5, 1, 2, 2, 3, 4, 2]}],\n",
       "                        {\"annotations\": [{\"arrowhead\": 7, \"ax\": 0, \"ay\": -40, \"showarrow\": true, \"text\": \"dict Text\", \"x\": 2, \"xref\": \"x\", \"y\": 5, \"yref\": \"y\"}], \"showlegend\": false},\n",
       "                        {\"showLink\": false, \"linkText\": \"Export to plot.ly\", \"plotlyServerURL\": \"https://plot.ly\", \"responsive\": true}\n",
       "                    ).then(function(){\n",
       "                            \n",
       "var gd = document.getElementById('e7b5a3fe-aafc-44d1-b93c-69ba143d2c2d');\n",
       "var x = new MutationObserver(function (mutations, observer) {{\n",
       "        var display = window.getComputedStyle(gd).display;\n",
       "        if (!display || display === 'none') {{\n",
       "            console.log([gd, 'removed!']);\n",
       "            Plotly.purge(gd);\n",
       "            observer.disconnect();\n",
       "        }}\n",
       "}});\n",
       "\n",
       "// Listen for the removal of the full notebook cells\n",
       "var notebookContainer = gd.closest('#notebook-container');\n",
       "if (notebookContainer) {{\n",
       "    x.observe(notebookContainer, {childList: true});\n",
       "}}\n",
       "\n",
       "// Listen for the clearing of the current output cell\n",
       "var outputEl = gd.closest('.output');\n",
       "if (outputEl) {{\n",
       "    x.observe(outputEl, {childList: true});\n",
       "}}\n",
       "\n",
       "                        })\n",
       "                };\n",
       "                });\n",
       "            </script>\n",
       "        </div>"
      ]
     },
     "metadata": {},
     "output_type": "display_data"
    }
   ],
   "source": [
    "trace1 = go.Scatter(\n",
    "    x=[0, 1, 2, 3, 4, 5, 6, 7, 8],\n",
    "    y=[0, 1, 3, 2, 4, 3, 4, 6, 5]\n",
    ")\n",
    "\n",
    "trace2 = go.Scatter(\n",
    "    x=[0, 1, 2, 3, 4, 5, 6, 7, 8],\n",
    "    y=[0, 4, 5, 1, 2, 2, 3, 4, 2]\n",
    ")\n",
    "\n",
    "data = [trace1, trace2]\n",
    "\n",
    "layout = go.Layout(\n",
    "    showlegend=False,\n",
    "    annotations=[\n",
    "        dict(\n",
    "            x=2,\n",
    "            y=5,\n",
    "            xref='x',\n",
    "            yref='y',\n",
    "            text='dict Text',\n",
    "            showarrow=True,\n",
    "            arrowhead=7,\n",
    "            ax=0,\n",
    "            ay=-40\n",
    "        )\n",
    "    ]\n",
    ")\n",
    "\n",
    "fig = go.Figure(data=data, layout=layout)\n",
    "py.offline.iplot(fig, filename='simple-annotation')"
   ]
  },
  {
   "cell_type": "markdown",
   "metadata": {},
   "source": [
    "### Multiple Annotations"
   ]
  },
  {
   "cell_type": "code",
   "execution_count": 6,
   "metadata": {
    "ExecuteTime": {
     "end_time": "2019-07-10T09:35:51.950442Z",
     "start_time": "2019-07-10T09:35:51.810787Z"
    }
   },
   "outputs": [
    {
     "data": {
      "application/vnd.plotly.v1+json": {
       "config": {
        "linkText": "Export to plot.ly",
        "plotlyServerURL": "https://plot.ly",
        "showLink": false
       },
       "data": [
        {
         "type": "scatter",
         "uid": "d83dfbbb-6a56-473c-a49d-71a3066f7bca",
         "x": [
          0,
          1,
          2,
          3,
          4,
          5,
          6,
          7,
          8
         ],
         "y": [
          0,
          1,
          3,
          2,
          4,
          3,
          4,
          6,
          5
         ]
        },
        {
         "type": "scatter",
         "uid": "8db2ef4b-36ed-42b7-ae59-01f861967d2f",
         "x": [
          0,
          1,
          2,
          3,
          4,
          5,
          6,
          7,
          8
         ],
         "y": [
          0,
          4,
          5,
          1,
          2,
          2,
          3,
          4,
          2
         ]
        }
       ],
       "layout": {
        "annotations": [
         {
          "arrowhead": 7,
          "ax": 0,
          "ay": -40,
          "showarrow": true,
          "text": "dict Text",
          "x": 2,
          "xref": "x",
          "y": 5,
          "yref": "y"
         },
         {
          "arrowhead": 7,
          "ax": 0,
          "ay": -40,
          "showarrow": true,
          "text": "dict Text 2",
          "x": 4,
          "xref": "x",
          "y": 4,
          "yref": "y"
         }
        ],
        "showlegend": false
       }
      },
      "text/html": [
       "<div>\n",
       "        \n",
       "        \n",
       "            <div id=\"055f0ef5-cbab-4701-9141-97a2d0187965\" class=\"plotly-graph-div\" style=\"height:525px; width:100%;\"></div>\n",
       "            <script type=\"text/javascript\">\n",
       "                require([\"plotly\"], function(Plotly) {\n",
       "                    window.PLOTLYENV=window.PLOTLYENV || {};\n",
       "                    window.PLOTLYENV.BASE_URL='https://plot.ly';\n",
       "                    \n",
       "                if (document.getElementById(\"055f0ef5-cbab-4701-9141-97a2d0187965\")) {\n",
       "                    Plotly.newPlot(\n",
       "                        '055f0ef5-cbab-4701-9141-97a2d0187965',\n",
       "                        [{\"type\": \"scatter\", \"uid\": \"d83dfbbb-6a56-473c-a49d-71a3066f7bca\", \"x\": [0, 1, 2, 3, 4, 5, 6, 7, 8], \"y\": [0, 1, 3, 2, 4, 3, 4, 6, 5]}, {\"type\": \"scatter\", \"uid\": \"8db2ef4b-36ed-42b7-ae59-01f861967d2f\", \"x\": [0, 1, 2, 3, 4, 5, 6, 7, 8], \"y\": [0, 4, 5, 1, 2, 2, 3, 4, 2]}],\n",
       "                        {\"annotations\": [{\"arrowhead\": 7, \"ax\": 0, \"ay\": -40, \"showarrow\": true, \"text\": \"dict Text\", \"x\": 2, \"xref\": \"x\", \"y\": 5, \"yref\": \"y\"}, {\"arrowhead\": 7, \"ax\": 0, \"ay\": -40, \"showarrow\": true, \"text\": \"dict Text 2\", \"x\": 4, \"xref\": \"x\", \"y\": 4, \"yref\": \"y\"}], \"showlegend\": false},\n",
       "                        {\"showLink\": false, \"linkText\": \"Export to plot.ly\", \"plotlyServerURL\": \"https://plot.ly\", \"responsive\": true}\n",
       "                    ).then(function(){\n",
       "                            \n",
       "var gd = document.getElementById('055f0ef5-cbab-4701-9141-97a2d0187965');\n",
       "var x = new MutationObserver(function (mutations, observer) {{\n",
       "        var display = window.getComputedStyle(gd).display;\n",
       "        if (!display || display === 'none') {{\n",
       "            console.log([gd, 'removed!']);\n",
       "            Plotly.purge(gd);\n",
       "            observer.disconnect();\n",
       "        }}\n",
       "}});\n",
       "\n",
       "// Listen for the removal of the full notebook cells\n",
       "var notebookContainer = gd.closest('#notebook-container');\n",
       "if (notebookContainer) {{\n",
       "    x.observe(notebookContainer, {childList: true});\n",
       "}}\n",
       "\n",
       "// Listen for the clearing of the current output cell\n",
       "var outputEl = gd.closest('.output');\n",
       "if (outputEl) {{\n",
       "    x.observe(outputEl, {childList: true});\n",
       "}}\n",
       "\n",
       "                        })\n",
       "                };\n",
       "                });\n",
       "            </script>\n",
       "        </div>"
      ]
     },
     "metadata": {},
     "output_type": "display_data"
    }
   ],
   "source": [
    "trace1 = go.Scatter(\n",
    "    x=[0, 1, 2, 3, 4, 5, 6, 7, 8],\n",
    "    y=[0, 1, 3, 2, 4, 3, 4, 6, 5]\n",
    ")\n",
    "\n",
    "trace2 = go.Scatter(\n",
    "    x=[0, 1, 2, 3, 4, 5, 6, 7, 8],\n",
    "    y=[0, 4, 5, 1, 2, 2, 3, 4, 2]\n",
    ")\n",
    "\n",
    "data = [trace1, trace2]\n",
    "\n",
    "layout = go.Layout(\n",
    "    showlegend=False,\n",
    "    annotations=[\n",
    "        dict(\n",
    "            x=2,\n",
    "            y=5,\n",
    "            xref='x',\n",
    "            yref='y',\n",
    "            text='dict Text',\n",
    "            showarrow=True,\n",
    "            arrowhead=7,\n",
    "            ax=0,\n",
    "            ay=-40\n",
    "        ),\n",
    "        dict(\n",
    "            x=4,\n",
    "            y=4,\n",
    "            xref='x',\n",
    "            yref='y',\n",
    "            text='dict Text 2',\n",
    "            showarrow=True,\n",
    "            arrowhead=7,\n",
    "            ax=0,\n",
    "            ay=-40\n",
    "        )\n",
    "    ]\n",
    ")\n",
    "\n",
    "fig = go.Figure(data=data, layout=layout)\n",
    "py.offline.iplot(fig, filename='multiple-annotation')"
   ]
  },
  {
   "cell_type": "markdown",
   "metadata": {},
   "source": [
    "### 3D Annotations"
   ]
  },
  {
   "cell_type": "code",
   "execution_count": null,
   "metadata": {},
   "outputs": [],
   "source": [
    "import plotly.plotly as py\n",
    "import plotly.graph_objs as go\n",
    "\n",
    "data = [go.Scatter3d(\n",
    "  x = [\"2017-01-01\", \"2017-02-10\", \"2017-03-20\"],\n",
    "  y = [\"A\", \"B\", \"C\"],\n",
    "  z = [1, 1000, 100000],\n",
    "  name = \"z\",\n",
    "  type = \"scatter3d\"\n",
    ")]\n",
    "\n",
    "layout = go.Layout(\n",
    "   scene = dict(\n",
    "    aspectratio = dict(\n",
    "      x = 1,\n",
    "      y = 1,\n",
    "      z = 1\n",
    "    ),\n",
    "    camera = dict(\n",
    "      center = dict(\n",
    "        x = 0,\n",
    "        y = 0,\n",
    "        z = 0\n",
    "      ),\n",
    "      eye = dict(\n",
    "        x = 1.96903462608,\n",
    "        y = -1.09022831971,\n",
    "        z = 0.405345349304\n",
    "      ),\n",
    "      up = dict(\n",
    "        x = 0,\n",
    "        y = 0,\n",
    "        z = 1\n",
    "      )\n",
    "    ),\n",
    "    dragmode = \"turntable\",\n",
    "    xaxis = dict(\n",
    "      title = \"\",\n",
    "      type = \"date\"\n",
    "    ),\n",
    "    yaxis = dict(\n",
    "      title = \"\",\n",
    "      type = \"category\"\n",
    "    ),\n",
    "    zaxis = dict(\n",
    "      title = \"\",\n",
    "      type = \"log\"\n",
    "    ),\n",
    "    annotations = [dict(\n",
    "        showarrow = False,\n",
    "        x = \"2017-01-01\",\n",
    "        y = \"A\",\n",
    "        z = 0,\n",
    "        text = \"Point 1\",\n",
    "        xanchor = \"left\",\n",
    "        xshift = 10,\n",
    "        opacity = 0.7\n",
    "      ), dict(\n",
    "        x = \"2017-02-10\",\n",
    "        y = \"B\",\n",
    "        z = 4,\n",
    "        text = \"Point 2\",\n",
    "        textangle = 0,\n",
    "        ax = 0,\n",
    "        ay = -75,\n",
    "        font = dict(\n",
    "          color = \"black\",\n",
    "          size = 12\n",
    "        ),\n",
    "        arrowcolor = \"black\",\n",
    "        arrowsize = 3,\n",
    "        arrowwidth = 1,\n",
    "        arrowhead = 1\n",
    "      ), dict(\n",
    "        x = \"2017-03-20\",\n",
    "        y = \"C\",\n",
    "        z = 5,\n",
    "        ax = 50,\n",
    "        ay = 0,\n",
    "        text = \"Point 3\",\n",
    "        arrowhead = 1,\n",
    "        xanchor = \"left\",\n",
    "        yanchor = \"bottom\"\n",
    "      )]\n",
    "  ),\n",
    "  xaxis = dict(title = \"x\"),\n",
    "  yaxis = dict(title = \"y\")\n",
    ")\n",
    "\n",
    "fig = go.Figure(data=data, layout=layout)\n",
    "py.iplot(fig, filename = \"3d annotations\")"
   ]
  },
  {
   "cell_type": "markdown",
   "metadata": {},
   "source": [
    "### Custom Text Color and Styling"
   ]
  },
  {
   "cell_type": "code",
   "execution_count": null,
   "metadata": {},
   "outputs": [],
   "source": [
    "import plotly.plotly as py\n",
    "import plotly.graph_objs as go\n",
    "\n",
    "trace1 = go.Scatter(\n",
    "    x=[0, 1, 2],\n",
    "    y=[1, 1, 1],\n",
    "    mode='lines+markers+text',\n",
    "    name='Lines, Markers and Text',\n",
    "    text=['Text A', 'Text B', 'Text C'],\n",
    "    textposition='top right',\n",
    "    textfont=dict(\n",
    "        family='sans serif',\n",
    "        size=18,\n",
    "        color='#1f77b4'\n",
    "    )\n",
    ")\n",
    "\n",
    "trace2 = go.Scatter(\n",
    "    x=[0, 1, 2],\n",
    "    y=[2, 2, 2],\n",
    "    mode='lines+markers+text',\n",
    "    name='Lines and Text',\n",
    "    text=['Text G', 'Text H', 'Text I'],\n",
    "    textposition='bottom',\n",
    "    textfont=dict(\n",
    "        family='sans serif',\n",
    "        size=18,\n",
    "        color='#ff7f0e'\n",
    "    )\n",
    ")\n",
    "\n",
    "data = [trace1, trace2]\n",
    "\n",
    "layout = go.Layout(\n",
    "    showlegend=False\n",
    ")\n",
    "\n",
    "fig = go.Figure(data=data, layout=layout)\n",
    "py.iplot(fig, filename='text-chart-styling')"
   ]
  },
  {
   "cell_type": "markdown",
   "metadata": {},
   "source": [
    "### Styling and Coloring Annotations"
   ]
  },
  {
   "cell_type": "code",
   "execution_count": null,
   "metadata": {},
   "outputs": [],
   "source": [
    "import plotly.plotly as py\n",
    "import plotly.graph_objs as go\n",
    "\n",
    "trace1 = go.Scatter(\n",
    "    x=[0, 1, 2, 3, 4, 5, 6, 7, 8],\n",
    "    y=[0, 1, 3, 2, 4, 3, 4, 6, 5]\n",
    ")\n",
    "\n",
    "trace2 = go.Scatter(\n",
    "    x=[0, 1, 2, 3, 4, 5, 6, 7, 8],\n",
    "    y=[0, 4, 5, 1, 2, 2, 3, 4, 2]\n",
    ")\n",
    "\n",
    "data = [trace1, trace2]\n",
    "\n",
    "layout = go.Layout(\n",
    "    showlegend=False,\n",
    "    annotations=[\n",
    "        dict(\n",
    "            x=2,\n",
    "            y=5,\n",
    "            xref='x',\n",
    "            yref='y',\n",
    "            text='max=5',\n",
    "            showarrow=True,\n",
    "            font=dict(\n",
    "                family='Courier New, monospace',\n",
    "                size=16,\n",
    "                color='#ffffff'\n",
    "            ),\n",
    "            align='center',\n",
    "            arrowhead=2,\n",
    "            arrowsize=1,\n",
    "            arrowwidth=2,\n",
    "            arrowcolor='#636363',\n",
    "            ax=20,\n",
    "            ay=-30,\n",
    "            bordercolor='#c7c7c7',\n",
    "            borderwidth=2,\n",
    "            borderpad=4,\n",
    "            bgcolor='#ff7f0e',\n",
    "            opacity=0.8\n",
    "        )\n",
    "    ]\n",
    ")\n",
    "\n",
    "fig = go.Figure(data=data, layout=layout)\n",
    "py.iplot(fig, filename='style-annotation')"
   ]
  },
  {
   "cell_type": "markdown",
   "metadata": {},
   "source": [
    "### Disabling Hover Text"
   ]
  },
  {
   "cell_type": "code",
   "execution_count": null,
   "metadata": {},
   "outputs": [],
   "source": [
    "import plotly.plotly as py\n",
    "\n",
    "trace = dict(\n",
    "    x=[1, 2, 3,],\n",
    "    y=[10, 30, 15],\n",
    "    type='scatter',\n",
    "    name='first trace',\n",
    "    hoverinfo='none'\n",
    ")\n",
    "\n",
    "py.iplot([trace], filename='hoverinfo=none')"
   ]
  },
  {
   "cell_type": "markdown",
   "metadata": {},
   "source": [
    "### Text Font as an Array - Styling Each Text Element"
   ]
  },
  {
   "cell_type": "code",
   "execution_count": null,
   "metadata": {},
   "outputs": [],
   "source": [
    "import plotly.plotly as py\n",
    "import plotly.graph_objs as go\n",
    "\n",
    "fig = go.Figure(\n",
    "    data=[\n",
    "        go.Scattergeo(\n",
    "            lat=[45.5,43.4,49.13,51.1,53.34,45.24,44.64,48.25,49.89,50.45],\n",
    "            lon=[-73.57,-79.24,-123.06,-114.1,-113.28,-75.43,-63.57,-123.21,-97.13,-104.6],\n",
    "            marker={\n",
    "                \"color\": [\"#bebada\",\"#fdb462\",\"#fb8072\",\"#d9d9d9\",\"#bc80bd\",\"#b3de69\",\"#8dd3c7\",\"#80b1d3\",\"#fccde5\",\"#ffffb3\"],\n",
    "                \"line\": {\n",
    "                    \"width\": 1\n",
    "                },\n",
    "                \"size\": 10\n",
    "            },\n",
    "            mode=\"markers+text\",\n",
    "            name=\"\",\n",
    "            text=[\"Montreal\",\"Toronto\",\"Vancouver\",\"Calgary\",\"Edmonton\",\"Ottawa\",\"Halifax\",\"Victoria\",\"Winnepeg\",\"Regina\"],\n",
    "            textfont={\n",
    "                \"color\": [\"#bebada\",\"#fdb462\",\"#fb8072\",\"#d9d9d9\",\"#bc80bd\",\"#b3de69\",\"#8dd3c7\",\"#80b1d3\",\"#fccde5\",\"#ffffb3\"],\n",
    "                \"family\": [\"Arial, sans-serif\",\"Balto, sans-serif\",\"Courier New, monospace\",\"Droid Sans, sans-serif\",\"Droid Serif, serif\",\"Droid Sans Mono, sans-serif\",\"Gravitas One, cursive\",\"Old Standard TT, serif\",\"Open Sans, sans-serif\",\"PT Sans Narrow, sans-serif\",\"Raleway, sans-serif\",\"Times New Roman, Times, serif\"],\n",
    "                \"size\": [22,21,20,19,18,17,16,15,14,13]\n",
    "            },\n",
    "            textposition=[\"top center\",\"middle left\",\"top center\",\"bottom center\",\"top right\",\"middle left\",\"bottom right\",\"bottom left\",\"top right\",\"top right\"]\n",
    "        )\n",
    "    ],\n",
    "    layout={\n",
    "        \"title\": \"Canadian cities\",\n",
    "        \"geo\": {\n",
    "            \"lataxis\": {\n",
    "                \"range\": [40, 70]\n",
    "            },\n",
    "            \"lonaxis\": {\n",
    "                \"range\": [-130, -55]\n",
    "            },\n",
    "            \"scope\": \"north america\"\n",
    "        }\n",
    "    }\n",
    ")\n",
    "\n",
    "py.iplot(fig, filename='Canadian Cities')"
   ]
  },
  {
   "cell_type": "markdown",
   "metadata": {},
   "source": [
    "### Adding Annotations with xref and yref as Paper"
   ]
  },
  {
   "cell_type": "code",
   "execution_count": null,
   "metadata": {},
   "outputs": [],
   "source": [
    "import plotly.plotly as py\n",
    "import plotly.graph_objs as go\n",
    "\n",
    "data = [\n",
    "    go.Scatter(\n",
    "        x=[1, 2, 3],\n",
    "        y=[1, 2, 3],\n",
    "        name='y',\n",
    "    )\n",
    "]\n",
    "\n",
    "layout = go.Layout(\n",
    "    annotations=[\n",
    "        dict(\n",
    "            x=0.5004254919715793,\n",
    "            y=-0.16191064079952971,\n",
    "            showarrow=False,\n",
    "            text='Custom x-axis title',\n",
    "            xref='paper',\n",
    "            yref='paper'\n",
    "        ),\n",
    "        dict(\n",
    "            x=-0.04944728761514841,\n",
    "            y=0.4714285714285711,\n",
    "            showarrow=False,\n",
    "            text='Custom y-axis title',\n",
    "            textangle=-90,\n",
    "            xref='paper',\n",
    "            yref='paper'\n",
    "        )\n",
    "    ],\n",
    "    autosize=True,\n",
    "    margin=dict(\n",
    "        b=100\n",
    "    ),\n",
    "    title='Plot Title',\n",
    "    xaxis=dict(\n",
    "        autorange=False,\n",
    "        range=[-0.05674507980728292, -0.0527310420933204],\n",
    "        type='linear'\n",
    "    ),\n",
    "    yaxis=dict(\n",
    "        autorange=False,\n",
    "        range=[1.2876210047544652, 1.2977732997811402],\n",
    "        type='linear'\n",
    "    ),\n",
    "    height=550,\n",
    "    width=1137\n",
    ")\n",
    "\n",
    "fig = go.Figure(data=data, layout=layout)\n",
    "py.iplot(fig)"
   ]
  },
  {
   "cell_type": "markdown",
   "metadata": {},
   "source": [
    "#### Reference\n",
    "See https://plot.ly/python/reference/#layout-annotations for more information and chart attribute options!"
   ]
  },
  {
   "cell_type": "code",
   "execution_count": null,
   "metadata": {},
   "outputs": [],
   "source": []
  }
 ],
 "metadata": {
  "kernelspec": {
   "display_name": "zipline",
   "language": "python",
   "name": "zipline"
  },
  "language_info": {
   "codemirror_mode": {
    "name": "ipython",
    "version": 3
   },
   "file_extension": ".py",
   "mimetype": "text/x-python",
   "name": "python",
   "nbconvert_exporter": "python",
   "pygments_lexer": "ipython3",
   "version": "3.7.3"
  },
  "toc": {
   "base_numbering": 1,
   "nav_menu": {},
   "number_sections": true,
   "sideBar": true,
   "skip_h1_title": false,
   "title_cell": "Table of Contents",
   "title_sidebar": "Contents",
   "toc_cell": false,
   "toc_position": {},
   "toc_section_display": true,
   "toc_window_display": true
  }
 },
 "nbformat": 4,
 "nbformat_minor": 2
}
