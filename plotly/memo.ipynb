{
 "cells": [
  {
   "cell_type": "code",
   "execution_count": 1,
   "metadata": {
    "ExecuteTime": {
     "end_time": "2019-07-09T16:36:24.951114Z",
     "start_time": "2019-07-09T16:36:23.960470Z"
    }
   },
   "outputs": [
    {
     "data": {
      "text/html": [
       "        <script type=\"text/javascript\">\n",
       "        window.PlotlyConfig = {MathJaxConfig: 'local'};\n",
       "        if (window.MathJax) {MathJax.Hub.Config({SVG: {font: \"STIX-Web\"}});}\n",
       "        if (typeof require !== 'undefined') {\n",
       "        require.undef(\"plotly\");\n",
       "        requirejs.config({\n",
       "            paths: {\n",
       "                'plotly': ['https://cdn.plot.ly/plotly-latest.min']\n",
       "            }\n",
       "        });\n",
       "        require(['plotly'], function(Plotly) {\n",
       "            window._Plotly = Plotly;\n",
       "        });\n",
       "        }\n",
       "        </script>\n",
       "        "
      ]
     },
     "metadata": {},
     "output_type": "display_data"
    }
   ],
   "source": [
    "import cufflinks as cf"
   ]
  },
  {
   "cell_type": "markdown",
   "metadata": {},
   "source": [
    "## 设置离线模式"
   ]
  },
  {
   "cell_type": "code",
   "execution_count": 2,
   "metadata": {
    "ExecuteTime": {
     "end_time": "2019-07-09T16:36:24.958095Z",
     "start_time": "2019-07-09T16:36:24.952111Z"
    }
   },
   "outputs": [
    {
     "data": {
      "text/html": [
       "        <script type=\"text/javascript\">\n",
       "        window.PlotlyConfig = {MathJaxConfig: 'local'};\n",
       "        if (window.MathJax) {MathJax.Hub.Config({SVG: {font: \"STIX-Web\"}});}\n",
       "        if (typeof require !== 'undefined') {\n",
       "        require.undef(\"plotly\");\n",
       "        requirejs.config({\n",
       "            paths: {\n",
       "                'plotly': ['https://cdn.plot.ly/plotly-latest.min']\n",
       "            }\n",
       "        });\n",
       "        require(['plotly'], function(Plotly) {\n",
       "            window._Plotly = Plotly;\n",
       "        });\n",
       "        }\n",
       "        </script>\n",
       "        "
      ]
     },
     "metadata": {},
     "output_type": "display_data"
    }
   ],
   "source": [
    "cf.offline.go_offline()"
   ]
  },
  {
   "cell_type": "markdown",
   "metadata": {},
   "source": [
    "## 准备数据"
   ]
  },
  {
   "cell_type": "code",
   "execution_count": 3,
   "metadata": {
    "ExecuteTime": {
     "end_time": "2019-07-09T16:36:24.971034Z",
     "start_time": "2019-07-09T16:36:24.959065Z"
    }
   },
   "outputs": [],
   "source": [
    "ohlc = cf.datagen.ohlc(n=50)"
   ]
  },
  {
   "cell_type": "code",
   "execution_count": 4,
   "metadata": {
    "ExecuteTime": {
     "end_time": "2019-07-09T16:36:24.991003Z",
     "start_time": "2019-07-09T16:36:24.972030Z"
    }
   },
   "outputs": [
    {
     "data": {
      "text/html": [
       "<div>\n",
       "<style scoped>\n",
       "    .dataframe tbody tr th:only-of-type {\n",
       "        vertical-align: middle;\n",
       "    }\n",
       "\n",
       "    .dataframe tbody tr th {\n",
       "        vertical-align: top;\n",
       "    }\n",
       "\n",
       "    .dataframe thead th {\n",
       "        text-align: right;\n",
       "    }\n",
       "</style>\n",
       "<table border=\"1\" class=\"dataframe\">\n",
       "  <thead>\n",
       "    <tr style=\"text-align: right;\">\n",
       "      <th></th>\n",
       "      <th>open</th>\n",
       "      <th>high</th>\n",
       "      <th>low</th>\n",
       "      <th>close</th>\n",
       "    </tr>\n",
       "  </thead>\n",
       "  <tbody>\n",
       "    <tr>\n",
       "      <th>2015-01-01</th>\n",
       "      <td>100.000000</td>\n",
       "      <td>104.696135</td>\n",
       "      <td>78.729839</td>\n",
       "      <td>81.939062</td>\n",
       "    </tr>\n",
       "    <tr>\n",
       "      <th>2015-01-02</th>\n",
       "      <td>82.305365</td>\n",
       "      <td>121.199121</td>\n",
       "      <td>65.106074</td>\n",
       "      <td>120.390952</td>\n",
       "    </tr>\n",
       "    <tr>\n",
       "      <th>2015-01-05</th>\n",
       "      <td>120.999494</td>\n",
       "      <td>130.057663</td>\n",
       "      <td>111.363131</td>\n",
       "      <td>126.366690</td>\n",
       "    </tr>\n",
       "    <tr>\n",
       "      <th>2015-01-06</th>\n",
       "      <td>124.292333</td>\n",
       "      <td>143.352725</td>\n",
       "      <td>120.980394</td>\n",
       "      <td>137.381650</td>\n",
       "    </tr>\n",
       "    <tr>\n",
       "      <th>2015-01-07</th>\n",
       "      <td>136.866647</td>\n",
       "      <td>160.148222</td>\n",
       "      <td>120.489919</td>\n",
       "      <td>157.353242</td>\n",
       "    </tr>\n",
       "    <tr>\n",
       "      <th>2015-01-08</th>\n",
       "      <td>156.024402</td>\n",
       "      <td>175.803898</td>\n",
       "      <td>146.747698</td>\n",
       "      <td>153.432530</td>\n",
       "    </tr>\n",
       "    <tr>\n",
       "      <th>2015-01-09</th>\n",
       "      <td>152.559733</td>\n",
       "      <td>188.047512</td>\n",
       "      <td>142.915456</td>\n",
       "      <td>183.248990</td>\n",
       "    </tr>\n",
       "    <tr>\n",
       "      <th>2015-01-12</th>\n",
       "      <td>182.857949</td>\n",
       "      <td>189.714813</td>\n",
       "      <td>171.419111</td>\n",
       "      <td>181.075259</td>\n",
       "    </tr>\n",
       "    <tr>\n",
       "      <th>2015-01-13</th>\n",
       "      <td>182.166815</td>\n",
       "      <td>202.241501</td>\n",
       "      <td>174.449116</td>\n",
       "      <td>201.245735</td>\n",
       "    </tr>\n",
       "    <tr>\n",
       "      <th>2015-01-14</th>\n",
       "      <td>201.801003</td>\n",
       "      <td>220.154744</td>\n",
       "      <td>196.308357</td>\n",
       "      <td>203.717637</td>\n",
       "    </tr>\n",
       "    <tr>\n",
       "      <th>2015-01-15</th>\n",
       "      <td>204.214562</td>\n",
       "      <td>227.972494</td>\n",
       "      <td>202.869816</td>\n",
       "      <td>227.233369</td>\n",
       "    </tr>\n",
       "    <tr>\n",
       "      <th>2015-01-16</th>\n",
       "      <td>227.695484</td>\n",
       "      <td>287.107003</td>\n",
       "      <td>211.619269</td>\n",
       "      <td>261.771263</td>\n",
       "    </tr>\n",
       "    <tr>\n",
       "      <th>2015-01-19</th>\n",
       "      <td>258.956381</td>\n",
       "      <td>262.395298</td>\n",
       "      <td>230.213069</td>\n",
       "      <td>235.645605</td>\n",
       "    </tr>\n",
       "    <tr>\n",
       "      <th>2015-01-20</th>\n",
       "      <td>235.643690</td>\n",
       "      <td>238.326462</td>\n",
       "      <td>224.912623</td>\n",
       "      <td>229.649307</td>\n",
       "    </tr>\n",
       "    <tr>\n",
       "      <th>2015-01-21</th>\n",
       "      <td>228.756198</td>\n",
       "      <td>264.356407</td>\n",
       "      <td>219.948965</td>\n",
       "      <td>257.254825</td>\n",
       "    </tr>\n",
       "    <tr>\n",
       "      <th>2015-01-22</th>\n",
       "      <td>257.886471</td>\n",
       "      <td>278.338079</td>\n",
       "      <td>254.972116</td>\n",
       "      <td>271.684928</td>\n",
       "    </tr>\n",
       "    <tr>\n",
       "      <th>2015-01-23</th>\n",
       "      <td>271.952176</td>\n",
       "      <td>290.950447</td>\n",
       "      <td>260.150308</td>\n",
       "      <td>289.318967</td>\n",
       "    </tr>\n",
       "    <tr>\n",
       "      <th>2015-01-26</th>\n",
       "      <td>290.552090</td>\n",
       "      <td>304.861108</td>\n",
       "      <td>280.237937</td>\n",
       "      <td>286.748434</td>\n",
       "    </tr>\n",
       "    <tr>\n",
       "      <th>2015-01-27</th>\n",
       "      <td>286.629585</td>\n",
       "      <td>286.629585</td>\n",
       "      <td>262.150071</td>\n",
       "      <td>267.941052</td>\n",
       "    </tr>\n",
       "    <tr>\n",
       "      <th>2015-01-28</th>\n",
       "      <td>269.155387</td>\n",
       "      <td>274.089927</td>\n",
       "      <td>249.026143</td>\n",
       "      <td>253.573620</td>\n",
       "    </tr>\n",
       "    <tr>\n",
       "      <th>2015-01-29</th>\n",
       "      <td>253.095062</td>\n",
       "      <td>268.515189</td>\n",
       "      <td>248.543393</td>\n",
       "      <td>257.956355</td>\n",
       "    </tr>\n",
       "    <tr>\n",
       "      <th>2015-01-30</th>\n",
       "      <td>258.084194</td>\n",
       "      <td>312.582873</td>\n",
       "      <td>257.353643</td>\n",
       "      <td>300.950936</td>\n",
       "    </tr>\n",
       "    <tr>\n",
       "      <th>2015-02-02</th>\n",
       "      <td>300.981785</td>\n",
       "      <td>304.966856</td>\n",
       "      <td>284.818230</td>\n",
       "      <td>290.435747</td>\n",
       "    </tr>\n",
       "    <tr>\n",
       "      <th>2015-02-03</th>\n",
       "      <td>289.543697</td>\n",
       "      <td>294.084921</td>\n",
       "      <td>275.765687</td>\n",
       "      <td>276.182218</td>\n",
       "    </tr>\n",
       "    <tr>\n",
       "      <th>2015-02-04</th>\n",
       "      <td>275.280743</td>\n",
       "      <td>276.417806</td>\n",
       "      <td>243.433081</td>\n",
       "      <td>244.791295</td>\n",
       "    </tr>\n",
       "    <tr>\n",
       "      <th>2015-02-05</th>\n",
       "      <td>244.717092</td>\n",
       "      <td>272.612714</td>\n",
       "      <td>241.651104</td>\n",
       "      <td>271.830042</td>\n",
       "    </tr>\n",
       "    <tr>\n",
       "      <th>2015-02-06</th>\n",
       "      <td>269.563387</td>\n",
       "      <td>299.694603</td>\n",
       "      <td>237.284308</td>\n",
       "      <td>244.494288</td>\n",
       "    </tr>\n",
       "    <tr>\n",
       "      <th>2015-02-09</th>\n",
       "      <td>243.432388</td>\n",
       "      <td>248.967262</td>\n",
       "      <td>229.049143</td>\n",
       "      <td>231.612352</td>\n",
       "    </tr>\n",
       "    <tr>\n",
       "      <th>2015-02-10</th>\n",
       "      <td>229.876803</td>\n",
       "      <td>245.198889</td>\n",
       "      <td>220.330688</td>\n",
       "      <td>244.025256</td>\n",
       "    </tr>\n",
       "    <tr>\n",
       "      <th>2015-02-11</th>\n",
       "      <td>243.535752</td>\n",
       "      <td>252.378919</td>\n",
       "      <td>237.321273</td>\n",
       "      <td>237.321273</td>\n",
       "    </tr>\n",
       "    <tr>\n",
       "      <th>2015-02-12</th>\n",
       "      <td>236.934325</td>\n",
       "      <td>251.754370</td>\n",
       "      <td>228.134495</td>\n",
       "      <td>249.415000</td>\n",
       "    </tr>\n",
       "    <tr>\n",
       "      <th>2015-02-13</th>\n",
       "      <td>247.719293</td>\n",
       "      <td>254.410921</td>\n",
       "      <td>220.247465</td>\n",
       "      <td>221.499628</td>\n",
       "    </tr>\n",
       "    <tr>\n",
       "      <th>2015-02-16</th>\n",
       "      <td>220.609320</td>\n",
       "      <td>228.686089</td>\n",
       "      <td>208.238107</td>\n",
       "      <td>215.451499</td>\n",
       "    </tr>\n",
       "    <tr>\n",
       "      <th>2015-02-17</th>\n",
       "      <td>216.152370</td>\n",
       "      <td>235.336366</td>\n",
       "      <td>216.152370</td>\n",
       "      <td>235.336366</td>\n",
       "    </tr>\n",
       "    <tr>\n",
       "      <th>2015-02-18</th>\n",
       "      <td>234.737163</td>\n",
       "      <td>234.737163</td>\n",
       "      <td>214.437544</td>\n",
       "      <td>228.447378</td>\n",
       "    </tr>\n",
       "    <tr>\n",
       "      <th>2015-02-19</th>\n",
       "      <td>228.082856</td>\n",
       "      <td>243.668254</td>\n",
       "      <td>221.652164</td>\n",
       "      <td>240.796491</td>\n",
       "    </tr>\n",
       "  </tbody>\n",
       "</table>\n",
       "</div>"
      ],
      "text/plain": [
       "                  open        high         low       close\n",
       "2015-01-01  100.000000  104.696135   78.729839   81.939062\n",
       "2015-01-02   82.305365  121.199121   65.106074  120.390952\n",
       "2015-01-05  120.999494  130.057663  111.363131  126.366690\n",
       "2015-01-06  124.292333  143.352725  120.980394  137.381650\n",
       "2015-01-07  136.866647  160.148222  120.489919  157.353242\n",
       "2015-01-08  156.024402  175.803898  146.747698  153.432530\n",
       "2015-01-09  152.559733  188.047512  142.915456  183.248990\n",
       "2015-01-12  182.857949  189.714813  171.419111  181.075259\n",
       "2015-01-13  182.166815  202.241501  174.449116  201.245735\n",
       "2015-01-14  201.801003  220.154744  196.308357  203.717637\n",
       "2015-01-15  204.214562  227.972494  202.869816  227.233369\n",
       "2015-01-16  227.695484  287.107003  211.619269  261.771263\n",
       "2015-01-19  258.956381  262.395298  230.213069  235.645605\n",
       "2015-01-20  235.643690  238.326462  224.912623  229.649307\n",
       "2015-01-21  228.756198  264.356407  219.948965  257.254825\n",
       "2015-01-22  257.886471  278.338079  254.972116  271.684928\n",
       "2015-01-23  271.952176  290.950447  260.150308  289.318967\n",
       "2015-01-26  290.552090  304.861108  280.237937  286.748434\n",
       "2015-01-27  286.629585  286.629585  262.150071  267.941052\n",
       "2015-01-28  269.155387  274.089927  249.026143  253.573620\n",
       "2015-01-29  253.095062  268.515189  248.543393  257.956355\n",
       "2015-01-30  258.084194  312.582873  257.353643  300.950936\n",
       "2015-02-02  300.981785  304.966856  284.818230  290.435747\n",
       "2015-02-03  289.543697  294.084921  275.765687  276.182218\n",
       "2015-02-04  275.280743  276.417806  243.433081  244.791295\n",
       "2015-02-05  244.717092  272.612714  241.651104  271.830042\n",
       "2015-02-06  269.563387  299.694603  237.284308  244.494288\n",
       "2015-02-09  243.432388  248.967262  229.049143  231.612352\n",
       "2015-02-10  229.876803  245.198889  220.330688  244.025256\n",
       "2015-02-11  243.535752  252.378919  237.321273  237.321273\n",
       "2015-02-12  236.934325  251.754370  228.134495  249.415000\n",
       "2015-02-13  247.719293  254.410921  220.247465  221.499628\n",
       "2015-02-16  220.609320  228.686089  208.238107  215.451499\n",
       "2015-02-17  216.152370  235.336366  216.152370  235.336366\n",
       "2015-02-18  234.737163  234.737163  214.437544  228.447378\n",
       "2015-02-19  228.082856  243.668254  221.652164  240.796491"
      ]
     },
     "execution_count": 4,
     "metadata": {},
     "output_type": "execute_result"
    }
   ],
   "source": [
    "ohlc"
   ]
  },
  {
   "cell_type": "markdown",
   "metadata": {},
   "source": [
    "## 修改前图样\n",
    "\n",
    "周末存在较大间隙"
   ]
  },
  {
   "cell_type": "markdown",
   "metadata": {},
   "source": [
    "### 图样"
   ]
  },
  {
   "cell_type": "code",
   "execution_count": 5,
   "metadata": {
    "ExecuteTime": {
     "end_time": "2019-07-09T16:36:25.161547Z",
     "start_time": "2019-07-09T16:36:24.991979Z"
    }
   },
   "outputs": [
    {
     "data": {
      "application/vnd.plotly.v1+json": {
       "config": {
        "linkText": "Export to plot.ly",
        "plotlyServerURL": "https://plot.ly",
        "showLink": true
       },
       "data": [
        {
         "close": [
          81.93906160804538,
          120.39095157604154,
          126.36668995541145,
          137.38164950151076,
          157.35324188274214,
          153.43252992519226,
          183.24899043546606,
          181.07525871484765,
          201.24573479445647,
          203.71763712297982,
          227.2333691070268,
          261.77126346784087,
          235.64560497646661,
          229.64930717297116,
          257.25482489466054,
          271.68492843771116,
          289.31896705175916,
          286.74843365924346,
          267.9410520165944,
          253.5736195893825,
          257.9563553491849,
          300.95093561251235,
          290.4357469533515,
          276.18221783923,
          244.79129464123295,
          271.83004209835235,
          244.4942876267877,
          231.61235248992236,
          244.02525559736185,
          237.32127337605357,
          249.41500046378104,
          221.49962801075105,
          215.45149871412946,
          235.33636610737054,
          228.44737777483735,
          240.7964913368916
         ],
         "high": [
          104.69613483457061,
          121.19912100952085,
          130.05766280022894,
          143.35272488820095,
          160.1482218462035,
          175.80389794596545,
          188.04751238705805,
          189.71481341052015,
          202.24150143470493,
          220.1547441008963,
          227.97249370062335,
          287.1070033109157,
          262.39529817920584,
          238.32646175421362,
          264.35640689996154,
          278.3380793100228,
          290.95044724933547,
          304.86110794011984,
          286.6295853730768,
          274.0899272038801,
          268.5151890148179,
          312.5828733633494,
          304.9668555676717,
          294.0849211692809,
          276.41780573565234,
          272.61271358272785,
          299.6946030574593,
          248.96726229540914,
          245.19888862350604,
          252.3789189867468,
          251.75436992226565,
          254.41092091191658,
          228.686088529381,
          235.33636610737054,
          234.73716304033974,
          243.66825410632921
         ],
         "low": [
          78.72983929367699,
          65.10607442043835,
          111.36313116370701,
          120.98039364645865,
          120.48991885739989,
          146.74769814747495,
          142.91545596648072,
          171.4191106946107,
          174.44911598321178,
          196.30835679511063,
          202.86981612979505,
          211.61926878966293,
          230.2130694804179,
          224.91262283853874,
          219.94896548082178,
          254.97211586702537,
          260.15030755252053,
          280.2379366800163,
          262.1500711782768,
          249.02614257337723,
          248.5433928588092,
          257.35364283232036,
          284.81822979982525,
          275.7656866215499,
          243.4330812518663,
          241.65110357213933,
          237.28430826315514,
          229.04914298528627,
          220.33068771610613,
          237.32127337605357,
          228.13449458284606,
          220.24746463068524,
          208.2381067449103,
          216.15237035937196,
          214.43754379151758,
          221.6521642318865
         ],
         "open": [
          100,
          82.30536502206921,
          120.99949392762801,
          124.29233257941222,
          136.86664684255126,
          156.02440193482818,
          152.559732628431,
          182.85794851217213,
          182.16681540185814,
          201.80100348977263,
          204.21456156506832,
          227.69548426794105,
          258.9563811878871,
          235.6436898676742,
          228.7561981519494,
          257.8864706996127,
          271.9521761264025,
          290.5520904957971,
          286.6295853730768,
          269.1553868797733,
          253.09506210608035,
          258.08419394845,
          300.9817846512378,
          289.5436969097301,
          275.2807429370877,
          244.71709157122802,
          269.5633873162298,
          243.4323879854753,
          229.87680290772178,
          243.53575232979898,
          236.9343250175233,
          247.7192927786708,
          220.6093201179637,
          216.15237035937196,
          234.73716304033974,
          228.0828555073179
         ],
         "showlegend": false,
         "type": "candlestick",
         "uid": "b533d2a7-81a4-401a-a095-03df5309425a",
         "x": [
          "2015-01-01",
          "2015-01-02",
          "2015-01-05",
          "2015-01-06",
          "2015-01-07",
          "2015-01-08",
          "2015-01-09",
          "2015-01-12",
          "2015-01-13",
          "2015-01-14",
          "2015-01-15",
          "2015-01-16",
          "2015-01-19",
          "2015-01-20",
          "2015-01-21",
          "2015-01-22",
          "2015-01-23",
          "2015-01-26",
          "2015-01-27",
          "2015-01-28",
          "2015-01-29",
          "2015-01-30",
          "2015-02-02",
          "2015-02-03",
          "2015-02-04",
          "2015-02-05",
          "2015-02-06",
          "2015-02-09",
          "2015-02-10",
          "2015-02-11",
          "2015-02-12",
          "2015-02-13",
          "2015-02-16",
          "2015-02-17",
          "2015-02-18",
          "2015-02-19"
         ],
         "yaxis": "y2"
        }
       ],
       "layout": {
        "legend": {
         "bgcolor": "#F5F6F9",
         "font": {
          "color": "#4D5663"
         }
        },
        "paper_bgcolor": "#F5F6F9",
        "plot_bgcolor": "#F5F6F9",
        "title": {
         "font": {
          "color": "#4D5663"
         }
        },
        "xaxis": {
         "gridcolor": "#E1E5ED",
         "rangeslider": {
          "visible": false
         },
         "showgrid": true,
         "tickfont": {
          "color": "#4D5663"
         },
         "title": {
          "font": {
           "color": "#4D5663"
          },
          "text": ""
         },
         "zerolinecolor": "#E1E5ED"
        },
        "yaxis": {
         "gridcolor": "#E1E5ED",
         "showgrid": true,
         "showticklabels": false,
         "tickfont": {
          "color": "#4D5663"
         },
         "title": {
          "font": {
           "color": "#4D5663"
          },
          "text": ""
         },
         "zerolinecolor": "#E1E5ED"
        },
        "yaxis2": {
         "gridcolor": "#E1E5ED",
         "showgrid": true,
         "tickfont": {
          "color": "#4D5663"
         },
         "title": {
          "font": {
           "color": "#4D5663"
          },
          "text": ""
         },
         "zerolinecolor": "#E1E5ED"
        }
       }
      },
      "text/html": [
       "<div>\n",
       "        \n",
       "        \n",
       "            <div id=\"670b2fa2-86b3-47fc-8f83-132946da882c\" class=\"plotly-graph-div\" style=\"height:525px; width:100%;\"></div>\n",
       "            <script type=\"text/javascript\">\n",
       "                require([\"plotly\"], function(Plotly) {\n",
       "                    window.PLOTLYENV=window.PLOTLYENV || {};\n",
       "                    window.PLOTLYENV.BASE_URL='https://plot.ly';\n",
       "                    \n",
       "                if (document.getElementById(\"670b2fa2-86b3-47fc-8f83-132946da882c\")) {\n",
       "                    Plotly.newPlot(\n",
       "                        '670b2fa2-86b3-47fc-8f83-132946da882c',\n",
       "                        [{\"close\": [81.93906160804538, 120.39095157604154, 126.36668995541145, 137.38164950151076, 157.35324188274214, 153.43252992519226, 183.24899043546606, 181.07525871484765, 201.24573479445647, 203.71763712297982, 227.2333691070268, 261.77126346784087, 235.64560497646661, 229.64930717297116, 257.25482489466054, 271.68492843771116, 289.31896705175916, 286.74843365924346, 267.9410520165944, 253.5736195893825, 257.9563553491849, 300.95093561251235, 290.4357469533515, 276.18221783923, 244.79129464123295, 271.83004209835235, 244.4942876267877, 231.61235248992236, 244.02525559736185, 237.32127337605357, 249.41500046378104, 221.49962801075105, 215.45149871412946, 235.33636610737054, 228.44737777483735, 240.7964913368916], \"high\": [104.69613483457061, 121.19912100952085, 130.05766280022894, 143.35272488820095, 160.1482218462035, 175.80389794596545, 188.04751238705805, 189.71481341052015, 202.24150143470493, 220.1547441008963, 227.97249370062335, 287.1070033109157, 262.39529817920584, 238.32646175421362, 264.35640689996154, 278.3380793100228, 290.95044724933547, 304.86110794011984, 286.6295853730768, 274.0899272038801, 268.5151890148179, 312.5828733633494, 304.9668555676717, 294.0849211692809, 276.41780573565234, 272.61271358272785, 299.6946030574593, 248.96726229540914, 245.19888862350604, 252.3789189867468, 251.75436992226565, 254.41092091191658, 228.686088529381, 235.33636610737054, 234.73716304033974, 243.66825410632921], \"low\": [78.72983929367699, 65.10607442043835, 111.36313116370701, 120.98039364645865, 120.48991885739989, 146.74769814747495, 142.91545596648072, 171.4191106946107, 174.44911598321178, 196.30835679511063, 202.86981612979505, 211.61926878966293, 230.2130694804179, 224.91262283853874, 219.94896548082178, 254.97211586702537, 260.15030755252053, 280.2379366800163, 262.1500711782768, 249.02614257337723, 248.5433928588092, 257.35364283232036, 284.81822979982525, 275.7656866215499, 243.4330812518663, 241.65110357213933, 237.28430826315514, 229.04914298528627, 220.33068771610613, 237.32127337605357, 228.13449458284606, 220.24746463068524, 208.2381067449103, 216.15237035937196, 214.43754379151758, 221.6521642318865], \"open\": [100.0, 82.30536502206921, 120.99949392762801, 124.29233257941222, 136.86664684255126, 156.02440193482818, 152.559732628431, 182.85794851217213, 182.16681540185814, 201.80100348977263, 204.21456156506832, 227.69548426794105, 258.9563811878871, 235.6436898676742, 228.7561981519494, 257.8864706996127, 271.9521761264025, 290.5520904957971, 286.6295853730768, 269.1553868797733, 253.09506210608035, 258.08419394845, 300.9817846512378, 289.5436969097301, 275.2807429370877, 244.71709157122802, 269.5633873162298, 243.4323879854753, 229.87680290772178, 243.53575232979898, 236.9343250175233, 247.7192927786708, 220.6093201179637, 216.15237035937196, 234.73716304033974, 228.0828555073179], \"showlegend\": false, \"type\": \"candlestick\", \"uid\": \"b533d2a7-81a4-401a-a095-03df5309425a\", \"x\": [\"2015-01-01\", \"2015-01-02\", \"2015-01-05\", \"2015-01-06\", \"2015-01-07\", \"2015-01-08\", \"2015-01-09\", \"2015-01-12\", \"2015-01-13\", \"2015-01-14\", \"2015-01-15\", \"2015-01-16\", \"2015-01-19\", \"2015-01-20\", \"2015-01-21\", \"2015-01-22\", \"2015-01-23\", \"2015-01-26\", \"2015-01-27\", \"2015-01-28\", \"2015-01-29\", \"2015-01-30\", \"2015-02-02\", \"2015-02-03\", \"2015-02-04\", \"2015-02-05\", \"2015-02-06\", \"2015-02-09\", \"2015-02-10\", \"2015-02-11\", \"2015-02-12\", \"2015-02-13\", \"2015-02-16\", \"2015-02-17\", \"2015-02-18\", \"2015-02-19\"], \"yaxis\": \"y2\"}],\n",
       "                        {\"legend\": {\"bgcolor\": \"#F5F6F9\", \"font\": {\"color\": \"#4D5663\"}}, \"paper_bgcolor\": \"#F5F6F9\", \"plot_bgcolor\": \"#F5F6F9\", \"title\": {\"font\": {\"color\": \"#4D5663\"}}, \"xaxis\": {\"gridcolor\": \"#E1E5ED\", \"rangeslider\": {\"visible\": false}, \"showgrid\": true, \"tickfont\": {\"color\": \"#4D5663\"}, \"title\": {\"font\": {\"color\": \"#4D5663\"}, \"text\": \"\"}, \"zerolinecolor\": \"#E1E5ED\"}, \"yaxis\": {\"gridcolor\": \"#E1E5ED\", \"showgrid\": true, \"showticklabels\": false, \"tickfont\": {\"color\": \"#4D5663\"}, \"title\": {\"font\": {\"color\": \"#4D5663\"}, \"text\": \"\"}, \"zerolinecolor\": \"#E1E5ED\"}, \"yaxis2\": {\"gridcolor\": \"#E1E5ED\", \"showgrid\": true, \"tickfont\": {\"color\": \"#4D5663\"}, \"title\": {\"font\": {\"color\": \"#4D5663\"}, \"text\": \"\"}, \"zerolinecolor\": \"#E1E5ED\"}},\n",
       "                        {\"showLink\": true, \"linkText\": \"Export to plot.ly\", \"plotlyServerURL\": \"https://plot.ly\", \"responsive\": true}\n",
       "                    ).then(function(){\n",
       "                            \n",
       "var gd = document.getElementById('670b2fa2-86b3-47fc-8f83-132946da882c');\n",
       "var x = new MutationObserver(function (mutations, observer) {{\n",
       "        var display = window.getComputedStyle(gd).display;\n",
       "        if (!display || display === 'none') {{\n",
       "            console.log([gd, 'removed!']);\n",
       "            Plotly.purge(gd);\n",
       "            observer.disconnect();\n",
       "        }}\n",
       "}});\n",
       "\n",
       "// Listen for the removal of the full notebook cells\n",
       "var notebookContainer = gd.closest('#notebook-container');\n",
       "if (notebookContainer) {{\n",
       "    x.observe(notebookContainer, {childList: true});\n",
       "}}\n",
       "\n",
       "// Listen for the clearing of the current output cell\n",
       "var outputEl = gd.closest('.output');\n",
       "if (outputEl) {{\n",
       "    x.observe(outputEl, {childList: true});\n",
       "}}\n",
       "\n",
       "                        })\n",
       "                };\n",
       "                });\n",
       "            </script>\n",
       "        </div>"
      ]
     },
     "metadata": {},
     "output_type": "display_data"
    }
   ],
   "source": [
    "ohlc.iplot(kind='candle')"
   ]
  },
  {
   "cell_type": "markdown",
   "metadata": {},
   "source": [
    "### 分析"
   ]
  },
  {
   "cell_type": "code",
   "execution_count": null,
   "metadata": {
    "ExecuteTime": {
     "end_time": "2019-07-09T16:09:49.504702Z",
     "start_time": "2019-07-09T16:09:49.458862Z"
    }
   },
   "outputs": [],
   "source": [
    "fig = ohlc.iplot(kind='candle',asFigure=True)"
   ]
  },
  {
   "cell_type": "code",
   "execution_count": null,
   "metadata": {
    "ExecuteTime": {
     "end_time": "2019-07-09T16:09:49.512681Z",
     "start_time": "2019-07-09T16:09:49.505699Z"
    }
   },
   "outputs": [],
   "source": [
    "fig"
   ]
  },
  {
   "cell_type": "code",
   "execution_count": null,
   "metadata": {
    "ExecuteTime": {
     "end_time": "2019-07-09T16:09:49.517667Z",
     "start_time": "2019-07-09T16:09:49.513678Z"
    }
   },
   "outputs": [],
   "source": [
    "x = fig['data'][0]['x']"
   ]
  },
  {
   "cell_type": "code",
   "execution_count": null,
   "metadata": {
    "ExecuteTime": {
     "end_time": "2019-07-09T16:09:49.523652Z",
     "start_time": "2019-07-09T16:09:49.518664Z"
    }
   },
   "outputs": [],
   "source": [
    "type(x)"
   ]
  },
  {
   "cell_type": "code",
   "execution_count": null,
   "metadata": {
    "ExecuteTime": {
     "end_time": "2019-07-09T16:09:49.529660Z",
     "start_time": "2019-07-09T16:09:49.523652Z"
    }
   },
   "outputs": [],
   "source": [
    "x.dtype"
   ]
  },
  {
   "cell_type": "markdown",
   "metadata": {},
   "source": [
    "### 模拟过程"
   ]
  },
  {
   "cell_type": "code",
   "execution_count": null,
   "metadata": {
    "ExecuteTime": {
     "end_time": "2019-07-09T16:09:49.534622Z",
     "start_time": "2019-07-09T16:09:49.529660Z"
    }
   },
   "outputs": [],
   "source": [
    "import plotly.graph_objs as go"
   ]
  },
  {
   "cell_type": "code",
   "execution_count": null,
   "metadata": {
    "ExecuteTime": {
     "end_time": "2019-07-09T16:09:49.539609Z",
     "start_time": "2019-07-09T16:09:49.535620Z"
    }
   },
   "outputs": [],
   "source": [
    "import pandas as pd"
   ]
  },
  {
   "cell_type": "code",
   "execution_count": null,
   "metadata": {
    "ExecuteTime": {
     "end_time": "2019-07-09T16:09:49.545617Z",
     "start_time": "2019-07-09T16:09:49.540606Z"
    }
   },
   "outputs": [],
   "source": [
    "import plotly"
   ]
  },
  {
   "cell_type": "markdown",
   "metadata": {},
   "source": [
    "#### 针对主要逻辑"
   ]
  },
  {
   "cell_type": "code",
   "execution_count": null,
   "metadata": {
    "ExecuteTime": {
     "end_time": "2019-07-09T16:09:49.550607Z",
     "start_time": "2019-07-09T16:09:49.546590Z"
    }
   },
   "outputs": [],
   "source": [
    "kind = 'candlestick'"
   ]
  },
  {
   "cell_type": "code",
   "execution_count": null,
   "metadata": {
    "ExecuteTime": {
     "end_time": "2019-07-09T16:09:49.555577Z",
     "start_time": "2019-07-09T16:09:49.551578Z"
    }
   },
   "outputs": [],
   "source": [
    "_d = dict(type=kind,\n",
    "          open=ohlc['open'].values.tolist(),\n",
    "          high=ohlc['high'].values.tolist(),\n",
    "          low=ohlc['low'].values.tolist(),\n",
    "          close=ohlc['close'].values.tolist())\n",
    "if isinstance(ohlc.index, pd.core.indexes.datetimes.DatetimeIndex):\n",
    "    _d['x'] = ohlc.index.astype('str')\n",
    "# 尝试以obj表达，输出同样结果    \n",
    "# _d['x'] = ohlc.index.strftime('%Y-%m-%d')"
   ]
  },
  {
   "cell_type": "code",
   "execution_count": null,
   "metadata": {
    "ExecuteTime": {
     "end_time": "2019-07-09T16:09:49.562547Z",
     "start_time": "2019-07-09T16:09:49.556564Z"
    }
   },
   "outputs": [],
   "source": [
    "_d['yaxis'] = 'y2'\n",
    "data = [_d]"
   ]
  },
  {
   "cell_type": "code",
   "execution_count": null,
   "metadata": {
    "ExecuteTime": {
     "end_time": "2019-07-09T16:09:49.640339Z",
     "start_time": "2019-07-09T16:09:49.563544Z"
    }
   },
   "outputs": [],
   "source": [
    "fig = go.Figure(data=data)\n",
    "plotly.offline.iplot(fig)"
   ]
  },
  {
   "cell_type": "markdown",
   "metadata": {},
   "source": [
    "## `Candlestick`"
   ]
  },
  {
   "cell_type": "markdown",
   "metadata": {},
   "source": [
    "### 省略`x`将使用自然序号"
   ]
  },
  {
   "cell_type": "code",
   "execution_count": null,
   "metadata": {
    "ExecuteTime": {
     "end_time": "2019-07-09T16:09:49.754062Z",
     "start_time": "2019-07-09T16:09:49.640339Z"
    }
   },
   "outputs": [],
   "source": [
    "trace = go.Candlestick(\n",
    "    open=ohlc['open'].values.tolist(),\n",
    "    high=ohlc['high'].values.tolist(),\n",
    "    low=ohlc['low'].values.tolist(),\n",
    "    close=ohlc['close'].values.tolist(),\n",
    ")\n",
    "data = [trace]\n",
    "plotly.offline.iplot(data)"
   ]
  },
  {
   "cell_type": "markdown",
   "metadata": {},
   "source": [
    "### 隐藏滑块"
   ]
  },
  {
   "cell_type": "code",
   "execution_count": null,
   "metadata": {
    "ExecuteTime": {
     "end_time": "2019-07-09T16:09:49.846814Z",
     "start_time": "2019-07-09T16:09:49.755032Z"
    }
   },
   "outputs": [],
   "source": [
    "trace = go.Candlestick(\n",
    "    open=ohlc['open'].values.tolist(),\n",
    "    high=ohlc['high'].values.tolist(),\n",
    "    low=ohlc['low'].values.tolist(),\n",
    "    close=ohlc['close'].values.tolist(),\n",
    ")\n",
    "\n",
    "layout = go.Layout(\n",
    "    xaxis = dict(\n",
    "        rangeslider = dict(\n",
    "            visible = False\n",
    "        )\n",
    "    )\n",
    ")\n",
    "data = [trace]\n",
    "\n",
    "fig = go.Figure(data=data,layout=layout)\n",
    "plotly.offline.iplot(fig)"
   ]
  },
  {
   "cell_type": "markdown",
   "metadata": {},
   "source": [
    "### 修改刻度"
   ]
  },
  {
   "cell_type": "code",
   "execution_count": null,
   "metadata": {
    "ExecuteTime": {
     "end_time": "2019-07-09T16:09:49.849779Z",
     "start_time": "2019-07-09T16:09:49.846814Z"
    }
   },
   "outputs": [],
   "source": [
    "import pandas as pd\n",
    "import numpy as np"
   ]
  },
  {
   "cell_type": "code",
   "execution_count": null,
   "metadata": {
    "ExecuteTime": {
     "end_time": "2019-07-09T16:09:49.854793Z",
     "start_time": "2019-07-09T16:09:49.850776Z"
    }
   },
   "outputs": [],
   "source": [
    "def get_tick(x, percentile=[10, 25, 50, 75, 90], fmt=r'%Y-%m-%d'):\n",
    "    tickvals = []\n",
    "    ticktext = []\n",
    "    idx = np.percentile(range(len(x)), percentile).astype(int)\n",
    "    # 取唯一值\n",
    "    idx = pd.Series(idx).drop_duplicates().values\n",
    "    for i in idx:\n",
    "        tickvals.append(i)\n",
    "        ticktext.append(pd.Timestamp(x[i]).strftime(fmt))\n",
    "    return tickvals, ticktext"
   ]
  },
  {
   "cell_type": "code",
   "execution_count": null,
   "metadata": {
    "ExecuteTime": {
     "end_time": "2019-07-09T16:09:49.862787Z",
     "start_time": "2019-07-09T16:09:49.854793Z"
    }
   },
   "outputs": [],
   "source": [
    "tickvals, ticktext = get_tick(ohlc.index.values)"
   ]
  },
  {
   "cell_type": "code",
   "execution_count": null,
   "metadata": {
    "ExecuteTime": {
     "end_time": "2019-07-09T16:09:49.962510Z",
     "start_time": "2019-07-09T16:09:49.863741Z"
    }
   },
   "outputs": [],
   "source": [
    "trace = go.Candlestick(\n",
    "    open=ohlc['open'].values.tolist(),\n",
    "    high=ohlc['high'].values.tolist(),\n",
    "    low=ohlc['low'].values.tolist(),\n",
    "    close=ohlc['close'].values.tolist(),\n",
    "    text=ohlc.index,  # 将日期添加到悬停文本\n",
    ")\n",
    "\n",
    "tickvals, ticktext = get_tick(ohlc.index.values)\n",
    "\n",
    "layout = go.Layout(\n",
    "    xaxis=go.layout.XAxis(\n",
    "        tickmode='array',\n",
    "        tickvals=tickvals,\n",
    "        ticktext=ticktext,\n",
    "        rangeslider=dict(\n",
    "            visible=False\n",
    "        )\n",
    "    )\n",
    ")\n",
    "data = [trace]\n",
    "\n",
    "fig = go.Figure(data=data, layout=layout)\n",
    "\n",
    "plotly.offline.iplot(fig)"
   ]
  },
  {
   "cell_type": "code",
   "execution_count": null,
   "metadata": {
    "ExecuteTime": {
     "end_time": "2019-07-09T16:09:49.969460Z",
     "start_time": "2019-07-09T16:09:49.963499Z"
    }
   },
   "outputs": [],
   "source": [
    "fig"
   ]
  },
  {
   "cell_type": "markdown",
   "metadata": {},
   "source": [
    "## `ohlc`"
   ]
  },
  {
   "cell_type": "code",
   "execution_count": null,
   "metadata": {
    "ExecuteTime": {
     "end_time": "2019-07-09T16:09:49.974473Z",
     "start_time": "2019-07-09T16:09:49.971489Z"
    }
   },
   "outputs": [],
   "source": [
    "tickvals, ticktext = get_tick(ohlc.index.values)\n",
    "# ticktext = ohlc.index.strftime(r'%Y-%m-%d')"
   ]
  },
  {
   "cell_type": "code",
   "execution_count": null,
   "metadata": {
    "ExecuteTime": {
     "end_time": "2019-07-09T16:09:50.076201Z",
     "start_time": "2019-07-09T16:09:49.975443Z"
    }
   },
   "outputs": [],
   "source": [
    "trace = go.Ohlc(\n",
    "    open=ohlc['open'].values.tolist(),\n",
    "    high=ohlc['high'].values.tolist(),\n",
    "    low=ohlc['low'].values.tolist(),\n",
    "    close=ohlc['close'].values.tolist(),\n",
    "    hovertext=ohlc.index.strftime(r'%Y-%m-%d'),  # 将日期添加到悬停文本\n",
    ")\n",
    "\n",
    "layout = go.Layout(\n",
    "    xaxis=go.layout.XAxis(\n",
    "        tickmode='array',\n",
    "        tickvals=tickvals,\n",
    "        ticktext=ticktext,\n",
    "        rangeslider=dict(\n",
    "            visible=False\n",
    "        )\n",
    "    )\n",
    ")\n",
    "data = [trace]\n",
    "\n",
    "fig = go.Figure(data=data, layout=layout)\n",
    "\n",
    "plotly.offline.iplot(fig)"
   ]
  },
  {
   "cell_type": "code",
   "execution_count": null,
   "metadata": {
    "ExecuteTime": {
     "end_time": "2019-07-09T16:09:50.082184Z",
     "start_time": "2019-07-09T16:09:50.077204Z"
    }
   },
   "outputs": [],
   "source": [
    "data"
   ]
  },
  {
   "cell_type": "code",
   "execution_count": null,
   "metadata": {
    "ExecuteTime": {
     "end_time": "2019-07-09T16:24:07.705432Z",
     "start_time": "2019-07-09T16:24:07.701434Z"
    }
   },
   "outputs": [],
   "source": [
    "layout['xaxis']"
   ]
  },
  {
   "cell_type": "code",
   "execution_count": null,
   "metadata": {},
   "outputs": [],
   "source": []
  }
 ],
 "metadata": {
  "kernelspec": {
   "display_name": "zipline",
   "language": "python",
   "name": "zipline"
  },
  "language_info": {
   "codemirror_mode": {
    "name": "ipython",
    "version": 3
   },
   "file_extension": ".py",
   "mimetype": "text/x-python",
   "name": "python",
   "nbconvert_exporter": "python",
   "pygments_lexer": "ipython3",
   "version": "3.7.3"
  },
  "toc": {
   "base_numbering": 1,
   "nav_menu": {},
   "number_sections": true,
   "sideBar": true,
   "skip_h1_title": false,
   "title_cell": "Table of Contents",
   "title_sidebar": "Contents",
   "toc_cell": false,
   "toc_position": {
    "height": "calc(100% - 180px)",
    "left": "10px",
    "top": "150px",
    "width": "384px"
   },
   "toc_section_display": true,
   "toc_window_display": true
  }
 },
 "nbformat": 4,
 "nbformat_minor": 2
}
