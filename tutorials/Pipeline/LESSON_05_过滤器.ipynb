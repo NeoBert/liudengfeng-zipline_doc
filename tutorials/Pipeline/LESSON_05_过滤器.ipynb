{
 "cells": [
  {
   "cell_type": "markdown",
   "metadata": {},
   "source": [
    "## Filters"
   ]
  },
  {
   "cell_type": "markdown",
   "metadata": {},
   "source": [
    "过滤器是资产和时刻的函数，它是一个布尔值："
   ]
  },
  {
   "cell_type": "markdown",
   "metadata": {
    "ExecuteTime": {
     "end_time": "2018-04-24T14:23:52.782278Z",
     "start_time": "2018-04-24T14:23:52.664853Z"
    }
   },
   "source": [
    "![过滤器函数](./filter_fun.png)"
   ]
  },
  {
   "cell_type": "markdown",
   "metadata": {},
   "source": [
    "在管道中，`Filters`用于缩小包含在计算中或流水线最终输出中的证券集合。有两种常用的方法来创建过滤器：`Factor/Classifier`方法。"
   ]
  },
  {
   "cell_type": "markdown",
   "metadata": {
    "ExecuteTime": {
     "end_time": "2018-04-24T14:34:14.735375Z",
     "start_time": "2018-04-24T14:34:14.731663Z"
    }
   },
   "source": [
    "## Comparison Operators"
   ]
  },
  {
   "cell_type": "markdown",
   "metadata": {},
   "source": [
    "因子和分类器的比较运算产生过滤器。由于我们还没有看过`Classifiers`，所以仍然使用因子做例子。以下会生成一个筛选器，每当最新收盘价格高于20，就会返回`True`。"
   ]
  },
  {
   "cell_type": "raw",
   "metadata": {},
   "source": [
    "last_close_price = USEquityPricing.close.latest\n",
    "close_price_filter = last_close_price > 20"
   ]
  },
  {
   "cell_type": "markdown",
   "metadata": {},
   "source": [
    "以下产生一个过滤器，当10天平均值低于30天平均值时返回`True`。"
   ]
  },
  {
   "cell_type": "raw",
   "metadata": {},
   "source": [
    "mean_close_10 = SimpleMovingAverage(\n",
    "    inputs=[USEquityPricing.close],\n",
    "    window_length=10\n",
    ")\n",
    "mean_close_30 = SimpleMovingAverage(\n",
    "    inputs=[USEquityPricing.close],\n",
    "    window_length=30\n",
    ")\n",
    "mean_crossover_filter = mean_close_10 < mean_close_30"
   ]
  },
  {
   "cell_type": "markdown",
   "metadata": {},
   "source": [
    "请记住，过滤器每天会为每个证券生成一个`True`或`False`值。"
   ]
  },
  {
   "cell_type": "markdown",
   "metadata": {},
   "source": [
    "## Factor/Classifier Methods"
   ]
  },
  {
   "cell_type": "markdown",
   "metadata": {},
   "source": [
    "因子和分类器类的各种方法返回过滤器。再次，因为我们还没有看过分类器，现在让我们继续使用因子方法（稍后我们将看看分类器方法）。\n",
    "\n",
    "Factor.top(n)方法会生成一个过滤器，该过滤器每天对给定因子的前n个证券返回True。以下示例会生成一个筛选器，该筛选器每天返回前200个证券，表明这些证券在所有已知证券的最后收盘价中，排位于前200。"
   ]
  },
  {
   "cell_type": "raw",
   "metadata": {},
   "source": [
    "last_close_price = USEquityPricing.close.latest\n",
    "top_close_price_filter = last_close_price.top(200)"
   ]
  },
  {
   "cell_type": "markdown",
   "metadata": {},
   "source": [
    "+ 有关返回过滤器的因子方法的完整列表，请参阅此[链接](https://www.quantopian.com/help#quantopian_pipeline_factors_Factor)。\n",
    "\n",
    "+ 有关返回过滤器的分类器方法的完整列表，请参阅此[链接](https://www.quantopian.com/help#quantopian_pipeline_classifiers_Classifier)。"
   ]
  },
  {
   "cell_type": "markdown",
   "metadata": {},
   "source": [
    "## Dollar Volume Filter\n",
    "以成交额自定义因子方法生成过滤器"
   ]
  },
  {
   "cell_type": "markdown",
   "metadata": {},
   "source": [
    "让我们创建一个过滤器，如果证券的30天平均美元交易量高于10,000,000美元，则返回True。为此，我们首先需要创建`AverageDollarVolume`因子来计算30天的平均美元交易量。\n",
    "\n",
    "要导入内置的AverageDollarVolume过滤器，我们可以添加到我们用于导入`SimpleMovingAverage`的行。"
   ]
  },
  {
   "cell_type": "code",
   "execution_count": 1,
   "metadata": {
    "ExecuteTime": {
     "end_time": "2019-01-03T09:28:28.799538Z",
     "start_time": "2019-01-03T09:28:24.986946Z"
    }
   },
   "outputs": [],
   "source": [
    "from zipline.pipeline.factors import AverageDollarVolume, SimpleMovingAverage\n",
    "from zipline.pipeline import Pipeline"
   ]
  },
  {
   "cell_type": "markdown",
   "metadata": {},
   "source": [
    "然后我们可以实例化因子。"
   ]
  },
  {
   "cell_type": "code",
   "execution_count": 2,
   "metadata": {
    "ExecuteTime": {
     "end_time": "2019-01-03T09:28:28.804525Z",
     "start_time": "2019-01-03T09:28:28.800536Z"
    }
   },
   "outputs": [],
   "source": [
    "from zipline.pipeline.data import USEquityPricing"
   ]
  },
  {
   "cell_type": "code",
   "execution_count": 3,
   "metadata": {
    "ExecuteTime": {
     "end_time": "2019-01-03T09:28:28.809540Z",
     "start_time": "2019-01-03T09:28:28.806519Z"
    }
   },
   "outputs": [],
   "source": [
    "dollar_volume = AverageDollarVolume(window_length=30) # 默认 inputs=[USEquityPricing.close, USEquityPricing.volume]"
   ]
  },
  {
   "cell_type": "markdown",
   "metadata": {},
   "source": [
    "默认情况下，`AverageDollarVolume`使用`USEquityPricing.close`和`USEquityPricing.volume`作为输入，所以我们不指定它们。"
   ]
  },
  {
   "cell_type": "markdown",
   "metadata": {},
   "source": [
    "现在我们有一个美元成交量因子，我们可以用布尔表达式创建一个过滤器。以下行创建一个过滤器，其返回True的值为dollar_volume大于`LIMIT`的证券："
   ]
  },
  {
   "cell_type": "code",
   "execution_count": 4,
   "metadata": {
    "ExecuteTime": {
     "end_time": "2019-01-03T09:28:28.813501Z",
     "start_time": "2019-01-03T09:28:28.810509Z"
    }
   },
   "outputs": [],
   "source": [
    "LIMIT = 10000*10000"
   ]
  },
  {
   "cell_type": "markdown",
   "metadata": {
    "ExecuteTime": {
     "end_time": "2018-04-24T15:20:50.104943Z",
     "start_time": "2018-04-24T15:20:50.092439Z"
    }
   },
   "source": [
    "要查看此过滤器的输出，我们可以将其作为列添加到我们的管道中。"
   ]
  },
  {
   "cell_type": "code",
   "execution_count": 5,
   "metadata": {
    "ExecuteTime": {
     "end_time": "2019-01-03T09:28:28.818488Z",
     "start_time": "2019-01-03T09:28:28.814498Z"
    }
   },
   "outputs": [],
   "source": [
    "def make_pipeline():\n",
    "\n",
    "    mean_close_10 = SimpleMovingAverage(\n",
    "        inputs=[USEquityPricing.close], window_length=10)\n",
    "    mean_close_30 = SimpleMovingAverage(\n",
    "        inputs=[USEquityPricing.close], window_length=30)\n",
    "\n",
    "    percent_difference = (mean_close_10 - mean_close_30) / mean_close_30\n",
    "\n",
    "    dollar_volume = AverageDollarVolume(window_length=3)\n",
    "\n",
    "    high_dollar_volume = (dollar_volume > LIMIT)\n",
    "\n",
    "    return Pipeline(\n",
    "        columns={\n",
    "            'percent_difference': percent_difference,\n",
    "            'high_dollar_volume': high_dollar_volume,\n",
    "            'dollar_volume':dollar_volume,\n",
    "            'volume':USEquityPricing.volume.latest,\n",
    "        }, )"
   ]
  },
  {
   "cell_type": "markdown",
   "metadata": {},
   "source": [
    "如果我们创建并运行我们的管道，现在我们有一个列`high_dollar_volume`，其布尔值对应于每个证券的表达式结果。"
   ]
  },
  {
   "cell_type": "code",
   "execution_count": 6,
   "metadata": {
    "ExecuteTime": {
     "end_time": "2019-01-03T09:28:28.837469Z",
     "start_time": "2019-01-03T09:28:28.819486Z"
    }
   },
   "outputs": [],
   "source": [
    "from zipline.research import run_pipeline"
   ]
  },
  {
   "cell_type": "code",
   "execution_count": 7,
   "metadata": {
    "ExecuteTime": {
     "end_time": "2019-01-03T09:28:29.843745Z",
     "start_time": "2019-01-03T09:28:28.838434Z"
    }
   },
   "outputs": [
    {
     "data": {
      "text/html": [
       "<div>\n",
       "<style scoped>\n",
       "    .dataframe tbody tr th:only-of-type {\n",
       "        vertical-align: middle;\n",
       "    }\n",
       "\n",
       "    .dataframe tbody tr th {\n",
       "        vertical-align: top;\n",
       "    }\n",
       "\n",
       "    .dataframe thead th {\n",
       "        text-align: right;\n",
       "    }\n",
       "</style>\n",
       "<table border=\"1\" class=\"dataframe\">\n",
       "  <thead>\n",
       "    <tr style=\"text-align: right;\">\n",
       "      <th></th>\n",
       "      <th></th>\n",
       "      <th>percent_difference</th>\n",
       "      <th>high_dollar_volume</th>\n",
       "      <th>dollar_volume</th>\n",
       "      <th>volume</th>\n",
       "    </tr>\n",
       "  </thead>\n",
       "  <tbody>\n",
       "    <tr>\n",
       "      <th rowspan=\"30\" valign=\"top\">2018-12-27 00:00:00+00:00</th>\n",
       "      <th>浦发银行(600000)</th>\n",
       "      <td>-0.028241</td>\n",
       "      <td>True</td>\n",
       "      <td>2.551483e+08</td>\n",
       "      <td>20569200.0</td>\n",
       "    </tr>\n",
       "    <tr>\n",
       "      <th>白云机场(600004)</th>\n",
       "      <td>0.013910</td>\n",
       "      <td>False</td>\n",
       "      <td>6.750132e+07</td>\n",
       "      <td>5897800.0</td>\n",
       "    </tr>\n",
       "    <tr>\n",
       "      <th>东风汽车(600006)</th>\n",
       "      <td>-0.028272</td>\n",
       "      <td>False</td>\n",
       "      <td>1.721712e+07</td>\n",
       "      <td>4012600.0</td>\n",
       "    </tr>\n",
       "    <tr>\n",
       "      <th>中国国贸(600007)</th>\n",
       "      <td>-0.049144</td>\n",
       "      <td>False</td>\n",
       "      <td>7.789367e+06</td>\n",
       "      <td>570500.0</td>\n",
       "    </tr>\n",
       "    <tr>\n",
       "      <th>首创股份(600008)</th>\n",
       "      <td>-0.010309</td>\n",
       "      <td>False</td>\n",
       "      <td>4.604589e+07</td>\n",
       "      <td>12101000.0</td>\n",
       "    </tr>\n",
       "    <tr>\n",
       "      <th>上海机场(600009)</th>\n",
       "      <td>0.004558</td>\n",
       "      <td>False</td>\n",
       "      <td>9.768369e+07</td>\n",
       "      <td>2268900.0</td>\n",
       "    </tr>\n",
       "    <tr>\n",
       "      <th>包钢股份(600010)</th>\n",
       "      <td>-0.014213</td>\n",
       "      <td>True</td>\n",
       "      <td>1.792278e+08</td>\n",
       "      <td>78444500.0</td>\n",
       "    </tr>\n",
       "    <tr>\n",
       "      <th>华能国际(600011)</th>\n",
       "      <td>0.036061</td>\n",
       "      <td>False</td>\n",
       "      <td>5.982222e+07</td>\n",
       "      <td>6686800.0</td>\n",
       "    </tr>\n",
       "    <tr>\n",
       "      <th>皖通高速(600012)</th>\n",
       "      <td>-0.021548</td>\n",
       "      <td>False</td>\n",
       "      <td>1.764673e+07</td>\n",
       "      <td>4323200.0</td>\n",
       "    </tr>\n",
       "    <tr>\n",
       "      <th>华夏银行(600015)</th>\n",
       "      <td>-0.029056</td>\n",
       "      <td>True</td>\n",
       "      <td>1.036124e+08</td>\n",
       "      <td>11468300.0</td>\n",
       "    </tr>\n",
       "    <tr>\n",
       "      <th>民生银行(600016)</th>\n",
       "      <td>-0.032876</td>\n",
       "      <td>True</td>\n",
       "      <td>3.710756e+08</td>\n",
       "      <td>51339000.0</td>\n",
       "    </tr>\n",
       "    <tr>\n",
       "      <th>日照港(600017)</th>\n",
       "      <td>-0.015419</td>\n",
       "      <td>False</td>\n",
       "      <td>3.070349e+07</td>\n",
       "      <td>10648400.0</td>\n",
       "    </tr>\n",
       "    <tr>\n",
       "      <th>上港集团(600018)</th>\n",
       "      <td>-0.037464</td>\n",
       "      <td>False</td>\n",
       "      <td>2.450556e+07</td>\n",
       "      <td>3956500.0</td>\n",
       "    </tr>\n",
       "    <tr>\n",
       "      <th>宝钢股份(600019)</th>\n",
       "      <td>-0.038436</td>\n",
       "      <td>True</td>\n",
       "      <td>2.065672e+08</td>\n",
       "      <td>23434300.0</td>\n",
       "    </tr>\n",
       "    <tr>\n",
       "      <th>中原高速(600020)</th>\n",
       "      <td>-0.044932</td>\n",
       "      <td>False</td>\n",
       "      <td>9.885845e+07</td>\n",
       "      <td>32091900.0</td>\n",
       "    </tr>\n",
       "    <tr>\n",
       "      <th>上海电力(600021)</th>\n",
       "      <td>-0.000524</td>\n",
       "      <td>False</td>\n",
       "      <td>3.847014e+07</td>\n",
       "      <td>5199800.0</td>\n",
       "    </tr>\n",
       "    <tr>\n",
       "      <th>山东钢铁(600022)</th>\n",
       "      <td>-0.025420</td>\n",
       "      <td>False</td>\n",
       "      <td>5.826536e+07</td>\n",
       "      <td>24291400.0</td>\n",
       "    </tr>\n",
       "    <tr>\n",
       "      <th>浙能电力(600023)</th>\n",
       "      <td>0.003109</td>\n",
       "      <td>False</td>\n",
       "      <td>4.376080e+07</td>\n",
       "      <td>11681900.0</td>\n",
       "    </tr>\n",
       "    <tr>\n",
       "      <th>华能水电(600025)</th>\n",
       "      <td>0.013912</td>\n",
       "      <td>False</td>\n",
       "      <td>6.284534e+07</td>\n",
       "      <td>14500600.0</td>\n",
       "    </tr>\n",
       "    <tr>\n",
       "      <th>中远海能(600026)</th>\n",
       "      <td>-0.027631</td>\n",
       "      <td>False</td>\n",
       "      <td>5.833936e+07</td>\n",
       "      <td>7485400.0</td>\n",
       "    </tr>\n",
       "    <tr>\n",
       "      <th>华电国际(600027)</th>\n",
       "      <td>0.028752</td>\n",
       "      <td>False</td>\n",
       "      <td>7.182762e+07</td>\n",
       "      <td>12106600.0</td>\n",
       "    </tr>\n",
       "    <tr>\n",
       "      <th>中国石化(600028)</th>\n",
       "      <td>-0.020394</td>\n",
       "      <td>True</td>\n",
       "      <td>4.588877e+08</td>\n",
       "      <td>56063200.0</td>\n",
       "    </tr>\n",
       "    <tr>\n",
       "      <th>南方航空(600029)</th>\n",
       "      <td>-0.015410</td>\n",
       "      <td>True</td>\n",
       "      <td>2.890940e+08</td>\n",
       "      <td>40352900.0</td>\n",
       "    </tr>\n",
       "    <tr>\n",
       "      <th>中信证券(600030)</th>\n",
       "      <td>-0.025135</td>\n",
       "      <td>True</td>\n",
       "      <td>2.696426e+08</td>\n",
       "      <td>0.0</td>\n",
       "    </tr>\n",
       "    <tr>\n",
       "      <th>三一重工(600031)</th>\n",
       "      <td>0.034676</td>\n",
       "      <td>True</td>\n",
       "      <td>3.966898e+08</td>\n",
       "      <td>39092000.0</td>\n",
       "    </tr>\n",
       "    <tr>\n",
       "      <th>福建高速(600033)</th>\n",
       "      <td>-0.015702</td>\n",
       "      <td>False</td>\n",
       "      <td>1.121871e+07</td>\n",
       "      <td>3389200.0</td>\n",
       "    </tr>\n",
       "    <tr>\n",
       "      <th>楚天高速(600035)</th>\n",
       "      <td>-0.018270</td>\n",
       "      <td>False</td>\n",
       "      <td>1.042017e+07</td>\n",
       "      <td>2645300.0</td>\n",
       "    </tr>\n",
       "    <tr>\n",
       "      <th>招商银行(600036)</th>\n",
       "      <td>-0.044744</td>\n",
       "      <td>True</td>\n",
       "      <td>1.553449e+09</td>\n",
       "      <td>44678700.0</td>\n",
       "    </tr>\n",
       "    <tr>\n",
       "      <th>歌华有线(600037)</th>\n",
       "      <td>-0.044898</td>\n",
       "      <td>False</td>\n",
       "      <td>4.863514e+07</td>\n",
       "      <td>6546900.0</td>\n",
       "    </tr>\n",
       "    <tr>\n",
       "      <th>中直股份(600038)</th>\n",
       "      <td>0.011758</td>\n",
       "      <td>False</td>\n",
       "      <td>9.826828e+07</td>\n",
       "      <td>2674200.0</td>\n",
       "    </tr>\n",
       "  </tbody>\n",
       "</table>\n",
       "</div>"
      ],
      "text/plain": [
       "                                        percent_difference  \\\n",
       "2018-12-27 00:00:00+00:00 浦发银行(600000)           -0.028241   \n",
       "                          白云机场(600004)            0.013910   \n",
       "                          东风汽车(600006)           -0.028272   \n",
       "                          中国国贸(600007)           -0.049144   \n",
       "                          首创股份(600008)           -0.010309   \n",
       "                          上海机场(600009)            0.004558   \n",
       "                          包钢股份(600010)           -0.014213   \n",
       "                          华能国际(600011)            0.036061   \n",
       "                          皖通高速(600012)           -0.021548   \n",
       "                          华夏银行(600015)           -0.029056   \n",
       "                          民生银行(600016)           -0.032876   \n",
       "                          日照港(600017)            -0.015419   \n",
       "                          上港集团(600018)           -0.037464   \n",
       "                          宝钢股份(600019)           -0.038436   \n",
       "                          中原高速(600020)           -0.044932   \n",
       "                          上海电力(600021)           -0.000524   \n",
       "                          山东钢铁(600022)           -0.025420   \n",
       "                          浙能电力(600023)            0.003109   \n",
       "                          华能水电(600025)            0.013912   \n",
       "                          中远海能(600026)           -0.027631   \n",
       "                          华电国际(600027)            0.028752   \n",
       "                          中国石化(600028)           -0.020394   \n",
       "                          南方航空(600029)           -0.015410   \n",
       "                          中信证券(600030)           -0.025135   \n",
       "                          三一重工(600031)            0.034676   \n",
       "                          福建高速(600033)           -0.015702   \n",
       "                          楚天高速(600035)           -0.018270   \n",
       "                          招商银行(600036)           -0.044744   \n",
       "                          歌华有线(600037)           -0.044898   \n",
       "                          中直股份(600038)            0.011758   \n",
       "\n",
       "                                        high_dollar_volume  dollar_volume  \\\n",
       "2018-12-27 00:00:00+00:00 浦发银行(600000)                True   2.551483e+08   \n",
       "                          白云机场(600004)               False   6.750132e+07   \n",
       "                          东风汽车(600006)               False   1.721712e+07   \n",
       "                          中国国贸(600007)               False   7.789367e+06   \n",
       "                          首创股份(600008)               False   4.604589e+07   \n",
       "                          上海机场(600009)               False   9.768369e+07   \n",
       "                          包钢股份(600010)                True   1.792278e+08   \n",
       "                          华能国际(600011)               False   5.982222e+07   \n",
       "                          皖通高速(600012)               False   1.764673e+07   \n",
       "                          华夏银行(600015)                True   1.036124e+08   \n",
       "                          民生银行(600016)                True   3.710756e+08   \n",
       "                          日照港(600017)                False   3.070349e+07   \n",
       "                          上港集团(600018)               False   2.450556e+07   \n",
       "                          宝钢股份(600019)                True   2.065672e+08   \n",
       "                          中原高速(600020)               False   9.885845e+07   \n",
       "                          上海电力(600021)               False   3.847014e+07   \n",
       "                          山东钢铁(600022)               False   5.826536e+07   \n",
       "                          浙能电力(600023)               False   4.376080e+07   \n",
       "                          华能水电(600025)               False   6.284534e+07   \n",
       "                          中远海能(600026)               False   5.833936e+07   \n",
       "                          华电国际(600027)               False   7.182762e+07   \n",
       "                          中国石化(600028)                True   4.588877e+08   \n",
       "                          南方航空(600029)                True   2.890940e+08   \n",
       "                          中信证券(600030)                True   2.696426e+08   \n",
       "                          三一重工(600031)                True   3.966898e+08   \n",
       "                          福建高速(600033)               False   1.121871e+07   \n",
       "                          楚天高速(600035)               False   1.042017e+07   \n",
       "                          招商银行(600036)                True   1.553449e+09   \n",
       "                          歌华有线(600037)               False   4.863514e+07   \n",
       "                          中直股份(600038)               False   9.826828e+07   \n",
       "\n",
       "                                            volume  \n",
       "2018-12-27 00:00:00+00:00 浦发银行(600000)  20569200.0  \n",
       "                          白云机场(600004)   5897800.0  \n",
       "                          东风汽车(600006)   4012600.0  \n",
       "                          中国国贸(600007)    570500.0  \n",
       "                          首创股份(600008)  12101000.0  \n",
       "                          上海机场(600009)   2268900.0  \n",
       "                          包钢股份(600010)  78444500.0  \n",
       "                          华能国际(600011)   6686800.0  \n",
       "                          皖通高速(600012)   4323200.0  \n",
       "                          华夏银行(600015)  11468300.0  \n",
       "                          民生银行(600016)  51339000.0  \n",
       "                          日照港(600017)   10648400.0  \n",
       "                          上港集团(600018)   3956500.0  \n",
       "                          宝钢股份(600019)  23434300.0  \n",
       "                          中原高速(600020)  32091900.0  \n",
       "                          上海电力(600021)   5199800.0  \n",
       "                          山东钢铁(600022)  24291400.0  \n",
       "                          浙能电力(600023)  11681900.0  \n",
       "                          华能水电(600025)  14500600.0  \n",
       "                          中远海能(600026)   7485400.0  \n",
       "                          华电国际(600027)  12106600.0  \n",
       "                          中国石化(600028)  56063200.0  \n",
       "                          南方航空(600029)  40352900.0  \n",
       "                          中信证券(600030)         0.0  \n",
       "                          三一重工(600031)  39092000.0  \n",
       "                          福建高速(600033)   3389200.0  \n",
       "                          楚天高速(600035)   2645300.0  \n",
       "                          招商银行(600036)  44678700.0  \n",
       "                          歌华有线(600037)   6546900.0  \n",
       "                          中直股份(600038)   2674200.0  "
      ]
     },
     "execution_count": 7,
     "metadata": {},
     "output_type": "execute_result"
    }
   ],
   "source": [
    "result = run_pipeline(make_pipeline(), '2018-12-27', '2018-12-27')\n",
    "result.head(30)"
   ]
  },
  {
   "cell_type": "markdown",
   "metadata": {},
   "source": [
    "## Applying a Screen"
   ]
  },
  {
   "cell_type": "markdown",
   "metadata": {},
   "source": [
    "默认情况下，管道每天为Quantopian数据库中的每个资产生成计算值。 然而，很多时候，我们只关心符合特定标准的证券子集（例如，我们可能只关心有足够的每日交易量来快速填补我们订单的证券）。我们可以通过将筛选器通过`screen`关键字传递给我们的管道来告诉我们的管道忽略过滤器产生`False`的证券。\n",
    "\n",
    "为了筛选我们的30天平均美元数量大于10,000,000美元证券的管道输出，我们可以简单地将我们的`high_dollar_volume`过滤器作为屏幕参数。 这就是我们的`make_pipeline`函数现在的样子："
   ]
  },
  {
   "cell_type": "code",
   "execution_count": 8,
   "metadata": {
    "ExecuteTime": {
     "end_time": "2019-01-03T09:28:29.849730Z",
     "start_time": "2019-01-03T09:28:29.844744Z"
    }
   },
   "outputs": [],
   "source": [
    "def make_pipeline():\n",
    "\n",
    "    mean_close_10 = SimpleMovingAverage(\n",
    "        inputs=[USEquityPricing.close], window_length=10)\n",
    "    mean_close_30 = SimpleMovingAverage(\n",
    "        inputs=[USEquityPricing.close], window_length=30)\n",
    "\n",
    "    percent_difference = (mean_close_10 - mean_close_30) / mean_close_30\n",
    "\n",
    "    dollar_volume = AverageDollarVolume(\n",
    "        window_length=30,\n",
    "        inputs=[USEquityPricing.close, USEquityPricing.volume])\n",
    "    high_dollar_volume = (dollar_volume > LIMIT)\n",
    "\n",
    "    return Pipeline(\n",
    "        columns={'percent_difference': percent_difference},\n",
    "        screen=high_dollar_volume)"
   ]
  },
  {
   "cell_type": "markdown",
   "metadata": {
    "ExecuteTime": {
     "end_time": "2018-04-24T15:31:10.726446Z",
     "start_time": "2018-04-24T15:31:10.719925Z"
    }
   },
   "source": [
    "运行此操作将仅为在给定日期通过high_dollar_volume的证券生成输出。 例如，2018年4月10日运行这条管道可以产生约1100只股票。"
   ]
  },
  {
   "cell_type": "code",
   "execution_count": 9,
   "metadata": {
    "ExecuteTime": {
     "end_time": "2019-01-03T09:28:30.675546Z",
     "start_time": "2019-01-03T09:28:29.850727Z"
    }
   },
   "outputs": [
    {
     "name": "stdout",
     "output_type": "stream",
     "text": [
      "Number of securities that passed the filter: 1122\n"
     ]
    }
   ],
   "source": [
    "result = run_pipeline(make_pipeline(), '2018-04-10', '2018-04-10')\n",
    "print('Number of securities that passed the filter: %d' % len(result))"
   ]
  },
  {
   "cell_type": "markdown",
   "metadata": {},
   "source": [
    "## Inverting a Filter"
   ]
  },
  {
   "cell_type": "markdown",
   "metadata": {},
   "source": [
    "`~`运算符用于反转过滤器，将所有`True`值与`False`交换，反之亦然。例如，我们可以编写以下内容来筛选低美元数量的证券："
   ]
  },
  {
   "cell_type": "markdown",
   "metadata": {},
   "source": [
    "low_dollar_volume = ~high_dollar_volume"
   ]
  },
  {
   "cell_type": "markdown",
   "metadata": {},
   "source": [
    "对于在过去30天内平均美元交易量低于或等于`LIMIT`的所有证券，这将返回`True`。\n",
    "\n",
    "在下一课中，我们将介绍如何组合滤镜。"
   ]
  }
 ],
 "metadata": {
  "kernelspec": {
   "display_name": "zipline",
   "language": "python",
   "name": "zipline"
  },
  "language_info": {
   "codemirror_mode": {
    "name": "ipython",
    "version": 3
   },
   "file_extension": ".py",
   "mimetype": "text/x-python",
   "name": "python",
   "nbconvert_exporter": "python",
   "pygments_lexer": "ipython3",
   "version": "3.7.1"
  },
  "toc": {
   "base_numbering": 1,
   "nav_menu": {},
   "number_sections": true,
   "sideBar": true,
   "skip_h1_title": false,
   "title_cell": "Table of Contents",
   "title_sidebar": "Contents",
   "toc_cell": false,
   "toc_position": {
    "height": "calc(100% - 180px)",
    "left": "10px",
    "top": "150px",
    "width": "384px"
   },
   "toc_section_display": true,
   "toc_window_display": true
  }
 },
 "nbformat": 4,
 "nbformat_minor": 2
}
