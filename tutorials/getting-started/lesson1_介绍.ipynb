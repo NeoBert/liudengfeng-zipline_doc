{
 "cells": [
  {
   "cell_type": "markdown",
   "metadata": {},
   "source": [
    "欢迎来到Quantopian！ 入门教程将指导您在Quantopian中研究和开发量化交易策略。 它涵盖了Quantopian API的许多基础知识，并且专为那些对该平台不熟悉的人士而设计。 你只需要学习一些基本的Python编程技巧就可以开始本教程。"
   ]
  },
  {
   "cell_type": "markdown",
   "metadata": {},
   "source": [
    "# 什么是交易算法？"
   ]
  },
  {
   "cell_type": "markdown",
   "metadata": {},
   "source": [
    "交易算法是一个计算机程序，它定义了一系列买卖资产的规则。大多数交易算法都是基于从历史数据上进行的研究得出的数学或统计模型做出决策。"
   ]
  },
  {
   "cell_type": "markdown",
   "metadata": {},
   "source": [
    "## 从哪开始呢？"
   ]
  },
  {
   "cell_type": "markdown",
   "metadata": {},
   "source": [
    "编写交易算法的第一步是找到一个经济或统计关系，我们可以根据这个关系来制定我们的战略。 为此，我们可以使用Quantopian的研究环境来访问和分析平台中可用的历史数据集。 Research是Jupyter Notebook环境，它允许我们以称为“单元”的单位运行Python代码。 例如，以下代码绘制了Apple Inc.（AAPL）的每日收盘价以及20和50日移动平均线：\n",
    "(更改为美的集团)"
   ]
  },
  {
   "cell_type": "code",
   "execution_count": 1,
   "metadata": {
    "ExecuteTime": {
     "end_time": "2019-01-02T08:15:32.878216Z",
     "start_time": "2019-01-02T08:15:32.565818Z"
    }
   },
   "outputs": [],
   "source": [
    "%matplotlib inline"
   ]
  },
  {
   "cell_type": "code",
   "execution_count": 2,
   "metadata": {
    "ExecuteTime": {
     "end_time": "2019-01-02T08:15:36.290329Z",
     "start_time": "2019-01-02T08:15:32.878216Z"
    }
   },
   "outputs": [],
   "source": [
    "from zipline.research import symbols"
   ]
  },
  {
   "cell_type": "code",
   "execution_count": 3,
   "metadata": {
    "ExecuteTime": {
     "end_time": "2019-01-02T08:15:36.647987Z",
     "start_time": "2019-01-02T08:15:36.290329Z"
    }
   },
   "outputs": [
    {
     "data": {
      "text/plain": [
       "[美的集团(000333), 中源协和(600645)]"
      ]
     },
     "execution_count": 3,
     "metadata": {},
     "output_type": "execute_result"
    }
   ],
   "source": [
    "# 如果输入不支持的类型会触发TypeError\n",
    "# symbols(['000333',2,'600645',600771, ['600771','300001']])\n",
    "symbols(['000333','600645'])"
   ]
  },
  {
   "cell_type": "code",
   "execution_count": 4,
   "metadata": {
    "ExecuteTime": {
     "end_time": "2019-01-02T08:15:36.693375Z",
     "start_time": "2019-01-02T08:15:36.647987Z"
    }
   },
   "outputs": [
    {
     "data": {
      "text/plain": [
       "[美的集团(000333), 中源协和(600645)]"
      ]
     },
     "execution_count": 4,
     "metadata": {},
     "output_type": "execute_result"
    }
   ],
   "source": [
    "symbols([333,600645])"
   ]
  },
  {
   "cell_type": "markdown",
   "metadata": {},
   "source": [
    "## 查询单个股票"
   ]
  },
  {
   "cell_type": "code",
   "execution_count": 5,
   "metadata": {
    "ExecuteTime": {
     "end_time": "2019-01-02T08:15:36.979349Z",
     "start_time": "2019-01-02T08:15:36.693375Z"
    }
   },
   "outputs": [],
   "source": [
    "# Research environment functions\n",
    "from zipline.research import prices\n",
    "\n",
    "# Pandas library: https://pandas.pydata.org/\n",
    "import pandas as pd\n",
    "\n",
    "# 美的查询历史数据\n",
    "mdjt_close = prices(\n",
    "    '000333',\n",
    "    start='2018-01-01',\n",
    "    end='2018-05-18',\n",
    ")"
   ]
  },
  {
   "cell_type": "code",
   "execution_count": 6,
   "metadata": {
    "ExecuteTime": {
     "end_time": "2019-01-02T08:15:36.988473Z",
     "start_time": "2019-01-02T08:15:36.979349Z"
    }
   },
   "outputs": [
    {
     "data": {
      "text/html": [
       "<div>\n",
       "<style scoped>\n",
       "    .dataframe tbody tr th:only-of-type {\n",
       "        vertical-align: middle;\n",
       "    }\n",
       "\n",
       "    .dataframe tbody tr th {\n",
       "        vertical-align: top;\n",
       "    }\n",
       "\n",
       "    .dataframe thead th {\n",
       "        text-align: right;\n",
       "    }\n",
       "</style>\n",
       "<table border=\"1\" class=\"dataframe\">\n",
       "  <thead>\n",
       "    <tr style=\"text-align: right;\">\n",
       "      <th></th>\n",
       "      <th>美的集团(000333)</th>\n",
       "    </tr>\n",
       "  </thead>\n",
       "  <tbody>\n",
       "    <tr>\n",
       "      <th>2018-05-14 00:00:00+00:00</th>\n",
       "      <td>55.24</td>\n",
       "    </tr>\n",
       "    <tr>\n",
       "      <th>2018-05-15 00:00:00+00:00</th>\n",
       "      <td>55.22</td>\n",
       "    </tr>\n",
       "    <tr>\n",
       "      <th>2018-05-16 00:00:00+00:00</th>\n",
       "      <td>54.40</td>\n",
       "    </tr>\n",
       "    <tr>\n",
       "      <th>2018-05-17 00:00:00+00:00</th>\n",
       "      <td>53.12</td>\n",
       "    </tr>\n",
       "    <tr>\n",
       "      <th>2018-05-18 00:00:00+00:00</th>\n",
       "      <td>53.89</td>\n",
       "    </tr>\n",
       "  </tbody>\n",
       "</table>\n",
       "</div>"
      ],
      "text/plain": [
       "                           美的集团(000333)\n",
       "2018-05-14 00:00:00+00:00         55.24\n",
       "2018-05-15 00:00:00+00:00         55.22\n",
       "2018-05-16 00:00:00+00:00         54.40\n",
       "2018-05-17 00:00:00+00:00         53.12\n",
       "2018-05-18 00:00:00+00:00         53.89"
      ]
     },
     "execution_count": 6,
     "metadata": {},
     "output_type": "execute_result"
    }
   ],
   "source": [
    "# 单个股票，返回Series\n",
    "mdjt_close.tail()"
   ]
  },
  {
   "cell_type": "code",
   "execution_count": 7,
   "metadata": {
    "ExecuteTime": {
     "end_time": "2019-01-02T08:15:36.996491Z",
     "start_time": "2019-01-02T08:15:36.988473Z"
    }
   },
   "outputs": [],
   "source": [
    "# 计算20天与50天移动平均\n",
    "sma20 = mdjt_close.rolling(20).mean()\n",
    "sma50 = mdjt_close.rolling(50).mean()"
   ]
  },
  {
   "cell_type": "code",
   "execution_count": 8,
   "metadata": {
    "ExecuteTime": {
     "end_time": "2019-01-02T08:15:37.000458Z",
     "start_time": "2019-01-02T08:15:36.996491Z"
    }
   },
   "outputs": [],
   "source": [
    "df = pd.DataFrame(index=mdjt_close.index)"
   ]
  },
  {
   "cell_type": "code",
   "execution_count": 9,
   "metadata": {
    "ExecuteTime": {
     "end_time": "2019-01-02T08:15:37.008481Z",
     "start_time": "2019-01-02T08:15:37.000458Z"
    }
   },
   "outputs": [],
   "source": [
    "df['MDJT'] = mdjt_close.values"
   ]
  },
  {
   "cell_type": "code",
   "execution_count": 10,
   "metadata": {
    "ExecuteTime": {
     "end_time": "2019-01-02T08:15:37.026247Z",
     "start_time": "2019-01-02T08:15:37.008481Z"
    }
   },
   "outputs": [],
   "source": [
    "df['SMA20'] = sma20.values"
   ]
  },
  {
   "cell_type": "code",
   "execution_count": 11,
   "metadata": {
    "ExecuteTime": {
     "end_time": "2019-01-02T08:15:37.041840Z",
     "start_time": "2019-01-02T08:15:37.026247Z"
    }
   },
   "outputs": [],
   "source": [
    "df['SMA50'] = sma50.values"
   ]
  },
  {
   "cell_type": "code",
   "execution_count": 12,
   "metadata": {
    "ExecuteTime": {
     "end_time": "2019-01-02T08:15:37.244854Z",
     "start_time": "2019-01-02T08:15:37.041840Z"
    }
   },
   "outputs": [
    {
     "data": {
      "text/plain": [
       "<matplotlib.axes._subplots.AxesSubplot at 0x1e2da39c2b0>"
      ]
     },
     "execution_count": 12,
     "metadata": {},
     "output_type": "execute_result"
    },
    {
     "data": {
      "image/png": "[encoded data removed]",
      "text/plain": [
       "<Figure size 864x576 with 1 Axes>"
      ]
     },
     "metadata": {
      "needs_background": "light"
     },
     "output_type": "display_data"
    }
   ],
   "source": [
    "df.plot(title='MDJT Close Price / SMA Crossover',figsize=(12,8))"
   ]
  },
  {
   "cell_type": "markdown",
   "metadata": {},
   "source": [
    "# 使用`cufflinks`绘图"
   ]
  },
  {
   "cell_type": "raw",
   "metadata": {
    "ExecuteTime": {
     "end_time": "2018-07-01T21:30:57.040190Z",
     "start_time": "2018-07-01T21:30:56.734983Z"
    }
   },
   "source": [
    "import cufflinks as cf\n",
    "\n",
    "df.iplot(title='美的集团收盘价(简单移动平均上穿)')\n",
    "\n",
    "## 多个股票\n",
    "\n",
    "closes = prices(\n",
    "    ['000333','600645'],\n",
    "    start='2018-01-01',\n",
    "    end='2018-05-18',\n",
    ")\n",
    "\n",
    "closes.head()"
   ]
  }
 ],
 "metadata": {
  "kernelspec": {
   "display_name": "zipline",
   "language": "python",
   "name": "zipline"
  },
  "language_info": {
   "codemirror_mode": {
    "name": "ipython",
    "version": 3
   },
   "file_extension": ".py",
   "mimetype": "text/x-python",
   "name": "python",
   "nbconvert_exporter": "python",
   "pygments_lexer": "ipython3",
   "version": "3.7.1"
  },
  "toc": {
   "base_numbering": 1,
   "nav_menu": {},
   "number_sections": true,
   "sideBar": true,
   "skip_h1_title": false,
   "title_cell": "Table of Contents",
   "title_sidebar": "Contents",
   "toc_cell": false,
   "toc_position": {},
   "toc_section_display": true,
   "toc_window_display": true
  }
 },
 "nbformat": 4,
 "nbformat_minor": 2
}
