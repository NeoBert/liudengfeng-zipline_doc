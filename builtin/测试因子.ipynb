{
 "cells": [
  {
   "cell_type": "code",
   "execution_count": 1,
   "metadata": {
    "ExecuteTime": {
     "end_time": "2019-01-02T19:20:34.755233Z",
     "start_time": "2019-01-02T19:20:34.387979Z"
    }
   },
   "outputs": [],
   "source": [
    "import pandas as pd"
   ]
  },
  {
   "cell_type": "code",
   "execution_count": 2,
   "metadata": {
    "ExecuteTime": {
     "end_time": "2019-01-02T19:20:38.048508Z",
     "start_time": "2019-01-02T19:20:34.756564Z"
    }
   },
   "outputs": [],
   "source": [
    "from zipline.pipeline import builtin"
   ]
  },
  {
   "cell_type": "code",
   "execution_count": 3,
   "metadata": {
    "ExecuteTime": {
     "end_time": "2019-01-02T19:20:38.064256Z",
     "start_time": "2019-01-02T19:20:38.048508Z"
    }
   },
   "outputs": [],
   "source": [
    "from zipline.pipeline import Pipeline\n",
    "from zipline.research import run_pipeline, select_output_by, symbol"
   ]
  },
  {
   "cell_type": "markdown",
   "metadata": {},
   "source": [
    "# `SuccessiveYZ`"
   ]
  },
  {
   "cell_type": "code",
   "execution_count": 4,
   "metadata": {
    "ExecuteTime": {
     "end_time": "2019-01-02T19:20:38.068217Z",
     "start_time": "2019-01-02T19:20:38.065223Z"
    }
   },
   "outputs": [],
   "source": [
    "def make_pipeline():\n",
    "    yz = builtin.SuccessiveYZ(window_length=20)\n",
    "    return Pipeline(columns={\n",
    "        '连续一字板跌停数量':yz.dt,\n",
    "    })"
   ]
  },
  {
   "cell_type": "code",
   "execution_count": 5,
   "metadata": {
    "ExecuteTime": {
     "end_time": "2019-01-02T19:20:40.379305Z",
     "start_time": "2019-01-02T19:20:38.069214Z"
    }
   },
   "outputs": [],
   "source": [
    "yz_output = run_pipeline(make_pipeline(), '2018-01-24', '2018-02-10')\n",
    "df = yz_output.xs(symbol('300104'),level=1)"
   ]
  },
  {
   "cell_type": "code",
   "execution_count": 6,
   "metadata": {
    "ExecuteTime": {
     "end_time": "2019-01-02T19:20:40.385252Z",
     "start_time": "2019-01-02T19:20:40.380264Z"
    }
   },
   "outputs": [],
   "source": [
    "assert df.loc['2018-02-08',:].values[0] == 11."
   ]
  },
  {
   "cell_type": "code",
   "execution_count": 7,
   "metadata": {
    "ExecuteTime": {
     "end_time": "2019-01-02T19:20:40.391262Z",
     "start_time": "2019-01-02T19:20:40.386249Z"
    }
   },
   "outputs": [],
   "source": [
    "assert df.loc['2018-02-09',:].values[0] == 0."
   ]
  },
  {
   "cell_type": "markdown",
   "metadata": {},
   "source": [
    "# `NDays`"
   ]
  },
  {
   "cell_type": "code",
   "execution_count": 8,
   "metadata": {
    "ExecuteTime": {
     "end_time": "2019-01-02T19:20:40.394269Z",
     "start_time": "2019-01-02T19:20:40.392232Z"
    }
   },
   "outputs": [],
   "source": [
    "def make_pipeline():\n",
    "    return Pipeline(columns={\n",
    "        '上市天数': builtin.NDays(),\n",
    "    })"
   ]
  },
  {
   "cell_type": "code",
   "execution_count": 9,
   "metadata": {
    "ExecuteTime": {
     "end_time": "2019-01-02T19:20:42.771335Z",
     "start_time": "2019-01-02T19:20:40.395225Z"
    }
   },
   "outputs": [],
   "source": [
    "ndays = run_pipeline(make_pipeline(), '2018-11-16', '2018-12-27')"
   ]
  },
  {
   "cell_type": "code",
   "execution_count": 10,
   "metadata": {
    "ExecuteTime": {
     "end_time": "2019-01-02T19:20:42.990583Z",
     "start_time": "2019-01-02T19:20:42.771335Z"
    }
   },
   "outputs": [],
   "source": [
    "df = select_output_by(ndays, assets=['002942', '603187'])"
   ]
  },
  {
   "cell_type": "code",
   "execution_count": 11,
   "metadata": {
    "ExecuteTime": {
     "end_time": "2019-01-02T19:20:43.123678Z",
     "start_time": "2019-01-02T19:20:42.991542Z"
    }
   },
   "outputs": [],
   "source": [
    "assert df.xs(('2018-11-30',symbol('603187')))['上市天数'] == 1.0"
   ]
  },
  {
   "cell_type": "code",
   "execution_count": 12,
   "metadata": {
    "ExecuteTime": {
     "end_time": "2019-01-02T19:20:43.248651Z",
     "start_time": "2019-01-02T19:20:43.123678Z"
    }
   },
   "outputs": [],
   "source": [
    "assert df.xs(('2018-12-20',symbol('002942')))['上市天数'] == 15.0"
   ]
  }
 ],
 "metadata": {
  "kernelspec": {
   "display_name": "zipline",
   "language": "python",
   "name": "zipline"
  },
  "language_info": {
   "codemirror_mode": {
    "name": "ipython",
    "version": 3
   },
   "file_extension": ".py",
   "mimetype": "text/x-python",
   "name": "python",
   "nbconvert_exporter": "python",
   "pygments_lexer": "ipython3",
   "version": "3.7.1"
  },
  "toc": {
   "base_numbering": 1,
   "nav_menu": {},
   "number_sections": true,
   "sideBar": true,
   "skip_h1_title": false,
   "title_cell": "Table of Contents",
   "title_sidebar": "Contents",
   "toc_cell": false,
   "toc_position": {},
   "toc_section_display": true,
   "toc_window_display": true
  }
 },
 "nbformat": 4,
 "nbformat_minor": 2
}
