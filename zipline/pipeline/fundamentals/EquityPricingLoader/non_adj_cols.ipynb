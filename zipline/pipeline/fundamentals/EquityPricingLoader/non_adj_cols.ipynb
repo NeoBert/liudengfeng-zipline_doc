{
 "cells": [
  {
   "cell_type": "code",
   "execution_count": 1,
   "metadata": {},
   "outputs": [],
   "source": [
    "from zipline.pipeline.data import CNEquityPricing\n",
    "from zipline.pipeline import Pipeline\n",
    "from zipline.research import run_pipeline, select_output_by, symbol"
   ]
  },
  {
   "cell_type": "code",
   "execution_count": 2,
   "metadata": {},
   "outputs": [],
   "source": [
    "def make_pipeline():\n",
    "    return Pipeline(columns={\n",
    "        'currency': CNEquityPricing.currency.latest,\n",
    "    })"
   ]
  },
  {
   "cell_type": "code",
   "execution_count": 3,
   "metadata": {},
   "outputs": [
    {
     "output_type": "execute_result",
     "data": {
      "text/plain": "                                       currency\ndatetime                  asset                \n2020-05-26 00:00:00+00:00 平安银行(000001)      CNY\n                          万 科Ａ(000002)      CNY\n                          国农科技(000004)      CNY\n                          世纪星源(000005)      CNY\n                          深振业Ａ(000006)      CNY\n...                                         ...\n2020-06-03 00:00:00+00:00 金科环境(688466)      CNY\n                          奥特维(688516)       CNY\n                          吉贝尔(688566)       CNY\n                          凌志软件(688588)      CNY\n                          金博股份(688598)      CNY\n\n[26737 rows x 1 columns]",
      "text/html": "<div>\n<style scoped>\n    .dataframe tbody tr th:only-of-type {\n        vertical-align: middle;\n    }\n\n    .dataframe tbody tr th {\n        vertical-align: top;\n    }\n\n    .dataframe thead th {\n        text-align: right;\n    }\n</style>\n<table border=\"1\" class=\"dataframe\">\n  <thead>\n    <tr style=\"text-align: right;\">\n      <th></th>\n      <th></th>\n      <th>currency</th>\n    </tr>\n    <tr>\n      <th>datetime</th>\n      <th>asset</th>\n      <th></th>\n    </tr>\n  </thead>\n  <tbody>\n    <tr>\n      <th rowspan=\"5\" valign=\"top\">2020-05-26 00:00:00+00:00</th>\n      <th>平安银行(000001)</th>\n      <td>CNY</td>\n    </tr>\n    <tr>\n      <th>万 科Ａ(000002)</th>\n      <td>CNY</td>\n    </tr>\n    <tr>\n      <th>国农科技(000004)</th>\n      <td>CNY</td>\n    </tr>\n    <tr>\n      <th>世纪星源(000005)</th>\n      <td>CNY</td>\n    </tr>\n    <tr>\n      <th>深振业Ａ(000006)</th>\n      <td>CNY</td>\n    </tr>\n    <tr>\n      <th>...</th>\n      <th>...</th>\n      <td>...</td>\n    </tr>\n    <tr>\n      <th rowspan=\"5\" valign=\"top\">2020-06-03 00:00:00+00:00</th>\n      <th>金科环境(688466)</th>\n      <td>CNY</td>\n    </tr>\n    <tr>\n      <th>奥特维(688516)</th>\n      <td>CNY</td>\n    </tr>\n    <tr>\n      <th>吉贝尔(688566)</th>\n      <td>CNY</td>\n    </tr>\n    <tr>\n      <th>凌志软件(688588)</th>\n      <td>CNY</td>\n    </tr>\n    <tr>\n      <th>金博股份(688598)</th>\n      <td>CNY</td>\n    </tr>\n  </tbody>\n</table>\n<p>26737 rows × 1 columns</p>\n</div>"
     },
     "metadata": {},
     "execution_count": 3
    }
   ],
   "source": [
    "run_pipeline(make_pipeline(), '2020-05-26', '2020-06-03')"
   ]
  },
  {
   "cell_type": "markdown",
   "metadata": {},
   "source": [
    "以下数据不受分红派息影响而调整。后复权价格可用于绘图。"
   ]
  },
  {
   "cell_type": "code",
   "execution_count": 4,
   "metadata": {},
   "outputs": [],
   "source": [
    "def make_pipeline():\n",
    "    return Pipeline(columns={\n",
    "        'amount': CNEquityPricing.amount.latest,\n",
    "        'market_cap': CNEquityPricing.market_cap.latest,\n",
    "        'total_cap': CNEquityPricing.total_cap.latest,\n",
    "        'shares_outstanding': CNEquityPricing.shares_outstanding.latest,\n",
    "        'total_shares': CNEquityPricing.total_shares.latest,\n",
    "        'turnover': CNEquityPricing.turnover.latest,\n",
    "        'b_open': CNEquityPricing.b_open.latest,\n",
    "        'b_high': CNEquityPricing.b_high.latest,\n",
    "        'b_low': CNEquityPricing.b_low.latest,\n",
    "        'b_close': CNEquityPricing.b_close.latest,\n",
    "    })"
   ]
  },
  {
   "cell_type": "code",
   "execution_count": 5,
   "metadata": {},
   "outputs": [
    {
     "output_type": "execute_result",
     "data": {
      "text/plain": "                                              amount    market_cap  \\\ndatetime                  asset                                      \n2020-05-26 00:00:00+00:00 平安银行(000001)  5.287600e+08  2.514987e+11   \n                          万 科Ａ(000002)  1.300380e+09  2.475780e+11   \n                          国农科技(000004)  4.127000e+07  2.324760e+09   \n                          世纪星源(000005)  6.880000e+06  2.655440e+09   \n                          深振业Ａ(000006)  2.055000e+07  6.371970e+09   \n...                                              ...           ...   \n2020-06-03 00:00:00+00:00 金科环境(688466)  9.398000e+07  9.455200e+08   \n                          奥特维(688516)   4.760400e+08  1.215850e+09   \n                          吉贝尔(688566)   3.695300e+08  1.751950e+09   \n                          凌志软件(688588)  7.155200e+08  1.735040e+09   \n                          金博股份(688598)  6.174000e+08  1.735160e+09   \n\n                                           total_cap  shares_outstanding  \\\ndatetime                  asset                                            \n2020-05-26 00:00:00+00:00 平安银行(000001)  2.515007e+11        2.225893e+09   \n                          万 科Ａ(000002)  2.877526e+11        1.134263e+09   \n                          国农科技(000004)  4.571950e+09        8.392668e+07   \n                          世纪星源(000005)  2.656920e+09        1.057946e+09   \n                          深振业Ａ(000006)  6.371970e+09        1.349995e+09   \n...                                              ...                 ...   \n2020-06-03 00:00:00+00:00 金科环境(688466)  4.153550e+09        2.339248e+07   \n                          奥特维(688516)   5.933020e+09        2.022036e+07   \n                          吉贝尔(688566)   8.515180e+09        3.846233e+07   \n                          凌志软件(688588)  1.920448e+10        3.613933e+07   \n                          金博股份(688598)  7.592000e+09        1.828415e+07   \n\n                                        total_shares  turnover  b_open  \\\ndatetime                  asset                                          \n2020-05-26 00:00:00+00:00 平安银行(000001)  2.226050e+09    0.2114   87.68   \n                          万 科Ａ(000002)  2.712208e+09    0.5273  250.08   \n                          国农科技(000004)  1.650526e+08    1.7668   32.49   \n                          世纪星源(000005)  1.058537e+09    0.2588    3.60   \n                          深振业Ａ(000006)  1.349995e+09    0.3235   47.27   \n...                                              ...       ...     ...   \n2020-06-03 00:00:00+00:00 金科环境(688466)  1.027600e+08    9.9033   40.29   \n                          奥特维(688516)   9.867000e+07   40.1898   57.39   \n                          吉贝尔(688566)   1.869416e+08   20.8810   45.10   \n                          凌志软件(688588)  4.000100e+08   41.7319   48.00   \n                          金博股份(688598)  8.000000e+07   34.3264   97.49   \n\n                                        b_high   b_low  b_close  \ndatetime                  asset                                  \n2020-05-26 00:00:00+00:00 平安银行(000001)   87.75   86.26    87.61  \n                          万 科Ａ(000002)  253.65  247.41   252.36  \n                          国农科技(000004)   32.79   31.82    32.03  \n                          世纪星源(000005)    3.63    3.59     3.60  \n                          深振业Ａ(000006)   47.87   46.86    47.67  \n...                                        ...     ...      ...  \n2020-06-03 00:00:00+00:00 金科环境(688466)   41.17   40.03    40.42  \n                          奥特维(688516)    60.78   56.65    60.13  \n                          吉贝尔(688566)    47.50   44.50    45.55  \n                          凌志软件(688588)   48.50   46.14    48.01  \n                          金博股份(688598)  102.68   94.75    94.89  \n\n[26737 rows x 10 columns]",
      "text/html": "<div>\n<style scoped>\n    .dataframe tbody tr th:only-of-type {\n        vertical-align: middle;\n    }\n\n    .dataframe tbody tr th {\n        vertical-align: top;\n    }\n\n    .dataframe thead th {\n        text-align: right;\n    }\n</style>\n<table border=\"1\" class=\"dataframe\">\n  <thead>\n    <tr style=\"text-align: right;\">\n      <th></th>\n      <th></th>\n      <th>amount</th>\n      <th>market_cap</th>\n      <th>total_cap</th>\n      <th>shares_outstanding</th>\n      <th>total_shares</th>\n      <th>turnover</th>\n      <th>b_open</th>\n      <th>b_high</th>\n      <th>b_low</th>\n      <th>b_close</th>\n    </tr>\n    <tr>\n      <th>datetime</th>\n      <th>asset</th>\n      <th></th>\n      <th></th>\n      <th></th>\n      <th></th>\n      <th></th>\n      <th></th>\n      <th></th>\n      <th></th>\n      <th></th>\n      <th></th>\n    </tr>\n  </thead>\n  <tbody>\n    <tr>\n      <th rowspan=\"5\" valign=\"top\">2020-05-26 00:00:00+00:00</th>\n      <th>平安银行(000001)</th>\n      <td>5.287600e+08</td>\n      <td>2.514987e+11</td>\n      <td>2.515007e+11</td>\n      <td>2.225893e+09</td>\n      <td>2.226050e+09</td>\n      <td>0.2114</td>\n      <td>87.68</td>\n      <td>87.75</td>\n      <td>86.26</td>\n      <td>87.61</td>\n    </tr>\n    <tr>\n      <th>万 科Ａ(000002)</th>\n      <td>1.300380e+09</td>\n      <td>2.475780e+11</td>\n      <td>2.877526e+11</td>\n      <td>1.134263e+09</td>\n      <td>2.712208e+09</td>\n      <td>0.5273</td>\n      <td>250.08</td>\n      <td>253.65</td>\n      <td>247.41</td>\n      <td>252.36</td>\n    </tr>\n    <tr>\n      <th>国农科技(000004)</th>\n      <td>4.127000e+07</td>\n      <td>2.324760e+09</td>\n      <td>4.571950e+09</td>\n      <td>8.392668e+07</td>\n      <td>1.650526e+08</td>\n      <td>1.7668</td>\n      <td>32.49</td>\n      <td>32.79</td>\n      <td>31.82</td>\n      <td>32.03</td>\n    </tr>\n    <tr>\n      <th>世纪星源(000005)</th>\n      <td>6.880000e+06</td>\n      <td>2.655440e+09</td>\n      <td>2.656920e+09</td>\n      <td>1.057946e+09</td>\n      <td>1.058537e+09</td>\n      <td>0.2588</td>\n      <td>3.60</td>\n      <td>3.63</td>\n      <td>3.59</td>\n      <td>3.60</td>\n    </tr>\n    <tr>\n      <th>深振业Ａ(000006)</th>\n      <td>2.055000e+07</td>\n      <td>6.371970e+09</td>\n      <td>6.371970e+09</td>\n      <td>1.349995e+09</td>\n      <td>1.349995e+09</td>\n      <td>0.3235</td>\n      <td>47.27</td>\n      <td>47.87</td>\n      <td>46.86</td>\n      <td>47.67</td>\n    </tr>\n    <tr>\n      <th>...</th>\n      <th>...</th>\n      <td>...</td>\n      <td>...</td>\n      <td>...</td>\n      <td>...</td>\n      <td>...</td>\n      <td>...</td>\n      <td>...</td>\n      <td>...</td>\n      <td>...</td>\n      <td>...</td>\n    </tr>\n    <tr>\n      <th rowspan=\"5\" valign=\"top\">2020-06-03 00:00:00+00:00</th>\n      <th>金科环境(688466)</th>\n      <td>9.398000e+07</td>\n      <td>9.455200e+08</td>\n      <td>4.153550e+09</td>\n      <td>2.339248e+07</td>\n      <td>1.027600e+08</td>\n      <td>9.9033</td>\n      <td>40.29</td>\n      <td>41.17</td>\n      <td>40.03</td>\n      <td>40.42</td>\n    </tr>\n    <tr>\n      <th>奥特维(688516)</th>\n      <td>4.760400e+08</td>\n      <td>1.215850e+09</td>\n      <td>5.933020e+09</td>\n      <td>2.022036e+07</td>\n      <td>9.867000e+07</td>\n      <td>40.1898</td>\n      <td>57.39</td>\n      <td>60.78</td>\n      <td>56.65</td>\n      <td>60.13</td>\n    </tr>\n    <tr>\n      <th>吉贝尔(688566)</th>\n      <td>3.695300e+08</td>\n      <td>1.751950e+09</td>\n      <td>8.515180e+09</td>\n      <td>3.846233e+07</td>\n      <td>1.869416e+08</td>\n      <td>20.8810</td>\n      <td>45.10</td>\n      <td>47.50</td>\n      <td>44.50</td>\n      <td>45.55</td>\n    </tr>\n    <tr>\n      <th>凌志软件(688588)</th>\n      <td>7.155200e+08</td>\n      <td>1.735040e+09</td>\n      <td>1.920448e+10</td>\n      <td>3.613933e+07</td>\n      <td>4.000100e+08</td>\n      <td>41.7319</td>\n      <td>48.00</td>\n      <td>48.50</td>\n      <td>46.14</td>\n      <td>48.01</td>\n    </tr>\n    <tr>\n      <th>金博股份(688598)</th>\n      <td>6.174000e+08</td>\n      <td>1.735160e+09</td>\n      <td>7.592000e+09</td>\n      <td>1.828415e+07</td>\n      <td>8.000000e+07</td>\n      <td>34.3264</td>\n      <td>97.49</td>\n      <td>102.68</td>\n      <td>94.75</td>\n      <td>94.89</td>\n    </tr>\n  </tbody>\n</table>\n<p>26737 rows × 10 columns</p>\n</div>"
     },
     "metadata": {},
     "execution_count": 5
    }
   ],
   "source": [
    "run_pipeline(make_pipeline(), '2020-05-26', '2020-06-03')"
   ]
  }
 ],
 "metadata": {
  "language_info": {
   "codemirror_mode": {
    "name": "ipython",
    "version": 3
   },
   "file_extension": ".py",
   "mimetype": "text/x-python",
   "name": "python",
   "nbconvert_exporter": "python",
   "pygments_lexer": "ipython3",
   "version": "3.7.7-final"
  },
  "orig_nbformat": 2,
  "kernelspec": {
   "name": "python37764bitziplinecondafc6f11bd3b9c4249a9fc63b5c8ae4fcf",
   "display_name": "Python 3.7.7 64-bit ('zipline': conda)"
  }
 },
 "nbformat": 4,
 "nbformat_minor": 2
}