{
 "cells": [
  {
   "cell_type": "code",
   "execution_count": 1,
   "metadata": {
    "ExecuteTime": {
     "end_time": "2019-07-09T01:11:01.441872Z",
     "start_time": "2019-07-09T01:10:59.020523Z"
    }
   },
   "outputs": [],
   "source": [
    "from zipline.pipeline import Pipeline\n",
    "from zipline.research import run_pipeline,symbols,symbol\n",
    "from zipline.pipeline.fundamentals import Fundamentals"
   ]
  },
  {
   "cell_type": "markdown",
   "metadata": {},
   "source": [
    "# 列信息"
   ]
  },
  {
   "cell_type": "code",
   "execution_count": 2,
   "metadata": {
    "ExecuteTime": {
     "end_time": "2019-07-09T01:11:01.613411Z",
     "start_time": "2019-07-09T01:11:01.442867Z"
    }
   },
   "outputs": [
    {
     "output_type": "execute_result",
     "data": {
      "text/plain": "frozenset({BlazeDataSet_0<CN>.A001::bool,\n           BlazeDataSet_0<CN>.A002::bool,\n           BlazeDataSet_0<CN>.A003::bool,\n           BlazeDataSet_0<CN>.A004::bool,\n           BlazeDataSet_0<CN>.A005::bool,\n           BlazeDataSet_0<CN>.A006::bool,\n           BlazeDataSet_0<CN>.A007::bool,\n           BlazeDataSet_0<CN>.A008::bool,\n           BlazeDataSet_0<CN>.A009::bool,\n           BlazeDataSet_0<CN>.A010::bool,\n           BlazeDataSet_0<CN>.A011::bool,\n           BlazeDataSet_0<CN>.A012::bool,\n           BlazeDataSet_0<CN>.A013::bool,\n           BlazeDataSet_0<CN>.A014::bool,\n           BlazeDataSet_0<CN>.A015::bool,\n           BlazeDataSet_0<CN>.A016::bool,\n           BlazeDataSet_0<CN>.A017::bool,\n           BlazeDataSet_0<CN>.A018::bool,\n           BlazeDataSet_0<CN>.A019::bool,\n           BlazeDataSet_0<CN>.A020::bool,\n           BlazeDataSet_0<CN>.A021::bool,\n           BlazeDataSet_0<CN>.A022::bool,\n           BlazeDataSet_0<CN>.A023::bool,\n           BlazeDataSet_0<CN>.A024::bool,\n           BlazeDataSet_0<CN>.A025::bool,\n           BlazeDataSet_0<CN>.A026::bool,\n           BlazeDataSet_0<CN>.A027::bool,\n           BlazeDataSet_0<CN>.A028::bool,\n           BlazeDataSet_0<CN>.A029::bool,\n           BlazeDataSet_0<CN>.A030::bool,\n           BlazeDataSet_0<CN>.A031::bool,\n           BlazeDataSet_0<CN>.A032::bool,\n           BlazeDataSet_0<CN>.A033::bool,\n           BlazeDataSet_0<CN>.A034::bool,\n           BlazeDataSet_0<CN>.A035::bool,\n           BlazeDataSet_0<CN>.A036::bool,\n           BlazeDataSet_0<CN>.A037::bool,\n           BlazeDataSet_0<CN>.A038::bool,\n           BlazeDataSet_0<CN>.A039::bool,\n           BlazeDataSet_0<CN>.A040::bool,\n           BlazeDataSet_0<CN>.A041::bool,\n           BlazeDataSet_0<CN>.A042::bool,\n           BlazeDataSet_0<CN>.A043::bool,\n           BlazeDataSet_0<CN>.A044::bool,\n           BlazeDataSet_0<CN>.A045::bool,\n           BlazeDataSet_0<CN>.A046::bool,\n           BlazeDataSet_0<CN>.A047::bool,\n           BlazeDataSet_0<CN>.A048::bool,\n           BlazeDataSet_0<CN>.A049::bool,\n           BlazeDataSet_0<CN>.A050::bool,\n           BlazeDataSet_0<CN>.A051::bool,\n           BlazeDataSet_0<CN>.A052::bool,\n           BlazeDataSet_0<CN>.A053::bool,\n           BlazeDataSet_0<CN>.A054::bool,\n           BlazeDataSet_0<CN>.A055::bool,\n           BlazeDataSet_0<CN>.A056::bool,\n           BlazeDataSet_0<CN>.A057::bool,\n           BlazeDataSet_0<CN>.A058::bool,\n           BlazeDataSet_0<CN>.A059::bool,\n           BlazeDataSet_0<CN>.A060::bool,\n           BlazeDataSet_0<CN>.A061::bool,\n           BlazeDataSet_0<CN>.A062::bool,\n           BlazeDataSet_0<CN>.A063::bool,\n           BlazeDataSet_0<CN>.A064::bool,\n           BlazeDataSet_0<CN>.A065::bool,\n           BlazeDataSet_0<CN>.A066::bool,\n           BlazeDataSet_0<CN>.A067::bool,\n           BlazeDataSet_0<CN>.A068::bool,\n           BlazeDataSet_0<CN>.A069::bool,\n           BlazeDataSet_0<CN>.A070::bool,\n           BlazeDataSet_0<CN>.A071::bool,\n           BlazeDataSet_0<CN>.A072::bool,\n           BlazeDataSet_0<CN>.A073::bool,\n           BlazeDataSet_0<CN>.A074::bool,\n           BlazeDataSet_0<CN>.A075::bool,\n           BlazeDataSet_0<CN>.A076::bool,\n           BlazeDataSet_0<CN>.A077::bool,\n           BlazeDataSet_0<CN>.A078::bool,\n           BlazeDataSet_0<CN>.A079::bool,\n           BlazeDataSet_0<CN>.A080::bool,\n           BlazeDataSet_0<CN>.A081::bool,\n           BlazeDataSet_0<CN>.A082::bool,\n           BlazeDataSet_0<CN>.A083::bool,\n           BlazeDataSet_0<CN>.A084::bool,\n           BlazeDataSet_0<CN>.A085::bool,\n           BlazeDataSet_0<CN>.A086::bool,\n           BlazeDataSet_0<CN>.A087::bool,\n           BlazeDataSet_0<CN>.A088::bool,\n           BlazeDataSet_0<CN>.A089::bool,\n           BlazeDataSet_0<CN>.A090::bool,\n           BlazeDataSet_0<CN>.A091::bool,\n           BlazeDataSet_0<CN>.A092::bool,\n           BlazeDataSet_0<CN>.A093::bool,\n           BlazeDataSet_0<CN>.A094::bool,\n           BlazeDataSet_0<CN>.A095::bool,\n           BlazeDataSet_0<CN>.A096::bool,\n           BlazeDataSet_0<CN>.A097::bool,\n           BlazeDataSet_0<CN>.A098::bool,\n           BlazeDataSet_0<CN>.A099::bool,\n           BlazeDataSet_0<CN>.A100::bool,\n           BlazeDataSet_0<CN>.A101::bool,\n           BlazeDataSet_0<CN>.A102::bool,\n           BlazeDataSet_0<CN>.A103::bool,\n           BlazeDataSet_0<CN>.A104::bool,\n           BlazeDataSet_0<CN>.A105::bool,\n           BlazeDataSet_0<CN>.A106::bool,\n           BlazeDataSet_0<CN>.A107::bool,\n           BlazeDataSet_0<CN>.A108::bool,\n           BlazeDataSet_0<CN>.A109::bool,\n           BlazeDataSet_0<CN>.A110::bool,\n           BlazeDataSet_0<CN>.A111::bool,\n           BlazeDataSet_0<CN>.A112::bool,\n           BlazeDataSet_0<CN>.A113::bool,\n           BlazeDataSet_0<CN>.A114::bool,\n           BlazeDataSet_0<CN>.A115::bool,\n           BlazeDataSet_0<CN>.A116::bool,\n           BlazeDataSet_0<CN>.A117::bool,\n           BlazeDataSet_0<CN>.A118::bool,\n           BlazeDataSet_0<CN>.A119::bool,\n           BlazeDataSet_0<CN>.A120::bool,\n           BlazeDataSet_0<CN>.A121::bool,\n           BlazeDataSet_0<CN>.A122::bool,\n           BlazeDataSet_0<CN>.A123::bool,\n           BlazeDataSet_0<CN>.A124::bool,\n           BlazeDataSet_0<CN>.A125::bool,\n           BlazeDataSet_0<CN>.A126::bool,\n           BlazeDataSet_0<CN>.A127::bool,\n           BlazeDataSet_0<CN>.A128::bool,\n           BlazeDataSet_0<CN>.A129::bool,\n           BlazeDataSet_0<CN>.A130::bool,\n           BlazeDataSet_0<CN>.A131::bool,\n           BlazeDataSet_0<CN>.A132::bool,\n           BlazeDataSet_0<CN>.A133::bool,\n           BlazeDataSet_0<CN>.A134::bool,\n           BlazeDataSet_0<CN>.A135::bool,\n           BlazeDataSet_0<CN>.A136::bool,\n           BlazeDataSet_0<CN>.A137::bool,\n           BlazeDataSet_0<CN>.A138::bool,\n           BlazeDataSet_0<CN>.A139::bool,\n           BlazeDataSet_0<CN>.A140::bool,\n           BlazeDataSet_0<CN>.A141::bool,\n           BlazeDataSet_0<CN>.A142::bool,\n           BlazeDataSet_0<CN>.A143::bool,\n           BlazeDataSet_0<CN>.A144::bool,\n           BlazeDataSet_0<CN>.A145::bool,\n           BlazeDataSet_0<CN>.A146::bool,\n           BlazeDataSet_0<CN>.A147::bool,\n           BlazeDataSet_0<CN>.A148::bool,\n           BlazeDataSet_0<CN>.A149::bool,\n           BlazeDataSet_0<CN>.A150::bool,\n           BlazeDataSet_0<CN>.A151::bool,\n           BlazeDataSet_0<CN>.A152::bool,\n           BlazeDataSet_0<CN>.A153::bool,\n           BlazeDataSet_0<CN>.A154::bool,\n           BlazeDataSet_0<CN>.A155::bool,\n           BlazeDataSet_0<CN>.A156::bool,\n           BlazeDataSet_0<CN>.A157::bool,\n           BlazeDataSet_0<CN>.A158::bool,\n           BlazeDataSet_0<CN>.A159::bool,\n           BlazeDataSet_0<CN>.A160::bool,\n           BlazeDataSet_0<CN>.A161::bool,\n           BlazeDataSet_0<CN>.A162::bool,\n           BlazeDataSet_0<CN>.A163::bool,\n           BlazeDataSet_0<CN>.A164::bool,\n           BlazeDataSet_0<CN>.A165::bool,\n           BlazeDataSet_0<CN>.A166::bool,\n           BlazeDataSet_0<CN>.A167::bool,\n           BlazeDataSet_0<CN>.A168::bool,\n           BlazeDataSet_0<CN>.A169::bool,\n           BlazeDataSet_0<CN>.A170::bool,\n           BlazeDataSet_0<CN>.A171::bool,\n           BlazeDataSet_0<CN>.A172::bool,\n           BlazeDataSet_0<CN>.A173::bool,\n           BlazeDataSet_0<CN>.A174::bool,\n           BlazeDataSet_0<CN>.A175::bool,\n           BlazeDataSet_0<CN>.A176::bool,\n           BlazeDataSet_0<CN>.A177::bool,\n           BlazeDataSet_0<CN>.A178::bool,\n           BlazeDataSet_0<CN>.A179::bool,\n           BlazeDataSet_0<CN>.A180::bool,\n           BlazeDataSet_0<CN>.A181::bool,\n           BlazeDataSet_0<CN>.A182::bool,\n           BlazeDataSet_0<CN>.A183::bool,\n           BlazeDataSet_0<CN>.A184::bool,\n           BlazeDataSet_0<CN>.A185::bool,\n           BlazeDataSet_0<CN>.A186::bool,\n           BlazeDataSet_0<CN>.A187::bool,\n           BlazeDataSet_0<CN>.A188::bool,\n           BlazeDataSet_0<CN>.A189::bool,\n           BlazeDataSet_0<CN>.A190::bool,\n           BlazeDataSet_0<CN>.A191::bool,\n           BlazeDataSet_0<CN>.A192::bool,\n           BlazeDataSet_0<CN>.A193::bool,\n           BlazeDataSet_0<CN>.A194::bool,\n           BlazeDataSet_0<CN>.A195::bool,\n           BlazeDataSet_0<CN>.A196::bool,\n           BlazeDataSet_0<CN>.A197::bool,\n           BlazeDataSet_0<CN>.A198::bool,\n           BlazeDataSet_0<CN>.A199::bool,\n           BlazeDataSet_0<CN>.A200::bool,\n           BlazeDataSet_0<CN>.A201::bool,\n           BlazeDataSet_0<CN>.A202::bool,\n           BlazeDataSet_0<CN>.A203::bool,\n           BlazeDataSet_0<CN>.A204::bool,\n           BlazeDataSet_0<CN>.A205::bool,\n           BlazeDataSet_0<CN>.A206::bool,\n           BlazeDataSet_0<CN>.A207::bool,\n           BlazeDataSet_0<CN>.A208::bool,\n           BlazeDataSet_0<CN>.A209::bool,\n           BlazeDataSet_0<CN>.A210::bool,\n           BlazeDataSet_0<CN>.A211::bool,\n           BlazeDataSet_0<CN>.A212::bool,\n           BlazeDataSet_0<CN>.A213::bool,\n           BlazeDataSet_0<CN>.A214::bool,\n           BlazeDataSet_0<CN>.A215::bool,\n           BlazeDataSet_0<CN>.A216::bool,\n           BlazeDataSet_0<CN>.A217::bool,\n           BlazeDataSet_0<CN>.A218::bool,\n           BlazeDataSet_0<CN>.A219::bool,\n           BlazeDataSet_0<CN>.A220::bool,\n           BlazeDataSet_0<CN>.A221::bool,\n           BlazeDataSet_0<CN>.A222::bool,\n           BlazeDataSet_0<CN>.A223::bool,\n           BlazeDataSet_0<CN>.A224::bool,\n           BlazeDataSet_0<CN>.A225::bool,\n           BlazeDataSet_0<CN>.A226::bool,\n           BlazeDataSet_0<CN>.A227::bool,\n           BlazeDataSet_0<CN>.A228::bool,\n           BlazeDataSet_0<CN>.A229::bool,\n           BlazeDataSet_0<CN>.A230::bool,\n           BlazeDataSet_0<CN>.A231::bool,\n           BlazeDataSet_0<CN>.A232::bool,\n           BlazeDataSet_0<CN>.A233::bool,\n           BlazeDataSet_0<CN>.A234::bool,\n           BlazeDataSet_0<CN>.A235::bool,\n           BlazeDataSet_0<CN>.A236::bool,\n           BlazeDataSet_0<CN>.A237::bool,\n           BlazeDataSet_0<CN>.A238::bool,\n           BlazeDataSet_0<CN>.A239::bool,\n           BlazeDataSet_0<CN>.A240::bool,\n           BlazeDataSet_0<CN>.A241::bool,\n           BlazeDataSet_0<CN>.A242::bool,\n           BlazeDataSet_0<CN>.A243::bool,\n           BlazeDataSet_0<CN>.A244::bool,\n           BlazeDataSet_0<CN>.A245::bool,\n           BlazeDataSet_0<CN>.A246::bool,\n           BlazeDataSet_0<CN>.A247::bool,\n           BlazeDataSet_0<CN>.A248::bool,\n           BlazeDataSet_0<CN>.A249::bool,\n           BlazeDataSet_0<CN>.A250::bool,\n           BlazeDataSet_0<CN>.asof_date::datetime64[ns],\n           BlazeDataSet_0<CN>.sector_code::int64,\n           BlazeDataSet_0<CN>.super_sector_code::int64,\n           BlazeDataSet_0<CN>.sw_sector::int64,\n           BlazeDataSet_0<CN>.上市地点::object,\n           BlazeDataSet_0<CN>.上市日期::datetime64[ns],\n           BlazeDataSet_0<CN>.上市状态::object,\n           BlazeDataSet_0<CN>.会计师事务所::object,\n           BlazeDataSet_0<CN>.国证一级行业::object,\n           BlazeDataSet_0<CN>.国证一级行业编码::object,\n           BlazeDataSet_0<CN>.国证三级行业::object,\n           BlazeDataSet_0<CN>.国证三级行业编码::object,\n           BlazeDataSet_0<CN>.国证二级行业::object,\n           BlazeDataSet_0<CN>.国证二级行业编码::object,\n           BlazeDataSet_0<CN>.国证四级行业::object,\n           BlazeDataSet_0<CN>.国证四级行业编码::object,\n           BlazeDataSet_0<CN>.律师事务所::object,\n           BlazeDataSet_0<CN>.注册资本::float64,\n           BlazeDataSet_0<CN>.注册资本十分位数::int64,\n           BlazeDataSet_0<CN>.申万一级行业::object,\n           BlazeDataSet_0<CN>.申万一级行业编码::object,\n           BlazeDataSet_0<CN>.申万三级行业::object,\n           BlazeDataSet_0<CN>.申万三级行业编码::object,\n           BlazeDataSet_0<CN>.申万二级行业::object,\n           BlazeDataSet_0<CN>.申万二级行业编码::object,\n           BlazeDataSet_0<CN>.申万行业一级名称::object,\n           BlazeDataSet_0<CN>.申万行业三级名称::object,\n           BlazeDataSet_0<CN>.申万行业二级名称::object,\n           BlazeDataSet_0<CN>.证监会一级行业::object,\n           BlazeDataSet_0<CN>.证监会一级行业名称::object,\n           BlazeDataSet_0<CN>.证监会一级行业编码::object,\n           BlazeDataSet_0<CN>.证监会二级行业::object,\n           BlazeDataSet_0<CN>.证监会二级行业名称::object,\n           BlazeDataSet_0<CN>.证监会二级行业编码::object})"
     },
     "metadata": {},
     "execution_count": 2
    }
   ],
   "source": [
    "Fundamentals.info.columns"
   ]
  },
  {
   "cell_type": "markdown",
   "metadata": {},
   "source": [
    "# 注册资本"
   ]
  },
  {
   "cell_type": "code",
   "execution_count": 3,
   "metadata": {
    "ExecuteTime": {
     "end_time": "2019-07-09T01:11:01.614408Z",
     "start_time": "2019-07-09T01:10:58.885Z"
    }
   },
   "outputs": [
    {
     "output_type": "error",
     "ename": "UnsupportedPipelineOutput",
     "evalue": "Cannot add column '注册资本' with term Latest([BlazeDataSet_0<CN>.注册资本], 1). Adding slices or single-column-output terms as pipeline columns is not currently supported.",
     "traceback": [
      "\u001b[1;31m---------------------------------------------------------------------------\u001b[0m",
      "\u001b[1;31mUnsupportedPipelineOutput\u001b[0m                 Traceback (most recent call last)",
      "\u001b[1;32m<ipython-input-3-42a6143ced24>\u001b[0m in \u001b[0;36m<module>\u001b[1;34m\u001b[0m\n\u001b[0;32m      6\u001b[0m \u001b[1;33m\u001b[0m\u001b[0m\n\u001b[0;32m      7\u001b[0m data_output = run_pipeline(\n\u001b[1;32m----> 8\u001b[1;33m     \u001b[0mmake_pipeline\u001b[0m\u001b[1;33m(\u001b[0m\u001b[1;33m)\u001b[0m\u001b[1;33m,\u001b[0m\u001b[1;33m\u001b[0m\u001b[1;33m\u001b[0m\u001b[0m\n\u001b[0m\u001b[0;32m      9\u001b[0m     \u001b[0mstart_date\u001b[0m\u001b[1;33m=\u001b[0m\u001b[1;34m'2018-01-10'\u001b[0m\u001b[1;33m,\u001b[0m\u001b[1;33m\u001b[0m\u001b[1;33m\u001b[0m\u001b[0m\n\u001b[0;32m     10\u001b[0m     \u001b[0mend_date\u001b[0m\u001b[1;33m=\u001b[0m\u001b[1;34m'2018-01-10'\u001b[0m\u001b[1;33m\u001b[0m\u001b[1;33m\u001b[0m\u001b[0m\n",
      "\u001b[1;32m<ipython-input-3-42a6143ced24>\u001b[0m in \u001b[0;36mmake_pipeline\u001b[1;34m()\u001b[0m\n\u001b[0;32m      2\u001b[0m     return Pipeline(columns={\n\u001b[0;32m      3\u001b[0m         \u001b[1;34m'注册资本'\u001b[0m\u001b[1;33m:\u001b[0m \u001b[0mFundamentals\u001b[0m\u001b[1;33m.\u001b[0m\u001b[0minfo\u001b[0m\u001b[1;33m.\u001b[0m\u001b[0m注册资本\u001b[0m\u001b[1;33m.\u001b[0m\u001b[0mlatest\u001b[0m\u001b[1;33m,\u001b[0m\u001b[1;33m\u001b[0m\u001b[1;33m\u001b[0m\u001b[0m\n\u001b[1;32m----> 4\u001b[1;33m         \u001b[1;34m'注册资本十分位数'\u001b[0m\u001b[1;33m:\u001b[0m \u001b[0mFundamentals\u001b[0m\u001b[1;33m.\u001b[0m\u001b[0minfo\u001b[0m\u001b[1;33m.\u001b[0m\u001b[0m注册资本十分位数\u001b[0m\u001b[1;33m.\u001b[0m\u001b[0mlatest\u001b[0m\u001b[1;33m,\u001b[0m\u001b[1;33m\u001b[0m\u001b[1;33m\u001b[0m\u001b[0m\n\u001b[0m\u001b[0;32m      5\u001b[0m     })\n\u001b[0;32m      6\u001b[0m \u001b[1;33m\u001b[0m\u001b[0m\n",
      "\u001b[1;32mc:\\users\\liude\\repos\\zipline\\zipline\\pipeline\\pipeline.py\u001b[0m in \u001b[0;36m__init__\u001b[1;34m(self, columns, screen, domain)\u001b[0m\n\u001b[0;32m     44\u001b[0m         \u001b[0mdomain\u001b[0m\u001b[1;33m=\u001b[0m\u001b[0mDomain\u001b[0m\u001b[1;33m\u001b[0m\u001b[1;33m\u001b[0m\u001b[0m\n\u001b[0;32m     45\u001b[0m     )\n\u001b[1;32m---> 46\u001b[1;33m     \u001b[1;32mdef\u001b[0m \u001b[0m__init__\u001b[0m\u001b[1;33m(\u001b[0m\u001b[0mself\u001b[0m\u001b[1;33m,\u001b[0m \u001b[0mcolumns\u001b[0m\u001b[1;33m=\u001b[0m\u001b[1;32mNone\u001b[0m\u001b[1;33m,\u001b[0m \u001b[0mscreen\u001b[0m\u001b[1;33m=\u001b[0m\u001b[1;32mNone\u001b[0m\u001b[1;33m,\u001b[0m \u001b[0mdomain\u001b[0m\u001b[1;33m=\u001b[0m\u001b[0mGENERIC\u001b[0m\u001b[1;33m)\u001b[0m\u001b[1;33m:\u001b[0m\u001b[1;33m\u001b[0m\u001b[1;33m\u001b[0m\u001b[0m\n\u001b[0m\u001b[0;32m     47\u001b[0m         \u001b[1;32mif\u001b[0m \u001b[0mcolumns\u001b[0m \u001b[1;32mis\u001b[0m \u001b[1;32mNone\u001b[0m\u001b[1;33m:\u001b[0m\u001b[1;33m\u001b[0m\u001b[1;33m\u001b[0m\u001b[0m\n\u001b[0;32m     48\u001b[0m             \u001b[0mcolumns\u001b[0m \u001b[1;33m=\u001b[0m \u001b[1;33m{\u001b[0m\u001b[1;33m}\u001b[0m\u001b[1;33m\u001b[0m\u001b[1;33m\u001b[0m\u001b[0m\n",
      "\u001b[1;32mc:\\users\\liude\\repos\\zipline\\zipline\\pipeline\\pipeline.py\u001b[0m in \u001b[0;36m__init__\u001b[1;34m(self, columns, screen, domain)\u001b[0m\n\u001b[0;32m     50\u001b[0m         \u001b[0mvalidate_column\u001b[0m \u001b[1;33m=\u001b[0m \u001b[0mself\u001b[0m\u001b[1;33m.\u001b[0m\u001b[0mvalidate_column\u001b[0m\u001b[1;33m\u001b[0m\u001b[1;33m\u001b[0m\u001b[0m\n\u001b[0;32m     51\u001b[0m         \u001b[1;32mfor\u001b[0m \u001b[0mcolumn_name\u001b[0m\u001b[1;33m,\u001b[0m \u001b[0mterm\u001b[0m \u001b[1;32min\u001b[0m \u001b[0mcolumns\u001b[0m\u001b[1;33m.\u001b[0m\u001b[0mitems\u001b[0m\u001b[1;33m(\u001b[0m\u001b[1;33m)\u001b[0m\u001b[1;33m:\u001b[0m\u001b[1;33m\u001b[0m\u001b[1;33m\u001b[0m\u001b[0m\n\u001b[1;32m---> 52\u001b[1;33m             \u001b[0mvalidate_column\u001b[0m\u001b[1;33m(\u001b[0m\u001b[0mcolumn_name\u001b[0m\u001b[1;33m,\u001b[0m \u001b[0mterm\u001b[0m\u001b[1;33m)\u001b[0m\u001b[1;33m\u001b[0m\u001b[1;33m\u001b[0m\u001b[0m\n\u001b[0m\u001b[0;32m     53\u001b[0m             \u001b[1;32mif\u001b[0m \u001b[1;32mnot\u001b[0m \u001b[0misinstance\u001b[0m\u001b[1;33m(\u001b[0m\u001b[0mterm\u001b[0m\u001b[1;33m,\u001b[0m \u001b[0mComputableTerm\u001b[0m\u001b[1;33m)\u001b[0m\u001b[1;33m:\u001b[0m\u001b[1;33m\u001b[0m\u001b[1;33m\u001b[0m\u001b[0m\n\u001b[0;32m     54\u001b[0m                 raise TypeError(\n",
      "\u001b[1;32mc:\\users\\liude\\repos\\zipline\\zipline\\pipeline\\pipeline.py\u001b[0m in \u001b[0;36mvalidate_column\u001b[1;34m(column_name, term)\u001b[0m\n\u001b[0;32m    267\u001b[0m     \u001b[1;32mdef\u001b[0m \u001b[0mvalidate_column\u001b[0m\u001b[1;33m(\u001b[0m\u001b[0mcolumn_name\u001b[0m\u001b[1;33m,\u001b[0m \u001b[0mterm\u001b[0m\u001b[1;33m)\u001b[0m\u001b[1;33m:\u001b[0m\u001b[1;33m\u001b[0m\u001b[1;33m\u001b[0m\u001b[0m\n\u001b[0;32m    268\u001b[0m         \u001b[1;32mif\u001b[0m \u001b[0mterm\u001b[0m\u001b[1;33m.\u001b[0m\u001b[0mndim\u001b[0m \u001b[1;33m==\u001b[0m \u001b[1;36m1\u001b[0m\u001b[1;33m:\u001b[0m\u001b[1;33m\u001b[0m\u001b[1;33m\u001b[0m\u001b[0m\n\u001b[1;32m--> 269\u001b[1;33m             \u001b[1;32mraise\u001b[0m \u001b[0mUnsupportedPipelineOutput\u001b[0m\u001b[1;33m(\u001b[0m\u001b[0mcolumn_name\u001b[0m\u001b[1;33m=\u001b[0m\u001b[0mcolumn_name\u001b[0m\u001b[1;33m,\u001b[0m \u001b[0mterm\u001b[0m\u001b[1;33m=\u001b[0m\u001b[0mterm\u001b[0m\u001b[1;33m)\u001b[0m\u001b[1;33m\u001b[0m\u001b[1;33m\u001b[0m\u001b[0m\n\u001b[0m\u001b[0;32m    270\u001b[0m \u001b[1;33m\u001b[0m\u001b[0m\n\u001b[0;32m    271\u001b[0m     \u001b[1;33m@\u001b[0m\u001b[0mproperty\u001b[0m\u001b[1;33m\u001b[0m\u001b[1;33m\u001b[0m\u001b[0m\n",
      "\u001b[1;32mc:\\users\\liude\\repos\\zipline\\zipline\\pipeline\\pipeline.py\u001b[0m in \u001b[0;36mvalidate_column\u001b[1;34m(column_name, term)\u001b[0m\n\u001b[0;32m    267\u001b[0m     \u001b[1;32mdef\u001b[0m \u001b[0mvalidate_column\u001b[0m\u001b[1;33m(\u001b[0m\u001b[0mcolumn_name\u001b[0m\u001b[1;33m,\u001b[0m \u001b[0mterm\u001b[0m\u001b[1;33m)\u001b[0m\u001b[1;33m:\u001b[0m\u001b[1;33m\u001b[0m\u001b[1;33m\u001b[0m\u001b[0m\n\u001b[0;32m    268\u001b[0m         \u001b[1;32mif\u001b[0m \u001b[0mterm\u001b[0m\u001b[1;33m.\u001b[0m\u001b[0mndim\u001b[0m \u001b[1;33m==\u001b[0m \u001b[1;36m1\u001b[0m\u001b[1;33m:\u001b[0m\u001b[1;33m\u001b[0m\u001b[1;33m\u001b[0m\u001b[0m\n\u001b[1;32m--> 269\u001b[1;33m             \u001b[1;32mraise\u001b[0m \u001b[0mUnsupportedPipelineOutput\u001b[0m\u001b[1;33m(\u001b[0m\u001b[0mcolumn_name\u001b[0m\u001b[1;33m=\u001b[0m\u001b[0mcolumn_name\u001b[0m\u001b[1;33m,\u001b[0m \u001b[0mterm\u001b[0m\u001b[1;33m=\u001b[0m\u001b[0mterm\u001b[0m\u001b[1;33m)\u001b[0m\u001b[1;33m\u001b[0m\u001b[1;33m\u001b[0m\u001b[0m\n\u001b[0m\u001b[0;32m    270\u001b[0m \u001b[1;33m\u001b[0m\u001b[0m\n\u001b[0;32m    271\u001b[0m     \u001b[1;33m@\u001b[0m\u001b[0mproperty\u001b[0m\u001b[1;33m\u001b[0m\u001b[1;33m\u001b[0m\u001b[0m\n",
      "\u001b[1;31mUnsupportedPipelineOutput\u001b[0m: Cannot add column '注册资本' with term Latest([BlazeDataSet_0<CN>.注册资本], 1). Adding slices or single-column-output terms as pipeline columns is not currently supported."
     ]
    }
   ],
   "source": [
    "def make_pipeline():\n",
    "    return Pipeline(columns={\n",
    "        '注册资本': Fundamentals.info.注册资本.latest,\n",
    "        '注册资本十分位数': Fundamentals.info.注册资本十分位数.latest,\n",
    "    })\n",
    "\n",
    "data_output = run_pipeline(\n",
    "    make_pipeline(),\n",
    "    start_date='2018-01-10',\n",
    "    end_date='2018-01-10'\n",
    ")\n",
    "\n",
    "data_output.tail()"
   ]
  },
  {
   "cell_type": "markdown",
   "metadata": {},
   "source": [
    "# 部门及超级部门"
   ]
  },
  {
   "cell_type": "code",
   "execution_count": 4,
   "metadata": {
    "ExecuteTime": {
     "end_time": "2019-07-09T01:11:01.614408Z",
     "start_time": "2019-07-09T01:10:58.890Z"
    }
   },
   "outputs": [
    {
     "output_type": "error",
     "ename": "UnsupportedPipelineOutput",
     "evalue": "Cannot add column '部门' with term Latest([BlazeDataSet_0<CN>.sector_code], 1). Adding slices or single-column-output terms as pipeline columns is not currently supported.",
     "traceback": [
      "\u001b[1;31m---------------------------------------------------------------------------\u001b[0m",
      "\u001b[1;31mUnsupportedPipelineOutput\u001b[0m                 Traceback (most recent call last)",
      "\u001b[1;32m<ipython-input-4-831644d0e0b8>\u001b[0m in \u001b[0;36m<module>\u001b[1;34m\u001b[0m\n\u001b[0;32m      6\u001b[0m \u001b[1;33m\u001b[0m\u001b[0m\n\u001b[0;32m      7\u001b[0m data_output = run_pipeline(\n\u001b[1;32m----> 8\u001b[1;33m     \u001b[0mmake_pipeline\u001b[0m\u001b[1;33m(\u001b[0m\u001b[1;33m)\u001b[0m\u001b[1;33m,\u001b[0m\u001b[1;33m\u001b[0m\u001b[1;33m\u001b[0m\u001b[0m\n\u001b[0m\u001b[0;32m      9\u001b[0m     \u001b[0mstart_date\u001b[0m\u001b[1;33m=\u001b[0m\u001b[1;34m'2018-01-10'\u001b[0m\u001b[1;33m,\u001b[0m\u001b[1;33m\u001b[0m\u001b[1;33m\u001b[0m\u001b[0m\n\u001b[0;32m     10\u001b[0m     \u001b[0mend_date\u001b[0m\u001b[1;33m=\u001b[0m\u001b[1;34m'2018-01-10'\u001b[0m\u001b[1;33m\u001b[0m\u001b[1;33m\u001b[0m\u001b[0m\n",
      "\u001b[1;32m<ipython-input-4-831644d0e0b8>\u001b[0m in \u001b[0;36mmake_pipeline\u001b[1;34m()\u001b[0m\n\u001b[0;32m      2\u001b[0m     return Pipeline(columns={\n\u001b[0;32m      3\u001b[0m         \u001b[1;34m'部门'\u001b[0m\u001b[1;33m:\u001b[0m \u001b[0mFundamentals\u001b[0m\u001b[1;33m.\u001b[0m\u001b[0minfo\u001b[0m\u001b[1;33m.\u001b[0m\u001b[0msector_code\u001b[0m\u001b[1;33m.\u001b[0m\u001b[0mlatest\u001b[0m\u001b[1;33m,\u001b[0m\u001b[1;33m\u001b[0m\u001b[1;33m\u001b[0m\u001b[0m\n\u001b[1;32m----> 4\u001b[1;33m         \u001b[1;34m'超级部门'\u001b[0m\u001b[1;33m:\u001b[0m \u001b[0mFundamentals\u001b[0m\u001b[1;33m.\u001b[0m\u001b[0minfo\u001b[0m\u001b[1;33m.\u001b[0m\u001b[0msuper_sector_code\u001b[0m\u001b[1;33m.\u001b[0m\u001b[0mlatest\u001b[0m\u001b[1;33m,\u001b[0m\u001b[1;33m\u001b[0m\u001b[1;33m\u001b[0m\u001b[0m\n\u001b[0m\u001b[0;32m      5\u001b[0m     })\n\u001b[0;32m      6\u001b[0m \u001b[1;33m\u001b[0m\u001b[0m\n",
      "\u001b[1;32mc:\\users\\liude\\repos\\zipline\\zipline\\pipeline\\pipeline.py\u001b[0m in \u001b[0;36m__init__\u001b[1;34m(self, columns, screen, domain)\u001b[0m\n\u001b[0;32m     44\u001b[0m         \u001b[0mdomain\u001b[0m\u001b[1;33m=\u001b[0m\u001b[0mDomain\u001b[0m\u001b[1;33m\u001b[0m\u001b[1;33m\u001b[0m\u001b[0m\n\u001b[0;32m     45\u001b[0m     )\n\u001b[1;32m---> 46\u001b[1;33m     \u001b[1;32mdef\u001b[0m \u001b[0m__init__\u001b[0m\u001b[1;33m(\u001b[0m\u001b[0mself\u001b[0m\u001b[1;33m,\u001b[0m \u001b[0mcolumns\u001b[0m\u001b[1;33m=\u001b[0m\u001b[1;32mNone\u001b[0m\u001b[1;33m,\u001b[0m \u001b[0mscreen\u001b[0m\u001b[1;33m=\u001b[0m\u001b[1;32mNone\u001b[0m\u001b[1;33m,\u001b[0m \u001b[0mdomain\u001b[0m\u001b[1;33m=\u001b[0m\u001b[0mGENERIC\u001b[0m\u001b[1;33m)\u001b[0m\u001b[1;33m:\u001b[0m\u001b[1;33m\u001b[0m\u001b[1;33m\u001b[0m\u001b[0m\n\u001b[0m\u001b[0;32m     47\u001b[0m         \u001b[1;32mif\u001b[0m \u001b[0mcolumns\u001b[0m \u001b[1;32mis\u001b[0m \u001b[1;32mNone\u001b[0m\u001b[1;33m:\u001b[0m\u001b[1;33m\u001b[0m\u001b[1;33m\u001b[0m\u001b[0m\n\u001b[0;32m     48\u001b[0m             \u001b[0mcolumns\u001b[0m \u001b[1;33m=\u001b[0m \u001b[1;33m{\u001b[0m\u001b[1;33m}\u001b[0m\u001b[1;33m\u001b[0m\u001b[1;33m\u001b[0m\u001b[0m\n",
      "\u001b[1;32mc:\\users\\liude\\repos\\zipline\\zipline\\pipeline\\pipeline.py\u001b[0m in \u001b[0;36m__init__\u001b[1;34m(self, columns, screen, domain)\u001b[0m\n\u001b[0;32m     50\u001b[0m         \u001b[0mvalidate_column\u001b[0m \u001b[1;33m=\u001b[0m \u001b[0mself\u001b[0m\u001b[1;33m.\u001b[0m\u001b[0mvalidate_column\u001b[0m\u001b[1;33m\u001b[0m\u001b[1;33m\u001b[0m\u001b[0m\n\u001b[0;32m     51\u001b[0m         \u001b[1;32mfor\u001b[0m \u001b[0mcolumn_name\u001b[0m\u001b[1;33m,\u001b[0m \u001b[0mterm\u001b[0m \u001b[1;32min\u001b[0m \u001b[0mcolumns\u001b[0m\u001b[1;33m.\u001b[0m\u001b[0mitems\u001b[0m\u001b[1;33m(\u001b[0m\u001b[1;33m)\u001b[0m\u001b[1;33m:\u001b[0m\u001b[1;33m\u001b[0m\u001b[1;33m\u001b[0m\u001b[0m\n\u001b[1;32m---> 52\u001b[1;33m             \u001b[0mvalidate_column\u001b[0m\u001b[1;33m(\u001b[0m\u001b[0mcolumn_name\u001b[0m\u001b[1;33m,\u001b[0m \u001b[0mterm\u001b[0m\u001b[1;33m)\u001b[0m\u001b[1;33m\u001b[0m\u001b[1;33m\u001b[0m\u001b[0m\n\u001b[0m\u001b[0;32m     53\u001b[0m             \u001b[1;32mif\u001b[0m \u001b[1;32mnot\u001b[0m \u001b[0misinstance\u001b[0m\u001b[1;33m(\u001b[0m\u001b[0mterm\u001b[0m\u001b[1;33m,\u001b[0m \u001b[0mComputableTerm\u001b[0m\u001b[1;33m)\u001b[0m\u001b[1;33m:\u001b[0m\u001b[1;33m\u001b[0m\u001b[1;33m\u001b[0m\u001b[0m\n\u001b[0;32m     54\u001b[0m                 raise TypeError(\n",
      "\u001b[1;32mc:\\users\\liude\\repos\\zipline\\zipline\\pipeline\\pipeline.py\u001b[0m in \u001b[0;36mvalidate_column\u001b[1;34m(column_name, term)\u001b[0m\n\u001b[0;32m    267\u001b[0m     \u001b[1;32mdef\u001b[0m \u001b[0mvalidate_column\u001b[0m\u001b[1;33m(\u001b[0m\u001b[0mcolumn_name\u001b[0m\u001b[1;33m,\u001b[0m \u001b[0mterm\u001b[0m\u001b[1;33m)\u001b[0m\u001b[1;33m:\u001b[0m\u001b[1;33m\u001b[0m\u001b[1;33m\u001b[0m\u001b[0m\n\u001b[0;32m    268\u001b[0m         \u001b[1;32mif\u001b[0m \u001b[0mterm\u001b[0m\u001b[1;33m.\u001b[0m\u001b[0mndim\u001b[0m \u001b[1;33m==\u001b[0m \u001b[1;36m1\u001b[0m\u001b[1;33m:\u001b[0m\u001b[1;33m\u001b[0m\u001b[1;33m\u001b[0m\u001b[0m\n\u001b[1;32m--> 269\u001b[1;33m             \u001b[1;32mraise\u001b[0m \u001b[0mUnsupportedPipelineOutput\u001b[0m\u001b[1;33m(\u001b[0m\u001b[0mcolumn_name\u001b[0m\u001b[1;33m=\u001b[0m\u001b[0mcolumn_name\u001b[0m\u001b[1;33m,\u001b[0m \u001b[0mterm\u001b[0m\u001b[1;33m=\u001b[0m\u001b[0mterm\u001b[0m\u001b[1;33m)\u001b[0m\u001b[1;33m\u001b[0m\u001b[1;33m\u001b[0m\u001b[0m\n\u001b[0m\u001b[0;32m    270\u001b[0m \u001b[1;33m\u001b[0m\u001b[0m\n\u001b[0;32m    271\u001b[0m     \u001b[1;33m@\u001b[0m\u001b[0mproperty\u001b[0m\u001b[1;33m\u001b[0m\u001b[1;33m\u001b[0m\u001b[0m\n",
      "\u001b[1;32mc:\\users\\liude\\repos\\zipline\\zipline\\pipeline\\pipeline.py\u001b[0m in \u001b[0;36mvalidate_column\u001b[1;34m(column_name, term)\u001b[0m\n\u001b[0;32m    267\u001b[0m     \u001b[1;32mdef\u001b[0m \u001b[0mvalidate_column\u001b[0m\u001b[1;33m(\u001b[0m\u001b[0mcolumn_name\u001b[0m\u001b[1;33m,\u001b[0m \u001b[0mterm\u001b[0m\u001b[1;33m)\u001b[0m\u001b[1;33m:\u001b[0m\u001b[1;33m\u001b[0m\u001b[1;33m\u001b[0m\u001b[0m\n\u001b[0;32m    268\u001b[0m         \u001b[1;32mif\u001b[0m \u001b[0mterm\u001b[0m\u001b[1;33m.\u001b[0m\u001b[0mndim\u001b[0m \u001b[1;33m==\u001b[0m \u001b[1;36m1\u001b[0m\u001b[1;33m:\u001b[0m\u001b[1;33m\u001b[0m\u001b[1;33m\u001b[0m\u001b[0m\n\u001b[1;32m--> 269\u001b[1;33m             \u001b[1;32mraise\u001b[0m \u001b[0mUnsupportedPipelineOutput\u001b[0m\u001b[1;33m(\u001b[0m\u001b[0mcolumn_name\u001b[0m\u001b[1;33m=\u001b[0m\u001b[0mcolumn_name\u001b[0m\u001b[1;33m,\u001b[0m \u001b[0mterm\u001b[0m\u001b[1;33m=\u001b[0m\u001b[0mterm\u001b[0m\u001b[1;33m)\u001b[0m\u001b[1;33m\u001b[0m\u001b[1;33m\u001b[0m\u001b[0m\n\u001b[0m\u001b[0;32m    270\u001b[0m \u001b[1;33m\u001b[0m\u001b[0m\n\u001b[0;32m    271\u001b[0m     \u001b[1;33m@\u001b[0m\u001b[0mproperty\u001b[0m\u001b[1;33m\u001b[0m\u001b[1;33m\u001b[0m\u001b[0m\n",
      "\u001b[1;31mUnsupportedPipelineOutput\u001b[0m: Cannot add column '部门' with term Latest([BlazeDataSet_0<CN>.sector_code], 1). Adding slices or single-column-output terms as pipeline columns is not currently supported."
     ]
    }
   ],
   "source": [
    "def make_pipeline():\n",
    "    return Pipeline(columns={\n",
    "        '部门': Fundamentals.info.sector_code.latest,\n",
    "        '超级部门': Fundamentals.info.super_sector_code.latest,\n",
    "    })\n",
    "\n",
    "data_output = run_pipeline(\n",
    "    make_pipeline(),\n",
    "    start_date='2018-01-10',\n",
    "    end_date='2018-01-10'\n",
    ")\n",
    "\n",
    "data_output.tail()"
   ]
  },
  {
   "cell_type": "markdown",
   "metadata": {},
   "source": [
    "# 上市日期"
   ]
  },
  {
   "cell_type": "code",
   "execution_count": 5,
   "metadata": {
    "ExecuteTime": {
     "end_time": "2019-07-09T01:11:01.615405Z",
     "start_time": "2019-07-09T01:10:58.893Z"
    }
   },
   "outputs": [
    {
     "output_type": "execute_result",
     "data": {
      "text/plain": "                                上市日期\ndate                                \n2018-01-02 00:00:00+00:00 2013-09-18\n2018-01-03 00:00:00+00:00 2013-09-18\n2018-01-04 00:00:00+00:00 2013-09-18\n2018-01-05 00:00:00+00:00 2013-09-18\n2018-01-08 00:00:00+00:00 2013-09-18\n2018-01-09 00:00:00+00:00 2013-09-18\n2018-01-10 00:00:00+00:00 2013-09-18",
      "text/html": "<div>\n<style scoped>\n    .dataframe tbody tr th:only-of-type {\n        vertical-align: middle;\n    }\n\n    .dataframe tbody tr th {\n        vertical-align: top;\n    }\n\n    .dataframe thead th {\n        text-align: right;\n    }\n</style>\n<table border=\"1\" class=\"dataframe\">\n  <thead>\n    <tr style=\"text-align: right;\">\n      <th></th>\n      <th>上市日期</th>\n    </tr>\n    <tr>\n      <th>date</th>\n      <th></th>\n    </tr>\n  </thead>\n  <tbody>\n    <tr>\n      <th>2018-01-02 00:00:00+00:00</th>\n      <td>2013-09-18</td>\n    </tr>\n    <tr>\n      <th>2018-01-03 00:00:00+00:00</th>\n      <td>2013-09-18</td>\n    </tr>\n    <tr>\n      <th>2018-01-04 00:00:00+00:00</th>\n      <td>2013-09-18</td>\n    </tr>\n    <tr>\n      <th>2018-01-05 00:00:00+00:00</th>\n      <td>2013-09-18</td>\n    </tr>\n    <tr>\n      <th>2018-01-08 00:00:00+00:00</th>\n      <td>2013-09-18</td>\n    </tr>\n    <tr>\n      <th>2018-01-09 00:00:00+00:00</th>\n      <td>2013-09-18</td>\n    </tr>\n    <tr>\n      <th>2018-01-10 00:00:00+00:00</th>\n      <td>2013-09-18</td>\n    </tr>\n  </tbody>\n</table>\n</div>"
     },
     "metadata": {},
     "execution_count": 5
    }
   ],
   "source": [
    "# 1993-05-04\n",
    "def make_pipeline():\n",
    "    return Pipeline(columns={\n",
    "        '上市日期': Fundamentals.info.上市日期.latest,\n",
    "    })\n",
    "\n",
    "data_output = run_pipeline(\n",
    "    make_pipeline(),\n",
    "    start_date='2018-01-01',\n",
    "    end_date='2018-01-10'\n",
    ")\n",
    "\n",
    "data_output.xs(symbol(333), level=1)"
   ]
  },
  {
   "cell_type": "markdown",
   "metadata": {},
   "source": [
    "# 行业分类\n",
    "\n",
    "行业分类静态化，数据为最新行业分类。"
   ]
  },
  {
   "cell_type": "markdown",
   "metadata": {},
   "source": [
    "## 证监会行业分类"
   ]
  },
  {
   "cell_type": "code",
   "execution_count": 6,
   "metadata": {
    "ExecuteTime": {
     "end_time": "2019-07-09T01:11:01.616403Z",
     "start_time": "2019-07-09T01:10:58.895Z"
    }
   },
   "outputs": [
    {
     "output_type": "execute_result",
     "data": {
      "text/plain": "                                           证监会一级行业           证监会二级行业\ndate                      asset                                     \n2018-01-10 00:00:00+00:00 洛阳钼业(603993)         采矿业          有色金属矿采选业\n                          *ST中新(603996)        制造业  计算机、通信和其他电子设备制造业\n                          继峰股份(603997)         制造业             汽车制造业\n                          方盛制药(603998)         制造业             医药制造业\n                          读者传媒(603999)   文化、体育和娱乐业            新闻和出版业",
      "text/html": "<div>\n<style scoped>\n    .dataframe tbody tr th:only-of-type {\n        vertical-align: middle;\n    }\n\n    .dataframe tbody tr th {\n        vertical-align: top;\n    }\n\n    .dataframe thead th {\n        text-align: right;\n    }\n</style>\n<table border=\"1\" class=\"dataframe\">\n  <thead>\n    <tr style=\"text-align: right;\">\n      <th></th>\n      <th></th>\n      <th>证监会一级行业</th>\n      <th>证监会二级行业</th>\n    </tr>\n    <tr>\n      <th>date</th>\n      <th>asset</th>\n      <th></th>\n      <th></th>\n    </tr>\n  </thead>\n  <tbody>\n    <tr>\n      <th rowspan=\"5\" valign=\"top\">2018-01-10 00:00:00+00:00</th>\n      <th>洛阳钼业(603993)</th>\n      <td>采矿业</td>\n      <td>有色金属矿采选业</td>\n    </tr>\n    <tr>\n      <th>*ST中新(603996)</th>\n      <td>制造业</td>\n      <td>计算机、通信和其他电子设备制造业</td>\n    </tr>\n    <tr>\n      <th>继峰股份(603997)</th>\n      <td>制造业</td>\n      <td>汽车制造业</td>\n    </tr>\n    <tr>\n      <th>方盛制药(603998)</th>\n      <td>制造业</td>\n      <td>医药制造业</td>\n    </tr>\n    <tr>\n      <th>读者传媒(603999)</th>\n      <td>文化、体育和娱乐业</td>\n      <td>新闻和出版业</td>\n    </tr>\n  </tbody>\n</table>\n</div>"
     },
     "metadata": {},
     "execution_count": 6
    }
   ],
   "source": [
    "def make_pipeline():\n",
    "    return Pipeline(columns={\n",
    "        '证监会一级行业': Fundamentals.info.证监会一级行业名称.latest,\n",
    "        '证监会二级行业': Fundamentals.info.证监会二级行业名称.latest,\n",
    "    })\n",
    "\n",
    "data_output = run_pipeline(\n",
    "    make_pipeline(),\n",
    "    start_date='2018-01-10',\n",
    "    end_date='2018-01-10'\n",
    ")\n",
    "\n",
    "data_output.tail()"
   ]
  },
  {
   "cell_type": "markdown",
   "metadata": {},
   "source": [
    "## 申万行业分类"
   ]
  },
  {
   "cell_type": "code",
   "execution_count": 7,
   "metadata": {
    "ExecuteTime": {
     "end_time": "2019-07-09T01:11:01.616403Z",
     "start_time": "2019-07-09T01:10:58.900Z"
    }
   },
   "outputs": [
    {
     "output_type": "execute_result",
     "data": {
      "text/plain": "                                        申万一级行业 申万二级行业   申万三级行业\ndate                      asset                               \n2018-01-10 00:00:00+00:00 洛阳钼业(603993)    有色金属   稀有金属  其他稀有小金属\n                          *ST中新(603996)   家用电器   视听器材       彩电\n                          继峰股份(603997)      汽车  汽车零部件    汽车零部件\n                          方盛制药(603998)    医药生物     中药       中药\n                          读者传媒(603999)      传媒   文化传媒     平面媒体",
      "text/html": "<div>\n<style scoped>\n    .dataframe tbody tr th:only-of-type {\n        vertical-align: middle;\n    }\n\n    .dataframe tbody tr th {\n        vertical-align: top;\n    }\n\n    .dataframe thead th {\n        text-align: right;\n    }\n</style>\n<table border=\"1\" class=\"dataframe\">\n  <thead>\n    <tr style=\"text-align: right;\">\n      <th></th>\n      <th></th>\n      <th>申万一级行业</th>\n      <th>申万二级行业</th>\n      <th>申万三级行业</th>\n    </tr>\n    <tr>\n      <th>date</th>\n      <th>asset</th>\n      <th></th>\n      <th></th>\n      <th></th>\n    </tr>\n  </thead>\n  <tbody>\n    <tr>\n      <th rowspan=\"5\" valign=\"top\">2018-01-10 00:00:00+00:00</th>\n      <th>洛阳钼业(603993)</th>\n      <td>有色金属</td>\n      <td>稀有金属</td>\n      <td>其他稀有小金属</td>\n    </tr>\n    <tr>\n      <th>*ST中新(603996)</th>\n      <td>家用电器</td>\n      <td>视听器材</td>\n      <td>彩电</td>\n    </tr>\n    <tr>\n      <th>继峰股份(603997)</th>\n      <td>汽车</td>\n      <td>汽车零部件</td>\n      <td>汽车零部件</td>\n    </tr>\n    <tr>\n      <th>方盛制药(603998)</th>\n      <td>医药生物</td>\n      <td>中药</td>\n      <td>中药</td>\n    </tr>\n    <tr>\n      <th>读者传媒(603999)</th>\n      <td>传媒</td>\n      <td>文化传媒</td>\n      <td>平面媒体</td>\n    </tr>\n  </tbody>\n</table>\n</div>"
     },
     "metadata": {},
     "execution_count": 7
    }
   ],
   "source": [
    "def make_pipeline():\n",
    "    return Pipeline(columns={\n",
    "        '申万一级行业': Fundamentals.info.申万行业一级名称.latest,\n",
    "        '申万二级行业': Fundamentals.info.申万行业二级名称.latest,\n",
    "        '申万三级行业': Fundamentals.info.申万行业三级名称.latest,\n",
    "    })\n",
    "\n",
    "data_output = run_pipeline(\n",
    "    make_pipeline(),\n",
    "    start_date='2018-01-10',\n",
    "    end_date='2018-01-10'\n",
    ")\n",
    "\n",
    "data_output.tail()"
   ]
  },
  {
   "cell_type": "markdown",
   "metadata": {},
   "source": [
    "## 国证行业分类"
   ]
  },
  {
   "cell_type": "code",
   "execution_count": 8,
   "metadata": {
    "ExecuteTime": {
     "end_time": "2019-07-09T01:11:01.617400Z",
     "start_time": "2019-07-09T01:10:58.903Z"
    }
   },
   "outputs": [
    {
     "output_type": "execute_result",
     "data": {
      "text/plain": "                                        国证一级行业    国证二级行业    国证三级行业 国证四级行业\ndate                      asset                                          \n2018-01-10 00:00:00+00:00 洛阳钼业(603993)     原材料      基础材料      有色金属   稀有金属\n                          *ST中新(603996)   可选消费     耐用消费品      家用电器   视听器材\n                          继峰股份(603997)    可选消费  汽车与汽车零配件  汽车零配件与设备  汽车零配件\n                          方盛制药(603998)    医药卫生        制药      化学制剂   化学制剂\n                          读者传媒(603999)    可选消费        传媒        传媒     出版",
      "text/html": "<div>\n<style scoped>\n    .dataframe tbody tr th:only-of-type {\n        vertical-align: middle;\n    }\n\n    .dataframe tbody tr th {\n        vertical-align: top;\n    }\n\n    .dataframe thead th {\n        text-align: right;\n    }\n</style>\n<table border=\"1\" class=\"dataframe\">\n  <thead>\n    <tr style=\"text-align: right;\">\n      <th></th>\n      <th></th>\n      <th>国证一级行业</th>\n      <th>国证二级行业</th>\n      <th>国证三级行业</th>\n      <th>国证四级行业</th>\n    </tr>\n    <tr>\n      <th>date</th>\n      <th>asset</th>\n      <th></th>\n      <th></th>\n      <th></th>\n      <th></th>\n    </tr>\n  </thead>\n  <tbody>\n    <tr>\n      <th rowspan=\"5\" valign=\"top\">2018-01-10 00:00:00+00:00</th>\n      <th>洛阳钼业(603993)</th>\n      <td>原材料</td>\n      <td>基础材料</td>\n      <td>有色金属</td>\n      <td>稀有金属</td>\n    </tr>\n    <tr>\n      <th>*ST中新(603996)</th>\n      <td>可选消费</td>\n      <td>耐用消费品</td>\n      <td>家用电器</td>\n      <td>视听器材</td>\n    </tr>\n    <tr>\n      <th>继峰股份(603997)</th>\n      <td>可选消费</td>\n      <td>汽车与汽车零配件</td>\n      <td>汽车零配件与设备</td>\n      <td>汽车零配件</td>\n    </tr>\n    <tr>\n      <th>方盛制药(603998)</th>\n      <td>医药卫生</td>\n      <td>制药</td>\n      <td>化学制剂</td>\n      <td>化学制剂</td>\n    </tr>\n    <tr>\n      <th>读者传媒(603999)</th>\n      <td>可选消费</td>\n      <td>传媒</td>\n      <td>传媒</td>\n      <td>出版</td>\n    </tr>\n  </tbody>\n</table>\n</div>"
     },
     "metadata": {},
     "execution_count": 8
    }
   ],
   "source": [
    "def make_pipeline():\n",
    "    return Pipeline(columns={\n",
    "        '国证一级行业': Fundamentals.info.国证一级行业.latest,\n",
    "        '国证二级行业': Fundamentals.info.国证二级行业.latest,\n",
    "        '国证三级行业': Fundamentals.info.国证三级行业.latest,\n",
    "        '国证四级行业': Fundamentals.info.国证四级行业.latest,\n",
    "    })\n",
    "\n",
    "data_output = run_pipeline(\n",
    "    make_pipeline(),\n",
    "    start_date='2018-01-10',\n",
    "    end_date='2018-01-10'\n",
    ")\n",
    "\n",
    "data_output.tail()"
   ]
  },
  {
   "cell_type": "markdown",
   "metadata": {},
   "source": [
    "# 地区分类"
   ]
  },
  {
   "cell_type": "code",
   "execution_count": 9,
   "metadata": {
    "ExecuteTime": {
     "end_time": "2019-07-09T01:11:01.617400Z",
     "start_time": "2019-07-09T01:10:58.905Z"
    }
   },
   "outputs": [
    {
     "output_type": "execute_result",
     "data": {
      "text/plain": "                                         省份   城市\ndate                      asset                 \n2018-01-10 00:00:00+00:00 洛阳钼业(603993)   河南  洛阳市\n                          *ST中新(603996)  浙江  台州市\n                          继峰股份(603997)   浙江  宁波市\n                          方盛制药(603998)   湖南  长沙市\n                          读者传媒(603999)   甘肃  兰州市",
      "text/html": "<div>\n<style scoped>\n    .dataframe tbody tr th:only-of-type {\n        vertical-align: middle;\n    }\n\n    .dataframe tbody tr th {\n        vertical-align: top;\n    }\n\n    .dataframe thead th {\n        text-align: right;\n    }\n</style>\n<table border=\"1\" class=\"dataframe\">\n  <thead>\n    <tr style=\"text-align: right;\">\n      <th></th>\n      <th></th>\n      <th>省份</th>\n      <th>城市</th>\n    </tr>\n    <tr>\n      <th>date</th>\n      <th>asset</th>\n      <th></th>\n      <th></th>\n    </tr>\n  </thead>\n  <tbody>\n    <tr>\n      <th rowspan=\"5\" valign=\"top\">2018-01-10 00:00:00+00:00</th>\n      <th>洛阳钼业(603993)</th>\n      <td>河南</td>\n      <td>洛阳市</td>\n    </tr>\n    <tr>\n      <th>*ST中新(603996)</th>\n      <td>浙江</td>\n      <td>台州市</td>\n    </tr>\n    <tr>\n      <th>继峰股份(603997)</th>\n      <td>浙江</td>\n      <td>宁波市</td>\n    </tr>\n    <tr>\n      <th>方盛制药(603998)</th>\n      <td>湖南</td>\n      <td>长沙市</td>\n    </tr>\n    <tr>\n      <th>读者传媒(603999)</th>\n      <td>甘肃</td>\n      <td>兰州市</td>\n    </tr>\n  </tbody>\n</table>\n</div>"
     },
     "metadata": {},
     "execution_count": 9
    }
   ],
   "source": [
    "def make_pipeline():\n",
    "    return Pipeline(columns={\n",
    "        '省份': Fundamentals.info.省份.latest,\n",
    "        '城市': Fundamentals.info.城市.latest,\n",
    "    })\n",
    "\n",
    "data_output = run_pipeline(\n",
    "    make_pipeline(),\n",
    "    start_date='2018-01-10',\n",
    "    end_date='2018-01-10'\n",
    ")\n",
    "\n",
    "data_output.tail()"
   ]
  },
  {
   "cell_type": "markdown",
   "metadata": {},
   "source": [
    "# 股票概念"
   ]
  },
  {
   "cell_type": "markdown",
   "metadata": {},
   "source": [
    "## 映射表"
   ]
  },
  {
   "cell_type": "code",
   "execution_count": 10,
   "metadata": {
    "ExecuteTime": {
     "end_time": "2019-07-09T01:11:01.618398Z",
     "start_time": "2019-07-09T01:10:58.908Z"
    }
   },
   "outputs": [
    {
     "output_type": "execute_result",
     "data": {
      "text/plain": "{'A001': 'H股',\n 'A002': 'QFII持股',\n 'A003': 'ST板块',\n 'A004': '5G概念',\n 'A005': 'IPO受益',\n 'A006': '上证50',\n 'A007': '上证180',\n 'A008': '中证100',\n 'A009': '沪深300',\n 'A010': '预亏预减',\n 'A011': '预盈预增',\n 'A012': '网络游戏',\n 'A013': '基金重仓',\n 'A014': '操盘手80',\n 'A015': '航天军工',\n 'A016': '节能环保',\n 'A017': '次新已开板',\n 'A018': '新材料概念',\n 'A019': '深证100',\n 'A020': '高价',\n 'A021': '中价',\n 'A022': '低价',\n 'A023': '参股金融',\n 'A024': '大盘',\n 'A025': '中盘',\n 'A026': '小盘',\n 'A027': '券商重仓',\n 'A028': '社保重仓',\n 'A029': '振兴东北',\n 'A030': '未股改',\n 'A031': '稀缺资源',\n 'A032': '创投概念',\n 'A033': '基金增仓',\n 'A034': '深成500',\n 'A035': '基金新增',\n 'A036': '大订单',\n 'A037': '成渝特区',\n 'A038': '低市净率',\n 'A039': '高送转',\n 'A040': '股权激励',\n 'A041': '定向增发',\n 'A042': '高铁',\n 'A043': '核电核能',\n 'A044': '迪士尼',\n 'A045': '物联网',\n 'A046': '稀土永磁',\n 'A047': '锂电池',\n 'A048': '云计算',\n 'A049': '增持回购',\n 'A050': '太阳能',\n 'A051': '西部开发',\n 'A052': '黄金概念',\n 'A053': '智能电网',\n 'A054': '明星基金',\n 'A055': '电子商务',\n 'A056': '上证380',\n 'A057': '新能源汽车',\n 'A058': 'LED',\n 'A059': '融资融券',\n 'A060': '参股新三板',\n 'A061': '水利',\n 'A062': '风能',\n 'A063': '涉矿概念',\n 'A064': '金融改革',\n 'A065': '央视50',\n 'A066': '页岩气',\n 'A067': '三沙概念',\n 'A068': '3D打印',\n 'A069': '地热能',\n 'A070': '食品医药安全',\n 'A071': '摘帽',\n 'A072': '芯片',\n 'A073': '中证TMT',\n 'A074': '重组并购',\n 'A075': '美丽中国',\n 'A076': '智慧城市',\n 'A077': '风险警示板',\n 'A078': '智能手机',\n 'A079': '三网融合',\n 'A080': '北斗导航',\n 'A081': '农业机械',\n 'A082': '煤化工',\n 'A083': '特色化工',\n 'A084': '大飞机',\n 'A085': '通用航空',\n 'A086': '海工装备',\n 'A087': '工业4.0',\n 'A088': '特种药',\n 'A089': '海西概念',\n 'A090': 'PM2.5',\n 'A091': '举牌',\n 'A092': '人脑工程',\n 'A093': '抗病毒',\n 'A094': '地理信息',\n 'A095': '智能穿戴',\n 'A096': '大数据',\n 'A097': '上海自贸区',\n 'A098': '宽带中国',\n 'A099': '海洋经济',\n 'A100': '土地流转',\n 'A101': '王亚伟概念',\n 'A102': '养老概念',\n 'A103': '天津自贸区',\n 'A104': '海绵城市',\n 'A105': '油改概念',\n 'A106': '广东自贸区',\n 'A107': '二胎概念',\n 'A108': '生态农业',\n 'A109': '国家安全',\n 'A110': '广东国资整合',\n 'A111': '上海国资整合',\n 'A112': '浙江自贸区',\n 'A113': '重庆自贸区',\n 'A114': '蓝宝石',\n 'A115': '福建自贸区',\n 'A116': '无人驾驶',\n 'A117': '体育概念',\n 'A118': '民营医院',\n 'A119': '电力改革',\n 'A120': '燃料电池',\n 'A121': '京津冀',\n 'A122': '中俄自贸区',\n 'A123': '天津国资整合',\n 'A124': '湖南国资整合',\n 'A125': '安徽自贸区',\n 'A126': 'AH股',\n 'A127': '黄河金三角',\n 'A128': '博彩概念',\n 'A129': '国资委整合',\n 'A130': '地方国资整合',\n 'A131': '生猪概念',\n 'A132': '天然气概念',\n 'A133': '去IOE概念',\n 'A134': '高校概念',\n 'A135': '量子通信',\n 'A136': '中韩自贸区',\n 'A137': '盐改概念',\n 'A138': '沪股通',\n 'A139': '精准医疗',\n 'A140': '超级电容',\n 'A141': '石墨烯',\n 'A142': '手机游戏',\n 'A143': '在线教育',\n 'A144': '电子支付',\n 'A145': '无人机',\n 'A146': '充电桩',\n 'A147': '一带一路',\n 'A148': '乡村振兴',\n 'A149': '杠杆B类基金',\n 'A150': '中字头',\n 'A151': '内陆自贸区',\n 'A152': '中证500',\n 'A153': '沪台通',\n 'A154': '储能概念',\n 'A155': 'PPP概念',\n 'A156': '证金持股',\n 'A157': '汇金持股',\n 'A158': '员工持股',\n 'A159': '破净股',\n 'A160': '健康中国',\n 'A161': '能源互联网',\n 'A162': '东盟自贸区',\n 'A163': '虚拟现实',\n 'A164': '维生素',\n 'A165': '壳资源',\n 'A166': '外汇局持股',\n 'A167': '债转股',\n 'A168': '电子竞技',\n 'A169': '网红经济',\n 'A170': '深股通',\n 'A171': '生物识别',\n 'A172': 'AR概念',\n 'A173': '参股恒大',\n 'A174': '中概股回归',\n 'A175': '股权转让',\n 'A176': '昨日涨停',\n 'A177': '混改',\n 'A178': '共享单车',\n 'A179': '小金属',\n 'A180': '辽宁自贸区',\n 'A181': '雄安新区',\n 'A182': '粤港澳大湾区',\n 'A183': '地下管廊',\n 'A184': '卓越70',\n 'A185': '可燃冰',\n 'A186': '特色小镇',\n 'A187': 'MSCI中国',\n 'A188': '租售同权',\n 'A189': '养老金持股',\n 'A190': '乙醇汽油',\n 'A191': '盐湖提锂',\n 'A192': '阿里概念',\n 'A193': '自由贸易港',\n 'A194': '供给侧改革',\n 'A195': '装配式建筑',\n 'A196': '腾讯概念',\n 'A197': '富士康概念',\n 'A198': '工业互联网',\n 'A199': '独角兽概念',\n 'A200': '小米概念',\n 'A201': '知识产权保护',\n 'A202': '数字中国',\n 'A203': '仿制药',\n 'A204': '海南自贸区',\n 'A205': '成泉资本',\n 'A206': '短视频',\n 'A207': '华为概念',\n 'A208': '百度概念',\n 'A209': '人民币贬值',\n 'A210': '车联网',\n 'A211': '智能音箱',\n 'A212': '金融科技',\n 'A213': '创业板50',\n 'A214': '超跌概念',\n 'A215': '高质押概念',\n 'A216': '国资驰援',\n 'A217': '昨曾涨停',\n 'A218': '人民币升值',\n 'A219': '芬太尼',\n 'A220': '长三角一体化',\n 'A221': '昨日连板',\n 'A222': '公共服务',\n 'A223': '工业大麻',\n 'A224': '名特优消费',\n 'A225': '柔性屏',\n 'A226': '新兴产业',\n 'A227': '超高清视频',\n 'A228': '边缘计算',\n 'A229': '数字孪生',\n 'A230': '电力物联网',\n 'A231': '中证800',\n 'A232': '甲醇概念',\n 'A233': '透明工厂',\n 'A234': '氢能源',\n 'A235': '人造肉',\n 'A236': '国产操作系统',\n 'A237': '青蒿素',\n 'A238': '垃圾分类',\n 'A239': '富时罗素',\n 'A240': 'ETC概念',\n 'A241': '光刻胶',\n 'A242': '巨盘',\n 'A243': '微盘',\n 'A244': '数字货币',\n 'A245': '眼科医疗',\n 'A246': '无线耳机',\n 'A247': '电子政务',\n 'A248': '安防',\n 'A249': '蚂蚁金服',\n 'A250': '特高压',\n 'A251': '区块链',\n 'A252': '赛马概念',\n 'A253': '特斯拉',\n 'A254': '光通信',\n 'A255': 'OLED',\n 'A256': '胎压监测',\n 'A257': '机器人',\n 'A258': '人工智能',\n 'A259': '苹果概念',\n 'A260': '智能家居',\n 'A261': '电子发票',\n 'A262': '数字营销',\n 'A263': '互联网金融',\n 'A264': '智能交通',\n 'A265': '智能医疗',\n 'A266': '智能物流',\n 'A267': '分拆上市预期',\n 'A268': '转基因',\n 'A269': '新冠病毒',\n 'A270': '云办公',\n 'A271': '消毒剂',\n 'A272': '口罩',\n 'A273': '氮化镓',\n 'A274': '数据中心',\n 'A275': 'RCS富媒体',\n 'A276': 'C2M概念'}"
     },
     "metadata": {},
     "execution_count": 10
    }
   ],
   "source": [
    "Fundamentals.concept_maps"
   ]
  },
  {
   "cell_type": "markdown",
   "metadata": {},
   "source": [
    "## 查询概念名称"
   ]
  },
  {
   "cell_type": "code",
   "execution_count": 11,
   "metadata": {
    "ExecuteTime": {
     "end_time": "2019-07-09T01:11:01.619395Z",
     "start_time": "2019-07-09T01:10:58.911Z"
    }
   },
   "outputs": [
    {
     "output_type": "execute_result",
     "data": {
      "text/plain": "'云办公'"
     },
     "metadata": {},
     "execution_count": 11
    }
   ],
   "source": [
    "Fundamentals.concept_col_name('A270')"
   ]
  },
  {
   "cell_type": "markdown",
   "metadata": {},
   "source": [
    "## 查询概念编码"
   ]
  },
  {
   "cell_type": "code",
   "execution_count": 12,
   "metadata": {
    "ExecuteTime": {
     "end_time": "2019-07-09T01:11:01.620392Z",
     "start_time": "2019-07-09T01:10:58.913Z"
    }
   },
   "outputs": [
    {
     "output_type": "execute_result",
     "data": {
      "text/plain": "{'A057': '新能源汽车'}"
     },
     "metadata": {},
     "execution_count": 12
    }
   ],
   "source": [
    "Fundamentals.concept_col_code('汽车')"
   ]
  },
  {
   "cell_type": "code",
   "execution_count": 13,
   "metadata": {
    "ExecuteTime": {
     "end_time": "2019-07-09T01:11:01.620392Z",
     "start_time": "2019-07-09T01:10:58.916Z"
    }
   },
   "outputs": [
    {
     "output_type": "execute_result",
     "data": {
      "text/plain": "                                         共享汽车\ndate                      asset              \n2018-01-10 00:00:00+00:00 齐心集团(002301)   True\n                          深南股份(002417)   True\n                          二六三(002467)    True\n                          榕基软件(002474)   True\n                          中装建设(002822)   True\n                          视源股份(002841)   True\n                          天源迪科(300047)   True\n                          三五互联(300051)   True\n                          华平股份(300074)   True\n                          雷曼光电(300162)   True\n                          初灵信息(300250)   True\n                          蓝盾股份(300297)   True\n                          太空智造(300344)   True\n                          北信源(300352)    True\n                          会畅通讯(300578)   True\n                          恒锋信息(300605)   True\n                          亿联网络(300628)   True\n                          中科信息(300678)   True\n                          科创信息(300730)   True\n                          *ST松江(600225)  True\n                          鹏博士(600804)    True\n                          宝信软件(600845)   True\n                          人民网(603000)    True\n                          泛微网络(603039)   True\n                          苏州科达(603660)   True\n                          金桥信息(603918)   True",
      "text/html": "<div>\n<style scoped>\n    .dataframe tbody tr th:only-of-type {\n        vertical-align: middle;\n    }\n\n    .dataframe tbody tr th {\n        vertical-align: top;\n    }\n\n    .dataframe thead th {\n        text-align: right;\n    }\n</style>\n<table border=\"1\" class=\"dataframe\">\n  <thead>\n    <tr style=\"text-align: right;\">\n      <th></th>\n      <th></th>\n      <th>共享汽车</th>\n    </tr>\n    <tr>\n      <th>date</th>\n      <th>asset</th>\n      <th></th>\n    </tr>\n  </thead>\n  <tbody>\n    <tr>\n      <th rowspan=\"26\" valign=\"top\">2018-01-10 00:00:00+00:00</th>\n      <th>齐心集团(002301)</th>\n      <td>True</td>\n    </tr>\n    <tr>\n      <th>深南股份(002417)</th>\n      <td>True</td>\n    </tr>\n    <tr>\n      <th>二六三(002467)</th>\n      <td>True</td>\n    </tr>\n    <tr>\n      <th>榕基软件(002474)</th>\n      <td>True</td>\n    </tr>\n    <tr>\n      <th>中装建设(002822)</th>\n      <td>True</td>\n    </tr>\n    <tr>\n      <th>视源股份(002841)</th>\n      <td>True</td>\n    </tr>\n    <tr>\n      <th>天源迪科(300047)</th>\n      <td>True</td>\n    </tr>\n    <tr>\n      <th>三五互联(300051)</th>\n      <td>True</td>\n    </tr>\n    <tr>\n      <th>华平股份(300074)</th>\n      <td>True</td>\n    </tr>\n    <tr>\n      <th>雷曼光电(300162)</th>\n      <td>True</td>\n    </tr>\n    <tr>\n      <th>初灵信息(300250)</th>\n      <td>True</td>\n    </tr>\n    <tr>\n      <th>蓝盾股份(300297)</th>\n      <td>True</td>\n    </tr>\n    <tr>\n      <th>太空智造(300344)</th>\n      <td>True</td>\n    </tr>\n    <tr>\n      <th>北信源(300352)</th>\n      <td>True</td>\n    </tr>\n    <tr>\n      <th>会畅通讯(300578)</th>\n      <td>True</td>\n    </tr>\n    <tr>\n      <th>恒锋信息(300605)</th>\n      <td>True</td>\n    </tr>\n    <tr>\n      <th>亿联网络(300628)</th>\n      <td>True</td>\n    </tr>\n    <tr>\n      <th>中科信息(300678)</th>\n      <td>True</td>\n    </tr>\n    <tr>\n      <th>科创信息(300730)</th>\n      <td>True</td>\n    </tr>\n    <tr>\n      <th>*ST松江(600225)</th>\n      <td>True</td>\n    </tr>\n    <tr>\n      <th>鹏博士(600804)</th>\n      <td>True</td>\n    </tr>\n    <tr>\n      <th>宝信软件(600845)</th>\n      <td>True</td>\n    </tr>\n    <tr>\n      <th>人民网(603000)</th>\n      <td>True</td>\n    </tr>\n    <tr>\n      <th>泛微网络(603039)</th>\n      <td>True</td>\n    </tr>\n    <tr>\n      <th>苏州科达(603660)</th>\n      <td>True</td>\n    </tr>\n    <tr>\n      <th>金桥信息(603918)</th>\n      <td>True</td>\n    </tr>\n  </tbody>\n</table>\n</div>"
     },
     "metadata": {},
     "execution_count": 13
    }
   ],
   "source": [
    "def make_pipeline():\n",
    "    return Pipeline(columns={\n",
    "        '共享汽车': Fundamentals.info.A270.latest,\n",
    "#         '人工智能': Fundamentals.info.A263.latest,\n",
    "    })\n",
    "\n",
    "data_output = run_pipeline(\n",
    "    make_pipeline(),\n",
    "    start_date='2018-01-10',\n",
    "    end_date='2018-01-10'\n",
    ")\n",
    "\n",
    "data_output[data_output['共享汽车']]"
   ]
  },
  {
   "cell_type": "markdown",
   "metadata": {},
   "source": [
    "# 上市状态"
   ]
  },
  {
   "cell_type": "code",
   "execution_count": 14,
   "metadata": {
    "ExecuteTime": {
     "end_time": "2019-07-09T01:11:01.621390Z",
     "start_time": "2019-07-09T01:10:58.919Z"
    }
   },
   "outputs": [
    {
     "output_type": "execute_result",
     "data": {
      "text/plain": "                                           状态\ndate                      asset              \n2018-01-10 00:00:00+00:00 洛阳钼业(603993)   正常上市\n                          *ST中新(603996)   *ST\n                          继峰股份(603997)   正常上市\n                          方盛制药(603998)   正常上市\n                          读者传媒(603999)   正常上市",
      "text/html": "<div>\n<style scoped>\n    .dataframe tbody tr th:only-of-type {\n        vertical-align: middle;\n    }\n\n    .dataframe tbody tr th {\n        vertical-align: top;\n    }\n\n    .dataframe thead th {\n        text-align: right;\n    }\n</style>\n<table border=\"1\" class=\"dataframe\">\n  <thead>\n    <tr style=\"text-align: right;\">\n      <th></th>\n      <th></th>\n      <th>状态</th>\n    </tr>\n    <tr>\n      <th>date</th>\n      <th>asset</th>\n      <th></th>\n    </tr>\n  </thead>\n  <tbody>\n    <tr>\n      <th rowspan=\"5\" valign=\"top\">2018-01-10 00:00:00+00:00</th>\n      <th>洛阳钼业(603993)</th>\n      <td>正常上市</td>\n    </tr>\n    <tr>\n      <th>*ST中新(603996)</th>\n      <td>*ST</td>\n    </tr>\n    <tr>\n      <th>继峰股份(603997)</th>\n      <td>正常上市</td>\n    </tr>\n    <tr>\n      <th>方盛制药(603998)</th>\n      <td>正常上市</td>\n    </tr>\n    <tr>\n      <th>读者传媒(603999)</th>\n      <td>正常上市</td>\n    </tr>\n  </tbody>\n</table>\n</div>"
     },
     "metadata": {},
     "execution_count": 14
    }
   ],
   "source": [
    "def make_pipeline():\n",
    "    return Pipeline(columns={\n",
    "        '状态': Fundamentals.info.上市状态.latest,\n",
    "    })\n",
    "\n",
    "data_output = run_pipeline(\n",
    "    make_pipeline(),\n",
    "    start_date='2018-01-10',\n",
    "    end_date='2018-01-10'\n",
    ")\n",
    "\n",
    "data_output.tail()"
   ]
  }
 ],
 "metadata": {
  "kernelspec": {
   "display_name": "Python 3.7.7 64-bit ('zipline': conda)",
   "language": "python",
   "name": "python37764bitziplinecondafc6f11bd3b9c4249a9fc63b5c8ae4fcf"
  },
  "language_info": {
   "codemirror_mode": {
    "name": "ipython",
    "version": 3
   },
   "file_extension": ".py",
   "mimetype": "text/x-python",
   "name": "python",
   "nbconvert_exporter": "python",
   "pygments_lexer": "ipython3",
   "version": "3.7.7-final"
  },
  "toc": {
   "base_numbering": 1,
   "nav_menu": {},
   "number_sections": true,
   "sideBar": true,
   "skip_h1_title": false,
   "title_cell": "Table of Contents",
   "title_sidebar": "Contents",
   "toc_cell": false,
   "toc_position": {
    "height": "calc(100% - 180px)",
    "left": "10px",
    "top": "150px",
    "width": "384px"
   },
   "toc_section_display": true,
   "toc_window_display": true
  }
 },
 "nbformat": 4,
 "nbformat_minor": 2
}