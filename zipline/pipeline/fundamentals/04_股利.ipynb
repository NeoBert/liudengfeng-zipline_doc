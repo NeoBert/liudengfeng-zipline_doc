{
 "cells": [
  {
   "cell_type": "code",
   "execution_count": 1,
   "metadata": {
    "ExecuteTime": {
     "end_time": "2019-01-02T05:51:50.093544Z",
     "start_time": "2019-01-02T05:51:46.974671Z"
    }
   },
   "outputs": [],
   "source": [
    "from zipline.pipeline import Pipeline\n",
    "from zipline.research import run_pipeline, symbols, symbol, select_output_by\n",
    "from zipline.pipeline.fundamentals import Fundamentals"
   ]
  },
  {
   "cell_type": "code",
   "execution_count": 2,
   "metadata": {
    "ExecuteTime": {
     "end_time": "2019-01-02T05:52:53.711115Z",
     "start_time": "2019-01-02T05:52:52.330586Z"
    }
   },
   "outputs": [],
   "source": [
    "def make_pipeline():\n",
    "    return Pipeline(\n",
    "        columns={\n",
    "            '每股人民币派息': Fundamentals.dividend.每股派息.latest,\n",
    "        })\n",
    "\n",
    "\n",
    "data_output = run_pipeline(\n",
    "    make_pipeline(), start_date='2018-01-01', end_date='2018-12-31')"
   ]
  },
  {
   "cell_type": "code",
   "execution_count": 3,
   "metadata": {
    "ExecuteTime": {
     "end_time": "2019-01-02T05:53:06.538806Z",
     "start_time": "2019-01-02T05:53:06.295284Z"
    }
   },
   "outputs": [
    {
     "output_type": "execute_result",
     "data": {
      "text/plain": "                                        每股人民币派息\ndatetime                  asset                \n2018-01-02 00:00:00+00:00 美的集团(000333)      0.0\n                          苏宁易购(002024)      0.0\n                          中源协和(600645)      0.0\n2018-01-03 00:00:00+00:00 美的集团(000333)      0.0\n                          苏宁易购(002024)      0.0\n...                                         ...\n2018-12-27 00:00:00+00:00 苏宁易购(002024)      0.0\n                          中源协和(600645)      0.0\n2018-12-28 00:00:00+00:00 美的集团(000333)      0.0\n                          苏宁易购(002024)      0.0\n                          中源协和(600645)      0.0\n\n[729 rows x 1 columns]",
      "text/html": "<div>\n<style scoped>\n    .dataframe tbody tr th:only-of-type {\n        vertical-align: middle;\n    }\n\n    .dataframe tbody tr th {\n        vertical-align: top;\n    }\n\n    .dataframe thead th {\n        text-align: right;\n    }\n</style>\n<table border=\"1\" class=\"dataframe\">\n  <thead>\n    <tr style=\"text-align: right;\">\n      <th></th>\n      <th></th>\n      <th>每股人民币派息</th>\n    </tr>\n    <tr>\n      <th>datetime</th>\n      <th>asset</th>\n      <th></th>\n    </tr>\n  </thead>\n  <tbody>\n    <tr>\n      <th rowspan=\"3\" valign=\"top\">2018-01-02 00:00:00+00:00</th>\n      <th>美的集团(000333)</th>\n      <td>0.0</td>\n    </tr>\n    <tr>\n      <th>苏宁易购(002024)</th>\n      <td>0.0</td>\n    </tr>\n    <tr>\n      <th>中源协和(600645)</th>\n      <td>0.0</td>\n    </tr>\n    <tr>\n      <th rowspan=\"2\" valign=\"top\">2018-01-03 00:00:00+00:00</th>\n      <th>美的集团(000333)</th>\n      <td>0.0</td>\n    </tr>\n    <tr>\n      <th>苏宁易购(002024)</th>\n      <td>0.0</td>\n    </tr>\n    <tr>\n      <th>...</th>\n      <th>...</th>\n      <td>...</td>\n    </tr>\n    <tr>\n      <th rowspan=\"2\" valign=\"top\">2018-12-27 00:00:00+00:00</th>\n      <th>苏宁易购(002024)</th>\n      <td>0.0</td>\n    </tr>\n    <tr>\n      <th>中源协和(600645)</th>\n      <td>0.0</td>\n    </tr>\n    <tr>\n      <th rowspan=\"3\" valign=\"top\">2018-12-28 00:00:00+00:00</th>\n      <th>美的集团(000333)</th>\n      <td>0.0</td>\n    </tr>\n    <tr>\n      <th>苏宁易购(002024)</th>\n      <td>0.0</td>\n    </tr>\n    <tr>\n      <th>中源协和(600645)</th>\n      <td>0.0</td>\n    </tr>\n  </tbody>\n</table>\n<p>729 rows × 1 columns</p>\n</div>"
     },
     "metadata": {},
     "execution_count": 3
    }
   ],
   "source": [
    "select_output_by(data_output, assets=['000333', '600645','002024'])"
   ]
  }
 ],
 "metadata": {
  "kernelspec": {
   "display_name": "Python 3.7.7 64-bit ('zipline': conda)",
   "language": "python",
   "name": "python37764bitziplinecondafc6f11bd3b9c4249a9fc63b5c8ae4fcf"
  },
  "language_info": {
   "codemirror_mode": {
    "name": "ipython",
    "version": 3
   },
   "file_extension": ".py",
   "mimetype": "text/x-python",
   "name": "python",
   "nbconvert_exporter": "python",
   "pygments_lexer": "ipython3",
   "version": "3.7.7-final"
  },
  "toc": {
   "base_numbering": 1,
   "nav_menu": {},
   "number_sections": true,
   "sideBar": true,
   "skip_h1_title": false,
   "title_cell": "Table of Contents",
   "title_sidebar": "Contents",
   "toc_cell": false,
   "toc_position": {},
   "toc_section_display": true,
   "toc_window_display": false
  }
 },
 "nbformat": 4,
 "nbformat_minor": 2
}