{
 "cells": [
  {
   "cell_type": "code",
   "execution_count": 1,
   "metadata": {
    "ExecuteTime": {
     "end_time": "2019-01-02T05:54:44.869318Z",
     "start_time": "2019-01-02T05:54:41.768912Z"
    }
   },
   "outputs": [],
   "source": [
    "from zipline.pipeline import Pipeline\n",
    "from zipline.research import run_pipeline, symbols, symbol\n",
    "from zipline.pipeline.fundamentals import Fundamentals"
   ]
  },
  {
   "cell_type": "markdown",
   "metadata": {},
   "source": [
    "# 查询编码"
   ]
  },
  {
   "cell_type": "markdown",
   "metadata": {},
   "source": [
    "## 研究机构编码"
   ]
  },
  {
   "cell_type": "code",
   "execution_count": 2,
   "metadata": {
    "ExecuteTime": {
     "end_time": "2019-01-02T05:54:44.905774Z",
     "start_time": "2019-01-02T05:54:44.869318Z"
    }
   },
   "outputs": [
    {
     "output_type": "execute_result",
     "data": {
      "text/plain": "{'178': '国泰君安',\n '179': '国泰君安期货有限公司',\n '180': '国泰君安证券(香港)有限公司',\n '181': '国泰君安证券有限公司武汉分公司',\n '182': '国泰君安证券股份有限公司'}"
     },
     "metadata": {},
     "execution_count": 2
    }
   ],
   "source": [
    "Fundamentals.ir_iarc_code('国泰君安')"
   ]
  },
  {
   "cell_type": "markdown",
   "metadata": {},
   "source": [
    "## 研究员编码"
   ]
  },
  {
   "cell_type": "code",
   "execution_count": 3,
   "metadata": {
    "ExecuteTime": {
     "end_time": "2019-01-02T05:54:44.938694Z",
     "start_time": "2019-01-02T05:54:44.905774Z"
    }
   },
   "outputs": [
    {
     "output_type": "execute_result",
     "data": {
      "text/plain": "{'7057': '孙亮,陈希怡',\n '7063': '孙亮，陈希怡',\n '11181': '易镜明,陈希怡',\n '25478': '陈希怡',\n '25479': '陈希怡 李文健',\n '25480': '陈希怡,孙亮',\n '25481': '陈希怡,李文健'}"
     },
     "metadata": {},
     "execution_count": 3
    }
   ],
   "source": [
    "Fundamentals.ir_researcher_code('陈希怡')"
   ]
  },
  {
   "cell_type": "markdown",
   "metadata": {},
   "source": [
    "# 查询名称\n"
   ]
  },
  {
   "cell_type": "code",
   "execution_count": 4,
   "metadata": {
    "ExecuteTime": {
     "end_time": "2019-01-02T05:54:44.970870Z",
     "start_time": "2019-01-02T05:54:44.938694Z"
    }
   },
   "outputs": [
    {
     "output_type": "execute_result",
     "data": {
      "text/plain": "'华安证券'"
     },
     "metadata": {},
     "execution_count": 4
    }
   ],
   "source": [
    "Fundamentals.ir_iarc_cname('143')"
   ]
  },
  {
   "cell_type": "code",
   "execution_count": 5,
   "metadata": {
    "ExecuteTime": {
     "end_time": "2019-01-02T05:54:45.003433Z",
     "start_time": "2019-01-02T05:54:44.970870Z"
    }
   },
   "outputs": [
    {
     "output_type": "execute_result",
     "data": {
      "text/plain": "'华安证券'"
     },
     "metadata": {},
     "execution_count": 5
    }
   ],
   "source": [
    "Fundamentals.ir_iarc_cname(143)"
   ]
  },
  {
   "cell_type": "code",
   "execution_count": 6,
   "metadata": {
    "ExecuteTime": {
     "end_time": "2019-01-02T05:54:45.039387Z",
     "start_time": "2019-01-02T05:54:45.003433Z"
    }
   },
   "outputs": [
    {
     "output_type": "execute_result",
     "data": {
      "text/plain": "'汤俊,杨华超,黎韦清'"
     },
     "metadata": {},
     "execution_count": 6
    }
   ],
   "source": [
    "Fundamentals.ir_researcher_cname('15182')"
   ]
  },
  {
   "cell_type": "markdown",
   "metadata": {},
   "source": [
    "# 投资评级\n",
    "\n",
    "5分最高，0分最低。"
   ]
  },
  {
   "cell_type": "code",
   "execution_count": 7,
   "metadata": {
    "ExecuteTime": {
     "end_time": "2019-01-02T05:54:48.007594Z",
     "start_time": "2019-01-02T05:54:45.039387Z"
    }
   },
   "outputs": [
    {
     "output_type": "display_data",
     "data": {
      "text/plain": "",
      "application/vnd.jupyter.widget-view+json": {
       "version_major": 2,
       "version_minor": 0,
       "model_id": "ff71aba558cd454791435364f4d2f254"
      }
     },
     "metadata": {}
    },
    {
     "output_type": "display_data",
     "data": {
      "text/plain": "<IPython.core.display.HTML object>",
      "text/html": "<b>Pipeline Execution Time:</b> 2.90 Seconds"
     },
     "metadata": {}
    },
    {
     "output_type": "execute_result",
     "data": {
      "text/plain": "                                        投资评级\ndatetime                  asset             \n2018-01-10 00:00:00+00:00 平安银行(000001)     5\n                          万 科Ａ(000002)     3\n                          国农科技(000004)     5\n                          世纪星源(000005)     0\n                          深振业Ａ(000006)     0",
      "text/html": "<div>\n<style scoped>\n    .dataframe tbody tr th:only-of-type {\n        vertical-align: middle;\n    }\n\n    .dataframe tbody tr th {\n        vertical-align: top;\n    }\n\n    .dataframe thead th {\n        text-align: right;\n    }\n</style>\n<table border=\"1\" class=\"dataframe\">\n  <thead>\n    <tr style=\"text-align: right;\">\n      <th></th>\n      <th></th>\n      <th>投资评级</th>\n    </tr>\n    <tr>\n      <th>datetime</th>\n      <th>asset</th>\n      <th></th>\n    </tr>\n  </thead>\n  <tbody>\n    <tr>\n      <th rowspan=\"5\" valign=\"top\">2018-01-10 00:00:00+00:00</th>\n      <th>平安银行(000001)</th>\n      <td>5</td>\n    </tr>\n    <tr>\n      <th>万 科Ａ(000002)</th>\n      <td>3</td>\n    </tr>\n    <tr>\n      <th>国农科技(000004)</th>\n      <td>5</td>\n    </tr>\n    <tr>\n      <th>世纪星源(000005)</th>\n      <td>0</td>\n    </tr>\n    <tr>\n      <th>深振业Ａ(000006)</th>\n      <td>0</td>\n    </tr>\n  </tbody>\n</table>\n</div>"
     },
     "metadata": {},
     "execution_count": 7
    }
   ],
   "source": [
    "def make_pipeline():\n",
    "    return Pipeline(columns={\n",
    "        '投资评级': Fundamentals.rating.投资评级.latest,\n",
    "    })\n",
    "\n",
    "\n",
    "data_output = run_pipeline(\n",
    "    make_pipeline(), start_date='2018-01-10', end_date='2018-01-10')\n",
    "\n",
    "data_output.head()"
   ]
  }
 ],
 "metadata": {
  "kernelspec": {
   "display_name": "Python 3.7.7 64-bit ('zipline': conda)",
   "language": "python",
   "name": "python37764bitziplinecondafc6f11bd3b9c4249a9fc63b5c8ae4fcf"
  },
  "language_info": {
   "codemirror_mode": {
    "name": "ipython",
    "version": 3
   },
   "file_extension": ".py",
   "mimetype": "text/x-python",
   "name": "python",
   "nbconvert_exporter": "python",
   "pygments_lexer": "ipython3",
   "version": "3.7.7-final"
  },
  "toc": {
   "base_numbering": 1,
   "nav_menu": {},
   "number_sections": true,
   "sideBar": true,
   "skip_h1_title": false,
   "title_cell": "Table of Contents",
   "title_sidebar": "Contents",
   "toc_cell": false,
   "toc_position": {
    "height": "calc(100% - 180px)",
    "left": "10px",
    "top": "150px",
    "width": "384px"
   },
   "toc_section_display": true,
   "toc_window_display": true
  }
 },
 "nbformat": 4,
 "nbformat_minor": 2
}