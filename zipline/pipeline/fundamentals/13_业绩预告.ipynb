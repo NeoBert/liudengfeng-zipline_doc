{
 "cells": [
  {
   "cell_type": "code",
   "execution_count": 1,
   "metadata": {
    "ExecuteTime": {
     "end_time": "2019-01-02T07:36:41.147901Z",
     "start_time": "2019-01-02T07:36:37.764260Z"
    }
   },
   "outputs": [],
   "source": [
    "from zipline.pipeline import Pipeline\n",
    "from zipline.research import run_pipeline, symbols, symbol, select_output_by\n",
    "from zipline.pipeline.fundamentals import Fundamentals"
   ]
  },
  {
   "cell_type": "code",
   "execution_count": 2,
   "metadata": {
    "ExecuteTime": {
     "end_time": "2019-01-02T07:36:47.682522Z",
     "start_time": "2019-01-02T07:36:41.147901Z"
    }
   },
   "outputs": [
    {
     "output_type": "display_data",
     "data": {
      "text/plain": "",
      "application/vnd.jupyter.widget-view+json": {
       "version_major": 2,
       "version_minor": 0,
       "model_id": "65038249a96045e1b7c389606ac26b7e"
      }
     },
     "metadata": {}
    },
    {
     "output_type": "display_data",
     "data": {
      "text/plain": "<IPython.core.display.HTML object>",
      "text/html": "<b>Pipeline Execution Time:</b> 1.50 Seconds"
     },
     "metadata": {}
    }
   ],
   "source": [
    "def make_pipeline():\n",
    "    return Pipeline(\n",
    "        columns={\n",
    "            '业绩预告内容': Fundamentals.performance_forecastes.业绩预告内容.latest,\n",
    "            '业绩类型': Fundamentals.performance_forecastes.业绩类型.latest,\n",
    "            '报告年度': Fundamentals.performance_forecastes.报告年度.latest,\n",
    "        })\n",
    "\n",
    "\n",
    "data_output = run_pipeline(\n",
    "    make_pipeline(), start_date='2015-06-01', end_date='2016-06-10')"
   ]
  },
  {
   "cell_type": "code",
   "execution_count": 3,
   "metadata": {
    "ExecuteTime": {
     "end_time": "2019-01-02T07:36:48.011637Z",
     "start_time": "2019-01-02T07:36:47.682522Z"
    }
   },
   "outputs": [
    {
     "output_type": "execute_result",
     "data": {
      "text/plain": "                                                                                   业绩预告内容  \\\ndatetime                  asset                                                             \n2015-06-01 00:00:00+00:00 美的集团(000333)  预计公司2014年01-12月归属于上市公司股东的净利润为100亿元-110亿元，比上年同期...   \n                          苏宁易购(002024)  预计公司2015年01-06月归属于上市公司股东的净利润亏损58,192.3万元-68,19...   \n                          仙坛股份(002746)  预计公司2015年01-06月归属于上市公司股东的净利润为790万元-1,054万元，与上年...   \n                          中源协和(600645)  预计公司2014年01-12月归属于上市公司股东的净利润约为3,700万元，比2013年增长...   \n2015-06-02 00:00:00+00:00 美的集团(000333)  预计公司2014年01-12月归属于上市公司股东的净利润为100亿元-110亿元，比上年同期...   \n...                                                                                   ...   \n2016-06-07 00:00:00+00:00 中源协和(600645)  预计公司2015年01-12月归属于上市公司股东的净利润约为20085万元，与上年同期相比增...   \n2016-06-08 00:00:00+00:00 美的集团(000333)  预计公司2014年01-12月归属于上市公司股东的净利润为100亿元-110亿元，比上年同期...   \n                          苏宁易购(002024)  预计公司2016年01-06月归属于上市公司股东的净利润亏损49611.8万元-59611....   \n                          仙坛股份(002746)  预计公司2016年01-06月归属于上市公司股东的净利润为6,600万元-7,000万元，与...   \n                          中源协和(600645)  预计公司2015年01-12月归属于上市公司股东的净利润约为20085万元，与上年同期相比增...   \n\n                                          业绩类型       报告年度  \ndatetime                  asset                            \n2015-06-01 00:00:00+00:00 美的集团(000333)  业绩大幅上升 2014-12-31  \n                          苏宁易购(002024)    预计减亏 2015-06-30  \n                          仙坛股份(002746)    业绩预降 2015-06-30  \n                          中源协和(600645)  业绩大幅上升 2014-12-31  \n2015-06-02 00:00:00+00:00 美的集团(000333)  业绩大幅上升 2014-12-31  \n...                                        ...        ...  \n2016-06-07 00:00:00+00:00 中源协和(600645)  业绩大幅上升 2015-12-31  \n2016-06-08 00:00:00+00:00 美的集团(000333)  业绩大幅上升 2014-12-31  \n                          苏宁易购(002024)    业绩预亏 2016-06-30  \n                          仙坛股份(002746)  业绩大幅上升 2016-06-30  \n                          中源协和(600645)  业绩大幅上升 2015-12-31  \n\n[1008 rows x 3 columns]",
      "text/html": "<div>\n<style scoped>\n    .dataframe tbody tr th:only-of-type {\n        vertical-align: middle;\n    }\n\n    .dataframe tbody tr th {\n        vertical-align: top;\n    }\n\n    .dataframe thead th {\n        text-align: right;\n    }\n</style>\n<table border=\"1\" class=\"dataframe\">\n  <thead>\n    <tr style=\"text-align: right;\">\n      <th></th>\n      <th></th>\n      <th>业绩预告内容</th>\n      <th>业绩类型</th>\n      <th>报告年度</th>\n    </tr>\n    <tr>\n      <th>datetime</th>\n      <th>asset</th>\n      <th></th>\n      <th></th>\n      <th></th>\n    </tr>\n  </thead>\n  <tbody>\n    <tr>\n      <th rowspan=\"4\" valign=\"top\">2015-06-01 00:00:00+00:00</th>\n      <th>美的集团(000333)</th>\n      <td>预计公司2014年01-12月归属于上市公司股东的净利润为100亿元-110亿元，比上年同期...</td>\n      <td>业绩大幅上升</td>\n      <td>2014-12-31</td>\n    </tr>\n    <tr>\n      <th>苏宁易购(002024)</th>\n      <td>预计公司2015年01-06月归属于上市公司股东的净利润亏损58,192.3万元-68,19...</td>\n      <td>预计减亏</td>\n      <td>2015-06-30</td>\n    </tr>\n    <tr>\n      <th>仙坛股份(002746)</th>\n      <td>预计公司2015年01-06月归属于上市公司股东的净利润为790万元-1,054万元，与上年...</td>\n      <td>业绩预降</td>\n      <td>2015-06-30</td>\n    </tr>\n    <tr>\n      <th>中源协和(600645)</th>\n      <td>预计公司2014年01-12月归属于上市公司股东的净利润约为3,700万元，比2013年增长...</td>\n      <td>业绩大幅上升</td>\n      <td>2014-12-31</td>\n    </tr>\n    <tr>\n      <th>2015-06-02 00:00:00+00:00</th>\n      <th>美的集团(000333)</th>\n      <td>预计公司2014年01-12月归属于上市公司股东的净利润为100亿元-110亿元，比上年同期...</td>\n      <td>业绩大幅上升</td>\n      <td>2014-12-31</td>\n    </tr>\n    <tr>\n      <th>...</th>\n      <th>...</th>\n      <td>...</td>\n      <td>...</td>\n      <td>...</td>\n    </tr>\n    <tr>\n      <th>2016-06-07 00:00:00+00:00</th>\n      <th>中源协和(600645)</th>\n      <td>预计公司2015年01-12月归属于上市公司股东的净利润约为20085万元，与上年同期相比增...</td>\n      <td>业绩大幅上升</td>\n      <td>2015-12-31</td>\n    </tr>\n    <tr>\n      <th rowspan=\"4\" valign=\"top\">2016-06-08 00:00:00+00:00</th>\n      <th>美的集团(000333)</th>\n      <td>预计公司2014年01-12月归属于上市公司股东的净利润为100亿元-110亿元，比上年同期...</td>\n      <td>业绩大幅上升</td>\n      <td>2014-12-31</td>\n    </tr>\n    <tr>\n      <th>苏宁易购(002024)</th>\n      <td>预计公司2016年01-06月归属于上市公司股东的净利润亏损49611.8万元-59611....</td>\n      <td>业绩预亏</td>\n      <td>2016-06-30</td>\n    </tr>\n    <tr>\n      <th>仙坛股份(002746)</th>\n      <td>预计公司2016年01-06月归属于上市公司股东的净利润为6,600万元-7,000万元，与...</td>\n      <td>业绩大幅上升</td>\n      <td>2016-06-30</td>\n    </tr>\n    <tr>\n      <th>中源协和(600645)</th>\n      <td>预计公司2015年01-12月归属于上市公司股东的净利润约为20085万元，与上年同期相比增...</td>\n      <td>业绩大幅上升</td>\n      <td>2015-12-31</td>\n    </tr>\n  </tbody>\n</table>\n<p>1008 rows × 3 columns</p>\n</div>"
     },
     "metadata": {},
     "execution_count": 3
    }
   ],
   "source": [
    "select_output_by(data_output, assets=['000333', '600645','002024', '002746'])"
   ]
  }
 ],
 "metadata": {
  "kernelspec": {
   "display_name": "Python 3.7.7 64-bit ('zipline': conda)",
   "language": "python",
   "name": "python37764bitziplinecondafc6f11bd3b9c4249a9fc63b5c8ae4fcf"
  },
  "language_info": {
   "codemirror_mode": {
    "name": "ipython",
    "version": 3
   },
   "file_extension": ".py",
   "mimetype": "text/x-python",
   "name": "python",
   "nbconvert_exporter": "python",
   "pygments_lexer": "ipython3",
   "version": "3.7.7-final"
  },
  "toc": {
   "base_numbering": 1,
   "nav_menu": {},
   "number_sections": true,
   "sideBar": true,
   "skip_h1_title": false,
   "title_cell": "Table of Contents",
   "title_sidebar": "Contents",
   "toc_cell": false,
   "toc_position": {},
   "toc_section_display": true,
   "toc_window_display": false
  }
 },
 "nbformat": 4,
 "nbformat_minor": 2
}