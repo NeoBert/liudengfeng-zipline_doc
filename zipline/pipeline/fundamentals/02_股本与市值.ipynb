{
 "cells": [
  {
   "cell_type": "code",
   "execution_count": 1,
   "metadata": {
    "ExecuteTime": {
     "end_time": "2019-01-02T05:32:41.735436Z",
     "start_time": "2019-01-02T05:32:38.569397Z"
    }
   },
   "outputs": [],
   "source": [
    "from zipline.pipeline import Pipeline\n",
    "from zipline.research import run_pipeline, symbols, symbol\n",
    "from zipline.pipeline.data import CNEquityPricing"
   ]
  },
  {
   "cell_type": "code",
   "execution_count": 2,
   "metadata": {
    "ExecuteTime": {
     "end_time": "2019-01-02T05:32:43.315698Z",
     "start_time": "2019-01-02T05:32:41.735436Z"
    }
   },
   "outputs": [
    {
     "output_type": "execute_result",
     "data": {
      "text/plain": "                                   流通股本           总股本          流通市值  \\\ndatetime                                                              \n2018-05-02 00:00:00+00:00  2.178040e+09  2.289055e+09  3.345250e+11   \n2018-05-03 00:00:00+00:00  2.178040e+09  2.289056e+09  3.323889e+11   \n2018-05-04 00:00:00+00:00  2.178040e+09  2.289055e+09  3.443640e+11   \n2018-05-07 00:00:00+00:00  2.178040e+09  2.289055e+09  3.307707e+11   \n2018-05-08 00:00:00+00:00  2.178040e+09  2.289055e+09  3.391856e+11   \n2018-05-09 00:00:00+00:00  2.178040e+09  2.289055e+09  3.488951e+11   \n2018-05-10 00:00:00+00:00  2.178040e+09  2.289055e+09  3.492188e+11   \n\n                                    总市值  \ndatetime                                 \n2018-05-02 00:00:00+00:00  3.402623e+11  \n2018-05-03 00:00:00+00:00  3.380896e+11  \n2018-05-04 00:00:00+00:00  3.502700e+11  \n2018-05-07 00:00:00+00:00  3.364435e+11  \n2018-05-08 00:00:00+00:00  3.450028e+11  \n2018-05-09 00:00:00+00:00  3.548788e+11  \n2018-05-10 00:00:00+00:00  3.552080e+11  ",
      "text/html": "<div>\n<style scoped>\n    .dataframe tbody tr th:only-of-type {\n        vertical-align: middle;\n    }\n\n    .dataframe tbody tr th {\n        vertical-align: top;\n    }\n\n    .dataframe thead th {\n        text-align: right;\n    }\n</style>\n<table border=\"1\" class=\"dataframe\">\n  <thead>\n    <tr style=\"text-align: right;\">\n      <th></th>\n      <th>流通股本</th>\n      <th>总股本</th>\n      <th>流通市值</th>\n      <th>总市值</th>\n    </tr>\n    <tr>\n      <th>datetime</th>\n      <th></th>\n      <th></th>\n      <th></th>\n      <th></th>\n    </tr>\n  </thead>\n  <tbody>\n    <tr>\n      <th>2018-05-02 00:00:00+00:00</th>\n      <td>2.178040e+09</td>\n      <td>2.289055e+09</td>\n      <td>3.345250e+11</td>\n      <td>3.402623e+11</td>\n    </tr>\n    <tr>\n      <th>2018-05-03 00:00:00+00:00</th>\n      <td>2.178040e+09</td>\n      <td>2.289056e+09</td>\n      <td>3.323889e+11</td>\n      <td>3.380896e+11</td>\n    </tr>\n    <tr>\n      <th>2018-05-04 00:00:00+00:00</th>\n      <td>2.178040e+09</td>\n      <td>2.289055e+09</td>\n      <td>3.443640e+11</td>\n      <td>3.502700e+11</td>\n    </tr>\n    <tr>\n      <th>2018-05-07 00:00:00+00:00</th>\n      <td>2.178040e+09</td>\n      <td>2.289055e+09</td>\n      <td>3.307707e+11</td>\n      <td>3.364435e+11</td>\n    </tr>\n    <tr>\n      <th>2018-05-08 00:00:00+00:00</th>\n      <td>2.178040e+09</td>\n      <td>2.289055e+09</td>\n      <td>3.391856e+11</td>\n      <td>3.450028e+11</td>\n    </tr>\n    <tr>\n      <th>2018-05-09 00:00:00+00:00</th>\n      <td>2.178040e+09</td>\n      <td>2.289055e+09</td>\n      <td>3.488951e+11</td>\n      <td>3.548788e+11</td>\n    </tr>\n    <tr>\n      <th>2018-05-10 00:00:00+00:00</th>\n      <td>2.178040e+09</td>\n      <td>2.289055e+09</td>\n      <td>3.492188e+11</td>\n      <td>3.552080e+11</td>\n    </tr>\n  </tbody>\n</table>\n</div>"
     },
     "metadata": {},
     "execution_count": 2
    }
   ],
   "source": [
    "def make_pipeline():\n",
    "    return Pipeline(\n",
    "        columns={\n",
    "            '流通股本': CNEquityPricing.shares_outstanding.latest,\n",
    "            '总股本': CNEquityPricing.total_shares.latest,\n",
    "            '流通市值': CNEquityPricing.market_cap.latest,\n",
    "            '总市值': CNEquityPricing.total_cap.latest,\n",
    "        })\n",
    "\n",
    "\n",
    "data_output = run_pipeline(\n",
    "    make_pipeline(), start_date='2018-05-01', end_date='2018-05-10')\n",
    "\n",
    "data_output.xs(symbol(333), level=1)"
   ]
  }
 ],
 "metadata": {
  "kernelspec": {
   "display_name": "Python 3.7.7 64-bit ('zipline': conda)",
   "language": "python",
   "name": "python37764bitziplinecondafc6f11bd3b9c4249a9fc63b5c8ae4fcf"
  },
  "language_info": {
   "codemirror_mode": {
    "name": "ipython",
    "version": 3
   },
   "file_extension": ".py",
   "mimetype": "text/x-python",
   "name": "python",
   "nbconvert_exporter": "python",
   "pygments_lexer": "ipython3",
   "version": "3.7.7-final"
  },
  "toc": {
   "base_numbering": 1,
   "nav_menu": {},
   "number_sections": true,
   "sideBar": true,
   "skip_h1_title": false,
   "title_cell": "Table of Contents",
   "title_sidebar": "Contents",
   "toc_cell": false,
   "toc_position": {},
   "toc_section_display": true,
   "toc_window_display": false
  }
 },
 "nbformat": 4,
 "nbformat_minor": 2
}