{
 "cells": [
  {
   "cell_type": "code",
   "execution_count": 1,
   "metadata": {
    "ExecuteTime": {
     "end_time": "2019-01-02T07:33:47.853626Z",
     "start_time": "2019-01-02T07:33:44.452104Z"
    }
   },
   "outputs": [],
   "source": [
    "from zipline.pipeline import Pipeline\n",
    "from zipline.research import run_pipeline, symbols, symbol, select_output_by\n",
    "from zipline.pipeline.fundamentals import Fundamentals"
   ]
  },
  {
   "cell_type": "code",
   "execution_count": 2,
   "metadata": {
    "ExecuteTime": {
     "end_time": "2019-01-02T07:33:49.619028Z",
     "start_time": "2019-01-02T07:33:47.853626Z"
    }
   },
   "outputs": [
    {
     "output_type": "display_data",
     "data": {
      "text/plain": "",
      "application/vnd.jupyter.widget-view+json": {
       "version_major": 2,
       "version_minor": 0,
       "model_id": "514e7c92e5ef4e7d89946427210709fe"
      }
     },
     "metadata": {}
    },
    {
     "output_type": "display_data",
     "data": {
      "text/plain": "<IPython.core.display.HTML object>",
      "text/html": "<b>Pipeline Execution Time:</b> 1.72 Seconds"
     },
     "metadata": {}
    }
   ],
   "source": [
    "def make_pipeline():\n",
    "    return Pipeline(\n",
    "        columns={\n",
    "            '行业名称': Fundamentals.financial_indicator_rankings.行业名称.latest,\n",
    "            '毛利率': Fundamentals.financial_indicator_rankings.毛利率.latest,\n",
    "            '毛利率行业排名': Fundamentals.financial_indicator_rankings.毛利率行业排名.latest,\n",
    "        })\n",
    "\n",
    "\n",
    "data_output = run_pipeline(\n",
    "    make_pipeline(), start_date='2015-06-01', end_date='2016-06-10')"
   ]
  },
  {
   "cell_type": "code",
   "execution_count": 3,
   "metadata": {
    "ExecuteTime": {
     "end_time": "2019-01-02T07:33:49.896654Z",
     "start_time": "2019-01-02T07:33:49.619028Z"
    }
   },
   "outputs": [
    {
     "output_type": "execute_result",
     "data": {
      "text/plain": "                                        行业名称      毛利率  毛利率行业排名\ndatetime                  asset                               \n2015-06-01 00:00:00+00:00 美的集团(000333)    空调   10.317     16.0\n                          苏宁易购(002024)  专业连锁   -1.560      8.0\n                          中源协和(600645)  生物制品  106.800      2.0\n2015-06-02 00:00:00+00:00 美的集团(000333)    空调   10.317     16.0\n                          苏宁易购(002024)  专业连锁   -1.560      8.0\n...                                      ...      ...      ...\n2016-06-07 00:00:00+00:00 苏宁易购(002024)  专业连锁   -1.426      7.0\n                          中源协和(600645)  生物制品    0.940     25.0\n2016-06-08 00:00:00+00:00 美的集团(000333)    空调   12.334     12.0\n                          苏宁易购(002024)  专业连锁   -1.426      7.0\n                          中源协和(600645)  生物制品    0.940     25.0\n\n[756 rows x 3 columns]",
      "text/html": "<div>\n<style scoped>\n    .dataframe tbody tr th:only-of-type {\n        vertical-align: middle;\n    }\n\n    .dataframe tbody tr th {\n        vertical-align: top;\n    }\n\n    .dataframe thead th {\n        text-align: right;\n    }\n</style>\n<table border=\"1\" class=\"dataframe\">\n  <thead>\n    <tr style=\"text-align: right;\">\n      <th></th>\n      <th></th>\n      <th>行业名称</th>\n      <th>毛利率</th>\n      <th>毛利率行业排名</th>\n    </tr>\n    <tr>\n      <th>datetime</th>\n      <th>asset</th>\n      <th></th>\n      <th></th>\n      <th></th>\n    </tr>\n  </thead>\n  <tbody>\n    <tr>\n      <th rowspan=\"3\" valign=\"top\">2015-06-01 00:00:00+00:00</th>\n      <th>美的集团(000333)</th>\n      <td>空调</td>\n      <td>10.317</td>\n      <td>16.0</td>\n    </tr>\n    <tr>\n      <th>苏宁易购(002024)</th>\n      <td>专业连锁</td>\n      <td>-1.560</td>\n      <td>8.0</td>\n    </tr>\n    <tr>\n      <th>中源协和(600645)</th>\n      <td>生物制品</td>\n      <td>106.800</td>\n      <td>2.0</td>\n    </tr>\n    <tr>\n      <th rowspan=\"2\" valign=\"top\">2015-06-02 00:00:00+00:00</th>\n      <th>美的集团(000333)</th>\n      <td>空调</td>\n      <td>10.317</td>\n      <td>16.0</td>\n    </tr>\n    <tr>\n      <th>苏宁易购(002024)</th>\n      <td>专业连锁</td>\n      <td>-1.560</td>\n      <td>8.0</td>\n    </tr>\n    <tr>\n      <th>...</th>\n      <th>...</th>\n      <td>...</td>\n      <td>...</td>\n      <td>...</td>\n    </tr>\n    <tr>\n      <th rowspan=\"2\" valign=\"top\">2016-06-07 00:00:00+00:00</th>\n      <th>苏宁易购(002024)</th>\n      <td>专业连锁</td>\n      <td>-1.426</td>\n      <td>7.0</td>\n    </tr>\n    <tr>\n      <th>中源协和(600645)</th>\n      <td>生物制品</td>\n      <td>0.940</td>\n      <td>25.0</td>\n    </tr>\n    <tr>\n      <th rowspan=\"3\" valign=\"top\">2016-06-08 00:00:00+00:00</th>\n      <th>美的集团(000333)</th>\n      <td>空调</td>\n      <td>12.334</td>\n      <td>12.0</td>\n    </tr>\n    <tr>\n      <th>苏宁易购(002024)</th>\n      <td>专业连锁</td>\n      <td>-1.426</td>\n      <td>7.0</td>\n    </tr>\n    <tr>\n      <th>中源协和(600645)</th>\n      <td>生物制品</td>\n      <td>0.940</td>\n      <td>25.0</td>\n    </tr>\n  </tbody>\n</table>\n<p>756 rows × 3 columns</p>\n</div>"
     },
     "metadata": {},
     "execution_count": 3
    }
   ],
   "source": [
    "select_output_by(data_output, assets=['000333', '600645','002024'])"
   ]
  }
 ],
 "metadata": {
  "kernelspec": {
   "display_name": "Python 3.7.7 64-bit ('zipline': conda)",
   "language": "python",
   "name": "python37764bitziplinecondafc6f11bd3b9c4249a9fc63b5c8ae4fcf"
  },
  "language_info": {
   "codemirror_mode": {
    "name": "ipython",
    "version": 3
   },
   "file_extension": ".py",
   "mimetype": "text/x-python",
   "name": "python",
   "nbconvert_exporter": "python",
   "pygments_lexer": "ipython3",
   "version": "3.7.7-final"
  },
  "toc": {
   "base_numbering": 1,
   "nav_menu": {},
   "number_sections": true,
   "sideBar": true,
   "skip_h1_title": false,
   "title_cell": "Table of Contents",
   "title_sidebar": "Contents",
   "toc_cell": false,
   "toc_position": {},
   "toc_section_display": true,
   "toc_window_display": false
  }
 },
 "nbformat": 4,
 "nbformat_minor": 2
}