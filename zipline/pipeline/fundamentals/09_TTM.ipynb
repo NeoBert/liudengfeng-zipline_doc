{
 "cells": [
  {
   "cell_type": "code",
   "execution_count": 1,
   "metadata": {
    "ExecuteTime": {
     "end_time": "2019-01-02T06:56:42.679696Z",
     "start_time": "2019-01-02T06:56:38.829814Z"
    }
   },
   "outputs": [],
   "source": [
    "from zipline.pipeline import Pipeline\n",
    "from zipline.research import run_pipeline, symbols, symbol, select_output_by\n",
    "from zipline.pipeline.fundamentals import Fundamentals"
   ]
  },
  {
   "cell_type": "code",
   "execution_count": 2,
   "metadata": {
    "ExecuteTime": {
     "end_time": "2019-01-02T06:56:44.876144Z",
     "start_time": "2019-01-02T06:56:42.679696Z"
    }
   },
   "outputs": [
    {
     "output_type": "display_data",
     "data": {
      "text/plain": "",
      "application/vnd.jupyter.widget-view+json": {
       "version_major": 2,
       "version_minor": 0,
       "model_id": "d4658625bca540d89480ef813dfa99dd"
      }
     },
     "metadata": {}
    },
    {
     "output_type": "display_data",
     "data": {
      "text/plain": "<IPython.core.display.HTML object>",
      "text/html": "<b>Pipeline Execution Time:</b> 1.27 Seconds"
     },
     "metadata": {}
    }
   ],
   "source": [
    "def make_pipeline():\n",
    "    return Pipeline(\n",
    "        columns={\n",
    "            '管理费用': Fundamentals.ttm_profit_statement.管理费用.latest,\n",
    "            '投资支付的现金': Fundamentals.ttm_cash_flow.投资支付的现金.latest,\n",
    "        })\n",
    "\n",
    "\n",
    "data_output = run_pipeline(\n",
    "    make_pipeline(), start_date='2018-06-01', end_date='2018-06-10')"
   ]
  },
  {
   "cell_type": "code",
   "execution_count": 3,
   "metadata": {
    "ExecuteTime": {
     "end_time": "2019-01-02T06:56:45.179332Z",
     "start_time": "2019-01-02T06:56:44.876144Z"
    }
   },
   "outputs": [
    {
     "output_type": "execute_result",
     "data": {
      "text/plain": "                                                管理费用       投资支付的现金\ndatetime                  asset                                   \n2018-06-01 00:00:00+00:00 美的集团(000333)  1.535948e+10  8.498058e+10\n                          苏宁易购(002024)  5.251803e+09  2.015854e+11\n                          中源协和(600645)  3.015412e+08  6.020841e+08\n2018-06-04 00:00:00+00:00 美的集团(000333)  1.535948e+10  8.498058e+10\n                          苏宁易购(002024)  5.251803e+09  2.015854e+11\n                          中源协和(600645)  3.015412e+08  6.020841e+08\n2018-06-05 00:00:00+00:00 美的集团(000333)  1.535948e+10  8.498058e+10\n                          苏宁易购(002024)  5.251803e+09  2.015854e+11\n                          中源协和(600645)  3.015412e+08  6.020841e+08\n2018-06-06 00:00:00+00:00 美的集团(000333)  1.535948e+10  8.498058e+10\n                          苏宁易购(002024)  5.251803e+09  2.015854e+11\n                          中源协和(600645)  3.015412e+08  6.020841e+08\n2018-06-07 00:00:00+00:00 美的集团(000333)  1.535948e+10  8.498058e+10\n                          苏宁易购(002024)  5.251803e+09  2.015854e+11\n                          中源协和(600645)  3.015412e+08  6.020841e+08\n2018-06-08 00:00:00+00:00 美的集团(000333)  1.535948e+10  8.498058e+10\n                          苏宁易购(002024)  5.251803e+09  2.015854e+11\n                          中源协和(600645)  3.015412e+08  6.020841e+08",
      "text/html": "<div>\n<style scoped>\n    .dataframe tbody tr th:only-of-type {\n        vertical-align: middle;\n    }\n\n    .dataframe tbody tr th {\n        vertical-align: top;\n    }\n\n    .dataframe thead th {\n        text-align: right;\n    }\n</style>\n<table border=\"1\" class=\"dataframe\">\n  <thead>\n    <tr style=\"text-align: right;\">\n      <th></th>\n      <th></th>\n      <th>管理费用</th>\n      <th>投资支付的现金</th>\n    </tr>\n    <tr>\n      <th>datetime</th>\n      <th>asset</th>\n      <th></th>\n      <th></th>\n    </tr>\n  </thead>\n  <tbody>\n    <tr>\n      <th rowspan=\"3\" valign=\"top\">2018-06-01 00:00:00+00:00</th>\n      <th>美的集团(000333)</th>\n      <td>1.535948e+10</td>\n      <td>8.498058e+10</td>\n    </tr>\n    <tr>\n      <th>苏宁易购(002024)</th>\n      <td>5.251803e+09</td>\n      <td>2.015854e+11</td>\n    </tr>\n    <tr>\n      <th>中源协和(600645)</th>\n      <td>3.015412e+08</td>\n      <td>6.020841e+08</td>\n    </tr>\n    <tr>\n      <th rowspan=\"3\" valign=\"top\">2018-06-04 00:00:00+00:00</th>\n      <th>美的集团(000333)</th>\n      <td>1.535948e+10</td>\n      <td>8.498058e+10</td>\n    </tr>\n    <tr>\n      <th>苏宁易购(002024)</th>\n      <td>5.251803e+09</td>\n      <td>2.015854e+11</td>\n    </tr>\n    <tr>\n      <th>中源协和(600645)</th>\n      <td>3.015412e+08</td>\n      <td>6.020841e+08</td>\n    </tr>\n    <tr>\n      <th rowspan=\"3\" valign=\"top\">2018-06-05 00:00:00+00:00</th>\n      <th>美的集团(000333)</th>\n      <td>1.535948e+10</td>\n      <td>8.498058e+10</td>\n    </tr>\n    <tr>\n      <th>苏宁易购(002024)</th>\n      <td>5.251803e+09</td>\n      <td>2.015854e+11</td>\n    </tr>\n    <tr>\n      <th>中源协和(600645)</th>\n      <td>3.015412e+08</td>\n      <td>6.020841e+08</td>\n    </tr>\n    <tr>\n      <th rowspan=\"3\" valign=\"top\">2018-06-06 00:00:00+00:00</th>\n      <th>美的集团(000333)</th>\n      <td>1.535948e+10</td>\n      <td>8.498058e+10</td>\n    </tr>\n    <tr>\n      <th>苏宁易购(002024)</th>\n      <td>5.251803e+09</td>\n      <td>2.015854e+11</td>\n    </tr>\n    <tr>\n      <th>中源协和(600645)</th>\n      <td>3.015412e+08</td>\n      <td>6.020841e+08</td>\n    </tr>\n    <tr>\n      <th rowspan=\"3\" valign=\"top\">2018-06-07 00:00:00+00:00</th>\n      <th>美的集团(000333)</th>\n      <td>1.535948e+10</td>\n      <td>8.498058e+10</td>\n    </tr>\n    <tr>\n      <th>苏宁易购(002024)</th>\n      <td>5.251803e+09</td>\n      <td>2.015854e+11</td>\n    </tr>\n    <tr>\n      <th>中源协和(600645)</th>\n      <td>3.015412e+08</td>\n      <td>6.020841e+08</td>\n    </tr>\n    <tr>\n      <th rowspan=\"3\" valign=\"top\">2018-06-08 00:00:00+00:00</th>\n      <th>美的集团(000333)</th>\n      <td>1.535948e+10</td>\n      <td>8.498058e+10</td>\n    </tr>\n    <tr>\n      <th>苏宁易购(002024)</th>\n      <td>5.251803e+09</td>\n      <td>2.015854e+11</td>\n    </tr>\n    <tr>\n      <th>中源协和(600645)</th>\n      <td>3.015412e+08</td>\n      <td>6.020841e+08</td>\n    </tr>\n  </tbody>\n</table>\n</div>"
     },
     "metadata": {},
     "execution_count": 3
    }
   ],
   "source": [
    "select_output_by(data_output, assets=['000333', '600645','002024'])"
   ]
  }
 ],
 "metadata": {
  "kernelspec": {
   "display_name": "Python 3.7.7 64-bit ('zipline': conda)",
   "language": "python",
   "name": "python37764bitziplinecondafc6f11bd3b9c4249a9fc63b5c8ae4fcf"
  },
  "language_info": {
   "codemirror_mode": {
    "name": "ipython",
    "version": 3
   },
   "file_extension": ".py",
   "mimetype": "text/x-python",
   "name": "python",
   "nbconvert_exporter": "python",
   "pygments_lexer": "ipython3",
   "version": "3.7.7-final"
  },
  "toc": {
   "base_numbering": 1,
   "nav_menu": {},
   "number_sections": true,
   "sideBar": true,
   "skip_h1_title": false,
   "title_cell": "Table of Contents",
   "title_sidebar": "Contents",
   "toc_cell": false,
   "toc_position": {},
   "toc_section_display": true,
   "toc_window_display": false
  }
 },
 "nbformat": 4,
 "nbformat_minor": 2
}