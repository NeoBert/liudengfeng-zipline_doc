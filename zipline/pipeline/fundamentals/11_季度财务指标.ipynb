{
 "cells": [
  {
   "cell_type": "code",
   "execution_count": 1,
   "metadata": {
    "ExecuteTime": {
     "end_time": "2019-01-02T07:23:52.974126Z",
     "start_time": "2019-01-02T07:23:49.126967Z"
    }
   },
   "outputs": [],
   "source": [
    "from zipline.pipeline import Pipeline\n",
    "from zipline.research import run_pipeline, symbols, symbol, select_output_by\n",
    "from zipline.pipeline.fundamentals import Fundamentals"
   ]
  },
  {
   "cell_type": "code",
   "execution_count": 2,
   "metadata": {
    "ExecuteTime": {
     "end_time": "2019-01-02T07:24:33.833871Z",
     "start_time": "2019-01-02T07:24:32.033342Z"
    }
   },
   "outputs": [
    {
     "output_type": "display_data",
     "data": {
      "text/plain": "",
      "application/vnd.jupyter.widget-view+json": {
       "version_major": 2,
       "version_minor": 0,
       "model_id": "7856f03d153b462d82eec6a08ea193ad"
      }
     },
     "metadata": {}
    },
    {
     "output_type": "display_data",
     "data": {
      "text/plain": "<IPython.core.display.HTML object>",
      "text/html": "<b>Pipeline Execution Time:</b> 1.20 Seconds"
     },
     "metadata": {}
    }
   ],
   "source": [
    "def make_pipeline():\n",
    "    return Pipeline(\n",
    "        columns={\n",
    "            '净利润增长率': Fundamentals.q_financial_indicators.净利润增长率.latest,\n",
    "            '净资产收益率': Fundamentals.q_financial_indicators.净资产收益率.latest,\n",
    "        })\n",
    "\n",
    "\n",
    "data_output = run_pipeline(\n",
    "    make_pipeline(), start_date='2015-06-01', end_date='2016-06-10')"
   ]
  },
  {
   "cell_type": "code",
   "execution_count": 3,
   "metadata": {
    "ExecuteTime": {
     "end_time": "2019-01-02T07:24:34.877760Z",
     "start_time": "2019-01-02T07:24:34.558468Z"
    }
   },
   "outputs": [
    {
     "output_type": "execute_result",
     "data": {
      "text/plain": "                                          净利润增长率  净资产收益率\ndatetime                  asset                         \n2015-06-01 00:00:00+00:00 美的集团(000333)    27.621   7.783\n                          苏宁易购(002024)   -17.963  -1.127\n                          中源协和(600645)  1860.248  11.029\n2015-06-02 00:00:00+00:00 美的集团(000333)    27.621   7.783\n                          苏宁易购(002024)   -17.963  -1.127\n...                                          ...     ...\n2016-06-07 00:00:00+00:00 苏宁易购(002024)    -2.848  -0.986\n                          中源协和(600645)  -101.352  -0.409\n2016-06-08 00:00:00+00:00 美的集团(000333)    14.133   7.255\n                          苏宁易购(002024)    -2.848  -0.986\n                          中源协和(600645)  -101.352  -0.409\n\n[756 rows x 2 columns]",
      "text/html": "<div>\n<style scoped>\n    .dataframe tbody tr th:only-of-type {\n        vertical-align: middle;\n    }\n\n    .dataframe tbody tr th {\n        vertical-align: top;\n    }\n\n    .dataframe thead th {\n        text-align: right;\n    }\n</style>\n<table border=\"1\" class=\"dataframe\">\n  <thead>\n    <tr style=\"text-align: right;\">\n      <th></th>\n      <th></th>\n      <th>净利润增长率</th>\n      <th>净资产收益率</th>\n    </tr>\n    <tr>\n      <th>datetime</th>\n      <th>asset</th>\n      <th></th>\n      <th></th>\n    </tr>\n  </thead>\n  <tbody>\n    <tr>\n      <th rowspan=\"3\" valign=\"top\">2015-06-01 00:00:00+00:00</th>\n      <th>美的集团(000333)</th>\n      <td>27.621</td>\n      <td>7.783</td>\n    </tr>\n    <tr>\n      <th>苏宁易购(002024)</th>\n      <td>-17.963</td>\n      <td>-1.127</td>\n    </tr>\n    <tr>\n      <th>中源协和(600645)</th>\n      <td>1860.248</td>\n      <td>11.029</td>\n    </tr>\n    <tr>\n      <th rowspan=\"2\" valign=\"top\">2015-06-02 00:00:00+00:00</th>\n      <th>美的集团(000333)</th>\n      <td>27.621</td>\n      <td>7.783</td>\n    </tr>\n    <tr>\n      <th>苏宁易购(002024)</th>\n      <td>-17.963</td>\n      <td>-1.127</td>\n    </tr>\n    <tr>\n      <th>...</th>\n      <th>...</th>\n      <td>...</td>\n      <td>...</td>\n    </tr>\n    <tr>\n      <th rowspan=\"2\" valign=\"top\">2016-06-07 00:00:00+00:00</th>\n      <th>苏宁易购(002024)</th>\n      <td>-2.848</td>\n      <td>-0.986</td>\n    </tr>\n    <tr>\n      <th>中源协和(600645)</th>\n      <td>-101.352</td>\n      <td>-0.409</td>\n    </tr>\n    <tr>\n      <th rowspan=\"3\" valign=\"top\">2016-06-08 00:00:00+00:00</th>\n      <th>美的集团(000333)</th>\n      <td>14.133</td>\n      <td>7.255</td>\n    </tr>\n    <tr>\n      <th>苏宁易购(002024)</th>\n      <td>-2.848</td>\n      <td>-0.986</td>\n    </tr>\n    <tr>\n      <th>中源协和(600645)</th>\n      <td>-101.352</td>\n      <td>-0.409</td>\n    </tr>\n  </tbody>\n</table>\n<p>756 rows × 2 columns</p>\n</div>"
     },
     "metadata": {},
     "execution_count": 3
    }
   ],
   "source": [
    "select_output_by(data_output, assets=['000333', '600645','002024'])"
   ]
  }
 ],
 "metadata": {
  "kernelspec": {
   "display_name": "Python 3.7.7 64-bit ('zipline': conda)",
   "language": "python",
   "name": "python37764bitziplinecondafc6f11bd3b9c4249a9fc63b5c8ae4fcf"
  },
  "language_info": {
   "codemirror_mode": {
    "name": "ipython",
    "version": 3
   },
   "file_extension": ".py",
   "mimetype": "text/x-python",
   "name": "python",
   "nbconvert_exporter": "python",
   "pygments_lexer": "ipython3",
   "version": "3.7.7-final"
  },
  "toc": {
   "base_numbering": 1,
   "nav_menu": {},
   "number_sections": true,
   "sideBar": true,
   "skip_h1_title": false,
   "title_cell": "Table of Contents",
   "title_sidebar": "Contents",
   "toc_cell": false,
   "toc_position": {},
   "toc_section_display": true,
   "toc_window_display": false
  }
 },
 "nbformat": 4,
 "nbformat_minor": 2
}