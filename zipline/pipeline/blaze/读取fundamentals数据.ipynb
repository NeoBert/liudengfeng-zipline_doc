{
 "cells": [
  {
   "cell_type": "code",
   "execution_count": 1,
   "metadata": {},
   "outputs": [],
   "source": [
    "from zipline.pipeline.loaders.blaze import from_blaze, BlazeLoader\n",
    "from zipline.pipeline.fundamentals.reader import _gen_expr, fillvalue_for_expr"
   ]
  },
  {
   "cell_type": "code",
   "execution_count": 2,
   "metadata": {},
   "outputs": [],
   "source": [
    "import pandas as pd\n",
    "from zipline.research import create_domain\n",
    "from zipline.pipeline import Pipeline\n",
    "from zipline.pipeline.loaders.blaze import (\n",
    "    from_blaze,\n",
    "    BlazeLoader,\n",
    "    NoMetaDataWarning,\n",
    ")\n",
    "from zipline.data import bundles\n",
    "from zipline.pipeline.engine import SimplePipelineEngine"
   ]
  },
  {
   "cell_type": "markdown",
   "metadata": {},
   "source": [
    "# 检查数据"
   ]
  },
  {
   "cell_type": "code",
   "execution_count": 3,
   "metadata": {},
   "outputs": [],
   "source": [
    "from zipline.pipeline.fundamentals.preprocess import get_static_info_table"
   ]
  },
  {
   "cell_type": "code",
   "execution_count": 4,
   "metadata": {
    "tags": []
   },
   "outputs": [],
   "source": [
    "df, maps = get_static_info_table()"
   ]
  },
  {
   "cell_type": "code",
   "execution_count": 5,
   "metadata": {},
   "outputs": [
    {
     "output_type": "execute_result",
     "data": {
      "text/plain": "dtype('bool')"
     },
     "metadata": {},
     "execution_count": 5
    }
   ],
   "source": [
    "df['A254'].dtype"
   ]
  },
  {
   "cell_type": "code",
   "execution_count": 6,
   "metadata": {
    "tags": []
   },
   "outputs": [
    {
     "output_type": "execute_result",
     "data": {
      "text/plain": "dtype('O')"
     },
     "metadata": {},
     "execution_count": 6
    }
   ],
   "source": [
    "df['申万一级行业'].dtype"
   ]
  },
  {
   "cell_type": "markdown",
   "metadata": {},
   "source": [
    "# 表达式"
   ]
  },
  {
   "cell_type": "code",
   "execution_count": 7,
   "metadata": {},
   "outputs": [],
   "source": [
    "table_name = 'infoes'"
   ]
  },
  {
   "cell_type": "code",
   "execution_count": 8,
   "metadata": {},
   "outputs": [],
   "source": [
    "expr = _gen_expr(table_name)"
   ]
  },
  {
   "cell_type": "markdown",
   "metadata": {},
   "source": [
    "# loader"
   ]
  },
  {
   "cell_type": "code",
   "execution_count": 9,
   "metadata": {},
   "outputs": [],
   "source": [
    "loader = BlazeLoader()"
   ]
  },
  {
   "cell_type": "markdown",
   "metadata": {},
   "source": [
    "# finder"
   ]
  },
  {
   "cell_type": "code",
   "execution_count": 10,
   "metadata": {},
   "outputs": [],
   "source": [
    "bundle = 'cndaily'\n",
    "bundle_data = bundles.load(bundle)\n",
    "finder = bundle_data.asset_finder"
   ]
  },
  {
   "cell_type": "markdown",
   "metadata": {},
   "source": [
    "# domain"
   ]
  },
  {
   "cell_type": "code",
   "execution_count": 11,
   "metadata": {},
   "outputs": [],
   "source": [
    "from zipline.research import create_domain"
   ]
  },
  {
   "cell_type": "code",
   "execution_count": 12,
   "metadata": {},
   "outputs": [],
   "source": [
    "dates = pd.date_range('2020-06-01','2020-07-05')"
   ]
  },
  {
   "cell_type": "code",
   "execution_count": 13,
   "metadata": {},
   "outputs": [],
   "source": [
    "domain = create_domain(dates)"
   ]
  },
  {
   "cell_type": "markdown",
   "metadata": {},
   "source": [
    "# dataset"
   ]
  },
  {
   "cell_type": "code",
   "execution_count": 14,
   "metadata": {},
   "outputs": [],
   "source": [
    "ds = from_blaze(\n",
    "    expr,\n",
    "    loader=loader,\n",
    "    no_deltas_rule='ignore',\n",
    "    no_checkpoints_rule='ignore',\n",
    "    missing_values=fillvalue_for_expr(expr),\n",
    "    domain=domain\n",
    ")"
   ]
  },
  {
   "cell_type": "code",
   "execution_count": 15,
   "metadata": {},
   "outputs": [],
   "source": [
    "p = Pipeline()\n",
    "for a in ['申万一级行业', '申万一级行业编码', '注册资本', 'A100']:\n",
    "    p.add(getattr(ds, a).latest, a)"
   ]
  },
  {
   "cell_type": "code",
   "execution_count": 16,
   "metadata": {},
   "outputs": [],
   "source": [
    "result = SimplePipelineEngine(\n",
    "            loader, finder,\n",
    "        ).run_pipeline(p, dates[0], dates[-1])"
   ]
  },
  {
   "cell_type": "code",
   "execution_count": 17,
   "metadata": {},
   "outputs": [
    {
     "output_type": "execute_result",
     "data": {
      "text/plain": "                                       申万一级行业  申万一级行业编码         注册资本   A100\ndatetime                  asset                                            \n2020-07-04 00:00:00+00:00 吉贝尔(688566)    医药生物        11   18694.1600  False\n                          凌志软件(688588)    计算机        25   40001.0003  False\n                          金博股份(688598)   有色金属         4    8000.0000  False\n                          天合光能(688599)   电气设备        22  206802.6375  False\n                          N皖仪(688600)    机械设备        23   13334.0000  False",
      "text/html": "<div>\n<style scoped>\n    .dataframe tbody tr th:only-of-type {\n        vertical-align: middle;\n    }\n\n    .dataframe tbody tr th {\n        vertical-align: top;\n    }\n\n    .dataframe thead th {\n        text-align: right;\n    }\n</style>\n<table border=\"1\" class=\"dataframe\">\n  <thead>\n    <tr style=\"text-align: right;\">\n      <th></th>\n      <th></th>\n      <th>申万一级行业</th>\n      <th>申万一级行业编码</th>\n      <th>注册资本</th>\n      <th>A100</th>\n    </tr>\n    <tr>\n      <th>datetime</th>\n      <th>asset</th>\n      <th></th>\n      <th></th>\n      <th></th>\n      <th></th>\n    </tr>\n  </thead>\n  <tbody>\n    <tr>\n      <th rowspan=\"5\" valign=\"top\">2020-07-04 00:00:00+00:00</th>\n      <th>吉贝尔(688566)</th>\n      <td>医药生物</td>\n      <td>11</td>\n      <td>18694.1600</td>\n      <td>False</td>\n    </tr>\n    <tr>\n      <th>凌志软件(688588)</th>\n      <td>计算机</td>\n      <td>25</td>\n      <td>40001.0003</td>\n      <td>False</td>\n    </tr>\n    <tr>\n      <th>金博股份(688598)</th>\n      <td>有色金属</td>\n      <td>4</td>\n      <td>8000.0000</td>\n      <td>False</td>\n    </tr>\n    <tr>\n      <th>天合光能(688599)</th>\n      <td>电气设备</td>\n      <td>22</td>\n      <td>206802.6375</td>\n      <td>False</td>\n    </tr>\n    <tr>\n      <th>N皖仪(688600)</th>\n      <td>机械设备</td>\n      <td>23</td>\n      <td>13334.0000</td>\n      <td>False</td>\n    </tr>\n  </tbody>\n</table>\n</div>"
     },
     "metadata": {},
     "execution_count": 17
    }
   ],
   "source": [
    "result.tail()"
   ]
  },
  {
   "cell_type": "code",
   "execution_count": 18,
   "metadata": {},
   "outputs": [
    {
     "output_type": "execute_result",
     "data": {
      "text/plain": "DatetimeIndex(['2020-06-01 00:00:00+00:00', '2020-06-02 00:00:00+00:00',\n               '2020-06-03 00:00:00+00:00', '2020-06-04 00:00:00+00:00',\n               '2020-06-05 00:00:00+00:00', '2020-06-06 00:00:00+00:00',\n               '2020-06-07 00:00:00+00:00', '2020-06-08 00:00:00+00:00',\n               '2020-06-09 00:00:00+00:00', '2020-06-10 00:00:00+00:00',\n               '2020-06-11 00:00:00+00:00', '2020-06-12 00:00:00+00:00',\n               '2020-06-13 00:00:00+00:00', '2020-06-14 00:00:00+00:00',\n               '2020-06-15 00:00:00+00:00', '2020-06-16 00:00:00+00:00',\n               '2020-06-17 00:00:00+00:00', '2020-06-18 00:00:00+00:00',\n               '2020-06-19 00:00:00+00:00', '2020-06-20 00:00:00+00:00',\n               '2020-06-21 00:00:00+00:00', '2020-06-22 00:00:00+00:00',\n               '2020-06-23 00:00:00+00:00', '2020-06-24 00:00:00+00:00',\n               '2020-06-25 00:00:00+00:00', '2020-06-26 00:00:00+00:00',\n               '2020-06-27 00:00:00+00:00', '2020-06-28 00:00:00+00:00',\n               '2020-06-29 00:00:00+00:00', '2020-06-30 00:00:00+00:00',\n               '2020-07-01 00:00:00+00:00', '2020-07-02 00:00:00+00:00',\n               '2020-07-03 00:00:00+00:00', '2020-07-04 00:00:00+00:00',\n               '2020-07-05 00:00:00+00:00'],\n              dtype='datetime64[ns, UTC]', name='datetime', freq='D')"
     },
     "metadata": {},
     "execution_count": 18
    }
   ],
   "source": [
    "result.index.levels[0]"
   ]
  },
  {
   "cell_type": "code",
   "execution_count": 19,
   "metadata": {},
   "outputs": [
    {
     "output_type": "execute_result",
     "data": {
      "text/plain": "{'申万一级行业': Latest([BlazeDataSet_0<CN>.申万一级行业], 1),\n '申万一级行业编码': Latest([BlazeDataSet_0<CN>.申万一级行业编码], 1),\n '注册资本': Latest([BlazeDataSet_0<CN>.注册资本], 1),\n 'A100': Latest([BlazeDataSet_0<CN>.A100], 1)}"
     },
     "metadata": {},
     "execution_count": 19
    }
   ],
   "source": [
    "p.columns"
   ]
  },
  {
   "cell_type": "code",
   "execution_count": 20,
   "metadata": {},
   "outputs": [],
   "source": [
    "p = Pipeline()"
   ]
  },
  {
   "cell_type": "code",
   "execution_count": 21,
   "metadata": {},
   "outputs": [
    {
     "output_type": "execute_result",
     "data": {
      "text/plain": "GENERIC"
     },
     "metadata": {},
     "execution_count": 21
    }
   ],
   "source": [
    "p._domain"
   ]
  },
  {
   "cell_type": "code",
   "execution_count": 22,
   "metadata": {},
   "outputs": [],
   "source": [
    "ds2 = from_blaze(\n",
    "    expr,\n",
    "    loader=loader,\n",
    "    no_deltas_rule='ignore',\n",
    "    no_checkpoints_rule='ignore',\n",
    "    missing_values=fillvalue_for_expr(expr),\n",
    "    domain=domain\n",
    ")"
   ]
  },
  {
   "cell_type": "code",
   "execution_count": 23,
   "metadata": {},
   "outputs": [],
   "source": [
    "p = Pipeline(domain=domain)\n",
    "for a in ['申万一级行业', '申万一级行业编码', '注册资本', 'A100']:\n",
    "    p.add(getattr(ds2, a).latest, a)"
   ]
  },
  {
   "cell_type": "code",
   "execution_count": 24,
   "metadata": {},
   "outputs": [],
   "source": [
    "result_2 = SimplePipelineEngine(\n",
    "            loader, finder,\n",
    "        ).run_pipeline(p, dates[0], dates[-1])"
   ]
  },
  {
   "cell_type": "code",
   "execution_count": 25,
   "metadata": {},
   "outputs": [
    {
     "output_type": "execute_result",
     "data": {
      "text/plain": "                                       申万一级行业  申万一级行业编码          注册资本   A100\ndatetime                  asset                                             \n2020-06-01 00:00:00+00:00 平安银行(000001)     银行        17  1.940592e+06  False\n                          万 科Ａ(000002)    房地产        14  1.161773e+06  False\n                          国农科技(000004)   医药生物        11  1.650526e+04  False\n                          世纪星源(000005)   公用事业        12  1.058537e+05  False\n                          深振业Ａ(000006)    房地产        14  1.349995e+05  False\n...                                       ...       ...           ...    ...\n2020-07-04 00:00:00+00:00 吉贝尔(688566)    医药生物        11  1.869416e+04  False\n                          凌志软件(688588)    计算机        25  4.000100e+04  False\n                          金博股份(688598)   有色金属         4  8.000000e+03  False\n                          天合光能(688599)   电气设备        22  2.068026e+05  False\n                          N皖仪(688600)    机械设备        23  1.333400e+04  False\n\n[130399 rows x 4 columns]",
      "text/html": "<div>\n<style scoped>\n    .dataframe tbody tr th:only-of-type {\n        vertical-align: middle;\n    }\n\n    .dataframe tbody tr th {\n        vertical-align: top;\n    }\n\n    .dataframe thead th {\n        text-align: right;\n    }\n</style>\n<table border=\"1\" class=\"dataframe\">\n  <thead>\n    <tr style=\"text-align: right;\">\n      <th></th>\n      <th></th>\n      <th>申万一级行业</th>\n      <th>申万一级行业编码</th>\n      <th>注册资本</th>\n      <th>A100</th>\n    </tr>\n    <tr>\n      <th>datetime</th>\n      <th>asset</th>\n      <th></th>\n      <th></th>\n      <th></th>\n      <th></th>\n    </tr>\n  </thead>\n  <tbody>\n    <tr>\n      <th rowspan=\"5\" valign=\"top\">2020-06-01 00:00:00+00:00</th>\n      <th>平安银行(000001)</th>\n      <td>银行</td>\n      <td>17</td>\n      <td>1.940592e+06</td>\n      <td>False</td>\n    </tr>\n    <tr>\n      <th>万 科Ａ(000002)</th>\n      <td>房地产</td>\n      <td>14</td>\n      <td>1.161773e+06</td>\n      <td>False</td>\n    </tr>\n    <tr>\n      <th>国农科技(000004)</th>\n      <td>医药生物</td>\n      <td>11</td>\n      <td>1.650526e+04</td>\n      <td>False</td>\n    </tr>\n    <tr>\n      <th>世纪星源(000005)</th>\n      <td>公用事业</td>\n      <td>12</td>\n      <td>1.058537e+05</td>\n      <td>False</td>\n    </tr>\n    <tr>\n      <th>深振业Ａ(000006)</th>\n      <td>房地产</td>\n      <td>14</td>\n      <td>1.349995e+05</td>\n      <td>False</td>\n    </tr>\n    <tr>\n      <th>...</th>\n      <th>...</th>\n      <td>...</td>\n      <td>...</td>\n      <td>...</td>\n      <td>...</td>\n    </tr>\n    <tr>\n      <th rowspan=\"5\" valign=\"top\">2020-07-04 00:00:00+00:00</th>\n      <th>吉贝尔(688566)</th>\n      <td>医药生物</td>\n      <td>11</td>\n      <td>1.869416e+04</td>\n      <td>False</td>\n    </tr>\n    <tr>\n      <th>凌志软件(688588)</th>\n      <td>计算机</td>\n      <td>25</td>\n      <td>4.000100e+04</td>\n      <td>False</td>\n    </tr>\n    <tr>\n      <th>金博股份(688598)</th>\n      <td>有色金属</td>\n      <td>4</td>\n      <td>8.000000e+03</td>\n      <td>False</td>\n    </tr>\n    <tr>\n      <th>天合光能(688599)</th>\n      <td>电气设备</td>\n      <td>22</td>\n      <td>2.068026e+05</td>\n      <td>False</td>\n    </tr>\n    <tr>\n      <th>N皖仪(688600)</th>\n      <td>机械设备</td>\n      <td>23</td>\n      <td>1.333400e+04</td>\n      <td>False</td>\n    </tr>\n  </tbody>\n</table>\n<p>130399 rows × 4 columns</p>\n</div>"
     },
     "metadata": {},
     "execution_count": 25
    }
   ],
   "source": [
    "result_2"
   ]
  }
 ],
 "metadata": {
  "language_info": {
   "codemirror_mode": {
    "name": "ipython",
    "version": 3
   },
   "file_extension": ".py",
   "mimetype": "text/x-python",
   "name": "python",
   "nbconvert_exporter": "python",
   "pygments_lexer": "ipython3",
   "version": "3.7.7-final"
  },
  "orig_nbformat": 2,
  "kernelspec": {
   "name": "python37764bitziplinecondafc6f11bd3b9c4249a9fc63b5c8ae4fcf",
   "display_name": "Python 3.7.7 64-bit ('zipline': conda)"
  }
 },
 "nbformat": 4,
 "nbformat_minor": 2
}