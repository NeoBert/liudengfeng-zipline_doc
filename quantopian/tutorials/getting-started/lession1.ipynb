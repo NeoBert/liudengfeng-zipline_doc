{
 "cells": [
  {
   "cell_type": "markdown",
   "metadata": {},
   "source": [
    "## 第一步 定义总体"
   ]
  },
  {
   "cell_type": "code",
   "execution_count": 1,
   "metadata": {},
   "outputs": [],
   "source": [
    "from zipline.pipeline.data import CNEquityPricing\n",
    "from zipline.pipeline.fundamentals import Fundamentals"
   ]
  },
  {
   "cell_type": "code",
   "execution_count": 2,
   "metadata": {},
   "outputs": [],
   "source": [
    "market_cap = CNEquityPricing.market_cap.latest"
   ]
  },
  {
   "cell_type": "code",
   "execution_count": 3,
   "metadata": {},
   "outputs": [],
   "source": [
    "# 市值前1000位\n",
    "universe = market_cap.top(1000)"
   ]
  },
  {
   "cell_type": "markdown",
   "metadata": {},
   "source": [
    "## 第二步 定义因子"
   ]
  },
  {
   "cell_type": "code",
   "execution_count": 4,
   "metadata": {},
   "outputs": [],
   "source": [
    "from zipline.pipeline.factors import SimpleMovingAverage"
   ]
  },
  {
   "cell_type": "code",
   "execution_count": 5,
   "metadata": {},
   "outputs": [],
   "source": [
    "# 1-month moving average factor\n",
    "fast_ma = SimpleMovingAverage(inputs=[CNEquityPricing.close],window_length=21)\n",
    "# 6 month\n",
    "slow_ma = SimpleMovingAverage(inputs=[CNEquityPricing.close], window_length=126)\n",
    "momentum = fast_ma / slow_ma\n",
    "momentum_factor = momentum.zscore()"
   ]
  },
  {
   "cell_type": "markdown",
   "metadata": {},
   "source": [
    "### 运行pipeline"
   ]
  },
  {
   "cell_type": "code",
   "execution_count": 6,
   "metadata": {},
   "outputs": [],
   "source": [
    "from zipline.pipeline import Pipeline\n",
    "from zipline.pipeline.domain import CN_EQUITIES\n",
    "from zipline.research import run_pipeline"
   ]
  },
  {
   "cell_type": "code",
   "execution_count": 7,
   "metadata": {},
   "outputs": [],
   "source": [
    "pipe = Pipeline(\n",
    "    columns = {\n",
    "        'moment_factor':momentum_factor\n",
    "    },\n",
    "    screen=universe,\n",
    "    domain=CN_EQUITIES\n",
    ")"
   ]
  },
  {
   "cell_type": "code",
   "execution_count": 8,
   "metadata": {},
   "outputs": [
    {
     "output_type": "display_data",
     "data": {
      "text/plain": "",
      "application/vnd.jupyter.widget-view+json": {
       "version_major": 2,
       "version_minor": 0,
       "model_id": "cd9b43cdf000421ea41424c752b4607e"
      }
     },
     "metadata": {}
    },
    {
     "output_type": "display_data",
     "data": {
      "text/plain": "<IPython.core.display.HTML object>",
      "text/html": "<b>Pipeline Execution Time:</b> 1.98 Seconds"
     },
     "metadata": {}
    }
   ],
   "source": [
    "factor_data = run_pipeline(pipe, '2016-01-01', '2019-01-01')"
   ]
  },
  {
   "cell_type": "code",
   "execution_count": 9,
   "metadata": {},
   "outputs": [
    {
     "output_type": "execute_result",
     "data": {
      "text/plain": "                                        moment_factor\ndatetime                  asset                      \n2018-12-28 00:00:00+00:00 晨光文具(603899)       0.382416\n                          益丰药房(603939)      -0.503585\n                          兆易创新(603986)      -1.601094\n                          艾华集团(603989)       0.143581\n                          洛阳钼业(603993)      -0.927566",
      "text/html": "<div>\n<style scoped>\n    .dataframe tbody tr th:only-of-type {\n        vertical-align: middle;\n    }\n\n    .dataframe tbody tr th {\n        vertical-align: top;\n    }\n\n    .dataframe thead th {\n        text-align: right;\n    }\n</style>\n<table border=\"1\" class=\"dataframe\">\n  <thead>\n    <tr style=\"text-align: right;\">\n      <th></th>\n      <th></th>\n      <th>moment_factor</th>\n    </tr>\n    <tr>\n      <th>datetime</th>\n      <th>asset</th>\n      <th></th>\n    </tr>\n  </thead>\n  <tbody>\n    <tr>\n      <th rowspan=\"5\" valign=\"top\">2018-12-28 00:00:00+00:00</th>\n      <th>晨光文具(603899)</th>\n      <td>0.382416</td>\n    </tr>\n    <tr>\n      <th>益丰药房(603939)</th>\n      <td>-0.503585</td>\n    </tr>\n    <tr>\n      <th>兆易创新(603986)</th>\n      <td>-1.601094</td>\n    </tr>\n    <tr>\n      <th>艾华集团(603989)</th>\n      <td>0.143581</td>\n    </tr>\n    <tr>\n      <th>洛阳钼业(603993)</th>\n      <td>-0.927566</td>\n    </tr>\n  </tbody>\n</table>\n</div>"
     },
     "metadata": {},
     "execution_count": 9
    }
   ],
   "source": [
    "factor_data.tail()"
   ]
  },
  {
   "cell_type": "markdown",
   "metadata": {},
   "source": [
    "## 测试因子\n",
    "使用`alphalens`检验因子的预测能力。"
   ]
  },
  {
   "cell_type": "code",
   "execution_count": 10,
   "metadata": {},
   "outputs": [],
   "source": [
    "from zipline.pipeline.factors import Returns"
   ]
  },
  {
   "cell_type": "code",
   "execution_count": 11,
   "metadata": {},
   "outputs": [
    {
     "output_type": "display_data",
     "data": {
      "text/plain": "<IPython.core.display.HTML object>",
      "text/html": "<b>Pipeline Execution Time:</b> 0.28 Seconds"
     },
     "metadata": {}
    }
   ],
   "source": [
    "returns_pipe = Pipeline(\n",
    "    columns={\n",
    "        '1D':Returns(window_length=2)\n",
    "    },\n",
    "    domain=CN_EQUITIES\n",
    ")\n",
    "returns_data = run_pipeline(returns_pipe, '2016-01-01','2019-01-01')"
   ]
  },
  {
   "cell_type": "code",
   "execution_count": 12,
   "metadata": {},
   "outputs": [
    {
     "output_type": "error",
     "ename": "ModuleNotFoundError",
     "evalue": "No module named 'alphalens'",
     "traceback": [
      "\u001b[1;31m---------------------------------------------------------------------------\u001b[0m",
      "\u001b[1;31mModuleNotFoundError\u001b[0m                       Traceback (most recent call last)",
      "\u001b[1;32m<ipython-input-12-18be49b8c02f>\u001b[0m in \u001b[0;36m<module>\u001b[1;34m\u001b[0m\n\u001b[1;32m----> 1\u001b[1;33m \u001b[1;32mimport\u001b[0m \u001b[0malphalens\u001b[0m \u001b[1;32mas\u001b[0m \u001b[0mal\u001b[0m\u001b[1;33m\u001b[0m\u001b[1;33m\u001b[0m\u001b[0m\n\u001b[0m\u001b[0;32m      2\u001b[0m \u001b[1;32mimport\u001b[0m \u001b[0mpandas\u001b[0m \u001b[1;32mas\u001b[0m \u001b[0mpd\u001b[0m\u001b[1;33m\u001b[0m\u001b[1;33m\u001b[0m\u001b[0m\n",
      "\u001b[1;31mModuleNotFoundError\u001b[0m: No module named 'alphalens'"
     ]
    }
   ],
   "source": [
    "import alphalens as al\n",
    "import pandas as pd"
   ]
  },
  {
   "cell_type": "code",
   "execution_count": null,
   "metadata": {},
   "outputs": [],
   "source": []
  }
 ],
 "metadata": {
  "language_info": {
   "codemirror_mode": {
    "name": "ipython",
    "version": 3
   },
   "file_extension": ".py",
   "mimetype": "text/x-python",
   "name": "python",
   "nbconvert_exporter": "python",
   "pygments_lexer": "ipython3",
   "version": "3.7.7-final"
  },
  "orig_nbformat": 2,
  "kernelspec": {
   "name": "python_defaultSpec_1594333692672",
   "display_name": "Python 3.7.7 64-bit ('zipline': conda)"
  }
 },
 "nbformat": 4,
 "nbformat_minor": 2
}