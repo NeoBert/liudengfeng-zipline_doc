{
 "cells": [
  {
   "cell_type": "code",
   "execution_count": 1,
   "metadata": {
    "ExecuteTime": {
     "end_time": "2020-08-03T00:49:58.269314Z",
     "start_time": "2020-08-03T00:49:54.521579Z"
    }
   },
   "outputs": [
    {
     "data": {
      "text/html": [
       "        <script type=\"text/javascript\">\n",
       "        window.PlotlyConfig = {MathJaxConfig: 'local'};\n",
       "        if (window.MathJax) {MathJax.Hub.Config({SVG: {font: \"STIX-Web\"}});}\n",
       "        if (typeof require !== 'undefined') {\n",
       "        require.undef(\"plotly\");\n",
       "        requirejs.config({\n",
       "            paths: {\n",
       "                'plotly': ['https://cdn.plot.ly/plotly-latest.min']\n",
       "            }\n",
       "        });\n",
       "        require(['plotly'], function(Plotly) {\n",
       "            window._Plotly = Plotly;\n",
       "        });\n",
       "        }\n",
       "        </script>\n",
       "        "
      ]
     },
     "metadata": {},
     "output_type": "display_data"
    }
   ],
   "source": [
    "from zipline.research import symbol,get_pricing"
   ]
  },
  {
   "cell_type": "markdown",
   "metadata": {},
   "source": [
    "# 指数\n",
    "指数代码在其原始代码前添加1，编码为7位数。\n",
    "如原始代码为`000001`，则其编码为`1000001`；原始代码若为`399001`，编码为`1399001`。"
   ]
  },
  {
   "cell_type": "code",
   "execution_count": 2,
   "metadata": {
    "ExecuteTime": {
     "end_time": "2020-08-03T00:49:58.891618Z",
     "start_time": "2020-08-03T00:49:58.270279Z"
    }
   },
   "outputs": [],
   "source": [
    "a = symbol('1000001')"
   ]
  },
  {
   "cell_type": "code",
   "execution_count": 3,
   "metadata": {
    "ExecuteTime": {
     "end_time": "2020-08-03T00:49:58.898601Z",
     "start_time": "2020-08-03T00:49:58.892615Z"
    }
   },
   "outputs": [
    {
     "data": {
      "text/plain": [
       "'XSHG'"
      ]
     },
     "execution_count": 3,
     "metadata": {},
     "output_type": "execute_result"
    }
   ],
   "source": [
    "a.exchange"
   ]
  },
  {
   "cell_type": "code",
   "execution_count": 4,
   "metadata": {
    "ExecuteTime": {
     "end_time": "2020-08-03T00:49:58.912562Z",
     "start_time": "2020-08-03T00:49:58.900595Z"
    }
   },
   "outputs": [
    {
     "data": {
      "text/plain": [
       "ExchangeInfo('指数', 'XSHG', 'CN')"
      ]
     },
     "execution_count": 4,
     "metadata": {},
     "output_type": "execute_result"
    }
   ],
   "source": [
    "a.exchange_info"
   ]
  },
  {
   "cell_type": "code",
   "execution_count": 5,
   "metadata": {
    "ExecuteTime": {
     "end_time": "2020-08-03T00:49:58.919544Z",
     "start_time": "2020-08-03T00:49:58.914558Z"
    }
   },
   "outputs": [
    {
     "data": {
      "text/plain": [
       "Timestamp('1990-12-19 00:00:00+0000', tz='UTC')"
      ]
     },
     "execution_count": 5,
     "metadata": {},
     "output_type": "execute_result"
    }
   ],
   "source": [
    "a.start_date"
   ]
  },
  {
   "cell_type": "code",
   "execution_count": 6,
   "metadata": {
    "ExecuteTime": {
     "end_time": "2020-08-03T00:49:58.926524Z",
     "start_time": "2020-08-03T00:49:58.920540Z"
    }
   },
   "outputs": [
    {
     "data": {
      "text/plain": [
       "Timestamp('2020-07-31 00:00:00+0000', tz='UTC')"
      ]
     },
     "execution_count": 6,
     "metadata": {},
     "output_type": "execute_result"
    }
   ],
   "source": [
    "a.end_date"
   ]
  },
  {
   "cell_type": "code",
   "execution_count": 7,
   "metadata": {
    "ExecuteTime": {
     "end_time": "2020-08-03T00:49:58.935503Z",
     "start_time": "2020-08-03T00:49:58.929519Z"
    }
   },
   "outputs": [
    {
     "data": {
      "text/plain": [
       "'1000001'"
      ]
     },
     "execution_count": 7,
     "metadata": {},
     "output_type": "execute_result"
    }
   ],
   "source": [
    "a.symbol"
   ]
  },
  {
   "cell_type": "code",
   "execution_count": 8,
   "metadata": {
    "ExecuteTime": {
     "end_time": "2020-08-03T00:49:58.944509Z",
     "start_time": "2020-08-03T00:49:58.938496Z"
    }
   },
   "outputs": [
    {
     "data": {
      "text/plain": [
       "1000001"
      ]
     },
     "execution_count": 8,
     "metadata": {},
     "output_type": "execute_result"
    }
   ],
   "source": [
    "a.sid"
   ]
  },
  {
   "cell_type": "code",
   "execution_count": 9,
   "metadata": {
    "ExecuteTime": {
     "end_time": "2020-08-03T00:49:59.225752Z",
     "start_time": "2020-08-03T00:49:58.946473Z"
    }
   },
   "outputs": [
    {
     "data": {
      "text/plain": [
       "2020-01-02 00:00:00+00:00    3085.198\n",
       "2020-01-03 00:00:00+00:00    3083.786\n",
       "2020-01-06 00:00:00+00:00    3083.408\n",
       "2020-01-07 00:00:00+00:00    3104.802\n",
       "2020-01-08 00:00:00+00:00    3066.893\n",
       "2020-01-09 00:00:00+00:00    3094.882\n",
       "2020-01-10 00:00:00+00:00    3092.291\n",
       "2020-01-13 00:00:00+00:00    3115.570\n",
       "2020-01-14 00:00:00+00:00    3106.820\n",
       "2020-01-15 00:00:00+00:00    3090.038\n",
       "2020-01-16 00:00:00+00:00    3074.081\n",
       "2020-01-17 00:00:00+00:00    3075.496\n",
       "2020-01-20 00:00:00+00:00    3095.787\n",
       "2020-01-21 00:00:00+00:00    3052.142\n",
       "2020-01-22 00:00:00+00:00    3060.754\n",
       "2020-01-23 00:00:00+00:00    2976.528\n",
       "2020-02-03 00:00:00+00:00    2746.606\n",
       "2020-02-04 00:00:00+00:00    2783.288\n",
       "2020-02-05 00:00:00+00:00    2818.088\n",
       "2020-02-06 00:00:00+00:00    2866.510\n",
       "2020-02-07 00:00:00+00:00    2875.964\n",
       "2020-02-10 00:00:00+00:00    2890.488\n",
       "2020-02-11 00:00:00+00:00    2901.674\n",
       "2020-02-12 00:00:00+00:00    2926.899\n",
       "2020-02-13 00:00:00+00:00    2906.073\n",
       "2020-02-14 00:00:00+00:00    2917.008\n",
       "2020-02-17 00:00:00+00:00    2983.622\n",
       "2020-02-18 00:00:00+00:00    2984.972\n",
       "2020-02-19 00:00:00+00:00    2975.402\n",
       "2020-02-20 00:00:00+00:00    3030.154\n",
       "2020-02-21 00:00:00+00:00    3039.669\n",
       "2020-02-24 00:00:00+00:00    3031.233\n",
       "2020-02-25 00:00:00+00:00    3013.050\n",
       "2020-02-26 00:00:00+00:00    2987.929\n",
       "2020-02-27 00:00:00+00:00    2991.329\n",
       "2020-02-28 00:00:00+00:00    2880.304\n",
       "Freq: C, Name: 上证指数(1000001), dtype: float64"
      ]
     },
     "execution_count": 9,
     "metadata": {},
     "output_type": "execute_result"
    }
   ],
   "source": [
    "get_pricing(symbol('1000001'),'2020-01-01','2020-03-01')"
   ]
  },
  {
   "cell_type": "code",
   "execution_count": 10,
   "metadata": {
    "ExecuteTime": {
     "end_time": "2020-08-03T00:50:00.129321Z",
     "start_time": "2020-08-03T00:49:59.226721Z"
    }
   },
   "outputs": [],
   "source": [
    "from zipline.pipeline import Pipeline\n",
    "from zipline.pipeline.domain import CN_EQUITIES\n",
    "from zipline.research import run_pipeline\n",
    "from zipline.pipeline.data import CNEquityPricing\n",
    "from zipline.pipeline.builtin import IsIndex"
   ]
  },
  {
   "cell_type": "code",
   "execution_count": 11,
   "metadata": {
    "ExecuteTime": {
     "end_time": "2020-08-03T00:50:00.136305Z",
     "start_time": "2020-08-03T00:50:00.130319Z"
    }
   },
   "outputs": [],
   "source": [
    "pipe = Pipeline(\n",
    "    columns = {\n",
    "        'open':CNEquityPricing.open.latest,\n",
    "    },\n",
    "    screen=IsIndex(),\n",
    "    domain=CN_EQUITIES\n",
    ")"
   ]
  },
  {
   "cell_type": "code",
   "execution_count": 12,
   "metadata": {
    "ExecuteTime": {
     "end_time": "2020-08-03T00:50:01.695965Z",
     "start_time": "2020-08-03T00:50:00.138299Z"
    }
   },
   "outputs": [
    {
     "data": {
      "application/vnd.jupyter.widget-view+json": {
       "model_id": "",
       "version_major": 2,
       "version_minor": 0
      },
      "text/plain": []
     },
     "metadata": {},
     "output_type": "display_data"
    },
    {
     "data": {
      "text/html": [
       "<b>Pipeline Execution Time:</b> 1.46 Seconds"
      ],
      "text/plain": [
       "<IPython.core.display.HTML object>"
      ]
     },
     "metadata": {},
     "output_type": "display_data"
    },
    {
     "data": {
      "text/html": [
       "<div>\n",
       "<style scoped>\n",
       "    .dataframe tbody tr th:only-of-type {\n",
       "        vertical-align: middle;\n",
       "    }\n",
       "\n",
       "    .dataframe tbody tr th {\n",
       "        vertical-align: top;\n",
       "    }\n",
       "\n",
       "    .dataframe thead th {\n",
       "        text-align: right;\n",
       "    }\n",
       "</style>\n",
       "<table border=\"1\" class=\"dataframe\">\n",
       "  <thead>\n",
       "    <tr style=\"text-align: right;\">\n",
       "      <th></th>\n",
       "      <th></th>\n",
       "      <th>open</th>\n",
       "    </tr>\n",
       "    <tr>\n",
       "      <th>datetime</th>\n",
       "      <th>asset</th>\n",
       "      <th></th>\n",
       "    </tr>\n",
       "  </thead>\n",
       "  <tbody>\n",
       "    <tr>\n",
       "      <th rowspan=\"5\" valign=\"top\">2018-01-02 00:00:00+00:00</th>\n",
       "      <th>上证指数(1000001)</th>\n",
       "      <td>3295.246</td>\n",
       "    </tr>\n",
       "    <tr>\n",
       "      <th>Ａ股指数(1000002)</th>\n",
       "      <td>3450.982</td>\n",
       "    </tr>\n",
       "    <tr>\n",
       "      <th>Ｂ股指数(1000003)</th>\n",
       "      <td>340.826</td>\n",
       "    </tr>\n",
       "    <tr>\n",
       "      <th>工业指数(1000004)</th>\n",
       "      <td>2631.790</td>\n",
       "    </tr>\n",
       "    <tr>\n",
       "      <th>商业指数(1000005)</th>\n",
       "      <td>3182.414</td>\n",
       "    </tr>\n",
       "    <tr>\n",
       "      <th>...</th>\n",
       "      <th>...</th>\n",
       "      <td>...</td>\n",
       "    </tr>\n",
       "    <tr>\n",
       "      <th rowspan=\"5\" valign=\"top\">2018-12-28 00:00:00+00:00</th>\n",
       "      <th>信息安全(1399994)</th>\n",
       "      <td>1189.421</td>\n",
       "    </tr>\n",
       "    <tr>\n",
       "      <th>基建工程(1399995)</th>\n",
       "      <td>4015.075</td>\n",
       "    </tr>\n",
       "    <tr>\n",
       "      <th>智能家居(1399996)</th>\n",
       "      <td>1852.259</td>\n",
       "    </tr>\n",
       "    <tr>\n",
       "      <th>中证白酒(1399997)</th>\n",
       "      <td>4393.324</td>\n",
       "    </tr>\n",
       "    <tr>\n",
       "      <th>中证煤炭(1399998)</th>\n",
       "      <td>1173.707</td>\n",
       "    </tr>\n",
       "  </tbody>\n",
       "</table>\n",
       "<p>133893 rows × 1 columns</p>\n",
       "</div>"
      ],
      "text/plain": [
       "                                             open\n",
       "datetime                  asset                  \n",
       "2018-01-02 00:00:00+00:00 上证指数(1000001)  3295.246\n",
       "                          Ａ股指数(1000002)  3450.982\n",
       "                          Ｂ股指数(1000003)   340.826\n",
       "                          工业指数(1000004)  2631.790\n",
       "                          商业指数(1000005)  3182.414\n",
       "...                                           ...\n",
       "2018-12-28 00:00:00+00:00 信息安全(1399994)  1189.421\n",
       "                          基建工程(1399995)  4015.075\n",
       "                          智能家居(1399996)  1852.259\n",
       "                          中证白酒(1399997)  4393.324\n",
       "                          中证煤炭(1399998)  1173.707\n",
       "\n",
       "[133893 rows x 1 columns]"
      ]
     },
     "execution_count": 12,
     "metadata": {},
     "output_type": "execute_result"
    }
   ],
   "source": [
    "run_pipeline(pipe, '2018-01-01', '2019-01-01')"
   ]
  }
 ],
 "metadata": {
  "kernelspec": {
   "display_name": "zipline",
   "language": "python",
   "name": "zipline"
  },
  "language_info": {
   "codemirror_mode": {
    "name": "ipython",
    "version": 3
   },
   "file_extension": ".py",
   "mimetype": "text/x-python",
   "name": "python",
   "nbconvert_exporter": "python",
   "pygments_lexer": "ipython3",
   "version": "3.7.7"
  },
  "toc": {
   "base_numbering": 1,
   "nav_menu": {},
   "number_sections": true,
   "sideBar": true,
   "skip_h1_title": false,
   "title_cell": "Table of Contents",
   "title_sidebar": "Contents",
   "toc_cell": false,
   "toc_position": {},
   "toc_section_display": true,
   "toc_window_display": false
  }
 },
 "nbformat": 4,
 "nbformat_minor": 4
}
