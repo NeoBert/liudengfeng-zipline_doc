{
 "cells": [
  {
   "cell_type": "markdown",
   "metadata": {},
   "source": [
    "# Intro to Alphalens\n",
    "Welcome to the Alphalens Tutorial! This tutorial assumes that you have completed the Getting Started and Pipeline API tutorials.\n",
    "\n",
    "Acknowledgement: Quantopian would like to thank community member Luca, for contributing to Alphalens and for helping with this tutorial.\n",
    "\n",
    "# What is Alphalens?\n",
    "Alphalens is a tool for analyzing a given alpha factor's effectiveness at predicting future returns. As a reminder, alpha factors express a predictive relationship between some given set of information and future returns.\n",
    "# When Should You Use Alphalens?\n",
    "Alphalens was desgined to be used early and often in the quant workflow. Once you have defined your universe and constructed a factor in a pipeline, it's best to analyze it using Alphalens before backtesting. In the context of the quant workflow:\n",
    "1. Define your trading universe and build an alpha factor using the Pipeline API.\n",
    "2. Analyze the predictiveness of your alpha factor with Alphalens.\n",
    "3. Create a trading strategy based on your alpha factor in Quantopian's IDE using the Optimize API.\n",
    "4. Backtest your trading strategy and analyze the results with Pyfolio.\n",
    "You learned how to define a trading universe and build an alpha factor in the Pipeline API tutorial. Alphalens allows you to inspect a factor to see how predictive it is. Steps 1 and 2 are done in a research notebook, steps 3 and 4 are done in the algorithm IDE.\n",
    "\n",
    "# Why Should You Use Alphalens?\n",
    "1. Alphalens is fast. It is much faster to analyze a factor with Alphalens than it is to run a full backtest in Quantopian's algo IDE.\n",
    "2. Alphalens is visual. It's hard to find meaning in a wall of numbers, so Alphalens creates charts to help you visualize data.\n",
    "3. Alphalens is easy. Once you create an alpha factor in a Pipeline, you're only a few steps away from analyzing it with Alphalens.\n",
    "\n",
    "In the next lesson, you will learn how to analyze a Pipeline's output with Alphalens in a research notebook.\n"
   ]
  },
  {
   "cell_type": "code",
   "execution_count": null,
   "metadata": {},
   "outputs": [],
   "source": []
  }
 ],
 "metadata": {
  "kernelspec": {
   "display_name": "zipline",
   "language": "python",
   "name": "zipline"
  },
  "language_info": {
   "codemirror_mode": {
    "name": "ipython",
    "version": 3
   },
   "file_extension": ".py",
   "mimetype": "text/x-python",
   "name": "python",
   "nbconvert_exporter": "python",
   "pygments_lexer": "ipython3",
   "version": "3.7.7"
  },
  "toc": {
   "base_numbering": 1,
   "nav_menu": {},
   "number_sections": true,
   "sideBar": true,
   "skip_h1_title": false,
   "title_cell": "Table of Contents",
   "title_sidebar": "Contents",
   "toc_cell": false,
   "toc_position": {},
   "toc_section_display": true,
   "toc_window_display": false
  }
 },
 "nbformat": 4,
 "nbformat_minor": 4
}
