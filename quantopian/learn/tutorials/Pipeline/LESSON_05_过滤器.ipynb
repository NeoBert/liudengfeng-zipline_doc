{
 "cells": [
  {
   "cell_type": "markdown",
   "metadata": {},
   "source": [
    "## Filters"
   ]
  },
  {
   "cell_type": "markdown",
   "metadata": {},
   "source": [
    "过滤器是资产和时刻的函数，它是一个布尔值："
   ]
  },
  {
   "cell_type": "markdown",
   "metadata": {
    "ExecuteTime": {
     "end_time": "2018-04-24T14:23:52.782278Z",
     "start_time": "2018-04-24T14:23:52.664853Z"
    }
   },
   "source": [
    "![过滤器函数](./filter_fun.png)"
   ]
  },
  {
   "cell_type": "markdown",
   "metadata": {},
   "source": [
    "在管道中，`Filters`用于缩小包含在计算中或流水线最终输出中的证券集合。有两种常用的方法来创建过滤器：`Factor/Classifier`方法。"
   ]
  },
  {
   "cell_type": "markdown",
   "metadata": {
    "ExecuteTime": {
     "end_time": "2018-04-24T14:34:14.735375Z",
     "start_time": "2018-04-24T14:34:14.731663Z"
    }
   },
   "source": [
    "## Comparison Operators"
   ]
  },
  {
   "cell_type": "markdown",
   "metadata": {},
   "source": [
    "因子和分类器的比较运算产生过滤器。由于我们还没有看过`Classifiers`，所以仍然使用因子做例子。以下会生成一个筛选器，每当最新收盘价格高于20，就会返回`True`。"
   ]
  },
  {
   "cell_type": "raw",
   "metadata": {},
   "source": [
    "last_close_price = USEquityPricing.close.latest\n",
    "close_price_filter = last_close_price > 20"
   ]
  },
  {
   "cell_type": "markdown",
   "metadata": {},
   "source": [
    "以下产生一个过滤器，当10天平均值低于30天平均值时返回`True`。"
   ]
  },
  {
   "cell_type": "raw",
   "metadata": {},
   "source": [
    "mean_close_10 = SimpleMovingAverage(\n",
    "    inputs=[USEquityPricing.close],\n",
    "    window_length=10\n",
    ")\n",
    "mean_close_30 = SimpleMovingAverage(\n",
    "    inputs=[USEquityPricing.close],\n",
    "    window_length=30\n",
    ")\n",
    "mean_crossover_filter = mean_close_10 < mean_close_30"
   ]
  },
  {
   "cell_type": "markdown",
   "metadata": {},
   "source": [
    "请记住，过滤器每天会为每个证券生成一个`True`或`False`值。"
   ]
  },
  {
   "cell_type": "markdown",
   "metadata": {},
   "source": [
    "## Factor/Classifier Methods"
   ]
  },
  {
   "cell_type": "markdown",
   "metadata": {},
   "source": [
    "因子和分类器类的各种方法返回过滤器。再次，因为我们还没有看过分类器，现在让我们继续使用因子方法（稍后我们将看看分类器方法）。\n",
    "\n",
    "Factor.top(n)方法会生成一个过滤器，该过滤器每天对给定因子的前n个证券返回True。以下示例会生成一个筛选器，该筛选器每天返回前200个证券，表明这些证券在所有已知证券的最后收盘价中，排位于前200。"
   ]
  },
  {
   "cell_type": "raw",
   "metadata": {},
   "source": [
    "last_close_price = USEquityPricing.close.latest\n",
    "top_close_price_filter = last_close_price.top(200)"
   ]
  },
  {
   "cell_type": "markdown",
   "metadata": {},
   "source": [
    "+ 有关返回过滤器的因子方法的完整列表，请参阅此[链接](https://www.quantopian.com/help#quantopian_pipeline_factors_Factor)。\n",
    "\n",
    "+ 有关返回过滤器的分类器方法的完整列表，请参阅此[链接](https://www.quantopian.com/help#quantopian_pipeline_classifiers_Classifier)。"
   ]
  },
  {
   "cell_type": "markdown",
   "metadata": {},
   "source": [
    "## Dollar Volume Filter\n",
    "以成交额自定义因子方法生成过滤器"
   ]
  },
  {
   "cell_type": "markdown",
   "metadata": {},
   "source": [
    "让我们创建一个过滤器，如果证券的30天平均美元交易量高于10,000,000美元，则返回True。为此，我们首先需要创建`AverageDollarVolume`因子来计算30天的平均美元交易量。\n",
    "\n",
    "要导入内置的AverageDollarVolume过滤器，我们可以添加到我们用于导入`SimpleMovingAverage`的行。"
   ]
  },
  {
   "cell_type": "code",
   "execution_count": 1,
   "metadata": {
    "ExecuteTime": {
     "end_time": "2020-07-26T10:41:17.396971Z",
     "start_time": "2020-07-26T10:41:15.045058Z"
    }
   },
   "outputs": [],
   "source": [
    "from zipline.pipeline.factors import AverageDollarVolume, SimpleMovingAverage\n",
    "from zipline.pipeline import Pipeline"
   ]
  },
  {
   "cell_type": "markdown",
   "metadata": {},
   "source": [
    "然后我们可以实例化因子。"
   ]
  },
  {
   "cell_type": "code",
   "execution_count": 2,
   "metadata": {
    "ExecuteTime": {
     "end_time": "2020-07-26T10:41:17.401487Z",
     "start_time": "2020-07-26T10:41:17.398475Z"
    }
   },
   "outputs": [],
   "source": [
    "from zipline.pipeline.data import CNEquityPricing"
   ]
  },
  {
   "cell_type": "code",
   "execution_count": 3,
   "metadata": {
    "ExecuteTime": {
     "end_time": "2020-07-26T10:41:17.411440Z",
     "start_time": "2020-07-26T10:41:17.402464Z"
    }
   },
   "outputs": [],
   "source": [
    "dollar_volume = AverageDollarVolume(window_length=30, inputs=[CNEquityPricing.close, CNEquityPricing.volume])"
   ]
  },
  {
   "cell_type": "markdown",
   "metadata": {},
   "source": [
    "默认情况下，`AverageDollarVolume`使用`USEquityPricing.close`和`USEquityPricing.volume`作为输入，所以我们不需要指定它们。\n",
    "\n",
    "底层代码已经将其更改为`CNEquityPricing`。"
   ]
  },
  {
   "cell_type": "markdown",
   "metadata": {},
   "source": [
    "现在我们有一个美元成交量因子，我们可以用布尔表达式创建一个过滤器。以下行创建一个过滤器，其返回True的值为dollar_volume大于`LIMIT`的证券："
   ]
  },
  {
   "cell_type": "code",
   "execution_count": 4,
   "metadata": {
    "ExecuteTime": {
     "end_time": "2020-07-26T10:41:17.417443Z",
     "start_time": "2020-07-26T10:41:17.413434Z"
    }
   },
   "outputs": [],
   "source": [
    "LIMIT = 10000*10000"
   ]
  },
  {
   "cell_type": "markdown",
   "metadata": {
    "ExecuteTime": {
     "end_time": "2018-04-24T15:20:50.104943Z",
     "start_time": "2018-04-24T15:20:50.092439Z"
    }
   },
   "source": [
    "要查看此过滤器的输出，我们可以将其作为列添加到我们的管道中。"
   ]
  },
  {
   "cell_type": "code",
   "execution_count": 5,
   "metadata": {
    "ExecuteTime": {
     "end_time": "2020-07-26T10:41:17.426400Z",
     "start_time": "2020-07-26T10:41:17.419420Z"
    }
   },
   "outputs": [],
   "source": [
    "def make_pipeline():\n",
    "\n",
    "    mean_close_10 = SimpleMovingAverage(\n",
    "        inputs=[CNEquityPricing.close], window_length=10)\n",
    "    mean_close_30 = SimpleMovingAverage(\n",
    "        inputs=[CNEquityPricing.close], window_length=30)\n",
    "\n",
    "    percent_difference = (mean_close_10 - mean_close_30) / mean_close_30\n",
    "\n",
    "    dollar_volume = AverageDollarVolume(window_length=3)\n",
    "\n",
    "    high_dollar_volume = (dollar_volume > LIMIT)\n",
    "\n",
    "    return Pipeline(\n",
    "        columns={\n",
    "            'percent_difference': percent_difference,\n",
    "            'high_dollar_volume': high_dollar_volume,\n",
    "            'dollar_volume':dollar_volume,\n",
    "            'volume':CNEquityPricing.volume.latest,\n",
    "        }, )"
   ]
  },
  {
   "cell_type": "markdown",
   "metadata": {},
   "source": [
    "如果我们创建并运行我们的管道，现在我们有一个列`high_dollar_volume`，其布尔值对应于每个证券的表达式结果。"
   ]
  },
  {
   "cell_type": "code",
   "execution_count": 6,
   "metadata": {
    "ExecuteTime": {
     "end_time": "2020-07-26T10:41:18.776589Z",
     "start_time": "2020-07-26T10:41:17.428395Z"
    }
   },
   "outputs": [
    {
     "data": {
      "text/html": [
       "        <script type=\"text/javascript\">\n",
       "        window.PlotlyConfig = {MathJaxConfig: 'local'};\n",
       "        if (window.MathJax) {MathJax.Hub.Config({SVG: {font: \"STIX-Web\"}});}\n",
       "        if (typeof require !== 'undefined') {\n",
       "        require.undef(\"plotly\");\n",
       "        requirejs.config({\n",
       "            paths: {\n",
       "                'plotly': ['https://cdn.plot.ly/plotly-latest.min']\n",
       "            }\n",
       "        });\n",
       "        require(['plotly'], function(Plotly) {\n",
       "            window._Plotly = Plotly;\n",
       "        });\n",
       "        }\n",
       "        </script>\n",
       "        "
      ]
     },
     "metadata": {},
     "output_type": "display_data"
    }
   ],
   "source": [
    "from zipline.research import run_pipeline"
   ]
  },
  {
   "cell_type": "code",
   "execution_count": 7,
   "metadata": {
    "ExecuteTime": {
     "end_time": "2020-07-26T10:41:19.803095Z",
     "start_time": "2020-07-26T10:41:18.777586Z"
    }
   },
   "outputs": [
    {
     "data": {
      "application/vnd.jupyter.widget-view+json": {
       "model_id": "",
       "version_major": 2,
       "version_minor": 0
      },
      "text/plain": []
     },
     "metadata": {},
     "output_type": "display_data"
    },
    {
     "data": {
      "text/html": [
       "<b>Pipeline Execution Time:</b> 0.61 Seconds"
      ],
      "text/plain": [
       "<IPython.core.display.HTML object>"
      ]
     },
     "metadata": {},
     "output_type": "display_data"
    },
    {
     "data": {
      "text/html": [
       "<div>\n",
       "<style scoped>\n",
       "    .dataframe tbody tr th:only-of-type {\n",
       "        vertical-align: middle;\n",
       "    }\n",
       "\n",
       "    .dataframe tbody tr th {\n",
       "        vertical-align: top;\n",
       "    }\n",
       "\n",
       "    .dataframe thead th {\n",
       "        text-align: right;\n",
       "    }\n",
       "</style>\n",
       "<table border=\"1\" class=\"dataframe\">\n",
       "  <thead>\n",
       "    <tr style=\"text-align: right;\">\n",
       "      <th></th>\n",
       "      <th></th>\n",
       "      <th>percent_difference</th>\n",
       "      <th>high_dollar_volume</th>\n",
       "      <th>dollar_volume</th>\n",
       "      <th>volume</th>\n",
       "    </tr>\n",
       "    <tr>\n",
       "      <th>datetime</th>\n",
       "      <th>asset</th>\n",
       "      <th></th>\n",
       "      <th></th>\n",
       "      <th></th>\n",
       "      <th></th>\n",
       "    </tr>\n",
       "  </thead>\n",
       "  <tbody>\n",
       "    <tr>\n",
       "      <th rowspan=\"30\" valign=\"top\">2018-12-27 00:00:00+00:00</th>\n",
       "      <th>平安银行(000001)</th>\n",
       "      <td>-0.039134</td>\n",
       "      <td>True</td>\n",
       "      <td>4.730489e+08</td>\n",
       "      <td>42114000.0</td>\n",
       "    </tr>\n",
       "    <tr>\n",
       "      <th>万 科Ａ(000002)</th>\n",
       "      <td>-0.004854</td>\n",
       "      <td>True</td>\n",
       "      <td>9.098059e+08</td>\n",
       "      <td>22198700.0</td>\n",
       "    </tr>\n",
       "    <tr>\n",
       "      <th>国农科技(000004)</th>\n",
       "      <td>0.000596</td>\n",
       "      <td>False</td>\n",
       "      <td>3.390361e+06</td>\n",
       "      <td>163400.0</td>\n",
       "    </tr>\n",
       "    <tr>\n",
       "      <th>世纪星源(000005)</th>\n",
       "      <td>-0.034224</td>\n",
       "      <td>False</td>\n",
       "      <td>9.680041e+06</td>\n",
       "      <td>3255500.0</td>\n",
       "    </tr>\n",
       "    <tr>\n",
       "      <th>深振业Ａ(000006)</th>\n",
       "      <td>-0.007235</td>\n",
       "      <td>False</td>\n",
       "      <td>5.291878e+07</td>\n",
       "      <td>8184000.0</td>\n",
       "    </tr>\n",
       "    <tr>\n",
       "      <th>全新好(000007)</th>\n",
       "      <td>0.030670</td>\n",
       "      <td>True</td>\n",
       "      <td>2.060412e+08</td>\n",
       "      <td>29995800.0</td>\n",
       "    </tr>\n",
       "    <tr>\n",
       "      <th>神州高铁(000008)</th>\n",
       "      <td>-0.011661</td>\n",
       "      <td>True</td>\n",
       "      <td>1.060769e+08</td>\n",
       "      <td>26062500.0</td>\n",
       "    </tr>\n",
       "    <tr>\n",
       "      <th>中国宝安(000009)</th>\n",
       "      <td>-0.049069</td>\n",
       "      <td>False</td>\n",
       "      <td>5.397226e+07</td>\n",
       "      <td>10622400.0</td>\n",
       "    </tr>\n",
       "    <tr>\n",
       "      <th>美丽生态(000010)</th>\n",
       "      <td>-0.121482</td>\n",
       "      <td>False</td>\n",
       "      <td>1.743081e+07</td>\n",
       "      <td>3757000.0</td>\n",
       "    </tr>\n",
       "    <tr>\n",
       "      <th>深物业A(000011)</th>\n",
       "      <td>-0.006827</td>\n",
       "      <td>False</td>\n",
       "      <td>3.532370e+07</td>\n",
       "      <td>2944100.0</td>\n",
       "    </tr>\n",
       "    <tr>\n",
       "      <th>南 玻Ａ(000012)</th>\n",
       "      <td>-0.028013</td>\n",
       "      <td>False</td>\n",
       "      <td>1.998462e+07</td>\n",
       "      <td>3777700.0</td>\n",
       "    </tr>\n",
       "    <tr>\n",
       "      <th>沙河股份(000014)</th>\n",
       "      <td>0.008552</td>\n",
       "      <td>False</td>\n",
       "      <td>3.645141e+07</td>\n",
       "      <td>2428800.0</td>\n",
       "    </tr>\n",
       "    <tr>\n",
       "      <th>深康佳Ａ(000016)</th>\n",
       "      <td>-0.062261</td>\n",
       "      <td>False</td>\n",
       "      <td>3.278389e+07</td>\n",
       "      <td>5136700.0</td>\n",
       "    </tr>\n",
       "    <tr>\n",
       "      <th>*ST中华A(000017)</th>\n",
       "      <td>-0.011672</td>\n",
       "      <td>False</td>\n",
       "      <td>3.919715e+07</td>\n",
       "      <td>6563900.0</td>\n",
       "    </tr>\n",
       "    <tr>\n",
       "      <th>深粮控股(000019)</th>\n",
       "      <td>-0.025162</td>\n",
       "      <td>False</td>\n",
       "      <td>2.760702e+07</td>\n",
       "      <td>3413200.0</td>\n",
       "    </tr>\n",
       "    <tr>\n",
       "      <th>深华发Ａ(000020)</th>\n",
       "      <td>0.031705</td>\n",
       "      <td>False</td>\n",
       "      <td>1.888417e+07</td>\n",
       "      <td>1828700.0</td>\n",
       "    </tr>\n",
       "    <tr>\n",
       "      <th>深科技(000021)</th>\n",
       "      <td>-0.023401</td>\n",
       "      <td>False</td>\n",
       "      <td>3.164372e+07</td>\n",
       "      <td>3640400.0</td>\n",
       "    </tr>\n",
       "    <tr>\n",
       "      <th>深天地Ａ(000023)</th>\n",
       "      <td>0.061139</td>\n",
       "      <td>False</td>\n",
       "      <td>6.022210e+07</td>\n",
       "      <td>4052900.0</td>\n",
       "    </tr>\n",
       "    <tr>\n",
       "      <th>特 力Ａ(000025)</th>\n",
       "      <td>-0.021515</td>\n",
       "      <td>False</td>\n",
       "      <td>5.463862e+07</td>\n",
       "      <td>1911200.0</td>\n",
       "    </tr>\n",
       "    <tr>\n",
       "      <th>飞亚达(000026)</th>\n",
       "      <td>-0.013303</td>\n",
       "      <td>False</td>\n",
       "      <td>1.114995e+07</td>\n",
       "      <td>987300.0</td>\n",
       "    </tr>\n",
       "    <tr>\n",
       "      <th>深圳能源(000027)</th>\n",
       "      <td>-0.012973</td>\n",
       "      <td>False</td>\n",
       "      <td>1.473458e+07</td>\n",
       "      <td>1932200.0</td>\n",
       "    </tr>\n",
       "    <tr>\n",
       "      <th>国药一致(000028)</th>\n",
       "      <td>-0.041658</td>\n",
       "      <td>False</td>\n",
       "      <td>1.963142e+07</td>\n",
       "      <td>440300.0</td>\n",
       "    </tr>\n",
       "    <tr>\n",
       "      <th>富奥股份(000030)</th>\n",
       "      <td>-0.024886</td>\n",
       "      <td>False</td>\n",
       "      <td>8.928374e+06</td>\n",
       "      <td>1843400.0</td>\n",
       "    </tr>\n",
       "    <tr>\n",
       "      <th>大悦城(000031)</th>\n",
       "      <td>-0.017059</td>\n",
       "      <td>False</td>\n",
       "      <td>2.479705e+07</td>\n",
       "      <td>4326900.0</td>\n",
       "    </tr>\n",
       "    <tr>\n",
       "      <th>深桑达Ａ(000032)</th>\n",
       "      <td>-0.022702</td>\n",
       "      <td>False</td>\n",
       "      <td>1.227218e+07</td>\n",
       "      <td>1505600.0</td>\n",
       "    </tr>\n",
       "    <tr>\n",
       "      <th>神州数码(000034)</th>\n",
       "      <td>-0.052919</td>\n",
       "      <td>False</td>\n",
       "      <td>6.421357e+07</td>\n",
       "      <td>5827700.0</td>\n",
       "    </tr>\n",
       "    <tr>\n",
       "      <th>中国天楹(000035)</th>\n",
       "      <td>0.069329</td>\n",
       "      <td>False</td>\n",
       "      <td>3.193771e+07</td>\n",
       "      <td>5298700.0</td>\n",
       "    </tr>\n",
       "    <tr>\n",
       "      <th>华联控股(000036)</th>\n",
       "      <td>-0.011586</td>\n",
       "      <td>False</td>\n",
       "      <td>2.230363e+07</td>\n",
       "      <td>2939600.0</td>\n",
       "    </tr>\n",
       "    <tr>\n",
       "      <th>深南电A(000037)</th>\n",
       "      <td>-0.024652</td>\n",
       "      <td>False</td>\n",
       "      <td>6.552089e+06</td>\n",
       "      <td>1681500.0</td>\n",
       "    </tr>\n",
       "    <tr>\n",
       "      <th>深大通(000038)</th>\n",
       "      <td>-0.021853</td>\n",
       "      <td>False</td>\n",
       "      <td>4.309905e+07</td>\n",
       "      <td>2639500.0</td>\n",
       "    </tr>\n",
       "  </tbody>\n",
       "</table>\n",
       "</div>"
      ],
      "text/plain": [
       "                                          percent_difference  \\\n",
       "datetime                  asset                                \n",
       "2018-12-27 00:00:00+00:00 平安银行(000001)             -0.039134   \n",
       "                          万 科Ａ(000002)             -0.004854   \n",
       "                          国农科技(000004)              0.000596   \n",
       "                          世纪星源(000005)             -0.034224   \n",
       "                          深振业Ａ(000006)             -0.007235   \n",
       "                          全新好(000007)               0.030670   \n",
       "                          神州高铁(000008)             -0.011661   \n",
       "                          中国宝安(000009)             -0.049069   \n",
       "                          美丽生态(000010)             -0.121482   \n",
       "                          深物业A(000011)             -0.006827   \n",
       "                          南 玻Ａ(000012)             -0.028013   \n",
       "                          沙河股份(000014)              0.008552   \n",
       "                          深康佳Ａ(000016)             -0.062261   \n",
       "                          *ST中华A(000017)           -0.011672   \n",
       "                          深粮控股(000019)             -0.025162   \n",
       "                          深华发Ａ(000020)              0.031705   \n",
       "                          深科技(000021)              -0.023401   \n",
       "                          深天地Ａ(000023)              0.061139   \n",
       "                          特 力Ａ(000025)             -0.021515   \n",
       "                          飞亚达(000026)              -0.013303   \n",
       "                          深圳能源(000027)             -0.012973   \n",
       "                          国药一致(000028)             -0.041658   \n",
       "                          富奥股份(000030)             -0.024886   \n",
       "                          大悦城(000031)              -0.017059   \n",
       "                          深桑达Ａ(000032)             -0.022702   \n",
       "                          神州数码(000034)             -0.052919   \n",
       "                          中国天楹(000035)              0.069329   \n",
       "                          华联控股(000036)             -0.011586   \n",
       "                          深南电A(000037)             -0.024652   \n",
       "                          深大通(000038)              -0.021853   \n",
       "\n",
       "                                          high_dollar_volume  dollar_volume  \\\n",
       "datetime                  asset                                               \n",
       "2018-12-27 00:00:00+00:00 平安银行(000001)                  True   4.730489e+08   \n",
       "                          万 科Ａ(000002)                  True   9.098059e+08   \n",
       "                          国农科技(000004)                 False   3.390361e+06   \n",
       "                          世纪星源(000005)                 False   9.680041e+06   \n",
       "                          深振业Ａ(000006)                 False   5.291878e+07   \n",
       "                          全新好(000007)                   True   2.060412e+08   \n",
       "                          神州高铁(000008)                  True   1.060769e+08   \n",
       "                          中国宝安(000009)                 False   5.397226e+07   \n",
       "                          美丽生态(000010)                 False   1.743081e+07   \n",
       "                          深物业A(000011)                 False   3.532370e+07   \n",
       "                          南 玻Ａ(000012)                 False   1.998462e+07   \n",
       "                          沙河股份(000014)                 False   3.645141e+07   \n",
       "                          深康佳Ａ(000016)                 False   3.278389e+07   \n",
       "                          *ST中华A(000017)               False   3.919715e+07   \n",
       "                          深粮控股(000019)                 False   2.760702e+07   \n",
       "                          深华发Ａ(000020)                 False   1.888417e+07   \n",
       "                          深科技(000021)                  False   3.164372e+07   \n",
       "                          深天地Ａ(000023)                 False   6.022210e+07   \n",
       "                          特 力Ａ(000025)                 False   5.463862e+07   \n",
       "                          飞亚达(000026)                  False   1.114995e+07   \n",
       "                          深圳能源(000027)                 False   1.473458e+07   \n",
       "                          国药一致(000028)                 False   1.963142e+07   \n",
       "                          富奥股份(000030)                 False   8.928374e+06   \n",
       "                          大悦城(000031)                  False   2.479705e+07   \n",
       "                          深桑达Ａ(000032)                 False   1.227218e+07   \n",
       "                          神州数码(000034)                 False   6.421357e+07   \n",
       "                          中国天楹(000035)                 False   3.193771e+07   \n",
       "                          华联控股(000036)                 False   2.230363e+07   \n",
       "                          深南电A(000037)                 False   6.552089e+06   \n",
       "                          深大通(000038)                  False   4.309905e+07   \n",
       "\n",
       "                                              volume  \n",
       "datetime                  asset                       \n",
       "2018-12-27 00:00:00+00:00 平安银行(000001)    42114000.0  \n",
       "                          万 科Ａ(000002)    22198700.0  \n",
       "                          国农科技(000004)      163400.0  \n",
       "                          世纪星源(000005)     3255500.0  \n",
       "                          深振业Ａ(000006)     8184000.0  \n",
       "                          全新好(000007)     29995800.0  \n",
       "                          神州高铁(000008)    26062500.0  \n",
       "                          中国宝安(000009)    10622400.0  \n",
       "                          美丽生态(000010)     3757000.0  \n",
       "                          深物业A(000011)     2944100.0  \n",
       "                          南 玻Ａ(000012)     3777700.0  \n",
       "                          沙河股份(000014)     2428800.0  \n",
       "                          深康佳Ａ(000016)     5136700.0  \n",
       "                          *ST中华A(000017)   6563900.0  \n",
       "                          深粮控股(000019)     3413200.0  \n",
       "                          深华发Ａ(000020)     1828700.0  \n",
       "                          深科技(000021)      3640400.0  \n",
       "                          深天地Ａ(000023)     4052900.0  \n",
       "                          特 力Ａ(000025)     1911200.0  \n",
       "                          飞亚达(000026)       987300.0  \n",
       "                          深圳能源(000027)     1932200.0  \n",
       "                          国药一致(000028)      440300.0  \n",
       "                          富奥股份(000030)     1843400.0  \n",
       "                          大悦城(000031)      4326900.0  \n",
       "                          深桑达Ａ(000032)     1505600.0  \n",
       "                          神州数码(000034)     5827700.0  \n",
       "                          中国天楹(000035)     5298700.0  \n",
       "                          华联控股(000036)     2939600.0  \n",
       "                          深南电A(000037)     1681500.0  \n",
       "                          深大通(000038)      2639500.0  "
      ]
     },
     "execution_count": 7,
     "metadata": {},
     "output_type": "execute_result"
    }
   ],
   "source": [
    "result = run_pipeline(make_pipeline(), '2018-12-27', '2018-12-27')\n",
    "result.head(30)"
   ]
  },
  {
   "cell_type": "markdown",
   "metadata": {},
   "source": [
    "## Applying a Screen"
   ]
  },
  {
   "cell_type": "markdown",
   "metadata": {},
   "source": [
    "默认情况下，管道每天为Quantopian数据库中的每个资产生成计算值。 然而，很多时候，我们只关心符合特定标准的证券子集（例如，我们可能只关心有足够的每日交易量来快速填补我们订单的证券）。我们可以通过将筛选器通过`screen`关键字传递给我们的管道来告诉我们的管道忽略过滤器产生`False`的证券。\n",
    "\n",
    "为了筛选我们的30天平均美元数量大于10,000,000美元证券的管道输出，我们可以简单地将我们的`high_dollar_volume`过滤器作为屏幕参数。 这就是我们的`make_pipeline`函数现在的样子："
   ]
  },
  {
   "cell_type": "code",
   "execution_count": 8,
   "metadata": {
    "ExecuteTime": {
     "end_time": "2020-07-26T10:41:19.814069Z",
     "start_time": "2020-07-26T10:41:19.805089Z"
    }
   },
   "outputs": [],
   "source": [
    "def make_pipeline():\n",
    "\n",
    "    mean_close_10 = SimpleMovingAverage(\n",
    "        inputs=[CNEquityPricing.close], window_length=10)\n",
    "    mean_close_30 = SimpleMovingAverage(\n",
    "        inputs=[CNEquityPricing.close], window_length=30)\n",
    "\n",
    "    percent_difference = (mean_close_10 - mean_close_30) / mean_close_30\n",
    "\n",
    "    dollar_volume = AverageDollarVolume(\n",
    "        window_length=30,\n",
    "        inputs=[CNEquityPricing.close, CNEquityPricing.volume])\n",
    "    high_dollar_volume = (dollar_volume > LIMIT)\n",
    "\n",
    "    return Pipeline(\n",
    "        columns={'percent_difference': percent_difference},\n",
    "        screen=high_dollar_volume)"
   ]
  },
  {
   "cell_type": "markdown",
   "metadata": {
    "ExecuteTime": {
     "end_time": "2018-04-24T15:31:10.726446Z",
     "start_time": "2018-04-24T15:31:10.719925Z"
    }
   },
   "source": [
    "运行此操作将仅为在给定日期通过high_dollar_volume的证券生成输出。 例如，2018年4月10日运行这条管道可以产生约1100只股票。"
   ]
  },
  {
   "cell_type": "code",
   "execution_count": 9,
   "metadata": {
    "ExecuteTime": {
     "end_time": "2020-07-26T10:41:20.021656Z",
     "start_time": "2020-07-26T10:41:19.815063Z"
    }
   },
   "outputs": [
    {
     "data": {
      "text/html": [
       "<b>Pipeline Execution Time:</b> 0.19 Seconds"
      ],
      "text/plain": [
       "<IPython.core.display.HTML object>"
      ]
     },
     "metadata": {},
     "output_type": "display_data"
    },
    {
     "name": "stdout",
     "output_type": "stream",
     "text": [
      "Number of securities that passed the filter: 1110\n"
     ]
    }
   ],
   "source": [
    "result = run_pipeline(make_pipeline(), '2018-04-10', '2018-04-10')\n",
    "print('Number of securities that passed the filter: %d' % len(result))"
   ]
  },
  {
   "cell_type": "markdown",
   "metadata": {},
   "source": [
    "## Inverting a Filter"
   ]
  },
  {
   "cell_type": "markdown",
   "metadata": {},
   "source": [
    "`~`运算符用于反转过滤器，将所有`True`值与`False`交换，反之亦然。例如，我们可以编写以下内容来筛选低美元数量的证券："
   ]
  },
  {
   "cell_type": "markdown",
   "metadata": {},
   "source": [
    "low_dollar_volume = ~high_dollar_volume"
   ]
  },
  {
   "cell_type": "markdown",
   "metadata": {},
   "source": [
    "对于在过去30天内平均美元交易量低于或等于`LIMIT`的所有证券，这将返回`True`。\n",
    "\n",
    "在下一课中，我们将介绍如何组合滤镜。"
   ]
  }
 ],
 "metadata": {
  "kernelspec": {
   "display_name": "zipline",
   "language": "python",
   "name": "zipline"
  },
  "language_info": {
   "codemirror_mode": {
    "name": "ipython",
    "version": 3
   },
   "file_extension": ".py",
   "mimetype": "text/x-python",
   "name": "python",
   "nbconvert_exporter": "python",
   "pygments_lexer": "ipython3",
   "version": "3.7.7"
  },
  "toc": {
   "base_numbering": 1,
   "nav_menu": {},
   "number_sections": true,
   "sideBar": true,
   "skip_h1_title": false,
   "title_cell": "Table of Contents",
   "title_sidebar": "Contents",
   "toc_cell": false,
   "toc_position": {
    "height": "calc(100% - 180px)",
    "left": "10px",
    "top": "150px",
    "width": "384px"
   },
   "toc_section_display": true,
   "toc_window_display": true
  }
 },
 "nbformat": 4,
 "nbformat_minor": 2
}
