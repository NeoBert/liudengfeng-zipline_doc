{
 "cells": [
  {
   "cell_type": "markdown",
   "metadata": {},
   "source": [
    "## Classifiers"
   ]
  },
  {
   "cell_type": "markdown",
   "metadata": {},
   "source": [
    "分类器是从资产和时刻到分类输出（如字符串或整数标签）的函数："
   ]
  },
  {
   "cell_type": "markdown",
   "metadata": {},
   "source": [
    "![分类器函数](./classify_fun.png)"
   ]
  },
  {
   "cell_type": "markdown",
   "metadata": {},
   "source": [
    "生成字符串输出的分类器的一个示例是证券的交易所ID。要创建此分类器，我们必须导入`Fundamentals.exchange_id`并使用最新属性来实例化我们的分类器："
   ]
  },
  {
   "cell_type": "code",
   "execution_count": 1,
   "metadata": {
    "ExecuteTime": {
     "end_time": "2020-07-26T06:18:56.040280Z",
     "start_time": "2020-07-26T06:18:52.046132Z"
    }
   },
   "outputs": [
    {
     "data": {
      "text/html": [
       "        <script type=\"text/javascript\">\n",
       "        window.PlotlyConfig = {MathJaxConfig: 'local'};\n",
       "        if (window.MathJax) {MathJax.Hub.Config({SVG: {font: \"STIX-Web\"}});}\n",
       "        if (typeof require !== 'undefined') {\n",
       "        require.undef(\"plotly\");\n",
       "        requirejs.config({\n",
       "            paths: {\n",
       "                'plotly': ['https://cdn.plot.ly/plotly-latest.min']\n",
       "            }\n",
       "        });\n",
       "        require(['plotly'], function(Plotly) {\n",
       "            window._Plotly = Plotly;\n",
       "        });\n",
       "        }\n",
       "        </script>\n",
       "        "
      ]
     },
     "metadata": {},
     "output_type": "display_data"
    }
   ],
   "source": [
    "from zipline.pipeline.factors import AverageDollarVolume, SimpleMovingAverage\n",
    "from zipline.pipeline import Pipeline\n",
    "from zipline.pipeline.data import CNEquityPricing\n",
    "from zipline.research import run_pipeline"
   ]
  },
  {
   "cell_type": "code",
   "execution_count": 2,
   "metadata": {
    "ExecuteTime": {
     "end_time": "2020-07-26T06:18:57.106561Z",
     "start_time": "2020-07-26T06:18:56.041277Z"
    }
   },
   "outputs": [],
   "source": [
    "from zipline.pipeline.fundamentals import Fundamentals\n",
    "\n",
    "# Since the underlying data of Fundamentals.exchange_id\n",
    "# is of type string, .latest returns a Classifier\n",
    "# market为整数类型，代表市场板块（上海主板、创业板等\n",
    "exchange = Fundamentals.info.上市地点.latest"
   ]
  },
  {
   "cell_type": "code",
   "execution_count": 3,
   "metadata": {
    "ExecuteTime": {
     "end_time": "2020-07-26T06:18:57.112388Z",
     "start_time": "2020-07-26T06:18:57.107400Z"
    }
   },
   "outputs": [
    {
     "data": {
      "text/plain": [
       "zipline.pipeline.classifiers.classifier.Latest"
      ]
     },
     "execution_count": 3,
     "metadata": {},
     "output_type": "execute_result"
    }
   ],
   "source": [
    "type(exchange)"
   ]
  },
  {
   "cell_type": "markdown",
   "metadata": {},
   "source": [
    "以前，我们看到`latest`的属性产生了一个`Factor`的实例。在以上情况下，由于底层数据是字符串类型，因此`latest`产生分类器。"
   ]
  },
  {
   "cell_type": "markdown",
   "metadata": {},
   "source": [
    "类似地，计算证券`latest`晨星部门代码生成分类器。在这种情况下，基础类型是一个`int`，但整数不代表数值（它是一个类别），因此它会生成一个分类器。要获得`latest`晨星部门代码，我们可以使用内置的`Sector`分类器。"
   ]
  },
  {
   "cell_type": "code",
   "execution_count": 4,
   "metadata": {
    "ExecuteTime": {
     "end_time": "2020-07-26T06:18:57.128854Z",
     "start_time": "2020-07-26T06:18:57.113938Z"
    }
   },
   "outputs": [],
   "source": [
    "#from quantopian.pipeline.classifiers.fundamentals import Sector\n",
    "morningstar_sector = Fundamentals.info.sector_code.latest"
   ]
  },
  {
   "cell_type": "markdown",
   "metadata": {},
   "source": [
    "使用`Sector`等同于`Fundamentals.morningstar_sector_code.latest`。"
   ]
  },
  {
   "cell_type": "markdown",
   "metadata": {},
   "source": [
    "## Building Filters from Classifers"
   ]
  },
  {
   "cell_type": "markdown",
   "metadata": {},
   "source": [
    "分类器也使用`isnull`，`eq`和`startswith`等方法生成过滤器。生成过滤器的分类器方法的完整列表可以在[这里](https://www.quantopian.com/help#quantopian_pipeline_classifiers_Classifier)找到。"
   ]
  },
  {
   "cell_type": "markdown",
   "metadata": {},
   "source": [
    "作为一个例子，如果我们想要一个过滤器来选择在主板交易所交易的证券，我们可以使用交易分类器的`has_substring`方法。"
   ]
  },
  {
   "cell_type": "code",
   "execution_count": 5,
   "metadata": {
    "ExecuteTime": {
     "end_time": "2020-07-26T06:18:57.133841Z",
     "start_time": "2020-07-26T06:18:57.129851Z"
    }
   },
   "outputs": [],
   "source": [
    "# 查询代码含义\n",
    "# Fundamentals.market_cname(3)"
   ]
  },
  {
   "cell_type": "code",
   "execution_count": 6,
   "metadata": {
    "ExecuteTime": {
     "end_time": "2020-07-26T06:18:57.138827Z",
     "start_time": "2020-07-26T06:18:57.134838Z"
    }
   },
   "outputs": [],
   "source": [
    "# 上海主板过滤\n",
    "# sse_filter = exchange.eq(0)"
   ]
  },
  {
   "cell_type": "markdown",
   "metadata": {},
   "source": [
    "对于有'NYS'作为其最近exchange_id的证券，此过滤器将返回True。"
   ]
  },
  {
   "cell_type": "markdown",
   "metadata": {},
   "source": [
    "## Quantiles"
   ]
  },
  {
   "cell_type": "markdown",
   "metadata": {},
   "source": [
    "分类器也可以由各种因子方法生产。其中最通用的是分位数方法，它接受一个二进制数作为参数。分位数分类器为因子输出中的每个非`NaN`数据点分配一个从0到（bin-1）的标签。`NaN`标记为-1。别名可用于四分位数（quantiles(4)），五分位数（quantiles(5)）和十位数（quantiles(10)）。 作为一个例子，这是一个因子的`top`十分之一过滤器可能是这样的："
   ]
  },
  {
   "cell_type": "raw",
   "metadata": {},
   "source": [
    "dollar_volume_decile = AverageDollarVolume(window_length=10).deciles()\n",
    "top_decile = (dollar_volume_decile.eq(9))"
   ]
  },
  {
   "cell_type": "markdown",
   "metadata": {},
   "source": [
    "让我们将每个分类器放入一个管道中，然后运行它以查看它们的外观。"
   ]
  },
  {
   "cell_type": "code",
   "execution_count": 7,
   "metadata": {
    "ExecuteTime": {
     "end_time": "2020-07-26T06:18:57.147807Z",
     "start_time": "2020-07-26T06:18:57.141820Z"
    }
   },
   "outputs": [],
   "source": [
    "def make_pipeline():\n",
    "\n",
    "    exchange = Fundamentals.info.上市地点.latest\n",
    "    # 深圳主板过滤器\n",
    "    szse_filter = exchange.has_substring('主板')\n",
    "\n",
    "    morningstar_sector = Fundamentals.info.sector_code.latest\n",
    "\n",
    "    dollar_volume_decile = AverageDollarVolume(\n",
    "        window_length=10,\n",
    "        inputs=[CNEquityPricing.close, CNEquityPricing.volume]).deciles()\n",
    "    top_decile = (dollar_volume_decile.eq(9))\n",
    "\n",
    "    return Pipeline(\n",
    "        columns={\n",
    "            'exchange': exchange,\n",
    "            'sector_code': morningstar_sector,\n",
    "            'dollar_volume_decile': dollar_volume_decile\n",
    "        },\n",
    "        screen=(szse_filter & top_decile))"
   ]
  },
  {
   "cell_type": "code",
   "execution_count": 8,
   "metadata": {
    "ExecuteTime": {
     "end_time": "2020-07-26T06:18:59.199499Z",
     "start_time": "2020-07-26T06:18:57.149798Z"
    }
   },
   "outputs": [
    {
     "data": {
      "application/vnd.jupyter.widget-view+json": {
       "model_id": "",
       "version_major": 2,
       "version_minor": 0
      },
      "text/plain": []
     },
     "metadata": {},
     "output_type": "display_data"
    },
    {
     "data": {
      "text/html": [
       "<b>Pipeline Execution Time:</b> 1.53 Seconds"
      ],
      "text/plain": [
       "<IPython.core.display.HTML object>"
      ]
     },
     "metadata": {},
     "output_type": "display_data"
    },
    {
     "name": "stdout",
     "output_type": "stream",
     "text": [
      "Number of securities that passed the filter: 62\n"
     ]
    },
    {
     "data": {
      "text/html": [
       "<div>\n",
       "<style scoped>\n",
       "    .dataframe tbody tr th:only-of-type {\n",
       "        vertical-align: middle;\n",
       "    }\n",
       "\n",
       "    .dataframe tbody tr th {\n",
       "        vertical-align: top;\n",
       "    }\n",
       "\n",
       "    .dataframe thead th {\n",
       "        text-align: right;\n",
       "    }\n",
       "</style>\n",
       "<table border=\"1\" class=\"dataframe\">\n",
       "  <thead>\n",
       "    <tr style=\"text-align: right;\">\n",
       "      <th></th>\n",
       "      <th></th>\n",
       "      <th>exchange</th>\n",
       "      <th>sector_code</th>\n",
       "      <th>dollar_volume_decile</th>\n",
       "    </tr>\n",
       "    <tr>\n",
       "      <th>datetime</th>\n",
       "      <th>asset</th>\n",
       "      <th></th>\n",
       "      <th></th>\n",
       "      <th></th>\n",
       "    </tr>\n",
       "  </thead>\n",
       "  <tbody>\n",
       "    <tr>\n",
       "      <th rowspan=\"5\" valign=\"top\">2015-05-05 00:00:00+00:00</th>\n",
       "      <th>平安银行(000001)</th>\n",
       "      <td>深交所主板</td>\n",
       "      <td>103.0</td>\n",
       "      <td>9</td>\n",
       "    </tr>\n",
       "    <tr>\n",
       "      <th>万 科Ａ(000002)</th>\n",
       "      <td>深交所主板</td>\n",
       "      <td>104.0</td>\n",
       "      <td>9</td>\n",
       "    </tr>\n",
       "    <tr>\n",
       "      <th>中国宝安(000009)</th>\n",
       "      <td>深交所主板</td>\n",
       "      <td>310.0</td>\n",
       "      <td>9</td>\n",
       "    </tr>\n",
       "    <tr>\n",
       "      <th>大悦城(000031)</th>\n",
       "      <td>深交所主板</td>\n",
       "      <td>104.0</td>\n",
       "      <td>9</td>\n",
       "    </tr>\n",
       "    <tr>\n",
       "      <th>中集集团(000039)</th>\n",
       "      <td>深交所主板</td>\n",
       "      <td>310.0</td>\n",
       "      <td>9</td>\n",
       "    </tr>\n",
       "  </tbody>\n",
       "</table>\n",
       "</div>"
      ],
      "text/plain": [
       "                                       exchange  sector_code  \\\n",
       "datetime                  asset                                \n",
       "2015-05-05 00:00:00+00:00 平安银行(000001)    深交所主板        103.0   \n",
       "                          万 科Ａ(000002)    深交所主板        104.0   \n",
       "                          中国宝安(000009)    深交所主板        310.0   \n",
       "                          大悦城(000031)     深交所主板        104.0   \n",
       "                          中集集团(000039)    深交所主板        310.0   \n",
       "\n",
       "                                        dollar_volume_decile  \n",
       "datetime                  asset                               \n",
       "2015-05-05 00:00:00+00:00 平安银行(000001)                     9  \n",
       "                          万 科Ａ(000002)                     9  \n",
       "                          中国宝安(000009)                     9  \n",
       "                          大悦城(000031)                      9  \n",
       "                          中集集团(000039)                     9  "
      ]
     },
     "execution_count": 8,
     "metadata": {},
     "output_type": "execute_result"
    }
   ],
   "source": [
    "result = run_pipeline(make_pipeline(), '2015-05-05', '2015-05-05')\n",
    "print('Number of securities that passed the filter: %d' % len(result))\n",
    "result.head()"
   ]
  },
  {
   "cell_type": "code",
   "execution_count": 9,
   "metadata": {
    "ExecuteTime": {
     "end_time": "2020-07-26T06:18:59.212465Z",
     "start_time": "2020-07-26T06:18:59.200472Z"
    }
   },
   "outputs": [
    {
     "data": {
      "text/html": [
       "<div>\n",
       "<style scoped>\n",
       "    .dataframe tbody tr th:only-of-type {\n",
       "        vertical-align: middle;\n",
       "    }\n",
       "\n",
       "    .dataframe tbody tr th {\n",
       "        vertical-align: top;\n",
       "    }\n",
       "\n",
       "    .dataframe thead th {\n",
       "        text-align: right;\n",
       "    }\n",
       "</style>\n",
       "<table border=\"1\" class=\"dataframe\">\n",
       "  <thead>\n",
       "    <tr style=\"text-align: right;\">\n",
       "      <th></th>\n",
       "      <th></th>\n",
       "      <th>exchange</th>\n",
       "      <th>sector_code</th>\n",
       "      <th>dollar_volume_decile</th>\n",
       "    </tr>\n",
       "    <tr>\n",
       "      <th>datetime</th>\n",
       "      <th>asset</th>\n",
       "      <th></th>\n",
       "      <th></th>\n",
       "      <th></th>\n",
       "    </tr>\n",
       "  </thead>\n",
       "  <tbody>\n",
       "    <tr>\n",
       "      <th rowspan=\"5\" valign=\"top\">2015-05-05 00:00:00+00:00</th>\n",
       "      <th>电广传媒(000917)</th>\n",
       "      <td>深交所主板</td>\n",
       "      <td>205.0</td>\n",
       "      <td>9</td>\n",
       "    </tr>\n",
       "    <tr>\n",
       "      <th>中粮科技(000930)</th>\n",
       "      <td>深交所主板</td>\n",
       "      <td>309.0</td>\n",
       "      <td>9</td>\n",
       "    </tr>\n",
       "    <tr>\n",
       "      <th>中科三环(000970)</th>\n",
       "      <td>深交所主板</td>\n",
       "      <td>311.0</td>\n",
       "      <td>9</td>\n",
       "    </tr>\n",
       "    <tr>\n",
       "      <th>浪潮信息(000977)</th>\n",
       "      <td>深交所主板</td>\n",
       "      <td>311.0</td>\n",
       "      <td>9</td>\n",
       "    </tr>\n",
       "    <tr>\n",
       "      <th>西山煤电(000983)</th>\n",
       "      <td>深交所主板</td>\n",
       "      <td>309.0</td>\n",
       "      <td>9</td>\n",
       "    </tr>\n",
       "  </tbody>\n",
       "</table>\n",
       "</div>"
      ],
      "text/plain": [
       "                                       exchange  sector_code  \\\n",
       "datetime                  asset                                \n",
       "2015-05-05 00:00:00+00:00 电广传媒(000917)    深交所主板        205.0   \n",
       "                          中粮科技(000930)    深交所主板        309.0   \n",
       "                          中科三环(000970)    深交所主板        311.0   \n",
       "                          浪潮信息(000977)    深交所主板        311.0   \n",
       "                          西山煤电(000983)    深交所主板        309.0   \n",
       "\n",
       "                                        dollar_volume_decile  \n",
       "datetime                  asset                               \n",
       "2015-05-05 00:00:00+00:00 电广传媒(000917)                     9  \n",
       "                          中粮科技(000930)                     9  \n",
       "                          中科三环(000970)                     9  \n",
       "                          浪潮信息(000977)                     9  \n",
       "                          西山煤电(000983)                     9  "
      ]
     },
     "execution_count": 9,
     "metadata": {},
     "output_type": "execute_result"
    }
   ],
   "source": [
    "# 尾部数据本应该出现上交所主板数据，但底层数据中标识为'上交所'。TODO：修改底层数据，统一称谓。\n",
    "result.tail()"
   ]
  },
  {
   "cell_type": "markdown",
   "metadata": {},
   "source": [
    "分类器也可用于描述因子输出上复杂变换的分组键。 分组操作（如`demean`和`rank`）超出了本教程的范围。 未来的教程将涵盖分类器的更高级用途。"
   ]
  },
  {
   "cell_type": "markdown",
   "metadata": {},
   "source": [
    "在下一课中，我们将看看我们可以在流水线中使用的不同数据集。"
   ]
  }
 ],
 "metadata": {
  "kernelspec": {
   "display_name": "zipline",
   "language": "python",
   "name": "zipline"
  },
  "language_info": {
   "codemirror_mode": {
    "name": "ipython",
    "version": 3
   },
   "file_extension": ".py",
   "mimetype": "text/x-python",
   "name": "python",
   "nbconvert_exporter": "python",
   "pygments_lexer": "ipython3",
   "version": "3.7.7"
  },
  "toc": {
   "base_numbering": 1,
   "nav_menu": {},
   "number_sections": true,
   "sideBar": true,
   "skip_h1_title": false,
   "title_cell": "Table of Contents",
   "title_sidebar": "Contents",
   "toc_cell": false,
   "toc_position": {},
   "toc_section_display": true,
   "toc_window_display": false
  }
 },
 "nbformat": 4,
 "nbformat_minor": 2
}
