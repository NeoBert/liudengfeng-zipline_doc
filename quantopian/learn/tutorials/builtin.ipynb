{
 "cells": [
  {
   "cell_type": "code",
   "execution_count": 1,
   "metadata": {
    "ExecuteTime": {
     "end_time": "2020-08-03T14:10:51.805246Z",
     "start_time": "2020-08-03T14:10:48.179903Z"
    }
   },
   "outputs": [],
   "source": [
    "from zipline.pipeline.builtin import *"
   ]
  },
  {
   "cell_type": "code",
   "execution_count": 2,
   "metadata": {
    "ExecuteTime": {
     "end_time": "2020-08-03T14:10:52.629957Z",
     "start_time": "2020-08-03T14:10:51.806218Z"
    }
   },
   "outputs": [
    {
     "data": {
      "text/html": [
       "        <script type=\"text/javascript\">\n",
       "        window.PlotlyConfig = {MathJaxConfig: 'local'};\n",
       "        if (window.MathJax) {MathJax.Hub.Config({SVG: {font: \"STIX-Web\"}});}\n",
       "        if (typeof require !== 'undefined') {\n",
       "        require.undef(\"plotly\");\n",
       "        requirejs.config({\n",
       "            paths: {\n",
       "                'plotly': ['https://cdn.plot.ly/plotly-latest.min']\n",
       "            }\n",
       "        });\n",
       "        require(['plotly'], function(Plotly) {\n",
       "            window._Plotly = Plotly;\n",
       "        });\n",
       "        }\n",
       "        </script>\n",
       "        "
      ]
     },
     "metadata": {},
     "output_type": "display_data"
    }
   ],
   "source": [
    "from zipline.pipeline import Pipeline\n",
    "from zipline.research import run_pipeline\n",
    "from zipline.pipeline.data import CNEquityPricing"
   ]
  },
  {
   "cell_type": "markdown",
   "metadata": {},
   "source": [
    "# 分类器\n",
    "返回值类型为整数、字符型对象类型，称为分类器。"
   ]
  },
  {
   "cell_type": "code",
   "execution_count": 3,
   "metadata": {
    "ExecuteTime": {
     "end_time": "2020-08-03T14:10:52.640004Z",
     "start_time": "2020-08-03T14:10:52.630924Z"
    }
   },
   "outputs": [],
   "source": [
    "def make_pipeline():\n",
    "    s = Sector()\n",
    "    return Pipeline(\n",
    "        columns={\n",
    "            '流通市值': CNEquityPricing.market_cap.latest,\n",
    "            '行业': s,\n",
    "        }, screen=s.eq(101))"
   ]
  },
  {
   "cell_type": "code",
   "execution_count": 4,
   "metadata": {
    "ExecuteTime": {
     "end_time": "2020-08-03T14:10:54.461827Z",
     "start_time": "2020-08-03T14:10:52.640898Z"
    }
   },
   "outputs": [
    {
     "data": {
      "application/vnd.jupyter.widget-view+json": {
       "model_id": "",
       "version_major": 2,
       "version_minor": 0
      },
      "text/plain": []
     },
     "metadata": {},
     "output_type": "display_data"
    },
    {
     "data": {
      "text/html": [
       "<b>Pipeline Execution Time:</b> 1.38 Seconds"
      ],
      "text/plain": [
       "<IPython.core.display.HTML object>"
      ]
     },
     "metadata": {},
     "output_type": "display_data"
    },
    {
     "data": {
      "text/html": [
       "<div>\n",
       "<style scoped>\n",
       "    .dataframe tbody tr th:only-of-type {\n",
       "        vertical-align: middle;\n",
       "    }\n",
       "\n",
       "    .dataframe tbody tr th {\n",
       "        vertical-align: top;\n",
       "    }\n",
       "\n",
       "    .dataframe thead th {\n",
       "        text-align: right;\n",
       "    }\n",
       "</style>\n",
       "<table border=\"1\" class=\"dataframe\">\n",
       "  <thead>\n",
       "    <tr style=\"text-align: right;\">\n",
       "      <th></th>\n",
       "      <th></th>\n",
       "      <th>流通市值</th>\n",
       "      <th>行业</th>\n",
       "    </tr>\n",
       "    <tr>\n",
       "      <th>datetime</th>\n",
       "      <th>asset</th>\n",
       "      <th></th>\n",
       "      <th></th>\n",
       "    </tr>\n",
       "  </thead>\n",
       "  <tbody>\n",
       "    <tr>\n",
       "      <th rowspan=\"5\" valign=\"top\">2020-07-20 00:00:00+00:00</th>\n",
       "      <th>南 玻Ａ(000012)</th>\n",
       "      <td>1.063038e+10</td>\n",
       "      <td>101</td>\n",
       "    </tr>\n",
       "    <tr>\n",
       "      <th>深天地Ａ(000023)</th>\n",
       "      <td>2.363010e+09</td>\n",
       "      <td>101</td>\n",
       "    </tr>\n",
       "    <tr>\n",
       "      <th>中金岭南(000060)</th>\n",
       "      <td>1.617067e+10</td>\n",
       "      <td>101</td>\n",
       "    </tr>\n",
       "    <tr>\n",
       "      <th>冀东水泥(000401)</th>\n",
       "      <td>2.380573e+10</td>\n",
       "      <td>101</td>\n",
       "    </tr>\n",
       "    <tr>\n",
       "      <th>*ST藏格(000408)</th>\n",
       "      <td>3.073030e+09</td>\n",
       "      <td>101</td>\n",
       "    </tr>\n",
       "    <tr>\n",
       "      <th>...</th>\n",
       "      <th>...</th>\n",
       "      <td>...</td>\n",
       "      <td>...</td>\n",
       "    </tr>\n",
       "    <tr>\n",
       "      <th rowspan=\"5\" valign=\"top\">2020-07-30 00:00:00+00:00</th>\n",
       "      <th>ST安泰(600408)</th>\n",
       "      <td>1.852510e+09</td>\n",
       "      <td>101</td>\n",
       "    </tr>\n",
       "    <tr>\n",
       "      <th>三友化工(600409)</th>\n",
       "      <td>1.300540e+10</td>\n",
       "      <td>101</td>\n",
       "    </tr>\n",
       "    <tr>\n",
       "      <th>ST柳化(600423)</th>\n",
       "      <td>2.244330e+09</td>\n",
       "      <td>101</td>\n",
       "    </tr>\n",
       "    <tr>\n",
       "      <th>青松建化(600425)</th>\n",
       "      <td>7.348950e+09</td>\n",
       "      <td>101</td>\n",
       "    </tr>\n",
       "    <tr>\n",
       "      <th>华鲁恒升(600426)</th>\n",
       "      <td>3.767266e+10</td>\n",
       "      <td>101</td>\n",
       "    </tr>\n",
       "  </tbody>\n",
       "</table>\n",
       "<p>5153 rows × 2 columns</p>\n",
       "</div>"
      ],
      "text/plain": [
       "                                                 流通市值   行业\n",
       "datetime                  asset                           \n",
       "2020-07-20 00:00:00+00:00 南 玻Ａ(000012)   1.063038e+10  101\n",
       "                          深天地Ａ(000023)   2.363010e+09  101\n",
       "                          中金岭南(000060)   1.617067e+10  101\n",
       "                          冀东水泥(000401)   2.380573e+10  101\n",
       "                          *ST藏格(000408)  3.073030e+09  101\n",
       "...                                               ...  ...\n",
       "2020-07-30 00:00:00+00:00 ST安泰(600408)   1.852510e+09  101\n",
       "                          三友化工(600409)   1.300540e+10  101\n",
       "                          ST柳化(600423)   2.244330e+09  101\n",
       "                          青松建化(600425)   7.348950e+09  101\n",
       "                          华鲁恒升(600426)   3.767266e+10  101\n",
       "\n",
       "[5153 rows x 2 columns]"
      ]
     },
     "execution_count": 4,
     "metadata": {},
     "output_type": "execute_result"
    }
   ],
   "source": [
    "run_pipeline(make_pipeline(), '2020-07-20', '2020-07-30')"
   ]
  },
  {
   "cell_type": "markdown",
   "metadata": {},
   "source": [
    "# 过滤器"
   ]
  },
  {
   "cell_type": "markdown",
   "metadata": {},
   "source": [
    "## `指数`与`股票`"
   ]
  },
  {
   "cell_type": "code",
   "execution_count": 5,
   "metadata": {
    "ExecuteTime": {
     "end_time": "2020-08-03T14:10:54.633585Z",
     "start_time": "2020-08-03T14:10:54.464817Z"
    }
   },
   "outputs": [
    {
     "data": {
      "text/html": [
       "<b>Pipeline Execution Time:</b> 0.14 Seconds"
      ],
      "text/plain": [
       "<IPython.core.display.HTML object>"
      ]
     },
     "metadata": {},
     "output_type": "display_data"
    },
    {
     "data": {
      "text/html": [
       "<div>\n",
       "<style scoped>\n",
       "    .dataframe tbody tr th:only-of-type {\n",
       "        vertical-align: middle;\n",
       "    }\n",
       "\n",
       "    .dataframe tbody tr th {\n",
       "        vertical-align: top;\n",
       "    }\n",
       "\n",
       "    .dataframe thead th {\n",
       "        text-align: right;\n",
       "    }\n",
       "</style>\n",
       "<table border=\"1\" class=\"dataframe\">\n",
       "  <thead>\n",
       "    <tr style=\"text-align: right;\">\n",
       "      <th></th>\n",
       "      <th></th>\n",
       "      <th>收盘价</th>\n",
       "    </tr>\n",
       "    <tr>\n",
       "      <th>datetime</th>\n",
       "      <th>asset</th>\n",
       "      <th></th>\n",
       "    </tr>\n",
       "  </thead>\n",
       "  <tbody>\n",
       "    <tr>\n",
       "      <th rowspan=\"5\" valign=\"top\">2020-07-10 00:00:00+00:00</th>\n",
       "      <th>上证指数(1000001)</th>\n",
       "      <td>3450.594</td>\n",
       "    </tr>\n",
       "    <tr>\n",
       "      <th>Ａ股指数(1000002)</th>\n",
       "      <td>3616.870</td>\n",
       "    </tr>\n",
       "    <tr>\n",
       "      <th>Ｂ股指数(1000003)</th>\n",
       "      <td>244.906</td>\n",
       "    </tr>\n",
       "    <tr>\n",
       "      <th>工业指数(1000004)</th>\n",
       "      <td>2842.173</td>\n",
       "    </tr>\n",
       "    <tr>\n",
       "      <th>商业指数(1000005)</th>\n",
       "      <td>3635.511</td>\n",
       "    </tr>\n",
       "    <tr>\n",
       "      <th>...</th>\n",
       "      <th>...</th>\n",
       "      <td>...</td>\n",
       "    </tr>\n",
       "    <tr>\n",
       "      <th rowspan=\"5\" valign=\"top\">2020-07-30 00:00:00+00:00</th>\n",
       "      <th>信息安全(1399994)</th>\n",
       "      <td>2273.280</td>\n",
       "    </tr>\n",
       "    <tr>\n",
       "      <th>基建工程(1399995)</th>\n",
       "      <td>3732.097</td>\n",
       "    </tr>\n",
       "    <tr>\n",
       "      <th>智能家居(1399996)</th>\n",
       "      <td>3500.574</td>\n",
       "    </tr>\n",
       "    <tr>\n",
       "      <th>中证白酒(1399997)</th>\n",
       "      <td>11616.693</td>\n",
       "    </tr>\n",
       "    <tr>\n",
       "      <th>中证煤炭(1399998)</th>\n",
       "      <td>1177.014</td>\n",
       "    </tr>\n",
       "  </tbody>\n",
       "</table>\n",
       "<p>8265 rows × 1 columns</p>\n",
       "</div>"
      ],
      "text/plain": [
       "                                               收盘价\n",
       "datetime                  asset                   \n",
       "2020-07-10 00:00:00+00:00 上证指数(1000001)   3450.594\n",
       "                          Ａ股指数(1000002)   3616.870\n",
       "                          Ｂ股指数(1000003)    244.906\n",
       "                          工业指数(1000004)   2842.173\n",
       "                          商业指数(1000005)   3635.511\n",
       "...                                            ...\n",
       "2020-07-30 00:00:00+00:00 信息安全(1399994)   2273.280\n",
       "                          基建工程(1399995)   3732.097\n",
       "                          智能家居(1399996)   3500.574\n",
       "                          中证白酒(1399997)  11616.693\n",
       "                          中证煤炭(1399998)   1177.014\n",
       "\n",
       "[8265 rows x 1 columns]"
      ]
     },
     "execution_count": 5,
     "metadata": {},
     "output_type": "execute_result"
    }
   ],
   "source": [
    "def make_pipeline():\n",
    "    return Pipeline(\n",
    "        columns={\n",
    "            '收盘价': CNEquityPricing.close.latest,\n",
    "        }, screen=IsIndex())\n",
    "run_pipeline(make_pipeline(), '2020-07-10', '2020-07-30')"
   ]
  },
  {
   "cell_type": "code",
   "execution_count": 6,
   "metadata": {
    "ExecuteTime": {
     "end_time": "2020-08-03T14:10:54.789494Z",
     "start_time": "2020-08-03T14:10:54.634583Z"
    }
   },
   "outputs": [
    {
     "data": {
      "text/html": [
       "<b>Pipeline Execution Time:</b> 0.13 Seconds"
      ],
      "text/plain": [
       "<IPython.core.display.HTML object>"
      ]
     },
     "metadata": {},
     "output_type": "display_data"
    },
    {
     "data": {
      "text/html": [
       "<div>\n",
       "<style scoped>\n",
       "    .dataframe tbody tr th:only-of-type {\n",
       "        vertical-align: middle;\n",
       "    }\n",
       "\n",
       "    .dataframe tbody tr th {\n",
       "        vertical-align: top;\n",
       "    }\n",
       "\n",
       "    .dataframe thead th {\n",
       "        text-align: right;\n",
       "    }\n",
       "</style>\n",
       "<table border=\"1\" class=\"dataframe\">\n",
       "  <thead>\n",
       "    <tr style=\"text-align: right;\">\n",
       "      <th></th>\n",
       "      <th></th>\n",
       "      <th>收盘价</th>\n",
       "    </tr>\n",
       "    <tr>\n",
       "      <th>datetime</th>\n",
       "      <th>asset</th>\n",
       "      <th></th>\n",
       "    </tr>\n",
       "  </thead>\n",
       "  <tbody>\n",
       "    <tr>\n",
       "      <th rowspan=\"5\" valign=\"top\">2020-07-10 00:00:00+00:00</th>\n",
       "      <th>平安银行(000001)</th>\n",
       "      <td>15.53</td>\n",
       "    </tr>\n",
       "    <tr>\n",
       "      <th>万 科Ａ(000002)</th>\n",
       "      <td>30.63</td>\n",
       "    </tr>\n",
       "    <tr>\n",
       "      <th>国农科技(000004)</th>\n",
       "      <td>32.83</td>\n",
       "    </tr>\n",
       "    <tr>\n",
       "      <th>世纪星源(000005)</th>\n",
       "      <td>2.89</td>\n",
       "    </tr>\n",
       "    <tr>\n",
       "      <th>深振业Ａ(000006)</th>\n",
       "      <td>7.81</td>\n",
       "    </tr>\n",
       "    <tr>\n",
       "      <th>...</th>\n",
       "      <th>...</th>\n",
       "      <td>...</td>\n",
       "    </tr>\n",
       "    <tr>\n",
       "      <th rowspan=\"5\" valign=\"top\">2020-07-30 00:00:00+00:00</th>\n",
       "      <th>三元股份(600429)</th>\n",
       "      <td>5.74</td>\n",
       "    </tr>\n",
       "    <tr>\n",
       "      <th>北方导航(600435)</th>\n",
       "      <td>8.90</td>\n",
       "    </tr>\n",
       "    <tr>\n",
       "      <th>片仔癀(600436)</th>\n",
       "      <td>197.07</td>\n",
       "    </tr>\n",
       "    <tr>\n",
       "      <th>通威股份(600438)</th>\n",
       "      <td>24.77</td>\n",
       "    </tr>\n",
       "    <tr>\n",
       "      <th>瑞贝卡(600439)</th>\n",
       "      <td>3.41</td>\n",
       "    </tr>\n",
       "  </tbody>\n",
       "</table>\n",
       "<p>56811 rows × 1 columns</p>\n",
       "</div>"
      ],
      "text/plain": [
       "                                           收盘价\n",
       "datetime                  asset               \n",
       "2020-07-10 00:00:00+00:00 平安银行(000001)   15.53\n",
       "                          万 科Ａ(000002)   30.63\n",
       "                          国农科技(000004)   32.83\n",
       "                          世纪星源(000005)    2.89\n",
       "                          深振业Ａ(000006)    7.81\n",
       "...                                        ...\n",
       "2020-07-30 00:00:00+00:00 三元股份(600429)    5.74\n",
       "                          北方导航(600435)    8.90\n",
       "                          片仔癀(600436)   197.07\n",
       "                          通威股份(600438)   24.77\n",
       "                          瑞贝卡(600439)     3.41\n",
       "\n",
       "[56811 rows x 1 columns]"
      ]
     },
     "execution_count": 6,
     "metadata": {},
     "output_type": "execute_result"
    }
   ],
   "source": [
    "def make_pipeline():\n",
    "    return Pipeline(\n",
    "        columns={\n",
    "            '收盘价': CNEquityPricing.close.latest,\n",
    "        }, screen=IsStock())\n",
    "run_pipeline(make_pipeline(), '2020-07-10', '2020-07-30')"
   ]
  },
  {
   "cell_type": "markdown",
   "metadata": {},
   "source": [
    "## `default_us_equity_universe_mask`\n",
    "最低市值必须大于等于'minimum_market_cap'，默认为5亿。"
   ]
  },
  {
   "cell_type": "code",
   "execution_count": 7,
   "metadata": {
    "ExecuteTime": {
     "end_time": "2020-08-03T14:10:54.794482Z",
     "start_time": "2020-08-03T14:10:54.791491Z"
    }
   },
   "outputs": [],
   "source": [
    "def make_pipeline1():\n",
    "    return Pipeline(\n",
    "        columns={\n",
    "            '流通市值': CNEquityPricing.market_cap.latest,\n",
    "        })"
   ]
  },
  {
   "cell_type": "code",
   "execution_count": 8,
   "metadata": {
    "ExecuteTime": {
     "end_time": "2020-08-03T14:10:54.919150Z",
     "start_time": "2020-08-03T14:10:54.796445Z"
    }
   },
   "outputs": [
    {
     "data": {
      "text/html": [
       "<b>Pipeline Execution Time:</b> 0.10 Seconds"
      ],
      "text/plain": [
       "<IPython.core.display.HTML object>"
      ]
     },
     "metadata": {},
     "output_type": "display_data"
    },
    {
     "name": "stdout",
     "output_type": "stream",
     "text": [
      "行数 3136\n",
      "流通市值 >= 500000000 行数 2579\n"
     ]
    }
   ],
   "source": [
    "result1 = run_pipeline(make_pipeline1(), '2020-07-30', '2020-07-30')\n",
    "print('行数', result1.shape[0])\n",
    "cond = result1['流通市值'] >= 500000000\n",
    "actual = len(result1[cond])\n",
    "print('流通市值 >= 500000000 行数', actual)"
   ]
  },
  {
   "cell_type": "code",
   "execution_count": 9,
   "metadata": {
    "ExecuteTime": {
     "end_time": "2020-08-03T14:10:55.045778Z",
     "start_time": "2020-08-03T14:10:54.921112Z"
    }
   },
   "outputs": [
    {
     "data": {
      "text/html": [
       "<b>Pipeline Execution Time:</b> 0.10 Seconds"
      ],
      "text/plain": [
       "<IPython.core.display.HTML object>"
      ]
     },
     "metadata": {},
     "output_type": "display_data"
    }
   ],
   "source": [
    "def make_pipeline2():\n",
    "    return Pipeline(\n",
    "        columns={\n",
    "            '流通市值': CNEquityPricing.market_cap.latest,\n",
    "        },\n",
    "        screen=default_us_equity_universe_mask())\n",
    "\n",
    "\n",
    "result2 = run_pipeline(make_pipeline2(), '2020-07-30', '2020-07-30')\n",
    "assert len(result2) == actual"
   ]
  },
  {
   "cell_type": "markdown",
   "metadata": {},
   "source": [
    "## `make_us_equity_universe`"
   ]
  },
  {
   "cell_type": "code",
   "execution_count": 10,
   "metadata": {
    "ExecuteTime": {
     "end_time": "2020-08-03T14:10:55.049768Z",
     "start_time": "2020-08-03T14:10:55.046806Z"
    }
   },
   "outputs": [],
   "source": [
    "from zipline.pipeline import factors, filters, classifiers"
   ]
  },
  {
   "cell_type": "code",
   "execution_count": 11,
   "metadata": {
    "ExecuteTime": {
     "end_time": "2020-08-03T14:10:55.056749Z",
     "start_time": "2020-08-03T14:10:55.050765Z"
    }
   },
   "outputs": [],
   "source": [
    "def make_pipeline():\n",
    "    f = factors.AverageDollarVolume(\n",
    "        window_length=200).downsample('month_start')\n",
    "    return Pipeline(\n",
    "        columns={\n",
    "            'sector': Sector(),\n",
    "            '成交额': f,\n",
    "            '排位': f.top(30, groupby=Sector(), mask=default_us_equity_universe_mask()),\n",
    "        }, screen=default_us_equity_universe_mask())"
   ]
  },
  {
   "cell_type": "code",
   "execution_count": 12,
   "metadata": {
    "ExecuteTime": {
     "end_time": "2020-08-03T14:10:55.545927Z",
     "start_time": "2020-08-03T14:10:55.057746Z"
    }
   },
   "outputs": [
    {
     "data": {
      "text/html": [
       "<b>Pipeline Execution Time:</b> 0.45 Seconds"
      ],
      "text/plain": [
       "<IPython.core.display.HTML object>"
      ]
     },
     "metadata": {},
     "output_type": "display_data"
    },
    {
     "data": {
      "text/html": [
       "<div>\n",
       "<style scoped>\n",
       "    .dataframe tbody tr th:only-of-type {\n",
       "        vertical-align: middle;\n",
       "    }\n",
       "\n",
       "    .dataframe tbody tr th {\n",
       "        vertical-align: top;\n",
       "    }\n",
       "\n",
       "    .dataframe thead th {\n",
       "        text-align: right;\n",
       "    }\n",
       "</style>\n",
       "<table border=\"1\" class=\"dataframe\">\n",
       "  <thead>\n",
       "    <tr style=\"text-align: right;\">\n",
       "      <th></th>\n",
       "      <th></th>\n",
       "      <th>sector</th>\n",
       "      <th>成交额</th>\n",
       "      <th>排位</th>\n",
       "    </tr>\n",
       "    <tr>\n",
       "      <th>datetime</th>\n",
       "      <th>asset</th>\n",
       "      <th></th>\n",
       "      <th></th>\n",
       "      <th></th>\n",
       "    </tr>\n",
       "  </thead>\n",
       "  <tbody>\n",
       "    <tr>\n",
       "      <th rowspan=\"11\" valign=\"top\">2020-07-30 00:00:00+00:00</th>\n",
       "      <th>平安银行(000001)</th>\n",
       "      <td>103</td>\n",
       "      <td>1.409211e+09</td>\n",
       "      <td>True</td>\n",
       "    </tr>\n",
       "    <tr>\n",
       "      <th>万 科Ａ(000002)</th>\n",
       "      <td>104</td>\n",
       "      <td>2.027297e+09</td>\n",
       "      <td>True</td>\n",
       "    </tr>\n",
       "    <tr>\n",
       "      <th>国农科技(000004)</th>\n",
       "      <td>206</td>\n",
       "      <td>9.593482e+07</td>\n",
       "      <td>False</td>\n",
       "    </tr>\n",
       "    <tr>\n",
       "      <th>世纪星源(000005)</th>\n",
       "      <td>310</td>\n",
       "      <td>3.480987e+07</td>\n",
       "      <td>False</td>\n",
       "    </tr>\n",
       "    <tr>\n",
       "      <th>深振业Ａ(000006)</th>\n",
       "      <td>104</td>\n",
       "      <td>7.144401e+07</td>\n",
       "      <td>False</td>\n",
       "    </tr>\n",
       "    <tr>\n",
       "      <th>...</th>\n",
       "      <td>...</td>\n",
       "      <td>...</td>\n",
       "      <td>...</td>\n",
       "    </tr>\n",
       "    <tr>\n",
       "      <th>三元股份(600429)</th>\n",
       "      <td>102</td>\n",
       "      <td>2.416808e+07</td>\n",
       "      <td>False</td>\n",
       "    </tr>\n",
       "    <tr>\n",
       "      <th>北方导航(600435)</th>\n",
       "      <td>310</td>\n",
       "      <td>1.294475e+08</td>\n",
       "      <td>False</td>\n",
       "    </tr>\n",
       "    <tr>\n",
       "      <th>片仔癀(600436)</th>\n",
       "      <td>206</td>\n",
       "      <td>5.167972e+08</td>\n",
       "      <td>True</td>\n",
       "    </tr>\n",
       "    <tr>\n",
       "      <th>通威股份(600438)</th>\n",
       "      <td>102</td>\n",
       "      <td>9.370172e+08</td>\n",
       "      <td>True</td>\n",
       "    </tr>\n",
       "    <tr>\n",
       "      <th>瑞贝卡(600439)</th>\n",
       "      <td>102</td>\n",
       "      <td>3.564076e+07</td>\n",
       "      <td>False</td>\n",
       "    </tr>\n",
       "  </tbody>\n",
       "</table>\n",
       "<p>2579 rows × 3 columns</p>\n",
       "</div>"
      ],
      "text/plain": [
       "                                        sector           成交额     排位\n",
       "datetime                  asset                                    \n",
       "2020-07-30 00:00:00+00:00 平安银行(000001)     103  1.409211e+09   True\n",
       "                          万 科Ａ(000002)     104  2.027297e+09   True\n",
       "                          国农科技(000004)     206  9.593482e+07  False\n",
       "                          世纪星源(000005)     310  3.480987e+07  False\n",
       "                          深振业Ａ(000006)     104  7.144401e+07  False\n",
       "...                                        ...           ...    ...\n",
       "                          三元股份(600429)     102  2.416808e+07  False\n",
       "                          北方导航(600435)     310  1.294475e+08  False\n",
       "                          片仔癀(600436)      206  5.167972e+08   True\n",
       "                          通威股份(600438)     102  9.370172e+08   True\n",
       "                          瑞贝卡(600439)      102  3.564076e+07  False\n",
       "\n",
       "[2579 rows x 3 columns]"
      ]
     },
     "execution_count": 12,
     "metadata": {},
     "output_type": "execute_result"
    }
   ],
   "source": [
    "df = run_pipeline(make_pipeline(), '2020-07-30', '2020-07-30')\n",
    "df"
   ]
  },
  {
   "cell_type": "code",
   "execution_count": 13,
   "metadata": {
    "ExecuteTime": {
     "end_time": "2020-08-03T14:10:56.014464Z",
     "start_time": "2020-08-03T14:10:55.546893Z"
    }
   },
   "outputs": [
    {
     "data": {
      "text/html": [
       "<b>Pipeline Execution Time:</b> 0.43 Seconds"
      ],
      "text/plain": [
       "<IPython.core.display.HTML object>"
      ]
     },
     "metadata": {},
     "output_type": "display_data"
    },
    {
     "data": {
      "text/html": [
       "<div>\n",
       "<style scoped>\n",
       "    .dataframe tbody tr th:only-of-type {\n",
       "        vertical-align: middle;\n",
       "    }\n",
       "\n",
       "    .dataframe tbody tr th {\n",
       "        vertical-align: top;\n",
       "    }\n",
       "\n",
       "    .dataframe thead th {\n",
       "        text-align: right;\n",
       "    }\n",
       "</style>\n",
       "<table border=\"1\" class=\"dataframe\">\n",
       "  <thead>\n",
       "    <tr style=\"text-align: right;\">\n",
       "      <th></th>\n",
       "      <th></th>\n",
       "      <th>universe</th>\n",
       "    </tr>\n",
       "    <tr>\n",
       "      <th>datetime</th>\n",
       "      <th>asset</th>\n",
       "      <th></th>\n",
       "    </tr>\n",
       "  </thead>\n",
       "  <tbody>\n",
       "    <tr>\n",
       "      <th rowspan=\"11\" valign=\"top\">2020-07-30 00:00:00+00:00</th>\n",
       "      <th>平安银行(000001)</th>\n",
       "      <td>True</td>\n",
       "    </tr>\n",
       "    <tr>\n",
       "      <th>万 科Ａ(000002)</th>\n",
       "      <td>True</td>\n",
       "    </tr>\n",
       "    <tr>\n",
       "      <th>国农科技(000004)</th>\n",
       "      <td>False</td>\n",
       "    </tr>\n",
       "    <tr>\n",
       "      <th>世纪星源(000005)</th>\n",
       "      <td>False</td>\n",
       "    </tr>\n",
       "    <tr>\n",
       "      <th>深振业Ａ(000006)</th>\n",
       "      <td>True</td>\n",
       "    </tr>\n",
       "    <tr>\n",
       "      <th>...</th>\n",
       "      <td>...</td>\n",
       "    </tr>\n",
       "    <tr>\n",
       "      <th>信息安全(1399994)</th>\n",
       "      <td>False</td>\n",
       "    </tr>\n",
       "    <tr>\n",
       "      <th>基建工程(1399995)</th>\n",
       "      <td>False</td>\n",
       "    </tr>\n",
       "    <tr>\n",
       "      <th>智能家居(1399996)</th>\n",
       "      <td>False</td>\n",
       "    </tr>\n",
       "    <tr>\n",
       "      <th>中证白酒(1399997)</th>\n",
       "      <td>False</td>\n",
       "    </tr>\n",
       "    <tr>\n",
       "      <th>中证煤炭(1399998)</th>\n",
       "      <td>False</td>\n",
       "    </tr>\n",
       "  </tbody>\n",
       "</table>\n",
       "<p>3136 rows × 1 columns</p>\n",
       "</div>"
      ],
      "text/plain": [
       "                                         universe\n",
       "datetime                  asset                  \n",
       "2020-07-30 00:00:00+00:00 平安银行(000001)       True\n",
       "                          万 科Ａ(000002)       True\n",
       "                          国农科技(000004)      False\n",
       "                          世纪星源(000005)      False\n",
       "                          深振业Ａ(000006)       True\n",
       "...                                           ...\n",
       "                          信息安全(1399994)     False\n",
       "                          基建工程(1399995)     False\n",
       "                          智能家居(1399996)     False\n",
       "                          中证白酒(1399997)     False\n",
       "                          中证煤炭(1399998)     False\n",
       "\n",
       "[3136 rows x 1 columns]"
      ]
     },
     "execution_count": 13,
     "metadata": {},
     "output_type": "execute_result"
    }
   ],
   "source": [
    "def make_pipeline():\n",
    "    return Pipeline(\n",
    "        columns={\n",
    "            'universe': make_us_equity_universe(500),\n",
    "        })\n",
    "df = run_pipeline(make_pipeline(), '2020-07-30', '2020-07-30')\n",
    "df"
   ]
  },
  {
   "cell_type": "code",
   "execution_count": 14,
   "metadata": {
    "ExecuteTime": {
     "end_time": "2020-08-03T14:10:56.028426Z",
     "start_time": "2020-08-03T14:10:56.015461Z"
    }
   },
   "outputs": [
    {
     "data": {
      "text/html": [
       "<div>\n",
       "<style scoped>\n",
       "    .dataframe tbody tr th:only-of-type {\n",
       "        vertical-align: middle;\n",
       "    }\n",
       "\n",
       "    .dataframe tbody tr th {\n",
       "        vertical-align: top;\n",
       "    }\n",
       "\n",
       "    .dataframe thead th {\n",
       "        text-align: right;\n",
       "    }\n",
       "</style>\n",
       "<table border=\"1\" class=\"dataframe\">\n",
       "  <thead>\n",
       "    <tr style=\"text-align: right;\">\n",
       "      <th></th>\n",
       "      <th></th>\n",
       "      <th>universe</th>\n",
       "    </tr>\n",
       "    <tr>\n",
       "      <th>datetime</th>\n",
       "      <th>asset</th>\n",
       "      <th></th>\n",
       "    </tr>\n",
       "  </thead>\n",
       "  <tbody>\n",
       "    <tr>\n",
       "      <th rowspan=\"11\" valign=\"top\">2020-07-30 00:00:00+00:00</th>\n",
       "      <th>平安银行(000001)</th>\n",
       "      <td>True</td>\n",
       "    </tr>\n",
       "    <tr>\n",
       "      <th>万 科Ａ(000002)</th>\n",
       "      <td>True</td>\n",
       "    </tr>\n",
       "    <tr>\n",
       "      <th>深振业Ａ(000006)</th>\n",
       "      <td>True</td>\n",
       "    </tr>\n",
       "    <tr>\n",
       "      <th>全新好(000007)</th>\n",
       "      <td>True</td>\n",
       "    </tr>\n",
       "    <tr>\n",
       "      <th>中国宝安(000009)</th>\n",
       "      <td>True</td>\n",
       "    </tr>\n",
       "    <tr>\n",
       "      <th>...</th>\n",
       "      <td>...</td>\n",
       "    </tr>\n",
       "    <tr>\n",
       "      <th>华胜天成(600410)</th>\n",
       "      <td>True</td>\n",
       "    </tr>\n",
       "    <tr>\n",
       "      <th>小商品城(600415)</th>\n",
       "      <td>True</td>\n",
       "    </tr>\n",
       "    <tr>\n",
       "      <th>江淮汽车(600418)</th>\n",
       "      <td>True</td>\n",
       "    </tr>\n",
       "    <tr>\n",
       "      <th>片仔癀(600436)</th>\n",
       "      <td>True</td>\n",
       "    </tr>\n",
       "    <tr>\n",
       "      <th>通威股份(600438)</th>\n",
       "      <td>True</td>\n",
       "    </tr>\n",
       "  </tbody>\n",
       "</table>\n",
       "<p>495 rows × 1 columns</p>\n",
       "</div>"
      ],
      "text/plain": [
       "                                        universe\n",
       "datetime                  asset                 \n",
       "2020-07-30 00:00:00+00:00 平安银行(000001)      True\n",
       "                          万 科Ａ(000002)      True\n",
       "                          深振业Ａ(000006)      True\n",
       "                          全新好(000007)       True\n",
       "                          中国宝安(000009)      True\n",
       "...                                          ...\n",
       "                          华胜天成(600410)      True\n",
       "                          小商品城(600415)      True\n",
       "                          江淮汽车(600418)      True\n",
       "                          片仔癀(600436)       True\n",
       "                          通威股份(600438)      True\n",
       "\n",
       "[495 rows x 1 columns]"
      ]
     },
     "execution_count": 14,
     "metadata": {},
     "output_type": "execute_result"
    }
   ],
   "source": [
    "# 筛选出总体\n",
    "df[df['universe']]"
   ]
  },
  {
   "cell_type": "markdown",
   "metadata": {},
   "source": [
    "以下总体选择在实现中存在问题：\n",
    "1. 部分行业可能数量不足；\n",
    "2. 并未考虑行业最大比例参数；"
   ]
  },
  {
   "cell_type": "markdown",
   "metadata": {},
   "source": [
    "## `Q500US`"
   ]
  },
  {
   "cell_type": "code",
   "execution_count": 16,
   "metadata": {
    "ExecuteTime": {
     "end_time": "2020-08-03T14:11:28.700779Z",
     "start_time": "2020-08-03T14:11:28.282123Z"
    }
   },
   "outputs": [
    {
     "data": {
      "text/html": [
       "<b>Pipeline Execution Time:</b> 0.38 Seconds"
      ],
      "text/plain": [
       "<IPython.core.display.HTML object>"
      ]
     },
     "metadata": {},
     "output_type": "display_data"
    },
    {
     "data": {
      "text/html": [
       "<div>\n",
       "<style scoped>\n",
       "    .dataframe tbody tr th:only-of-type {\n",
       "        vertical-align: middle;\n",
       "    }\n",
       "\n",
       "    .dataframe tbody tr th {\n",
       "        vertical-align: top;\n",
       "    }\n",
       "\n",
       "    .dataframe thead th {\n",
       "        text-align: right;\n",
       "    }\n",
       "</style>\n",
       "<table border=\"1\" class=\"dataframe\">\n",
       "  <thead>\n",
       "    <tr style=\"text-align: right;\">\n",
       "      <th></th>\n",
       "      <th></th>\n",
       "      <th>收盘价</th>\n",
       "    </tr>\n",
       "    <tr>\n",
       "      <th>datetime</th>\n",
       "      <th>asset</th>\n",
       "      <th></th>\n",
       "    </tr>\n",
       "  </thead>\n",
       "  <tbody>\n",
       "    <tr>\n",
       "      <th rowspan=\"11\" valign=\"top\">2020-07-30 00:00:00+00:00</th>\n",
       "      <th>平安银行(000001)</th>\n",
       "      <td>13.54</td>\n",
       "    </tr>\n",
       "    <tr>\n",
       "      <th>万 科Ａ(000002)</th>\n",
       "      <td>27.11</td>\n",
       "    </tr>\n",
       "    <tr>\n",
       "      <th>深振业Ａ(000006)</th>\n",
       "      <td>7.53</td>\n",
       "    </tr>\n",
       "    <tr>\n",
       "      <th>全新好(000007)</th>\n",
       "      <td>8.54</td>\n",
       "    </tr>\n",
       "    <tr>\n",
       "      <th>中国宝安(000009)</th>\n",
       "      <td>8.71</td>\n",
       "    </tr>\n",
       "    <tr>\n",
       "      <th>...</th>\n",
       "      <td>...</td>\n",
       "    </tr>\n",
       "    <tr>\n",
       "      <th>华胜天成(600410)</th>\n",
       "      <td>14.59</td>\n",
       "    </tr>\n",
       "    <tr>\n",
       "      <th>小商品城(600415)</th>\n",
       "      <td>7.01</td>\n",
       "    </tr>\n",
       "    <tr>\n",
       "      <th>江淮汽车(600418)</th>\n",
       "      <td>9.77</td>\n",
       "    </tr>\n",
       "    <tr>\n",
       "      <th>片仔癀(600436)</th>\n",
       "      <td>197.07</td>\n",
       "    </tr>\n",
       "    <tr>\n",
       "      <th>通威股份(600438)</th>\n",
       "      <td>24.77</td>\n",
       "    </tr>\n",
       "  </tbody>\n",
       "</table>\n",
       "<p>495 rows × 1 columns</p>\n",
       "</div>"
      ],
      "text/plain": [
       "                                           收盘价\n",
       "datetime                  asset               \n",
       "2020-07-30 00:00:00+00:00 平安银行(000001)   13.54\n",
       "                          万 科Ａ(000002)   27.11\n",
       "                          深振业Ａ(000006)    7.53\n",
       "                          全新好(000007)     8.54\n",
       "                          中国宝安(000009)    8.71\n",
       "...                                        ...\n",
       "                          华胜天成(600410)   14.59\n",
       "                          小商品城(600415)    7.01\n",
       "                          江淮汽车(600418)    9.77\n",
       "                          片仔癀(600436)   197.07\n",
       "                          通威股份(600438)   24.77\n",
       "\n",
       "[495 rows x 1 columns]"
      ]
     },
     "execution_count": 16,
     "metadata": {},
     "output_type": "execute_result"
    }
   ],
   "source": [
    "def make_pipeline():\n",
    "    return Pipeline(\n",
    "        columns={\n",
    "            '收盘价': CNEquityPricing.close.latest,\n",
    "        }, screen=Q500US())\n",
    "run_pipeline(make_pipeline(), '2020-07-30', '2020-07-30')"
   ]
  },
  {
   "cell_type": "markdown",
   "metadata": {},
   "source": [
    "## `Q1500US`"
   ]
  },
  {
   "cell_type": "code",
   "execution_count": 17,
   "metadata": {
    "ExecuteTime": {
     "end_time": "2020-08-03T14:12:30.131074Z",
     "start_time": "2020-08-03T14:12:29.709811Z"
    }
   },
   "outputs": [
    {
     "data": {
      "text/html": [
       "<b>Pipeline Execution Time:</b> 0.38 Seconds"
      ],
      "text/plain": [
       "<IPython.core.display.HTML object>"
      ]
     },
     "metadata": {},
     "output_type": "display_data"
    },
    {
     "data": {
      "text/html": [
       "<div>\n",
       "<style scoped>\n",
       "    .dataframe tbody tr th:only-of-type {\n",
       "        vertical-align: middle;\n",
       "    }\n",
       "\n",
       "    .dataframe tbody tr th {\n",
       "        vertical-align: top;\n",
       "    }\n",
       "\n",
       "    .dataframe thead th {\n",
       "        text-align: right;\n",
       "    }\n",
       "</style>\n",
       "<table border=\"1\" class=\"dataframe\">\n",
       "  <thead>\n",
       "    <tr style=\"text-align: right;\">\n",
       "      <th></th>\n",
       "      <th></th>\n",
       "      <th>收盘价</th>\n",
       "    </tr>\n",
       "    <tr>\n",
       "      <th>datetime</th>\n",
       "      <th>asset</th>\n",
       "      <th></th>\n",
       "    </tr>\n",
       "  </thead>\n",
       "  <tbody>\n",
       "    <tr>\n",
       "      <th rowspan=\"11\" valign=\"top\">2020-07-30 00:00:00+00:00</th>\n",
       "      <th>平安银行(000001)</th>\n",
       "      <td>13.54</td>\n",
       "    </tr>\n",
       "    <tr>\n",
       "      <th>万 科Ａ(000002)</th>\n",
       "      <td>27.11</td>\n",
       "    </tr>\n",
       "    <tr>\n",
       "      <th>深振业Ａ(000006)</th>\n",
       "      <td>7.53</td>\n",
       "    </tr>\n",
       "    <tr>\n",
       "      <th>全新好(000007)</th>\n",
       "      <td>8.54</td>\n",
       "    </tr>\n",
       "    <tr>\n",
       "      <th>中国宝安(000009)</th>\n",
       "      <td>8.71</td>\n",
       "    </tr>\n",
       "    <tr>\n",
       "      <th>...</th>\n",
       "      <td>...</td>\n",
       "    </tr>\n",
       "    <tr>\n",
       "      <th>三元股份(600429)</th>\n",
       "      <td>5.74</td>\n",
       "    </tr>\n",
       "    <tr>\n",
       "      <th>北方导航(600435)</th>\n",
       "      <td>8.90</td>\n",
       "    </tr>\n",
       "    <tr>\n",
       "      <th>片仔癀(600436)</th>\n",
       "      <td>197.07</td>\n",
       "    </tr>\n",
       "    <tr>\n",
       "      <th>通威股份(600438)</th>\n",
       "      <td>24.77</td>\n",
       "    </tr>\n",
       "    <tr>\n",
       "      <th>瑞贝卡(600439)</th>\n",
       "      <td>3.41</td>\n",
       "    </tr>\n",
       "  </tbody>\n",
       "</table>\n",
       "<p>1156 rows × 1 columns</p>\n",
       "</div>"
      ],
      "text/plain": [
       "                                           收盘价\n",
       "datetime                  asset               \n",
       "2020-07-30 00:00:00+00:00 平安银行(000001)   13.54\n",
       "                          万 科Ａ(000002)   27.11\n",
       "                          深振业Ａ(000006)    7.53\n",
       "                          全新好(000007)     8.54\n",
       "                          中国宝安(000009)    8.71\n",
       "...                                        ...\n",
       "                          三元股份(600429)    5.74\n",
       "                          北方导航(600435)    8.90\n",
       "                          片仔癀(600436)   197.07\n",
       "                          通威股份(600438)   24.77\n",
       "                          瑞贝卡(600439)     3.41\n",
       "\n",
       "[1156 rows x 1 columns]"
      ]
     },
     "execution_count": 17,
     "metadata": {},
     "output_type": "execute_result"
    }
   ],
   "source": [
    "def make_pipeline():\n",
    "    return Pipeline(\n",
    "        columns={\n",
    "            '收盘价': CNEquityPricing.close.latest,\n",
    "        }, screen=Q1500US())\n",
    "run_pipeline(make_pipeline(), '2020-07-30', '2020-07-30')"
   ]
  },
  {
   "cell_type": "markdown",
   "metadata": {},
   "source": [
    "## `Q3000US`"
   ]
  },
  {
   "cell_type": "code",
   "execution_count": 18,
   "metadata": {
    "ExecuteTime": {
     "end_time": "2020-08-03T14:12:50.730940Z",
     "start_time": "2020-08-03T14:12:50.311039Z"
    }
   },
   "outputs": [
    {
     "data": {
      "text/html": [
       "<b>Pipeline Execution Time:</b> 0.38 Seconds"
      ],
      "text/plain": [
       "<IPython.core.display.HTML object>"
      ]
     },
     "metadata": {},
     "output_type": "display_data"
    },
    {
     "data": {
      "text/html": [
       "<div>\n",
       "<style scoped>\n",
       "    .dataframe tbody tr th:only-of-type {\n",
       "        vertical-align: middle;\n",
       "    }\n",
       "\n",
       "    .dataframe tbody tr th {\n",
       "        vertical-align: top;\n",
       "    }\n",
       "\n",
       "    .dataframe thead th {\n",
       "        text-align: right;\n",
       "    }\n",
       "</style>\n",
       "<table border=\"1\" class=\"dataframe\">\n",
       "  <thead>\n",
       "    <tr style=\"text-align: right;\">\n",
       "      <th></th>\n",
       "      <th></th>\n",
       "      <th>收盘价</th>\n",
       "    </tr>\n",
       "    <tr>\n",
       "      <th>datetime</th>\n",
       "      <th>asset</th>\n",
       "      <th></th>\n",
       "    </tr>\n",
       "  </thead>\n",
       "  <tbody>\n",
       "    <tr>\n",
       "      <th rowspan=\"11\" valign=\"top\">2020-07-30 00:00:00+00:00</th>\n",
       "      <th>平安银行(000001)</th>\n",
       "      <td>13.54</td>\n",
       "    </tr>\n",
       "    <tr>\n",
       "      <th>万 科Ａ(000002)</th>\n",
       "      <td>27.11</td>\n",
       "    </tr>\n",
       "    <tr>\n",
       "      <th>国农科技(000004)</th>\n",
       "      <td>29.11</td>\n",
       "    </tr>\n",
       "    <tr>\n",
       "      <th>深振业Ａ(000006)</th>\n",
       "      <td>7.53</td>\n",
       "    </tr>\n",
       "    <tr>\n",
       "      <th>全新好(000007)</th>\n",
       "      <td>8.54</td>\n",
       "    </tr>\n",
       "    <tr>\n",
       "      <th>...</th>\n",
       "      <td>...</td>\n",
       "    </tr>\n",
       "    <tr>\n",
       "      <th>三元股份(600429)</th>\n",
       "      <td>5.74</td>\n",
       "    </tr>\n",
       "    <tr>\n",
       "      <th>北方导航(600435)</th>\n",
       "      <td>8.90</td>\n",
       "    </tr>\n",
       "    <tr>\n",
       "      <th>片仔癀(600436)</th>\n",
       "      <td>197.07</td>\n",
       "    </tr>\n",
       "    <tr>\n",
       "      <th>通威股份(600438)</th>\n",
       "      <td>24.77</td>\n",
       "    </tr>\n",
       "    <tr>\n",
       "      <th>瑞贝卡(600439)</th>\n",
       "      <td>3.41</td>\n",
       "    </tr>\n",
       "  </tbody>\n",
       "</table>\n",
       "<p>1797 rows × 1 columns</p>\n",
       "</div>"
      ],
      "text/plain": [
       "                                           收盘价\n",
       "datetime                  asset               \n",
       "2020-07-30 00:00:00+00:00 平安银行(000001)   13.54\n",
       "                          万 科Ａ(000002)   27.11\n",
       "                          国农科技(000004)   29.11\n",
       "                          深振业Ａ(000006)    7.53\n",
       "                          全新好(000007)     8.54\n",
       "...                                        ...\n",
       "                          三元股份(600429)    5.74\n",
       "                          北方导航(600435)    8.90\n",
       "                          片仔癀(600436)   197.07\n",
       "                          通威股份(600438)   24.77\n",
       "                          瑞贝卡(600439)     3.41\n",
       "\n",
       "[1797 rows x 1 columns]"
      ]
     },
     "execution_count": 18,
     "metadata": {},
     "output_type": "execute_result"
    }
   ],
   "source": [
    "def make_pipeline():\n",
    "    return Pipeline(\n",
    "        columns={\n",
    "            '收盘价': CNEquityPricing.close.latest,\n",
    "        }, screen=Q3000US())\n",
    "\n",
    "\n",
    "run_pipeline(make_pipeline(), '2020-07-30', '2020-07-30')"
   ]
  }
 ],
 "metadata": {
  "kernelspec": {
   "display_name": "zipline",
   "language": "python",
   "name": "zipline"
  },
  "language_info": {
   "codemirror_mode": {
    "name": "ipython",
    "version": 3
   },
   "file_extension": ".py",
   "mimetype": "text/x-python",
   "name": "python",
   "nbconvert_exporter": "python",
   "pygments_lexer": "ipython3",
   "version": "3.7.7"
  },
  "toc": {
   "base_numbering": 1,
   "nav_menu": {},
   "number_sections": true,
   "sideBar": true,
   "skip_h1_title": false,
   "title_cell": "Table of Contents",
   "title_sidebar": "Contents",
   "toc_cell": false,
   "toc_position": {},
   "toc_section_display": true,
   "toc_window_display": true
  }
 },
 "nbformat": 4,
 "nbformat_minor": 4
}
