{
 "cells": [
  {
   "cell_type": "markdown",
   "metadata": {},
   "source": [
    "下一步是将在`Research`中构建的数据管道集成到我们的算法中。与`Research`的一个重要区别是，在回溯测试期间，随着仿真的进行，管道将每天执行，因此不需要`start_date`和`end_date`参数。\n",
    "\n",
    "为了在算法中使用数据管道，第一步是在算法的`initialize`函数中添加对它的引用。这是通过使用`attach_pipeline`函数完成的，该函数需要两个输入参数：对Pipeline对象（使用make_pipeline构建的对象）的引用以及用于标识它的字符串名称。"
   ]
  },
  {
   "cell_type": "raw",
   "metadata": {
    "ExecuteTime": {
     "end_time": "2018-05-21T05:30:31.948082Z",
     "start_time": "2018-05-21T05:30:29.846574Z"
    }
   },
   "source": [
    "# Import Algorithm API functions\n",
    "from zipline.api import attach_pipeline, date_rules, time_rules\n",
    "\n",
    "\n",
    "def initialize(context):\n",
    "    # Attach pipeline to algorithm\n",
    "    attach_pipeline(make_pipeline(), 'data_pipe')\n",
    "\n",
    "    # Schedule rebalance function\n",
    "    schedule_function(\n",
    "        rebalance,\n",
    "        date_rule=date_rules.week_start(),\n",
    "        time_rule=time_rules.market_open())\n",
    "\n",
    "\n",
    "def before_trading_start(context, data):\n",
    "    pass\n",
    "\n",
    "\n",
    "def rebalance(context, data):\n",
    "    pass"
   ]
  },
  {
   "cell_type": "markdown",
   "metadata": {},
   "source": [
    "如上所述，管道将在每天市场开盘之前处理数据流并生成输出。可以使用`pipeline_output`函数在`before_trading_start`中获取管道输出，`pipeline_output`函数采用我们在`initialize`中指定的管道名称，并返回由我们的管道生成的`pandas.DataFrame`。现在我们可以使用我们的`rebalance`来记录管道输出中的前10行。"
   ]
  },
  {
   "cell_type": "raw",
   "metadata": {
    "ExecuteTime": {
     "end_time": "2018-05-21T05:30:31.963440Z",
     "start_time": "2018-05-21T05:30:31.951566Z"
    }
   },
   "source": [
    "# Import Algorithm API functions\n",
    "from zipline.api import (attach_pipeline, pipeline_output, date_rules,\n",
    "                         time_rules)\n",
    "\n",
    "\n",
    "def initialize(context):\n",
    "    # Attach pipeline to algorithm\n",
    "    attach_pipeline(make_pipeline(), 'data_pipe')\n",
    "\n",
    "    # Schedule rebalance function\n",
    "    schedule_function(\n",
    "        rebalance,\n",
    "        date_rule=date_rules.week_start(),\n",
    "        time_rule=time_rules.market_open())\n",
    "\n",
    "\n",
    "def before_trading_start(context, data):\n",
    "    # Get pipeline output and\n",
    "    # store it in context\n",
    "    context.output = pipeline_output('data_pipe')\n",
    "\n",
    "\n",
    "def rebalance(context, data):\n",
    "    # Display first 10 rows\n",
    "    # of pipeline output\n",
    "    log.info(context.output.head(10))"
   ]
  },
  {
   "cell_type": "markdown",
   "metadata": {},
   "source": [
    "现在，将我们在Research中构建的`make_pipeline`函数添加到算法中。算法不应像分析所做的那样限制资产数量，而应考虑交易总体中有尾部12月股利比的所有资产。为此，我们可以使用我们的`trailing_dividend_yield`输出的`notnull`方法创建一个过滤器，并使用`＆`运算符获得与可交易总体的交集："
   ]
  },
  {
   "cell_type": "code",
   "execution_count": 1,
   "metadata": {
    "ExecuteTime": {
     "end_time": "2019-01-03T03:45:22.733001Z",
     "start_time": "2019-01-03T03:45:18.914564Z"
    }
   },
   "outputs": [],
   "source": [
    "from logbook import Logger\n",
    "# Import Pipeline class and datasets\n",
    "from zipline.pipeline import Pipeline\n",
    "# Import built-in trading universe\n",
    "from zipline.pipeline.builtin import QTradableStocksUS, trailing_dividend_yield\n",
    "\n",
    "# Import Algorithm API functions\n",
    "from zipline.api import (\n",
    "    attach_pipeline,\n",
    "    pipeline_output,\n",
    "    schedule_function,\n",
    "    date_rules,\n",
    "    time_rules,\n",
    ")\n",
    "\n",
    "log = Logger('回测')\n",
    "\n",
    "\n",
    "def initialize(context):\n",
    "    # Attach pipeline to algorithm\n",
    "    attach_pipeline(make_pipeline(), 'data_pipe')\n",
    "\n",
    "    # Schedule rebalance function\n",
    "    schedule_function(\n",
    "        rebalance,\n",
    "        date_rule=date_rules.week_start(),\n",
    "        time_rule=time_rules.market_open())\n",
    "\n",
    "\n",
    "def before_trading_start(context, data):\n",
    "    # Get pipeline output and\n",
    "    # store it in context\n",
    "    context.output = pipeline_output('data_pipe')\n",
    "\n",
    "\n",
    "def rebalance(context, data):\n",
    "    # Display first 10 rows\n",
    "    # of pipeline output\n",
    "    log.info('\\n{}'.format(context.output.head(10)))\n",
    "    log.info('可选股票{}只'.format(context.output.shape[0]))\n",
    "\n",
    "\n",
    "# Pipeline definition\n",
    "def make_pipeline():\n",
    "\n",
    "    base_universe = QTradableStocksUS()\n",
    "\n",
    "    # 尾部12个月每股股利平均值/股价\n",
    "    tdy = trailing_dividend_yield()\n",
    "\n",
    "    return Pipeline(\n",
    "        columns={\n",
    "            'tdy': tdy,\n",
    "        },\n",
    "        # Set screen as the intersection between our filter\n",
    "        # and trading universe\n",
    "        screen=(\n",
    "            base_universe\n",
    "            & tdy.notnull()  # 选择非空的那一部分与可交易总体的交集\n",
    "        ))"
   ]
  },
  {
   "cell_type": "markdown",
   "metadata": {},
   "source": [
    "以下部分待检查"
   ]
  },
  {
   "cell_type": "code",
   "execution_count": 2,
   "metadata": {
    "ExecuteTime": {
     "end_time": "2019-01-03T03:45:22.748972Z",
     "start_time": "2019-01-03T03:45:22.733961Z"
    }
   },
   "outputs": [],
   "source": [
    "from zipline import run_algorithm\n",
    "from zipline.research import to_tdates\n",
    "from zipline.research.core import get_bundle_data"
   ]
  },
  {
   "cell_type": "code",
   "execution_count": 6,
   "metadata": {
    "ExecuteTime": {
     "end_time": "2019-01-03T03:45:46.970212Z",
     "start_time": "2019-01-03T03:45:46.907725Z"
    }
   },
   "outputs": [],
   "source": [
    "_, start_date, end_date = to_tdates('2017-01-01','2018-05-18')\n",
    "bundle = 'cndaily'"
   ]
  },
  {
   "cell_type": "raw",
   "metadata": {
    "ExecuteTime": {
     "end_time": "2019-01-03T03:45:22.963348Z",
     "start_time": "2019-01-03T03:45:22.959357Z"
    }
   },
   "source": [
    "start_date = start_date.strftime(r'%Y-%m-%d')\n",
    "end_date = end_date.strftime(r'%Y-%m-%d')"
   ]
  },
  {
   "cell_type": "code",
   "execution_count": 7,
   "metadata": {
    "ExecuteTime": {
     "end_time": "2019-01-03T03:45:48.176159Z",
     "start_time": "2019-01-03T03:45:48.000126Z"
    },
    "scrolled": true
   },
   "outputs": [
    {
     "name": "stderr",
     "output_type": "stream",
     "text": [
      "[2019-01-03 11:45:48.031369] WARNING: Loader: Refusing to download new benchmark data because a download succeeded at 2019-01-03 03:29:02.082079887+00:00.\n",
      "[2019-01-03 11:45:48.082057] WARNING: Loader: Refusing to download new treasury data because a download succeeded at 2019-01-03 03:29:02.262970448+00:00.\n"
     ]
    },
    {
     "ename": "TypeError",
     "evalue": "issubclass() arg 1 must be a class",
     "output_type": "error",
     "traceback": [
      "\u001b[1;31m---------------------------------------------------------------------------\u001b[0m",
      "\u001b[1;31mKeyError\u001b[0m                                  Traceback (most recent call last)",
      "\u001b[1;32mc:\\users\\ldf\\repos\\zipline\\zipline\\utils\\events.py\u001b[0m in \u001b[0;36m_check_if_not_called\u001b[1;34m(v)\u001b[0m\n\u001b[0;32m    646\u001b[0m     \u001b[1;32mtry\u001b[0m\u001b[1;33m:\u001b[0m\u001b[1;33m\u001b[0m\u001b[1;33m\u001b[0m\u001b[0m\n\u001b[1;32m--> 647\u001b[1;33m         \u001b[0mname\u001b[0m \u001b[1;33m=\u001b[0m \u001b[0m_uncalled_rules\u001b[0m\u001b[1;33m[\u001b[0m\u001b[0mv\u001b[0m\u001b[1;33m]\u001b[0m\u001b[1;33m\u001b[0m\u001b[1;33m\u001b[0m\u001b[0m\n\u001b[0m\u001b[0;32m    648\u001b[0m     \u001b[1;32mexcept\u001b[0m \u001b[0mKeyError\u001b[0m\u001b[1;33m:\u001b[0m\u001b[1;33m\u001b[0m\u001b[1;33m\u001b[0m\u001b[0m\n",
      "\u001b[1;31mKeyError\u001b[0m: <zipline.utils.events.NthTradingDayOfWeek object at 0x0000021904F7EF98>",
      "\nDuring handling of the above exception, another exception occurred:\n",
      "\u001b[1;31mTypeError\u001b[0m                                 Traceback (most recent call last)",
      "\u001b[1;32m<ipython-input-7-1e9bf95189d5>\u001b[0m in \u001b[0;36m<module>\u001b[1;34m\u001b[0m\n\u001b[0;32m      6\u001b[0m     \u001b[0mbefore_trading_start\u001b[0m\u001b[1;33m=\u001b[0m\u001b[0mbefore_trading_start\u001b[0m\u001b[1;33m,\u001b[0m\u001b[1;33m\u001b[0m\u001b[1;33m\u001b[0m\u001b[0m\n\u001b[0;32m      7\u001b[0m     \u001b[0mhandle_data\u001b[0m\u001b[1;33m=\u001b[0m\u001b[1;32mNone\u001b[0m\u001b[1;33m,\u001b[0m\u001b[1;33m\u001b[0m\u001b[1;33m\u001b[0m\u001b[0m\n\u001b[1;32m----> 8\u001b[1;33m     bundle=bundle)\n\u001b[0m",
      "\u001b[1;32mc:\\users\\ldf\\repos\\zipline\\zipline\\utils\\run_algo.py\u001b[0m in \u001b[0;36mrun_algorithm\u001b[1;34m(start, end, initialize, capital_base, handle_data, before_trading_start, analyze, data_frequency, bundle, bundle_timestamp, trading_calendar, metrics_set, benchmark_returns, default_extension, extensions, strict_extensions, environ, blotter)\u001b[0m\n\u001b[0;32m    386\u001b[0m         \u001b[0menviron\u001b[0m\u001b[1;33m=\u001b[0m\u001b[0menviron\u001b[0m\u001b[1;33m,\u001b[0m\u001b[1;33m\u001b[0m\u001b[1;33m\u001b[0m\u001b[0m\n\u001b[0;32m    387\u001b[0m         \u001b[0mblotter\u001b[0m\u001b[1;33m=\u001b[0m\u001b[0mblotter\u001b[0m\u001b[1;33m,\u001b[0m\u001b[1;33m\u001b[0m\u001b[1;33m\u001b[0m\u001b[0m\n\u001b[1;32m--> 388\u001b[1;33m         \u001b[0mbenchmark_returns\u001b[0m\u001b[1;33m=\u001b[0m\u001b[0mbenchmark_returns\u001b[0m\u001b[1;33m,\u001b[0m\u001b[1;33m\u001b[0m\u001b[1;33m\u001b[0m\u001b[0m\n\u001b[0m\u001b[0;32m    389\u001b[0m     )\n",
      "\u001b[1;32mc:\\users\\ldf\\repos\\zipline\\zipline\\utils\\run_algo.py\u001b[0m in \u001b[0;36m_run\u001b[1;34m(handle_data, initialize, before_trading_start, analyze, algofile, algotext, defines, data_frequency, capital_base, bundle, bundle_timestamp, start, end, output, trading_calendar, print_algo, metrics_set, local_namespace, environ, blotter, benchmark_returns)\u001b[0m\n\u001b[0;32m    210\u001b[0m         \u001b[1;33m}\u001b[0m \u001b[1;32mif\u001b[0m \u001b[0malgotext\u001b[0m \u001b[1;32mis\u001b[0m \u001b[1;32mNone\u001b[0m \u001b[1;32melse\u001b[0m \u001b[1;33m{\u001b[0m\u001b[1;33m\u001b[0m\u001b[1;33m\u001b[0m\u001b[0m\n\u001b[0;32m    211\u001b[0m             \u001b[1;34m'algo_filename'\u001b[0m\u001b[1;33m:\u001b[0m \u001b[0mgetattr\u001b[0m\u001b[1;33m(\u001b[0m\u001b[0malgofile\u001b[0m\u001b[1;33m,\u001b[0m \u001b[1;34m'name'\u001b[0m\u001b[1;33m,\u001b[0m \u001b[1;34m'<algorithm>'\u001b[0m\u001b[1;33m)\u001b[0m\u001b[1;33m,\u001b[0m\u001b[1;33m\u001b[0m\u001b[1;33m\u001b[0m\u001b[0m\n\u001b[1;32m--> 212\u001b[1;33m             \u001b[1;34m'script'\u001b[0m\u001b[1;33m:\u001b[0m \u001b[0malgotext\u001b[0m\u001b[1;33m,\u001b[0m\u001b[1;33m\u001b[0m\u001b[1;33m\u001b[0m\u001b[0m\n\u001b[0m\u001b[0;32m    213\u001b[0m         }\n\u001b[0;32m    214\u001b[0m     ).run()\n",
      "\u001b[1;32mc:\\users\\ldf\\repos\\zipline\\zipline\\algorithm.py\u001b[0m in \u001b[0;36mrun\u001b[1;34m(self, data_portal)\u001b[0m\n\u001b[0;32m    637\u001b[0m         \u001b[1;32mtry\u001b[0m\u001b[1;33m:\u001b[0m\u001b[1;33m\u001b[0m\u001b[1;33m\u001b[0m\u001b[0m\n\u001b[0;32m    638\u001b[0m             \u001b[0mperfs\u001b[0m \u001b[1;33m=\u001b[0m \u001b[1;33m[\u001b[0m\u001b[1;33m]\u001b[0m\u001b[1;33m\u001b[0m\u001b[1;33m\u001b[0m\u001b[0m\n\u001b[1;32m--> 639\u001b[1;33m             \u001b[1;32mfor\u001b[0m \u001b[0mperf\u001b[0m \u001b[1;32min\u001b[0m \u001b[0mself\u001b[0m\u001b[1;33m.\u001b[0m\u001b[0mget_generator\u001b[0m\u001b[1;33m(\u001b[0m\u001b[1;33m)\u001b[0m\u001b[1;33m:\u001b[0m\u001b[1;33m\u001b[0m\u001b[1;33m\u001b[0m\u001b[0m\n\u001b[0m\u001b[0;32m    640\u001b[0m                 \u001b[0mperfs\u001b[0m\u001b[1;33m.\u001b[0m\u001b[0mappend\u001b[0m\u001b[1;33m(\u001b[0m\u001b[0mperf\u001b[0m\u001b[1;33m)\u001b[0m\u001b[1;33m\u001b[0m\u001b[1;33m\u001b[0m\u001b[0m\n\u001b[0;32m    641\u001b[0m \u001b[1;33m\u001b[0m\u001b[0m\n",
      "\u001b[1;32mc:\\users\\ldf\\repos\\zipline\\zipline\\algorithm.py\u001b[0m in \u001b[0;36mget_generator\u001b[1;34m(self)\u001b[0m\n\u001b[0;32m    613\u001b[0m         \u001b[0mmethod\u001b[0m \u001b[0mto\u001b[0m \u001b[0mget\u001b[0m \u001b[0ma\u001b[0m \u001b[0mstandard\u001b[0m \u001b[0mconstruction\u001b[0m \u001b[0mgenerator\u001b[0m\u001b[1;33m.\u001b[0m\u001b[1;33m\u001b[0m\u001b[1;33m\u001b[0m\u001b[0m\n\u001b[0;32m    614\u001b[0m         \"\"\"\n\u001b[1;32m--> 615\u001b[1;33m         \u001b[1;32mreturn\u001b[0m \u001b[0mself\u001b[0m\u001b[1;33m.\u001b[0m\u001b[0m_create_generator\u001b[0m\u001b[1;33m(\u001b[0m\u001b[0mself\u001b[0m\u001b[1;33m.\u001b[0m\u001b[0msim_params\u001b[0m\u001b[1;33m)\u001b[0m\u001b[1;33m\u001b[0m\u001b[1;33m\u001b[0m\u001b[0m\n\u001b[0m\u001b[0;32m    616\u001b[0m \u001b[1;33m\u001b[0m\u001b[0m\n\u001b[0;32m    617\u001b[0m     \u001b[1;32mdef\u001b[0m \u001b[0mrun\u001b[0m\u001b[1;33m(\u001b[0m\u001b[0mself\u001b[0m\u001b[1;33m,\u001b[0m \u001b[0mdata_portal\u001b[0m\u001b[1;33m=\u001b[0m\u001b[1;32mNone\u001b[0m\u001b[1;33m)\u001b[0m\u001b[1;33m:\u001b[0m\u001b[1;33m\u001b[0m\u001b[1;33m\u001b[0m\u001b[0m\n",
      "\u001b[1;32mc:\\users\\ldf\\repos\\zipline\\zipline\\algorithm.py\u001b[0m in \u001b[0;36m_create_generator\u001b[1;34m(self, sim_params)\u001b[0m\n\u001b[0;32m    571\u001b[0m \u001b[1;33m\u001b[0m\u001b[0m\n\u001b[0;32m    572\u001b[0m         \u001b[1;32mif\u001b[0m \u001b[1;32mnot\u001b[0m \u001b[0mself\u001b[0m\u001b[1;33m.\u001b[0m\u001b[0minitialized\u001b[0m\u001b[1;33m:\u001b[0m\u001b[1;33m\u001b[0m\u001b[1;33m\u001b[0m\u001b[0m\n\u001b[1;32m--> 573\u001b[1;33m             \u001b[0mself\u001b[0m\u001b[1;33m.\u001b[0m\u001b[0minitialize\u001b[0m\u001b[1;33m(\u001b[0m\u001b[1;33m**\u001b[0m\u001b[0mself\u001b[0m\u001b[1;33m.\u001b[0m\u001b[0minitialize_kwargs\u001b[0m\u001b[1;33m)\u001b[0m\u001b[1;33m\u001b[0m\u001b[1;33m\u001b[0m\u001b[0m\n\u001b[0m\u001b[0;32m    574\u001b[0m             \u001b[0mself\u001b[0m\u001b[1;33m.\u001b[0m\u001b[0minitialized\u001b[0m \u001b[1;33m=\u001b[0m \u001b[1;32mTrue\u001b[0m\u001b[1;33m\u001b[0m\u001b[1;33m\u001b[0m\u001b[0m\n\u001b[0;32m    575\u001b[0m \u001b[1;33m\u001b[0m\u001b[0m\n",
      "\u001b[1;32mc:\\users\\ldf\\repos\\zipline\\zipline\\algorithm.py\u001b[0m in \u001b[0;36minitialize\u001b[1;34m(self, *args, **kwargs)\u001b[0m\n\u001b[0;32m    427\u001b[0m         \"\"\"\n\u001b[0;32m    428\u001b[0m         \u001b[1;32mwith\u001b[0m \u001b[0mZiplineAPI\u001b[0m\u001b[1;33m(\u001b[0m\u001b[0mself\u001b[0m\u001b[1;33m)\u001b[0m\u001b[1;33m:\u001b[0m\u001b[1;33m\u001b[0m\u001b[1;33m\u001b[0m\u001b[0m\n\u001b[1;32m--> 429\u001b[1;33m             \u001b[0mself\u001b[0m\u001b[1;33m.\u001b[0m\u001b[0m_initialize\u001b[0m\u001b[1;33m(\u001b[0m\u001b[0mself\u001b[0m\u001b[1;33m,\u001b[0m \u001b[1;33m*\u001b[0m\u001b[0margs\u001b[0m\u001b[1;33m,\u001b[0m \u001b[1;33m**\u001b[0m\u001b[0mkwargs\u001b[0m\u001b[1;33m)\u001b[0m\u001b[1;33m\u001b[0m\u001b[1;33m\u001b[0m\u001b[0m\n\u001b[0m\u001b[0;32m    430\u001b[0m \u001b[1;33m\u001b[0m\u001b[0m\n\u001b[0;32m    431\u001b[0m     \u001b[1;32mdef\u001b[0m \u001b[0mbefore_trading_start\u001b[0m\u001b[1;33m(\u001b[0m\u001b[0mself\u001b[0m\u001b[1;33m,\u001b[0m \u001b[0mdata\u001b[0m\u001b[1;33m)\u001b[0m\u001b[1;33m:\u001b[0m\u001b[1;33m\u001b[0m\u001b[1;33m\u001b[0m\u001b[0m\n",
      "\u001b[1;32m<ipython-input-1-1e8888b92067>\u001b[0m in \u001b[0;36minitialize\u001b[1;34m(context)\u001b[0m\n\u001b[0;32m     25\u001b[0m         \u001b[0mrebalance\u001b[0m\u001b[1;33m,\u001b[0m\u001b[1;33m\u001b[0m\u001b[1;33m\u001b[0m\u001b[0m\n\u001b[0;32m     26\u001b[0m         \u001b[0mdate_rule\u001b[0m\u001b[1;33m=\u001b[0m\u001b[0mdate_rules\u001b[0m\u001b[1;33m.\u001b[0m\u001b[0mweek_start\u001b[0m\u001b[1;33m(\u001b[0m\u001b[1;33m)\u001b[0m\u001b[1;33m,\u001b[0m\u001b[1;33m\u001b[0m\u001b[1;33m\u001b[0m\u001b[0m\n\u001b[1;32m---> 27\u001b[1;33m         time_rule=time_rules.market_open())\n\u001b[0m\u001b[0;32m     28\u001b[0m \u001b[1;33m\u001b[0m\u001b[0m\n\u001b[0;32m     29\u001b[0m \u001b[1;33m\u001b[0m\u001b[0m\n",
      "\u001b[1;32mc:\\users\\ldf\\repos\\zipline\\zipline\\utils\\api_support.py\u001b[0m in \u001b[0;36mwrapped\u001b[1;34m(*args, **kwargs)\u001b[0m\n\u001b[0;32m     54\u001b[0m                 \u001b[1;33m%\u001b[0m \u001b[0mf\u001b[0m\u001b[1;33m.\u001b[0m\u001b[0m__name__\u001b[0m\u001b[1;33m\u001b[0m\u001b[1;33m\u001b[0m\u001b[0m\n\u001b[0;32m     55\u001b[0m             )\n\u001b[1;32m---> 56\u001b[1;33m         \u001b[1;32mreturn\u001b[0m \u001b[0mgetattr\u001b[0m\u001b[1;33m(\u001b[0m\u001b[0malgo_instance\u001b[0m\u001b[1;33m,\u001b[0m \u001b[0mf\u001b[0m\u001b[1;33m.\u001b[0m\u001b[0m__name__\u001b[0m\u001b[1;33m)\u001b[0m\u001b[1;33m(\u001b[0m\u001b[1;33m*\u001b[0m\u001b[0margs\u001b[0m\u001b[1;33m,\u001b[0m \u001b[1;33m**\u001b[0m\u001b[0mkwargs\u001b[0m\u001b[1;33m)\u001b[0m\u001b[1;33m\u001b[0m\u001b[1;33m\u001b[0m\u001b[0m\n\u001b[0m\u001b[0;32m     57\u001b[0m     \u001b[1;31m# Add functor to zipline.api\u001b[0m\u001b[1;33m\u001b[0m\u001b[1;33m\u001b[0m\u001b[1;33m\u001b[0m\u001b[0m\n\u001b[0;32m     58\u001b[0m     \u001b[0msetattr\u001b[0m\u001b[1;33m(\u001b[0m\u001b[0mzipline\u001b[0m\u001b[1;33m.\u001b[0m\u001b[0mapi\u001b[0m\u001b[1;33m,\u001b[0m \u001b[0mf\u001b[0m\u001b[1;33m.\u001b[0m\u001b[0m__name__\u001b[0m\u001b[1;33m,\u001b[0m \u001b[0mwrapped\u001b[0m\u001b[1;33m)\u001b[0m\u001b[1;33m\u001b[0m\u001b[1;33m\u001b[0m\u001b[0m\n",
      "\u001b[1;32mc:\\users\\ldf\\repos\\zipline\\zipline\\algorithm.py\u001b[0m in \u001b[0;36mschedule_function\u001b[1;34m(self, func, date_rule, time_rule, half_days, calendar)\u001b[0m\n\u001b[0;32m    947\u001b[0m \u001b[1;33m\u001b[0m\u001b[0m\n\u001b[0;32m    948\u001b[0m         self.add_event(\n\u001b[1;32m--> 949\u001b[1;33m             \u001b[0mmake_eventrule\u001b[0m\u001b[1;33m(\u001b[0m\u001b[0mdate_rule\u001b[0m\u001b[1;33m,\u001b[0m \u001b[0mtime_rule\u001b[0m\u001b[1;33m,\u001b[0m \u001b[0mcal\u001b[0m\u001b[1;33m,\u001b[0m \u001b[0mhalf_days\u001b[0m\u001b[1;33m)\u001b[0m\u001b[1;33m,\u001b[0m\u001b[1;33m\u001b[0m\u001b[1;33m\u001b[0m\u001b[0m\n\u001b[0m\u001b[0;32m    950\u001b[0m             \u001b[0mfunc\u001b[0m\u001b[1;33m,\u001b[0m\u001b[1;33m\u001b[0m\u001b[1;33m\u001b[0m\u001b[0m\n\u001b[0;32m    951\u001b[0m         )\n",
      "\u001b[1;32mc:\\users\\ldf\\repos\\zipline\\zipline\\utils\\events.py\u001b[0m in \u001b[0;36mmake_eventrule\u001b[1;34m(date_rule, time_rule, cal, half_days)\u001b[0m\n\u001b[0;32m    663\u001b[0m     \u001b[0mConstructs\u001b[0m \u001b[0man\u001b[0m \u001b[0mevent\u001b[0m \u001b[0mrule\u001b[0m \u001b[1;32mfrom\u001b[0m \u001b[0mthe\u001b[0m \u001b[0mfactory\u001b[0m \u001b[0mapi\u001b[0m\u001b[1;33m.\u001b[0m\u001b[1;33m\u001b[0m\u001b[1;33m\u001b[0m\u001b[0m\n\u001b[0;32m    664\u001b[0m     \"\"\"\n\u001b[1;32m--> 665\u001b[1;33m     \u001b[0m_check_if_not_called\u001b[0m\u001b[1;33m(\u001b[0m\u001b[0mdate_rule\u001b[0m\u001b[1;33m)\u001b[0m\u001b[1;33m\u001b[0m\u001b[1;33m\u001b[0m\u001b[0m\n\u001b[0m\u001b[0;32m    666\u001b[0m     \u001b[0m_check_if_not_called\u001b[0m\u001b[1;33m(\u001b[0m\u001b[0mtime_rule\u001b[0m\u001b[1;33m)\u001b[0m\u001b[1;33m\u001b[0m\u001b[1;33m\u001b[0m\u001b[0m\n\u001b[0;32m    667\u001b[0m \u001b[1;33m\u001b[0m\u001b[0m\n",
      "\u001b[1;32mc:\\users\\ldf\\repos\\zipline\\zipline\\utils\\events.py\u001b[0m in \u001b[0;36m_check_if_not_called\u001b[1;34m(v)\u001b[0m\n\u001b[0;32m    647\u001b[0m         \u001b[0mname\u001b[0m \u001b[1;33m=\u001b[0m \u001b[0m_uncalled_rules\u001b[0m\u001b[1;33m[\u001b[0m\u001b[0mv\u001b[0m\u001b[1;33m]\u001b[0m\u001b[1;33m\u001b[0m\u001b[1;33m\u001b[0m\u001b[0m\n\u001b[0;32m    648\u001b[0m     \u001b[1;32mexcept\u001b[0m \u001b[0mKeyError\u001b[0m\u001b[1;33m:\u001b[0m\u001b[1;33m\u001b[0m\u001b[1;33m\u001b[0m\u001b[0m\n\u001b[1;32m--> 649\u001b[1;33m         \u001b[1;32mif\u001b[0m \u001b[1;32mnot\u001b[0m \u001b[0missubclass\u001b[0m\u001b[1;33m(\u001b[0m\u001b[0mv\u001b[0m\u001b[1;33m,\u001b[0m \u001b[0mEventRule\u001b[0m\u001b[1;33m)\u001b[0m\u001b[1;33m:\u001b[0m\u001b[1;33m\u001b[0m\u001b[1;33m\u001b[0m\u001b[0m\n\u001b[0m\u001b[0;32m    650\u001b[0m             \u001b[1;32mreturn\u001b[0m\u001b[1;33m\u001b[0m\u001b[1;33m\u001b[0m\u001b[0m\n\u001b[0;32m    651\u001b[0m \u001b[1;33m\u001b[0m\u001b[0m\n",
      "\u001b[1;32m~\\Anaconda3\\envs\\zipline\\lib\\abc.py\u001b[0m in \u001b[0;36m__subclasscheck__\u001b[1;34m(cls, subclass)\u001b[0m\n\u001b[0;32m    141\u001b[0m         \u001b[1;32mdef\u001b[0m \u001b[0m__subclasscheck__\u001b[0m\u001b[1;33m(\u001b[0m\u001b[0mcls\u001b[0m\u001b[1;33m,\u001b[0m \u001b[0msubclass\u001b[0m\u001b[1;33m)\u001b[0m\u001b[1;33m:\u001b[0m\u001b[1;33m\u001b[0m\u001b[1;33m\u001b[0m\u001b[0m\n\u001b[0;32m    142\u001b[0m             \u001b[1;34m\"\"\"Override for issubclass(subclass, cls).\"\"\"\u001b[0m\u001b[1;33m\u001b[0m\u001b[1;33m\u001b[0m\u001b[0m\n\u001b[1;32m--> 143\u001b[1;33m             \u001b[1;32mreturn\u001b[0m \u001b[0m_abc_subclasscheck\u001b[0m\u001b[1;33m(\u001b[0m\u001b[0mcls\u001b[0m\u001b[1;33m,\u001b[0m \u001b[0msubclass\u001b[0m\u001b[1;33m)\u001b[0m\u001b[1;33m\u001b[0m\u001b[1;33m\u001b[0m\u001b[0m\n\u001b[0m\u001b[0;32m    144\u001b[0m \u001b[1;33m\u001b[0m\u001b[0m\n\u001b[0;32m    145\u001b[0m         \u001b[1;32mdef\u001b[0m \u001b[0m_dump_registry\u001b[0m\u001b[1;33m(\u001b[0m\u001b[0mcls\u001b[0m\u001b[1;33m,\u001b[0m \u001b[0mfile\u001b[0m\u001b[1;33m=\u001b[0m\u001b[1;32mNone\u001b[0m\u001b[1;33m)\u001b[0m\u001b[1;33m:\u001b[0m\u001b[1;33m\u001b[0m\u001b[1;33m\u001b[0m\u001b[0m\n",
      "\u001b[1;31mTypeError\u001b[0m: issubclass() arg 1 must be a class"
     ]
    }
   ],
   "source": [
    "run_algorithm(\n",
    "    start_date,\n",
    "    end_date,\n",
    "    initialize,\n",
    "    100000,\n",
    "    before_trading_start=before_trading_start,\n",
    "    handle_data=None,\n",
    "    bundle=bundle)"
   ]
  },
  {
   "cell_type": "markdown",
   "metadata": {},
   "source": [
    "算法现在每天选择一个可交易的资产范围，并生成尾部12个月每股股利与股价的比率数据，可以使用这些数据来确定投资组合中的资产配置。在下一课中，将学习如何基于数据管道生成的每股股利与股价的比率构建最佳投资组合。"
   ]
  }
 ],
 "metadata": {
  "kernelspec": {
   "display_name": "zipline",
   "language": "python",
   "name": "zipline"
  },
  "language_info": {
   "codemirror_mode": {
    "name": "ipython",
    "version": 3
   },
   "file_extension": ".py",
   "mimetype": "text/x-python",
   "name": "python",
   "nbconvert_exporter": "python",
   "pygments_lexer": "ipython3",
   "version": "3.7.1"
  },
  "toc": {
   "base_numbering": 1,
   "nav_menu": {},
   "number_sections": true,
   "sideBar": true,
   "skip_h1_title": false,
   "title_cell": "Table of Contents",
   "title_sidebar": "Contents",
   "toc_cell": false,
   "toc_position": {},
   "toc_section_display": true,
   "toc_window_display": false
  }
 },
 "nbformat": 4,
 "nbformat_minor": 2
}
