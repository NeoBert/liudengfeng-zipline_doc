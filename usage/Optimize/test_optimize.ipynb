{
 "cells": [
  {
   "cell_type": "code",
   "execution_count": 1,
   "metadata": {
    "ExecuteTime": {
     "end_time": "2018-12-08T12:56:51.097702Z",
     "start_time": "2018-12-08T12:56:47.071471Z"
    }
   },
   "outputs": [],
   "source": [
    "from zipline.optimize.objectives import (\n",
    "    TargetWeights, \n",
    "    MaximizeAlpha,\n",
    "    QuadraticUtility,\n",
    ")\n",
    "from zipline.optimize.risks import (\n",
    "    StaticCovar,\n",
    "    EmpyricalCovar,\n",
    "    FactorModelCovar,\n",
    ")\n",
    "from zipline.optimize.constraints import (\n",
    "    MaxGrossExposure,\n",
    "    NetExposure,\n",
    "    DollarNeutral,\n",
    "    NetGroupExposure,\n",
    "    PositionConcentration,\n",
    "    FactorExposure,\n",
    "    Pair,\n",
    "    Basket,\n",
    "    Frozen,\n",
    "    LongOnly,\n",
    "    ShortOnly,\n",
    "    FixedWeight,\n",
    "    CannotHold,\n",
    "    MaxWeights,\n",
    "    MinWeights,\n",
    ")\n",
    "from zipline.optimize.core import calculate_optimal_portfolio\n",
    "\n",
    "import numpy as np\n",
    "import pandas as pd\n",
    "import cvxpy as cvx"
   ]
  },
  {
   "cell_type": "code",
   "execution_count": 2,
   "metadata": {
    "ExecuteTime": {
     "end_time": "2018-12-08T12:56:51.113702Z",
     "start_time": "2018-12-08T12:56:51.100702Z"
    }
   },
   "outputs": [],
   "source": [
    "rets = np.array(\n",
    "    [0.0644,0.0806,0.1205,0.0426,0.0329,0.048,0.0884,0.0665]\n",
    ")\n",
    "stdev = np.array(\n",
    "    [0.3118,0.3359,0.3399,0.3249,0.3374,0.3149,0.3549,0.3759]\n",
    ")\n",
    "corr = np.array(\n",
    "[[1,0.049,0.12,-0.109,-0.2,-0.023,0.116,-0.252],\n",
    "[0.049,1,0.093,0.101,0.155,-0.128,-0.196,0.109],\n",
    "[0.12,0.093,1,-0.086,0.04,0.108,0.248,0.023],\n",
    "[-0.109,0.101,-0.086,1,0.028,-0.235,0.008,0.212],\n",
    "[-0.2,0.155,0.04,0.028,1,-0.179,0.031,0.193],\n",
    "[-0.023,-0.128,0.108,-0.235,-0.179,1,0.265,-0.127],\n",
    "[0.116,-0.196,0.248,0.008,0.031,0.265,1,0.028],\n",
    "[-0.252,0.109,0.023,0.212,0.193,-0.127,0.028,1]]\n",
    ")\n",
    "stocks = [str(i).zfill(6) for i in range(1, 9)]"
   ]
  },
  {
   "cell_type": "code",
   "execution_count": 11,
   "metadata": {
    "ExecuteTime": {
     "end_time": "2018-12-08T12:57:50.579104Z",
     "start_time": "2018-12-08T12:57:50.560103Z"
    }
   },
   "outputs": [],
   "source": [
    "cov = np.diag(stdev) @ corr @ np.diag(stdev)\n",
    "cov_df = pd.DataFrame(cov, index=stocks, columns=stocks)\n",
    "\n",
    "stdev_s = pd.Series(stdev, index=stocks)\n",
    "corr_df = pd.DataFrame(corr, index=stocks, columns=stocks)\n",
    "\n",
    "i = 6\n",
    "alphas = pd.Series(rets[:i], index=stocks[:i])\n",
    "\n",
    "risk_model = StaticCovar(cov_df)\n",
    "# risk_model = StaticCovar(corr=corr_df, stdev=stdev_s)\n",
    "\n",
    "alpha_model = MaximizeAlpha(alphas)\n",
    "lambda_ = 2\n",
    "\n",
    "obj1 = QuadraticUtility(alpha_model, risk_model, lambda_)\n",
    "obj2 = QuadraticUtility(None, risk_model, lambda_)\n",
    "obj3 = QuadraticUtility(alpha_model, None, lambda_)"
   ]
  },
  {
   "cell_type": "code",
   "execution_count": 12,
   "metadata": {
    "ExecuteTime": {
     "end_time": "2018-12-08T12:57:50.950125Z",
     "start_time": "2018-12-08T12:57:50.946125Z"
    }
   },
   "outputs": [],
   "source": [
    "con1 = NetExposure(1, 1)\n",
    "con2 = MaxGrossExposure(1)"
   ]
  },
  {
   "cell_type": "code",
   "execution_count": 13,
   "metadata": {
    "ExecuteTime": {
     "end_time": "2018-12-08T12:57:51.416152Z",
     "start_time": "2018-12-08T12:57:51.320146Z"
    },
    "scrolled": false
   },
   "outputs": [
    {
     "name": "stdout",
     "output_type": "stream",
     "text": [
      "000001    0.179149\n",
      "000002    0.142654\n",
      "000003    0.222875\n",
      "000004    0.167579\n",
      "000005    0.104241\n",
      "000006    0.183502\n",
      "dtype: float64\n",
      "000001    0.204827\n",
      "000002    0.082524\n",
      "000003    0.061248\n",
      "000004    0.165623\n",
      "000005    0.149755\n",
      "000006    0.217528\n",
      "000007    0.025279\n",
      "000008    0.093217\n",
      "dtype: float64\n",
      "000001    3.779190e-10\n",
      "000002    5.369911e-10\n",
      "000003    1.000000e+00\n",
      "000004    2.613237e-10\n",
      "000005    2.295281e-10\n",
      "000006    2.831511e-10\n",
      "dtype: float64\n"
     ]
    }
   ],
   "source": [
    "cond = [con1, con2]\n",
    "\n",
    "print(calculate_optimal_portfolio(obj1, cond, None))\n",
    "print(calculate_optimal_portfolio(obj2, cond, None))\n",
    "print(calculate_optimal_portfolio(obj3, cond, None))"
   ]
  },
  {
   "cell_type": "code",
   "execution_count": 6,
   "metadata": {
    "ExecuteTime": {
     "end_time": "2018-12-08T12:56:51.283712Z",
     "start_time": "2018-12-08T12:56:51.241710Z"
    }
   },
   "outputs": [
    {
     "data": {
      "text/html": [
       "<div>\n",
       "<style scoped>\n",
       "    .dataframe tbody tr th:only-of-type {\n",
       "        vertical-align: middle;\n",
       "    }\n",
       "\n",
       "    .dataframe tbody tr th {\n",
       "        vertical-align: top;\n",
       "    }\n",
       "\n",
       "    .dataframe thead th {\n",
       "        text-align: right;\n",
       "    }\n",
       "</style>\n",
       "<table border=\"1\" class=\"dataframe\">\n",
       "  <thead>\n",
       "    <tr style=\"text-align: right;\">\n",
       "      <th></th>\n",
       "      <th>000001</th>\n",
       "      <th>000002</th>\n",
       "      <th>000003</th>\n",
       "      <th>000004</th>\n",
       "      <th>000005</th>\n",
       "      <th>000006</th>\n",
       "      <th>000007</th>\n",
       "      <th>000008</th>\n",
       "    </tr>\n",
       "  </thead>\n",
       "  <tbody>\n",
       "    <tr>\n",
       "      <th>000001</th>\n",
       "      <td>0.097219</td>\n",
       "      <td>0.005132</td>\n",
       "      <td>0.012718</td>\n",
       "      <td>-0.011042</td>\n",
       "      <td>-0.021040</td>\n",
       "      <td>-0.002258</td>\n",
       "      <td>0.012836</td>\n",
       "      <td>-0.029536</td>\n",
       "    </tr>\n",
       "    <tr>\n",
       "      <th>000002</th>\n",
       "      <td>0.005132</td>\n",
       "      <td>0.112829</td>\n",
       "      <td>0.010618</td>\n",
       "      <td>0.011023</td>\n",
       "      <td>0.017567</td>\n",
       "      <td>-0.013539</td>\n",
       "      <td>-0.023365</td>\n",
       "      <td>0.013763</td>\n",
       "    </tr>\n",
       "    <tr>\n",
       "      <th>000003</th>\n",
       "      <td>0.012718</td>\n",
       "      <td>0.010618</td>\n",
       "      <td>0.115532</td>\n",
       "      <td>-0.009497</td>\n",
       "      <td>0.004587</td>\n",
       "      <td>0.011560</td>\n",
       "      <td>0.029916</td>\n",
       "      <td>0.002939</td>\n",
       "    </tr>\n",
       "    <tr>\n",
       "      <th>000004</th>\n",
       "      <td>-0.011042</td>\n",
       "      <td>0.011023</td>\n",
       "      <td>-0.009497</td>\n",
       "      <td>0.105560</td>\n",
       "      <td>0.003069</td>\n",
       "      <td>-0.024043</td>\n",
       "      <td>0.000922</td>\n",
       "      <td>0.025892</td>\n",
       "    </tr>\n",
       "    <tr>\n",
       "      <th>000005</th>\n",
       "      <td>-0.021040</td>\n",
       "      <td>0.017567</td>\n",
       "      <td>0.004587</td>\n",
       "      <td>0.003069</td>\n",
       "      <td>0.113839</td>\n",
       "      <td>-0.019018</td>\n",
       "      <td>0.003712</td>\n",
       "      <td>0.024478</td>\n",
       "    </tr>\n",
       "    <tr>\n",
       "      <th>000006</th>\n",
       "      <td>-0.002258</td>\n",
       "      <td>-0.013539</td>\n",
       "      <td>0.011560</td>\n",
       "      <td>-0.024043</td>\n",
       "      <td>-0.019018</td>\n",
       "      <td>0.099162</td>\n",
       "      <td>0.029616</td>\n",
       "      <td>-0.015033</td>\n",
       "    </tr>\n",
       "    <tr>\n",
       "      <th>000007</th>\n",
       "      <td>0.012836</td>\n",
       "      <td>-0.023365</td>\n",
       "      <td>0.029916</td>\n",
       "      <td>0.000922</td>\n",
       "      <td>0.003712</td>\n",
       "      <td>0.029616</td>\n",
       "      <td>0.125954</td>\n",
       "      <td>0.003735</td>\n",
       "    </tr>\n",
       "    <tr>\n",
       "      <th>000008</th>\n",
       "      <td>-0.029536</td>\n",
       "      <td>0.013763</td>\n",
       "      <td>0.002939</td>\n",
       "      <td>0.025892</td>\n",
       "      <td>0.024478</td>\n",
       "      <td>-0.015033</td>\n",
       "      <td>0.003735</td>\n",
       "      <td>0.141301</td>\n",
       "    </tr>\n",
       "  </tbody>\n",
       "</table>\n",
       "</div>"
      ],
      "text/plain": [
       "          000001    000002    000003    000004    000005    000006    000007  \\\n",
       "000001  0.097219  0.005132  0.012718 -0.011042 -0.021040 -0.002258  0.012836   \n",
       "000002  0.005132  0.112829  0.010618  0.011023  0.017567 -0.013539 -0.023365   \n",
       "000003  0.012718  0.010618  0.115532 -0.009497  0.004587  0.011560  0.029916   \n",
       "000004 -0.011042  0.011023 -0.009497  0.105560  0.003069 -0.024043  0.000922   \n",
       "000005 -0.021040  0.017567  0.004587  0.003069  0.113839 -0.019018  0.003712   \n",
       "000006 -0.002258 -0.013539  0.011560 -0.024043 -0.019018  0.099162  0.029616   \n",
       "000007  0.012836 -0.023365  0.029916  0.000922  0.003712  0.029616  0.125954   \n",
       "000008 -0.029536  0.013763  0.002939  0.025892  0.024478 -0.015033  0.003735   \n",
       "\n",
       "          000008  \n",
       "000001 -0.029536  \n",
       "000002  0.013763  \n",
       "000003  0.002939  \n",
       "000004  0.025892  \n",
       "000005  0.024478  \n",
       "000006 -0.015033  \n",
       "000007  0.003735  \n",
       "000008  0.141301  "
      ]
     },
     "execution_count": 6,
     "metadata": {},
     "output_type": "execute_result"
    }
   ],
   "source": [
    "risk_model.cov"
   ]
  },
  {
   "cell_type": "code",
   "execution_count": 7,
   "metadata": {
    "ExecuteTime": {
     "end_time": "2018-12-08T12:56:51.292713Z",
     "start_time": "2018-12-08T12:56:51.288712Z"
    }
   },
   "outputs": [],
   "source": [
    "obj4 = TargetWeights(pd.Series(rets, index=stocks))"
   ]
  },
  {
   "cell_type": "code",
   "execution_count": 14,
   "metadata": {
    "ExecuteTime": {
     "end_time": "2018-12-08T12:57:58.159537Z",
     "start_time": "2018-12-08T12:57:58.129536Z"
    }
   },
   "outputs": [
    {
     "data": {
      "text/plain": [
       "000001    0.0644\n",
       "000002    0.0806\n",
       "000003    0.1205\n",
       "000004    0.0426\n",
       "000005    0.0329\n",
       "000006    0.0480\n",
       "000007    0.0884\n",
       "000008    0.0665\n",
       "dtype: float64"
      ]
     },
     "execution_count": 14,
     "metadata": {},
     "output_type": "execute_result"
    }
   ],
   "source": [
    "calculate_optimal_portfolio(obj4, [], None)"
   ]
  },
  {
   "cell_type": "code",
   "execution_count": 15,
   "metadata": {
    "ExecuteTime": {
     "end_time": "2018-12-08T12:58:08.482128Z",
     "start_time": "2018-12-08T12:58:08.466127Z"
    }
   },
   "outputs": [
    {
     "data": {
      "text/plain": [
       "array([0.0644, 0.0806, 0.1205, 0.0426, 0.0329, 0.048 , 0.0884, 0.0665])"
      ]
     },
     "execution_count": 15,
     "metadata": {},
     "output_type": "execute_result"
    }
   ],
   "source": [
    "rets"
   ]
  },
  {
   "cell_type": "code",
   "execution_count": null,
   "metadata": {},
   "outputs": [],
   "source": []
  }
 ],
 "metadata": {
  "kernelspec": {
   "display_name": "Python 3",
   "language": "python",
   "name": "python3"
  },
  "language_info": {
   "codemirror_mode": {
    "name": "ipython",
    "version": 3
   },
   "file_extension": ".py",
   "mimetype": "text/x-python",
   "name": "python",
   "nbconvert_exporter": "python",
   "pygments_lexer": "ipython3",
   "version": "3.7.0"
  },
  "toc": {
   "base_numbering": 1,
   "nav_menu": {},
   "number_sections": true,
   "sideBar": true,
   "skip_h1_title": false,
   "title_cell": "Table of Contents",
   "title_sidebar": "Contents",
   "toc_cell": false,
   "toc_position": {},
   "toc_section_display": true,
   "toc_window_display": false
  }
 },
 "nbformat": 4,
 "nbformat_minor": 2
}
