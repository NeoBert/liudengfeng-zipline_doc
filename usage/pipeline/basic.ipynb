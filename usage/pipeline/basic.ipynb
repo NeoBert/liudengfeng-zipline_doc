{
 "cells": [
  {
   "cell_type": "code",
   "execution_count": 1,
   "metadata": {},
   "outputs": [],
   "source": [
    "from zipline.pipeline import Pipeline\n",
    "from zipline.pipeline.factors import SimpleMovingAverage\n",
    "\n",
    "# Import datasets.\n",
    "from zipline.pipeline.data import EquityPricing\n",
    "\n",
    "\n",
    "# Define factors.\n",
    "sma_10 = SimpleMovingAverage(inputs=[EquityPricing.close], window_length=10)\n",
    "sma_30 = SimpleMovingAverage(inputs=[EquityPricing.close], window_length=30)\n",
    "\n",
    "# Define a filter.\n",
    "prices_over_5 = (sma_10 > 5)\n",
    "\n",
    "# Instantiate pipeline with two columns corresponding to our two factors, and a\n",
    "# screen that filters the result down to assets where sma_10 > $5.\n",
    "pipe = Pipeline(\n",
    "    columns={\n",
    "        'sma_10': sma_10,\n",
    "        'sma_30': sma_30,\n",
    "    },\n",
    "    screen=prices_over_5\n",
    ")"
   ]
  },
  {
   "cell_type": "code",
   "execution_count": 2,
   "metadata": {},
   "outputs": [],
   "source": [
    "from zipline.research import run_pipeline\n",
    "\n",
    "# Pipeline definition goes here.\n",
    "\n",
    "result = run_pipeline(pipe, '2017-01-01', '2018-01-01')"
   ]
  },
  {
   "cell_type": "code",
   "execution_count": 3,
   "metadata": {},
   "outputs": [
    {
     "output_type": "execute_result",
     "data": {
      "text/plain": "                                         sma_10     sma_30\ndate                      asset                           \n2017-01-03 00:00:00+00:00 平安银行(000001)    9.113   9.354667\n                          万 科Ａ(000002)   20.748  23.848000\n                          国农科技(000004)   44.282  43.458333\n                          世纪星源(000005)    6.885   7.137333\n                          深振业Ａ(000006)    9.729   9.493333\n...                                         ...        ...\n2017-12-29 00:00:00+00:00 洛阳钼业(603993)    6.556   6.601333\n                          *ST中新(603996)  18.659  18.307333\n                          继峰股份(603997)   11.538  11.631333\n                          方盛制药(603998)   11.228  11.671333\n                          读者传媒(603999)    7.505   7.729667\n\n[750111 rows x 2 columns]",
      "text/html": "<div>\n<style scoped>\n    .dataframe tbody tr th:only-of-type {\n        vertical-align: middle;\n    }\n\n    .dataframe tbody tr th {\n        vertical-align: top;\n    }\n\n    .dataframe thead th {\n        text-align: right;\n    }\n</style>\n<table border=\"1\" class=\"dataframe\">\n  <thead>\n    <tr style=\"text-align: right;\">\n      <th></th>\n      <th></th>\n      <th>sma_10</th>\n      <th>sma_30</th>\n    </tr>\n    <tr>\n      <th>date</th>\n      <th>asset</th>\n      <th></th>\n      <th></th>\n    </tr>\n  </thead>\n  <tbody>\n    <tr>\n      <th rowspan=\"5\" valign=\"top\">2017-01-03 00:00:00+00:00</th>\n      <th>平安银行(000001)</th>\n      <td>9.113</td>\n      <td>9.354667</td>\n    </tr>\n    <tr>\n      <th>万 科Ａ(000002)</th>\n      <td>20.748</td>\n      <td>23.848000</td>\n    </tr>\n    <tr>\n      <th>国农科技(000004)</th>\n      <td>44.282</td>\n      <td>43.458333</td>\n    </tr>\n    <tr>\n      <th>世纪星源(000005)</th>\n      <td>6.885</td>\n      <td>7.137333</td>\n    </tr>\n    <tr>\n      <th>深振业Ａ(000006)</th>\n      <td>9.729</td>\n      <td>9.493333</td>\n    </tr>\n    <tr>\n      <th>...</th>\n      <th>...</th>\n      <td>...</td>\n      <td>...</td>\n    </tr>\n    <tr>\n      <th rowspan=\"5\" valign=\"top\">2017-12-29 00:00:00+00:00</th>\n      <th>洛阳钼业(603993)</th>\n      <td>6.556</td>\n      <td>6.601333</td>\n    </tr>\n    <tr>\n      <th>*ST中新(603996)</th>\n      <td>18.659</td>\n      <td>18.307333</td>\n    </tr>\n    <tr>\n      <th>继峰股份(603997)</th>\n      <td>11.538</td>\n      <td>11.631333</td>\n    </tr>\n    <tr>\n      <th>方盛制药(603998)</th>\n      <td>11.228</td>\n      <td>11.671333</td>\n    </tr>\n    <tr>\n      <th>读者传媒(603999)</th>\n      <td>7.505</td>\n      <td>7.729667</td>\n    </tr>\n  </tbody>\n</table>\n<p>750111 rows × 2 columns</p>\n</div>"
     },
     "metadata": {},
     "execution_count": 3
    }
   ],
   "source": [
    "result"
   ]
  }
 ],
 "metadata": {
  "language_info": {
   "codemirror_mode": {
    "name": "ipython",
    "version": 3
   },
   "file_extension": ".py",
   "mimetype": "text/x-python",
   "name": "python",
   "nbconvert_exporter": "python",
   "pygments_lexer": "ipython3",
   "version": "3.7.7-final"
  },
  "orig_nbformat": 2,
  "kernelspec": {
   "name": "zipline",
   "display_name": "zipline"
  }
 },
 "nbformat": 4,
 "nbformat_minor": 2
}