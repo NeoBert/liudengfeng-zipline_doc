{
 "cells": [
  {
   "cell_type": "code",
   "execution_count": 1,
   "metadata": {},
   "outputs": [],
   "source": [
    "from zipline.pipeline import Pipeline\n",
    "from zipline.pipeline.factors import SimpleMovingAverage\n",
    "\n",
    "# Import datasets.\n",
    "from zipline.pipeline.data import EquityPricing\n",
    "\n",
    "\n",
    "# Define factors.\n",
    "sma_10 = SimpleMovingAverage(inputs=[EquityPricing.close], window_length=10)\n",
    "sma_30 = SimpleMovingAverage(inputs=[EquityPricing.close], window_length=30)\n",
    "\n",
    "# Define a filter.\n",
    "prices_over_5 = (sma_10 > 5)\n",
    "\n",
    "# Instantiate pipeline with two columns corresponding to our two factors, and a\n",
    "# screen that filters the result down to assets where sma_10 > $5.\n",
    "pipe = Pipeline(\n",
    "    columns={\n",
    "        'sma_10': sma_10,\n",
    "        'sma_30': sma_30,\n",
    "    },\n",
    "    screen=prices_over_5\n",
    ")"
   ]
  },
  {
   "cell_type": "code",
   "execution_count": 2,
   "metadata": {},
   "outputs": [],
   "source": [
    "from zipline.research import run_pipeline\n",
    "\n",
    "# Pipeline definition goes here.\n",
    "\n",
    "result = run_pipeline(pipe, '2020-01-01', '2020-07-03')"
   ]
  },
  {
   "cell_type": "code",
   "execution_count": 3,
   "metadata": {},
   "outputs": [
    {
     "output_type": "execute_result",
     "data": {
      "text/plain": "                                           sma_10     sma_30\ndate                      asset                             \n2020-01-02 00:00:00+00:00 平安银行(000001)  16.466000  15.917667\n                          万 科Ａ(000002)  31.057000  29.036333\n                          国农科技(000004)  22.119000  20.578333\n                          深振业Ａ(000006)   5.313000   5.226000\n                          全新好(000007)    9.758000   9.980333\n...                                           ...        ...\n2020-07-03 00:00:00+00:00 国盛智科(688558)  43.950000  43.950000\n                          吉贝尔(688566)   45.001000  45.152667\n                          凌志软件(688588)  44.367399  44.855653\n                          金博股份(688598)  87.695000  88.262333\n                          天合光能(688599)  16.500000  16.703333\n\n[352261 rows x 2 columns]",
      "text/html": "<div>\n<style scoped>\n    .dataframe tbody tr th:only-of-type {\n        vertical-align: middle;\n    }\n\n    .dataframe tbody tr th {\n        vertical-align: top;\n    }\n\n    .dataframe thead th {\n        text-align: right;\n    }\n</style>\n<table border=\"1\" class=\"dataframe\">\n  <thead>\n    <tr style=\"text-align: right;\">\n      <th></th>\n      <th></th>\n      <th>sma_10</th>\n      <th>sma_30</th>\n    </tr>\n    <tr>\n      <th>date</th>\n      <th>asset</th>\n      <th></th>\n      <th></th>\n    </tr>\n  </thead>\n  <tbody>\n    <tr>\n      <th rowspan=\"5\" valign=\"top\">2020-01-02 00:00:00+00:00</th>\n      <th>平安银行(000001)</th>\n      <td>16.466000</td>\n      <td>15.917667</td>\n    </tr>\n    <tr>\n      <th>万 科Ａ(000002)</th>\n      <td>31.057000</td>\n      <td>29.036333</td>\n    </tr>\n    <tr>\n      <th>国农科技(000004)</th>\n      <td>22.119000</td>\n      <td>20.578333</td>\n    </tr>\n    <tr>\n      <th>深振业Ａ(000006)</th>\n      <td>5.313000</td>\n      <td>5.226000</td>\n    </tr>\n    <tr>\n      <th>全新好(000007)</th>\n      <td>9.758000</td>\n      <td>9.980333</td>\n    </tr>\n    <tr>\n      <th>...</th>\n      <th>...</th>\n      <td>...</td>\n      <td>...</td>\n    </tr>\n    <tr>\n      <th rowspan=\"5\" valign=\"top\">2020-07-03 00:00:00+00:00</th>\n      <th>国盛智科(688558)</th>\n      <td>43.950000</td>\n      <td>43.950000</td>\n    </tr>\n    <tr>\n      <th>吉贝尔(688566)</th>\n      <td>45.001000</td>\n      <td>45.152667</td>\n    </tr>\n    <tr>\n      <th>凌志软件(688588)</th>\n      <td>44.367399</td>\n      <td>44.855653</td>\n    </tr>\n    <tr>\n      <th>金博股份(688598)</th>\n      <td>87.695000</td>\n      <td>88.262333</td>\n    </tr>\n    <tr>\n      <th>天合光能(688599)</th>\n      <td>16.500000</td>\n      <td>16.703333</td>\n    </tr>\n  </tbody>\n</table>\n<p>352261 rows × 2 columns</p>\n</div>"
     },
     "metadata": {},
     "execution_count": 3
    }
   ],
   "source": [
    "result"
   ]
  }
 ],
 "metadata": {
  "language_info": {
   "codemirror_mode": {
    "name": "ipython",
    "version": 3
   },
   "file_extension": ".py",
   "mimetype": "text/x-python",
   "name": "python",
   "nbconvert_exporter": "python",
   "pygments_lexer": "ipython3",
   "version": "3.7.7-final"
  },
  "orig_nbformat": 2,
  "kernelspec": {
   "name": "python37764bitziplinecondafc6f11bd3b9c4249a9fc63b5c8ae4fcf",
   "display_name": "Python 3.7.7 64-bit ('zipline': conda)"
  }
 },
 "nbformat": 4,
 "nbformat_minor": 2
}