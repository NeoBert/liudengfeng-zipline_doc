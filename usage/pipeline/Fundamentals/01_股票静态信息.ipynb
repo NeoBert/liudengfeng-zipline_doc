{
 "cells": [
  {
   "cell_type": "code",
   "execution_count": 1,
   "metadata": {
    "ExecuteTime": {
     "end_time": "2019-07-09T01:11:01.441872Z",
     "start_time": "2019-07-09T01:10:59.020523Z"
    }
   },
   "outputs": [],
   "source": [
    "from zipline.pipeline import Pipeline\n",
    "from zipline.research import run_pipeline,symbols,symbol\n",
    "from zipline.pipeline.fundamentals import Fundamentals"
   ]
  },
  {
   "cell_type": "markdown",
   "metadata": {},
   "source": [
    "# 列信息"
   ]
  },
  {
   "cell_type": "code",
   "execution_count": 2,
   "metadata": {
    "ExecuteTime": {
     "end_time": "2019-07-09T01:11:01.613411Z",
     "start_time": "2019-07-09T01:11:01.442867Z"
    }
   },
   "outputs": [
    {
     "output_type": "execute_result",
     "data": {
      "text/plain": "frozenset({infoes<CN>.A001::bool,\n           infoes<CN>.A002::bool,\n           infoes<CN>.A003::bool,\n           infoes<CN>.A004::bool,\n           infoes<CN>.A005::bool,\n           infoes<CN>.A006::bool,\n           infoes<CN>.A007::bool,\n           infoes<CN>.A008::bool,\n           infoes<CN>.A009::bool,\n           infoes<CN>.A010::bool,\n           infoes<CN>.A011::bool,\n           infoes<CN>.A012::bool,\n           infoes<CN>.A013::bool,\n           infoes<CN>.A014::bool,\n           infoes<CN>.A015::bool,\n           infoes<CN>.A016::bool,\n           infoes<CN>.A017::bool,\n           infoes<CN>.A018::bool,\n           infoes<CN>.A019::bool,\n           infoes<CN>.A020::bool,\n           infoes<CN>.A021::bool,\n           infoes<CN>.A022::bool,\n           infoes<CN>.A023::bool,\n           infoes<CN>.A024::bool,\n           infoes<CN>.A025::bool,\n           infoes<CN>.A026::bool,\n           infoes<CN>.A027::bool,\n           infoes<CN>.A028::bool,\n           infoes<CN>.A029::bool,\n           infoes<CN>.A030::bool,\n           infoes<CN>.A031::bool,\n           infoes<CN>.A032::bool,\n           infoes<CN>.A033::bool,\n           infoes<CN>.A034::bool,\n           infoes<CN>.A035::bool,\n           infoes<CN>.A036::bool,\n           infoes<CN>.A037::bool,\n           infoes<CN>.A038::bool,\n           infoes<CN>.A039::bool,\n           infoes<CN>.A040::bool,\n           infoes<CN>.A041::bool,\n           infoes<CN>.A042::bool,\n           infoes<CN>.A043::bool,\n           infoes<CN>.A044::bool,\n           infoes<CN>.A045::bool,\n           infoes<CN>.A046::bool,\n           infoes<CN>.A047::bool,\n           infoes<CN>.A048::bool,\n           infoes<CN>.A049::bool,\n           infoes<CN>.A050::bool,\n           infoes<CN>.A051::bool,\n           infoes<CN>.A052::bool,\n           infoes<CN>.A053::bool,\n           infoes<CN>.A054::bool,\n           infoes<CN>.A055::bool,\n           infoes<CN>.A056::bool,\n           infoes<CN>.A057::bool,\n           infoes<CN>.A058::bool,\n           infoes<CN>.A059::bool,\n           infoes<CN>.A060::bool,\n           infoes<CN>.A061::bool,\n           infoes<CN>.A062::bool,\n           infoes<CN>.A063::bool,\n           infoes<CN>.A064::bool,\n           infoes<CN>.A065::bool,\n           infoes<CN>.A066::bool,\n           infoes<CN>.A067::bool,\n           infoes<CN>.A068::bool,\n           infoes<CN>.A069::bool,\n           infoes<CN>.A070::bool,\n           infoes<CN>.A071::bool,\n           infoes<CN>.A072::bool,\n           infoes<CN>.A073::bool,\n           infoes<CN>.A074::bool,\n           infoes<CN>.A075::bool,\n           infoes<CN>.A076::bool,\n           infoes<CN>.A077::bool,\n           infoes<CN>.A078::bool,\n           infoes<CN>.A079::bool,\n           infoes<CN>.A080::bool,\n           infoes<CN>.A081::bool,\n           infoes<CN>.A082::bool,\n           infoes<CN>.A083::bool,\n           infoes<CN>.A084::bool,\n           infoes<CN>.A085::bool,\n           infoes<CN>.A086::bool,\n           infoes<CN>.A087::bool,\n           infoes<CN>.A088::bool,\n           infoes<CN>.A089::bool,\n           infoes<CN>.A090::bool,\n           infoes<CN>.A091::bool,\n           infoes<CN>.A092::bool,\n           infoes<CN>.A093::bool,\n           infoes<CN>.A094::bool,\n           infoes<CN>.A095::bool,\n           infoes<CN>.A096::bool,\n           infoes<CN>.A097::bool,\n           infoes<CN>.A098::bool,\n           infoes<CN>.A099::bool,\n           infoes<CN>.A100::bool,\n           infoes<CN>.A101::bool,\n           infoes<CN>.A102::bool,\n           infoes<CN>.A103::bool,\n           infoes<CN>.A104::bool,\n           infoes<CN>.A105::bool,\n           infoes<CN>.A106::bool,\n           infoes<CN>.A107::bool,\n           infoes<CN>.A108::bool,\n           infoes<CN>.A109::bool,\n           infoes<CN>.A110::bool,\n           infoes<CN>.A111::bool,\n           infoes<CN>.A112::bool,\n           infoes<CN>.A113::bool,\n           infoes<CN>.A114::bool,\n           infoes<CN>.A115::bool,\n           infoes<CN>.A116::bool,\n           infoes<CN>.A117::bool,\n           infoes<CN>.A118::bool,\n           infoes<CN>.A119::bool,\n           infoes<CN>.A120::bool,\n           infoes<CN>.A121::bool,\n           infoes<CN>.A122::bool,\n           infoes<CN>.A123::bool,\n           infoes<CN>.A124::bool,\n           infoes<CN>.A125::bool,\n           infoes<CN>.A126::bool,\n           infoes<CN>.A127::bool,\n           infoes<CN>.A128::bool,\n           infoes<CN>.A129::bool,\n           infoes<CN>.A130::bool,\n           infoes<CN>.A131::bool,\n           infoes<CN>.A132::bool,\n           infoes<CN>.A133::bool,\n           infoes<CN>.A134::bool,\n           infoes<CN>.A135::bool,\n           infoes<CN>.A136::bool,\n           infoes<CN>.A137::bool,\n           infoes<CN>.A138::bool,\n           infoes<CN>.A139::bool,\n           infoes<CN>.A140::bool,\n           infoes<CN>.A141::bool,\n           infoes<CN>.A142::bool,\n           infoes<CN>.A143::bool,\n           infoes<CN>.A144::bool,\n           infoes<CN>.A145::bool,\n           infoes<CN>.A146::bool,\n           infoes<CN>.A147::bool,\n           infoes<CN>.A148::bool,\n           infoes<CN>.A149::bool,\n           infoes<CN>.A150::bool,\n           infoes<CN>.A151::bool,\n           infoes<CN>.A152::bool,\n           infoes<CN>.A153::bool,\n           infoes<CN>.A154::bool,\n           infoes<CN>.A155::bool,\n           infoes<CN>.A156::bool,\n           infoes<CN>.A157::bool,\n           infoes<CN>.A158::bool,\n           infoes<CN>.A159::bool,\n           infoes<CN>.A160::bool,\n           infoes<CN>.A161::bool,\n           infoes<CN>.A162::bool,\n           infoes<CN>.A163::bool,\n           infoes<CN>.A164::bool,\n           infoes<CN>.A165::bool,\n           infoes<CN>.A166::bool,\n           infoes<CN>.A167::bool,\n           infoes<CN>.A168::bool,\n           infoes<CN>.A169::bool,\n           infoes<CN>.A170::bool,\n           infoes<CN>.A171::bool,\n           infoes<CN>.A172::bool,\n           infoes<CN>.A173::bool,\n           infoes<CN>.A174::bool,\n           infoes<CN>.A175::bool,\n           infoes<CN>.A176::bool,\n           infoes<CN>.A177::bool,\n           infoes<CN>.A178::bool,\n           infoes<CN>.A179::bool,\n           infoes<CN>.A180::bool,\n           infoes<CN>.A181::bool,\n           infoes<CN>.A182::bool,\n           infoes<CN>.A183::bool,\n           infoes<CN>.A184::bool,\n           infoes<CN>.A185::bool,\n           infoes<CN>.A186::bool,\n           infoes<CN>.A187::bool,\n           infoes<CN>.A188::bool,\n           infoes<CN>.A189::bool,\n           infoes<CN>.A190::bool,\n           infoes<CN>.A191::bool,\n           infoes<CN>.A192::bool,\n           infoes<CN>.A193::bool,\n           infoes<CN>.A194::bool,\n           infoes<CN>.A195::bool,\n           infoes<CN>.A196::bool,\n           infoes<CN>.A197::bool,\n           infoes<CN>.A198::bool,\n           infoes<CN>.A199::bool,\n           infoes<CN>.A200::bool,\n           infoes<CN>.A201::bool,\n           infoes<CN>.A202::bool,\n           infoes<CN>.A203::bool,\n           infoes<CN>.A204::bool,\n           infoes<CN>.A205::bool,\n           infoes<CN>.A206::bool,\n           infoes<CN>.A207::bool,\n           infoes<CN>.A208::bool,\n           infoes<CN>.A209::bool,\n           infoes<CN>.A210::bool,\n           infoes<CN>.A211::bool,\n           infoes<CN>.A212::bool,\n           infoes<CN>.A213::bool,\n           infoes<CN>.A214::bool,\n           infoes<CN>.A215::bool,\n           infoes<CN>.A216::bool,\n           infoes<CN>.A217::bool,\n           infoes<CN>.A218::bool,\n           infoes<CN>.A219::bool,\n           infoes<CN>.A220::bool,\n           infoes<CN>.A221::bool,\n           infoes<CN>.A222::bool,\n           infoes<CN>.A223::bool,\n           infoes<CN>.A224::bool,\n           infoes<CN>.A225::bool,\n           infoes<CN>.A226::bool,\n           infoes<CN>.A227::bool,\n           infoes<CN>.A228::bool,\n           infoes<CN>.A229::bool,\n           infoes<CN>.A230::bool,\n           infoes<CN>.A231::bool,\n           infoes<CN>.A232::bool,\n           infoes<CN>.A233::bool,\n           infoes<CN>.A234::bool,\n           infoes<CN>.A235::bool,\n           infoes<CN>.A236::bool,\n           infoes<CN>.A237::bool,\n           infoes<CN>.A238::bool,\n           infoes<CN>.A239::bool,\n           infoes<CN>.A240::bool,\n           infoes<CN>.A241::bool,\n           infoes<CN>.A242::bool,\n           infoes<CN>.A243::bool,\n           infoes<CN>.A244::bool,\n           infoes<CN>.A245::bool,\n           infoes<CN>.A246::bool,\n           infoes<CN>.A247::bool,\n           infoes<CN>.A248::bool,\n           infoes<CN>.A249::bool,\n           infoes<CN>.A250::bool,\n           infoes<CN>.A251::bool,\n           infoes<CN>.A252::bool,\n           infoes<CN>.A253::bool,\n           infoes<CN>.A254::bool,\n           infoes<CN>.A255::bool,\n           infoes<CN>.A256::bool,\n           infoes<CN>.A257::bool,\n           infoes<CN>.A258::bool,\n           infoes<CN>.A259::bool,\n           infoes<CN>.A260::bool,\n           infoes<CN>.A261::bool,\n           infoes<CN>.A262::bool,\n           infoes<CN>.A263::bool,\n           infoes<CN>.A264::bool,\n           infoes<CN>.A265::bool,\n           infoes<CN>.A266::bool,\n           infoes<CN>.A267::bool,\n           infoes<CN>.A268::bool,\n           infoes<CN>.A269::bool,\n           infoes<CN>.A270::bool,\n           infoes<CN>.A271::bool,\n           infoes<CN>.A272::bool,\n           infoes<CN>.A273::bool,\n           infoes<CN>.A274::bool,\n           infoes<CN>.A275::bool,\n           infoes<CN>.A276::bool,\n           infoes<CN>.asof_date::datetime64[ns],\n           infoes<CN>.sector_code::int64,\n           infoes<CN>.super_sector_code::int64,\n           infoes<CN>.sw_sector::int64,\n           infoes<CN>.上市地点::object,\n           infoes<CN>.上市日期::datetime64[ns],\n           infoes<CN>.上市状态::object,\n           infoes<CN>.主营业务::object,\n           infoes<CN>.会计师事务所::object,\n           infoes<CN>.国证一级行业::object,\n           infoes<CN>.国证一级行业编码::object,\n           infoes<CN>.国证三级行业::object,\n           infoes<CN>.国证三级行业编码::object,\n           infoes<CN>.国证二级行业::object,\n           infoes<CN>.国证二级行业编码::object,\n           infoes<CN>.国证四级行业::object,\n           infoes<CN>.国证四级行业编码::object,\n           infoes<CN>.城市::object,\n           infoes<CN>.律师事务所::object,\n           infoes<CN>.成立日期::datetime64[ns],\n           infoes<CN>.注册资本::float64,\n           infoes<CN>.注册资本十分位数::int64,\n           infoes<CN>.独立董事::object,\n           infoes<CN>.申万行业一级名称::object,\n           infoes<CN>.申万行业三级名称::object,\n           infoes<CN>.申万行业二级名称::object,\n           infoes<CN>.省份::object,\n           infoes<CN>.股票简称::object,\n           infoes<CN>.证券类别::object,\n           infoes<CN>.证监会一级行业名称::object,\n           infoes<CN>.证监会二级行业名称::object})"
     },
     "metadata": {},
     "execution_count": 2
    }
   ],
   "source": [
    "Fundamentals.info.columns"
   ]
  },
  {
   "cell_type": "markdown",
   "metadata": {},
   "source": [
    "# 注册资本"
   ]
  },
  {
   "cell_type": "code",
   "execution_count": 3,
   "metadata": {
    "ExecuteTime": {
     "end_time": "2019-07-09T01:11:01.614408Z",
     "start_time": "2019-07-09T01:10:58.885Z"
    }
   },
   "outputs": [
    {
     "output_type": "execute_result",
     "data": {
      "text/plain": "                                                  注册资本  注册资本十分位数\ndate                      asset                                 \n2018-01-10 00:00:00+00:00 洛阳钼业(603993)   431984.812500         9\n                          *ST中新(603996)   30015.000000         2\n                          继峰股份(603997)   102360.289062         6\n                          方盛制药(603998)    43384.472656         3\n                          读者传媒(603999)    57600.000000         4",
      "text/html": "<div>\n<style scoped>\n    .dataframe tbody tr th:only-of-type {\n        vertical-align: middle;\n    }\n\n    .dataframe tbody tr th {\n        vertical-align: top;\n    }\n\n    .dataframe thead th {\n        text-align: right;\n    }\n</style>\n<table border=\"1\" class=\"dataframe\">\n  <thead>\n    <tr style=\"text-align: right;\">\n      <th></th>\n      <th></th>\n      <th>注册资本</th>\n      <th>注册资本十分位数</th>\n    </tr>\n    <tr>\n      <th>date</th>\n      <th>asset</th>\n      <th></th>\n      <th></th>\n    </tr>\n  </thead>\n  <tbody>\n    <tr>\n      <th rowspan=\"5\" valign=\"top\">2018-01-10 00:00:00+00:00</th>\n      <th>洛阳钼业(603993)</th>\n      <td>431984.812500</td>\n      <td>9</td>\n    </tr>\n    <tr>\n      <th>*ST中新(603996)</th>\n      <td>30015.000000</td>\n      <td>2</td>\n    </tr>\n    <tr>\n      <th>继峰股份(603997)</th>\n      <td>102360.289062</td>\n      <td>6</td>\n    </tr>\n    <tr>\n      <th>方盛制药(603998)</th>\n      <td>43384.472656</td>\n      <td>3</td>\n    </tr>\n    <tr>\n      <th>读者传媒(603999)</th>\n      <td>57600.000000</td>\n      <td>4</td>\n    </tr>\n  </tbody>\n</table>\n</div>"
     },
     "metadata": {},
     "execution_count": 3
    }
   ],
   "source": [
    "def make_pipeline():\n",
    "    return Pipeline(columns={\n",
    "        '注册资本': Fundamentals.info.注册资本.latest,\n",
    "        '注册资本十分位数': Fundamentals.info.注册资本十分位数.latest,\n",
    "    })\n",
    "\n",
    "data_output = run_pipeline(\n",
    "    make_pipeline(),\n",
    "    start_date='2018-01-10',\n",
    "    end_date='2018-01-10'\n",
    ")\n",
    "\n",
    "data_output.tail()"
   ]
  },
  {
   "cell_type": "markdown",
   "metadata": {},
   "source": [
    "# 部门及超级部门"
   ]
  },
  {
   "cell_type": "code",
   "execution_count": 4,
   "metadata": {
    "ExecuteTime": {
     "end_time": "2019-07-09T01:11:01.614408Z",
     "start_time": "2019-07-09T01:10:58.890Z"
    }
   },
   "outputs": [
    {
     "output_type": "execute_result",
     "data": {
      "text/plain": "                                          部门  超级部门\ndate                      asset                   \n2018-01-10 00:00:00+00:00 洛阳钼业(603993)   101     1\n                          *ST中新(603996)  205     2\n                          继峰股份(603997)   205     2\n                          方盛制药(603998)   206     2\n                          读者传媒(603999)   205     2",
      "text/html": "<div>\n<style scoped>\n    .dataframe tbody tr th:only-of-type {\n        vertical-align: middle;\n    }\n\n    .dataframe tbody tr th {\n        vertical-align: top;\n    }\n\n    .dataframe thead th {\n        text-align: right;\n    }\n</style>\n<table border=\"1\" class=\"dataframe\">\n  <thead>\n    <tr style=\"text-align: right;\">\n      <th></th>\n      <th></th>\n      <th>部门</th>\n      <th>超级部门</th>\n    </tr>\n    <tr>\n      <th>date</th>\n      <th>asset</th>\n      <th></th>\n      <th></th>\n    </tr>\n  </thead>\n  <tbody>\n    <tr>\n      <th rowspan=\"5\" valign=\"top\">2018-01-10 00:00:00+00:00</th>\n      <th>洛阳钼业(603993)</th>\n      <td>101</td>\n      <td>1</td>\n    </tr>\n    <tr>\n      <th>*ST中新(603996)</th>\n      <td>205</td>\n      <td>2</td>\n    </tr>\n    <tr>\n      <th>继峰股份(603997)</th>\n      <td>205</td>\n      <td>2</td>\n    </tr>\n    <tr>\n      <th>方盛制药(603998)</th>\n      <td>206</td>\n      <td>2</td>\n    </tr>\n    <tr>\n      <th>读者传媒(603999)</th>\n      <td>205</td>\n      <td>2</td>\n    </tr>\n  </tbody>\n</table>\n</div>"
     },
     "metadata": {},
     "execution_count": 4
    }
   ],
   "source": [
    "def make_pipeline():\n",
    "    return Pipeline(columns={\n",
    "        '部门': Fundamentals.info.sector_code.latest,\n",
    "        '超级部门': Fundamentals.info.super_sector_code.latest,\n",
    "    })\n",
    "\n",
    "data_output = run_pipeline(\n",
    "    make_pipeline(),\n",
    "    start_date='2018-01-10',\n",
    "    end_date='2018-01-10'\n",
    ")\n",
    "\n",
    "data_output.tail()"
   ]
  },
  {
   "cell_type": "markdown",
   "metadata": {},
   "source": [
    "# 上市日期"
   ]
  },
  {
   "cell_type": "code",
   "execution_count": 5,
   "metadata": {
    "ExecuteTime": {
     "end_time": "2019-07-09T01:11:01.615405Z",
     "start_time": "2019-07-09T01:10:58.893Z"
    }
   },
   "outputs": [
    {
     "output_type": "execute_result",
     "data": {
      "text/plain": "                                上市日期\ndate                                \n2018-01-02 00:00:00+00:00 2013-09-18\n2018-01-03 00:00:00+00:00 2013-09-18\n2018-01-04 00:00:00+00:00 2013-09-18\n2018-01-05 00:00:00+00:00 2013-09-18\n2018-01-08 00:00:00+00:00 2013-09-18\n2018-01-09 00:00:00+00:00 2013-09-18\n2018-01-10 00:00:00+00:00 2013-09-18",
      "text/html": "<div>\n<style scoped>\n    .dataframe tbody tr th:only-of-type {\n        vertical-align: middle;\n    }\n\n    .dataframe tbody tr th {\n        vertical-align: top;\n    }\n\n    .dataframe thead th {\n        text-align: right;\n    }\n</style>\n<table border=\"1\" class=\"dataframe\">\n  <thead>\n    <tr style=\"text-align: right;\">\n      <th></th>\n      <th>上市日期</th>\n    </tr>\n    <tr>\n      <th>date</th>\n      <th></th>\n    </tr>\n  </thead>\n  <tbody>\n    <tr>\n      <th>2018-01-02 00:00:00+00:00</th>\n      <td>2013-09-18</td>\n    </tr>\n    <tr>\n      <th>2018-01-03 00:00:00+00:00</th>\n      <td>2013-09-18</td>\n    </tr>\n    <tr>\n      <th>2018-01-04 00:00:00+00:00</th>\n      <td>2013-09-18</td>\n    </tr>\n    <tr>\n      <th>2018-01-05 00:00:00+00:00</th>\n      <td>2013-09-18</td>\n    </tr>\n    <tr>\n      <th>2018-01-08 00:00:00+00:00</th>\n      <td>2013-09-18</td>\n    </tr>\n    <tr>\n      <th>2018-01-09 00:00:00+00:00</th>\n      <td>2013-09-18</td>\n    </tr>\n    <tr>\n      <th>2018-01-10 00:00:00+00:00</th>\n      <td>2013-09-18</td>\n    </tr>\n  </tbody>\n</table>\n</div>"
     },
     "metadata": {},
     "execution_count": 5
    }
   ],
   "source": [
    "# 1993-05-04\n",
    "def make_pipeline():\n",
    "    return Pipeline(columns={\n",
    "        '上市日期': Fundamentals.info.上市日期.latest,\n",
    "    })\n",
    "\n",
    "data_output = run_pipeline(\n",
    "    make_pipeline(),\n",
    "    start_date='2018-01-01',\n",
    "    end_date='2018-01-10'\n",
    ")\n",
    "\n",
    "data_output.xs(symbol(333), level=1)"
   ]
  },
  {
   "cell_type": "markdown",
   "metadata": {},
   "source": [
    "# 行业分类\n",
    "\n",
    "行业分类静态化，数据为最新行业分类。"
   ]
  },
  {
   "cell_type": "markdown",
   "metadata": {},
   "source": [
    "## 证监会行业分类"
   ]
  },
  {
   "cell_type": "code",
   "execution_count": 6,
   "metadata": {
    "ExecuteTime": {
     "end_time": "2019-07-09T01:11:01.616403Z",
     "start_time": "2019-07-09T01:10:58.895Z"
    }
   },
   "outputs": [
    {
     "output_type": "execute_result",
     "data": {
      "text/plain": "                                           证监会一级行业           证监会二级行业\ndate                      asset                                     \n2018-01-10 00:00:00+00:00 洛阳钼业(603993)         采矿业          有色金属矿采选业\n                          *ST中新(603996)        制造业  计算机、通信和其他电子设备制造业\n                          继峰股份(603997)         制造业             汽车制造业\n                          方盛制药(603998)         制造业             医药制造业\n                          读者传媒(603999)   文化、体育和娱乐业            新闻和出版业",
      "text/html": "<div>\n<style scoped>\n    .dataframe tbody tr th:only-of-type {\n        vertical-align: middle;\n    }\n\n    .dataframe tbody tr th {\n        vertical-align: top;\n    }\n\n    .dataframe thead th {\n        text-align: right;\n    }\n</style>\n<table border=\"1\" class=\"dataframe\">\n  <thead>\n    <tr style=\"text-align: right;\">\n      <th></th>\n      <th></th>\n      <th>证监会一级行业</th>\n      <th>证监会二级行业</th>\n    </tr>\n    <tr>\n      <th>date</th>\n      <th>asset</th>\n      <th></th>\n      <th></th>\n    </tr>\n  </thead>\n  <tbody>\n    <tr>\n      <th rowspan=\"5\" valign=\"top\">2018-01-10 00:00:00+00:00</th>\n      <th>洛阳钼业(603993)</th>\n      <td>采矿业</td>\n      <td>有色金属矿采选业</td>\n    </tr>\n    <tr>\n      <th>*ST中新(603996)</th>\n      <td>制造业</td>\n      <td>计算机、通信和其他电子设备制造业</td>\n    </tr>\n    <tr>\n      <th>继峰股份(603997)</th>\n      <td>制造业</td>\n      <td>汽车制造业</td>\n    </tr>\n    <tr>\n      <th>方盛制药(603998)</th>\n      <td>制造业</td>\n      <td>医药制造业</td>\n    </tr>\n    <tr>\n      <th>读者传媒(603999)</th>\n      <td>文化、体育和娱乐业</td>\n      <td>新闻和出版业</td>\n    </tr>\n  </tbody>\n</table>\n</div>"
     },
     "metadata": {},
     "execution_count": 6
    }
   ],
   "source": [
    "def make_pipeline():\n",
    "    return Pipeline(columns={\n",
    "        '证监会一级行业': Fundamentals.info.证监会一级行业名称.latest,\n",
    "        '证监会二级行业': Fundamentals.info.证监会二级行业名称.latest,\n",
    "    })\n",
    "\n",
    "data_output = run_pipeline(\n",
    "    make_pipeline(),\n",
    "    start_date='2018-01-10',\n",
    "    end_date='2018-01-10'\n",
    ")\n",
    "\n",
    "data_output.tail()"
   ]
  },
  {
   "cell_type": "markdown",
   "metadata": {},
   "source": [
    "## 申万行业分类"
   ]
  },
  {
   "cell_type": "code",
   "execution_count": 7,
   "metadata": {
    "ExecuteTime": {
     "end_time": "2019-07-09T01:11:01.616403Z",
     "start_time": "2019-07-09T01:10:58.900Z"
    }
   },
   "outputs": [
    {
     "output_type": "execute_result",
     "data": {
      "text/plain": "                                        申万一级行业 申万二级行业   申万三级行业\ndate                      asset                               \n2018-01-10 00:00:00+00:00 洛阳钼业(603993)    有色金属   稀有金属  其他稀有小金属\n                          *ST中新(603996)   家用电器   视听器材       彩电\n                          继峰股份(603997)      汽车  汽车零部件    汽车零部件\n                          方盛制药(603998)    医药生物     中药       中药\n                          读者传媒(603999)      传媒   文化传媒     平面媒体",
      "text/html": "<div>\n<style scoped>\n    .dataframe tbody tr th:only-of-type {\n        vertical-align: middle;\n    }\n\n    .dataframe tbody tr th {\n        vertical-align: top;\n    }\n\n    .dataframe thead th {\n        text-align: right;\n    }\n</style>\n<table border=\"1\" class=\"dataframe\">\n  <thead>\n    <tr style=\"text-align: right;\">\n      <th></th>\n      <th></th>\n      <th>申万一级行业</th>\n      <th>申万二级行业</th>\n      <th>申万三级行业</th>\n    </tr>\n    <tr>\n      <th>date</th>\n      <th>asset</th>\n      <th></th>\n      <th></th>\n      <th></th>\n    </tr>\n  </thead>\n  <tbody>\n    <tr>\n      <th rowspan=\"5\" valign=\"top\">2018-01-10 00:00:00+00:00</th>\n      <th>洛阳钼业(603993)</th>\n      <td>有色金属</td>\n      <td>稀有金属</td>\n      <td>其他稀有小金属</td>\n    </tr>\n    <tr>\n      <th>*ST中新(603996)</th>\n      <td>家用电器</td>\n      <td>视听器材</td>\n      <td>彩电</td>\n    </tr>\n    <tr>\n      <th>继峰股份(603997)</th>\n      <td>汽车</td>\n      <td>汽车零部件</td>\n      <td>汽车零部件</td>\n    </tr>\n    <tr>\n      <th>方盛制药(603998)</th>\n      <td>医药生物</td>\n      <td>中药</td>\n      <td>中药</td>\n    </tr>\n    <tr>\n      <th>读者传媒(603999)</th>\n      <td>传媒</td>\n      <td>文化传媒</td>\n      <td>平面媒体</td>\n    </tr>\n  </tbody>\n</table>\n</div>"
     },
     "metadata": {},
     "execution_count": 7
    }
   ],
   "source": [
    "def make_pipeline():\n",
    "    return Pipeline(columns={\n",
    "        '申万一级行业': Fundamentals.info.申万行业一级名称.latest,\n",
    "        '申万二级行业': Fundamentals.info.申万行业二级名称.latest,\n",
    "        '申万三级行业': Fundamentals.info.申万行业三级名称.latest,\n",
    "    })\n",
    "\n",
    "data_output = run_pipeline(\n",
    "    make_pipeline(),\n",
    "    start_date='2018-01-10',\n",
    "    end_date='2018-01-10'\n",
    ")\n",
    "\n",
    "data_output.tail()"
   ]
  },
  {
   "cell_type": "markdown",
   "metadata": {},
   "source": [
    "## 国证行业分类"
   ]
  },
  {
   "cell_type": "code",
   "execution_count": 8,
   "metadata": {
    "ExecuteTime": {
     "end_time": "2019-07-09T01:11:01.617400Z",
     "start_time": "2019-07-09T01:10:58.903Z"
    }
   },
   "outputs": [
    {
     "output_type": "execute_result",
     "data": {
      "text/plain": "                                        国证一级行业    国证二级行业    国证三级行业 国证四级行业\ndate                      asset                                          \n2018-01-10 00:00:00+00:00 洛阳钼业(603993)     原材料      基础材料      有色金属   稀有金属\n                          *ST中新(603996)   可选消费     耐用消费品      家用电器   视听器材\n                          继峰股份(603997)    可选消费  汽车与汽车零配件  汽车零配件与设备  汽车零配件\n                          方盛制药(603998)    医药卫生        制药      化学制剂   化学制剂\n                          读者传媒(603999)    可选消费        传媒        传媒     出版",
      "text/html": "<div>\n<style scoped>\n    .dataframe tbody tr th:only-of-type {\n        vertical-align: middle;\n    }\n\n    .dataframe tbody tr th {\n        vertical-align: top;\n    }\n\n    .dataframe thead th {\n        text-align: right;\n    }\n</style>\n<table border=\"1\" class=\"dataframe\">\n  <thead>\n    <tr style=\"text-align: right;\">\n      <th></th>\n      <th></th>\n      <th>国证一级行业</th>\n      <th>国证二级行业</th>\n      <th>国证三级行业</th>\n      <th>国证四级行业</th>\n    </tr>\n    <tr>\n      <th>date</th>\n      <th>asset</th>\n      <th></th>\n      <th></th>\n      <th></th>\n      <th></th>\n    </tr>\n  </thead>\n  <tbody>\n    <tr>\n      <th rowspan=\"5\" valign=\"top\">2018-01-10 00:00:00+00:00</th>\n      <th>洛阳钼业(603993)</th>\n      <td>原材料</td>\n      <td>基础材料</td>\n      <td>有色金属</td>\n      <td>稀有金属</td>\n    </tr>\n    <tr>\n      <th>*ST中新(603996)</th>\n      <td>可选消费</td>\n      <td>耐用消费品</td>\n      <td>家用电器</td>\n      <td>视听器材</td>\n    </tr>\n    <tr>\n      <th>继峰股份(603997)</th>\n      <td>可选消费</td>\n      <td>汽车与汽车零配件</td>\n      <td>汽车零配件与设备</td>\n      <td>汽车零配件</td>\n    </tr>\n    <tr>\n      <th>方盛制药(603998)</th>\n      <td>医药卫生</td>\n      <td>制药</td>\n      <td>化学制剂</td>\n      <td>化学制剂</td>\n    </tr>\n    <tr>\n      <th>读者传媒(603999)</th>\n      <td>可选消费</td>\n      <td>传媒</td>\n      <td>传媒</td>\n      <td>出版</td>\n    </tr>\n  </tbody>\n</table>\n</div>"
     },
     "metadata": {},
     "execution_count": 8
    }
   ],
   "source": [
    "def make_pipeline():\n",
    "    return Pipeline(columns={\n",
    "        '国证一级行业': Fundamentals.info.国证一级行业.latest,\n",
    "        '国证二级行业': Fundamentals.info.国证二级行业.latest,\n",
    "        '国证三级行业': Fundamentals.info.国证三级行业.latest,\n",
    "        '国证四级行业': Fundamentals.info.国证四级行业.latest,\n",
    "    })\n",
    "\n",
    "data_output = run_pipeline(\n",
    "    make_pipeline(),\n",
    "    start_date='2018-01-10',\n",
    "    end_date='2018-01-10'\n",
    ")\n",
    "\n",
    "data_output.tail()"
   ]
  },
  {
   "cell_type": "markdown",
   "metadata": {},
   "source": [
    "# 地区分类"
   ]
  },
  {
   "cell_type": "code",
   "execution_count": 9,
   "metadata": {
    "ExecuteTime": {
     "end_time": "2019-07-09T01:11:01.617400Z",
     "start_time": "2019-07-09T01:10:58.905Z"
    }
   },
   "outputs": [
    {
     "output_type": "execute_result",
     "data": {
      "text/plain": "                                         省份   城市\ndate                      asset                 \n2018-01-10 00:00:00+00:00 洛阳钼业(603993)   河南  洛阳市\n                          *ST中新(603996)  浙江  台州市\n                          继峰股份(603997)   浙江  宁波市\n                          方盛制药(603998)   湖南  长沙市\n                          读者传媒(603999)   甘肃  兰州市",
      "text/html": "<div>\n<style scoped>\n    .dataframe tbody tr th:only-of-type {\n        vertical-align: middle;\n    }\n\n    .dataframe tbody tr th {\n        vertical-align: top;\n    }\n\n    .dataframe thead th {\n        text-align: right;\n    }\n</style>\n<table border=\"1\" class=\"dataframe\">\n  <thead>\n    <tr style=\"text-align: right;\">\n      <th></th>\n      <th></th>\n      <th>省份</th>\n      <th>城市</th>\n    </tr>\n    <tr>\n      <th>date</th>\n      <th>asset</th>\n      <th></th>\n      <th></th>\n    </tr>\n  </thead>\n  <tbody>\n    <tr>\n      <th rowspan=\"5\" valign=\"top\">2018-01-10 00:00:00+00:00</th>\n      <th>洛阳钼业(603993)</th>\n      <td>河南</td>\n      <td>洛阳市</td>\n    </tr>\n    <tr>\n      <th>*ST中新(603996)</th>\n      <td>浙江</td>\n      <td>台州市</td>\n    </tr>\n    <tr>\n      <th>继峰股份(603997)</th>\n      <td>浙江</td>\n      <td>宁波市</td>\n    </tr>\n    <tr>\n      <th>方盛制药(603998)</th>\n      <td>湖南</td>\n      <td>长沙市</td>\n    </tr>\n    <tr>\n      <th>读者传媒(603999)</th>\n      <td>甘肃</td>\n      <td>兰州市</td>\n    </tr>\n  </tbody>\n</table>\n</div>"
     },
     "metadata": {},
     "execution_count": 9
    }
   ],
   "source": [
    "def make_pipeline():\n",
    "    return Pipeline(columns={\n",
    "        '省份': Fundamentals.info.省份.latest,\n",
    "        '城市': Fundamentals.info.城市.latest,\n",
    "    })\n",
    "\n",
    "data_output = run_pipeline(\n",
    "    make_pipeline(),\n",
    "    start_date='2018-01-10',\n",
    "    end_date='2018-01-10'\n",
    ")\n",
    "\n",
    "data_output.tail()"
   ]
  },
  {
   "cell_type": "markdown",
   "metadata": {},
   "source": [
    "# 股票概念"
   ]
  },
  {
   "cell_type": "markdown",
   "metadata": {},
   "source": [
    "## 映射表"
   ]
  },
  {
   "cell_type": "code",
   "execution_count": 10,
   "metadata": {
    "ExecuteTime": {
     "end_time": "2019-07-09T01:11:01.618398Z",
     "start_time": "2019-07-09T01:10:58.908Z"
    }
   },
   "outputs": [
    {
     "output_type": "execute_result",
     "data": {
      "text/plain": "{'A001': 'H股',\n 'A002': 'QFII持股',\n 'A003': 'ST板块',\n 'A004': '5G概念',\n 'A005': 'IPO受益',\n 'A006': '上证50',\n 'A007': '上证180',\n 'A008': '中证100',\n 'A009': '沪深300',\n 'A010': '预亏预减',\n 'A011': '预盈预增',\n 'A012': '网络游戏',\n 'A013': '基金重仓',\n 'A014': '操盘手80',\n 'A015': '航天军工',\n 'A016': '节能环保',\n 'A017': '次新已开板',\n 'A018': '新材料概念',\n 'A019': '深证100',\n 'A020': '高价',\n 'A021': '中价',\n 'A022': '低价',\n 'A023': '参股金融',\n 'A024': '大盘',\n 'A025': '中盘',\n 'A026': '小盘',\n 'A027': '券商重仓',\n 'A028': '社保重仓',\n 'A029': '振兴东北',\n 'A030': '未股改',\n 'A031': '稀缺资源',\n 'A032': '创投概念',\n 'A033': '基金增仓',\n 'A034': '深成500',\n 'A035': '基金新增',\n 'A036': '大订单',\n 'A037': '成渝特区',\n 'A038': '低市净率',\n 'A039': '高送转',\n 'A040': '股权激励',\n 'A041': '定向增发',\n 'A042': '高铁',\n 'A043': '核电核能',\n 'A044': '迪士尼',\n 'A045': '物联网',\n 'A046': '稀土永磁',\n 'A047': '锂电池',\n 'A048': '云计算',\n 'A049': '增持回购',\n 'A050': '太阳能',\n 'A051': '西部开发',\n 'A052': '黄金概念',\n 'A053': '智能电网',\n 'A054': '明星基金',\n 'A055': '电子商务',\n 'A056': '上证380',\n 'A057': '新能源汽车',\n 'A058': 'LED',\n 'A059': '融资融券',\n 'A060': '参股新三板',\n 'A061': '水利',\n 'A062': '风能',\n 'A063': '涉矿概念',\n 'A064': '金融改革',\n 'A065': '央视50',\n 'A066': '页岩气',\n 'A067': '三沙概念',\n 'A068': '3D打印',\n 'A069': '地热能',\n 'A070': '食品医药安全',\n 'A071': '摘帽',\n 'A072': '芯片',\n 'A073': '中证TMT',\n 'A074': '重组并购',\n 'A075': '美丽中国',\n 'A076': '智慧城市',\n 'A077': '风险警示板',\n 'A078': '智能手机',\n 'A079': '三网融合',\n 'A080': '北斗导航',\n 'A081': '农业机械',\n 'A082': '煤化工',\n 'A083': '特色化工',\n 'A084': '大飞机',\n 'A085': '通用航空',\n 'A086': '海工装备',\n 'A087': '工业4.0',\n 'A088': '特种药',\n 'A089': '海西概念',\n 'A090': 'PM2.5',\n 'A091': '举牌',\n 'A092': '人脑工程',\n 'A093': '抗病毒',\n 'A094': '地理信息',\n 'A095': '智能穿戴',\n 'A096': '大数据',\n 'A097': '上海自贸区',\n 'A098': '宽带中国',\n 'A099': '海洋经济',\n 'A100': '土地流转',\n 'A101': '王亚伟概念',\n 'A102': '养老概念',\n 'A103': '天津自贸区',\n 'A104': '海绵城市',\n 'A105': '油改概念',\n 'A106': '广东自贸区',\n 'A107': '二胎概念',\n 'A108': '生态农业',\n 'A109': '国家安全',\n 'A110': '广东国资整合',\n 'A111': '上海国资整合',\n 'A112': '浙江自贸区',\n 'A113': '重庆自贸区',\n 'A114': '蓝宝石',\n 'A115': '福建自贸区',\n 'A116': '无人驾驶',\n 'A117': '体育概念',\n 'A118': '民营医院',\n 'A119': '电力改革',\n 'A120': '燃料电池',\n 'A121': '京津冀',\n 'A122': '中俄自贸区',\n 'A123': '天津国资整合',\n 'A124': '湖南国资整合',\n 'A125': '安徽自贸区',\n 'A126': 'AH股',\n 'A127': '黄河金三角',\n 'A128': '博彩概念',\n 'A129': '国资委整合',\n 'A130': '地方国资整合',\n 'A131': '生猪概念',\n 'A132': '天然气概念',\n 'A133': '去IOE概念',\n 'A134': '高校概念',\n 'A135': '量子通信',\n 'A136': '中韩自贸区',\n 'A137': '盐改概念',\n 'A138': '沪股通',\n 'A139': '精准医疗',\n 'A140': '超级电容',\n 'A141': '石墨烯',\n 'A142': '手机游戏',\n 'A143': '在线教育',\n 'A144': '电子支付',\n 'A145': '无人机',\n 'A146': '充电桩',\n 'A147': '一带一路',\n 'A148': '乡村振兴',\n 'A149': '杠杆B类基金',\n 'A150': '中字头',\n 'A151': '内陆自贸区',\n 'A152': '中证500',\n 'A153': '沪台通',\n 'A154': '储能概念',\n 'A155': 'PPP概念',\n 'A156': '证金持股',\n 'A157': '汇金持股',\n 'A158': '员工持股',\n 'A159': '破净股',\n 'A160': '健康中国',\n 'A161': '能源互联网',\n 'A162': '东盟自贸区',\n 'A163': '虚拟现实',\n 'A164': '维生素',\n 'A165': '壳资源',\n 'A166': '外汇局持股',\n 'A167': '债转股',\n 'A168': '电子竞技',\n 'A169': '网红经济',\n 'A170': '深股通',\n 'A171': '生物识别',\n 'A172': 'AR概念',\n 'A173': '参股恒大',\n 'A174': '中概股回归',\n 'A175': '股权转让',\n 'A176': '昨日涨停',\n 'A177': '混改',\n 'A178': '共享单车',\n 'A179': '小金属',\n 'A180': '辽宁自贸区',\n 'A181': '雄安新区',\n 'A182': '粤港澳大湾区',\n 'A183': '地下管廊',\n 'A184': '卓越70',\n 'A185': '可燃冰',\n 'A186': '特色小镇',\n 'A187': 'MSCI中国',\n 'A188': '租售同权',\n 'A189': '养老金持股',\n 'A190': '乙醇汽油',\n 'A191': '盐湖提锂',\n 'A192': '阿里概念',\n 'A193': '自由贸易港',\n 'A194': '供给侧改革',\n 'A195': '装配式建筑',\n 'A196': '腾讯概念',\n 'A197': '富士康概念',\n 'A198': '工业互联网',\n 'A199': '独角兽概念',\n 'A200': '小米概念',\n 'A201': '知识产权保护',\n 'A202': '数字中国',\n 'A203': '仿制药',\n 'A204': '海南自贸区',\n 'A205': '成泉资本',\n 'A206': '短视频',\n 'A207': '华为概念',\n 'A208': '百度概念',\n 'A209': '人民币贬值',\n 'A210': '车联网',\n 'A211': '智能音箱',\n 'A212': '金融科技',\n 'A213': '创业板50',\n 'A214': '超跌概念',\n 'A215': '高质押概念',\n 'A216': '国资驰援',\n 'A217': '昨曾涨停',\n 'A218': '人民币升值',\n 'A219': '芬太尼',\n 'A220': '长三角一体化',\n 'A221': '昨日连板',\n 'A222': '公共服务',\n 'A223': '工业大麻',\n 'A224': '名特优消费',\n 'A225': '柔性屏',\n 'A226': '新兴产业',\n 'A227': '超高清视频',\n 'A228': '边缘计算',\n 'A229': '数字孪生',\n 'A230': '电力物联网',\n 'A231': '中证800',\n 'A232': '甲醇概念',\n 'A233': '透明工厂',\n 'A234': '氢能源',\n 'A235': '人造肉',\n 'A236': '国产操作系统',\n 'A237': '青蒿素',\n 'A238': '垃圾分类',\n 'A239': '富时罗素',\n 'A240': 'ETC概念',\n 'A241': '光刻胶',\n 'A242': '巨盘',\n 'A243': '微盘',\n 'A244': '数字货币',\n 'A245': '眼科医疗',\n 'A246': '无线耳机',\n 'A247': '电子政务',\n 'A248': '安防',\n 'A249': '蚂蚁金服',\n 'A250': '特高压',\n 'A251': '区块链',\n 'A252': '赛马概念',\n 'A253': '特斯拉',\n 'A254': '光通信',\n 'A255': 'OLED',\n 'A256': '胎压监测',\n 'A257': '机器人',\n 'A258': '人工智能',\n 'A259': '苹果概念',\n 'A260': '智能家居',\n 'A261': '电子发票',\n 'A262': '数字营销',\n 'A263': '互联网金融',\n 'A264': '智能交通',\n 'A265': '智能医疗',\n 'A266': '智能物流',\n 'A267': '分拆上市预期',\n 'A268': '转基因',\n 'A269': '新冠病毒',\n 'A270': '云办公',\n 'A271': '消毒剂',\n 'A272': '口罩',\n 'A273': '氮化镓',\n 'A274': '数据中心',\n 'A275': 'RCS富媒体',\n 'A276': 'C2M概念'}"
     },
     "metadata": {},
     "execution_count": 10
    }
   ],
   "source": [
    "Fundamentals.concept_maps"
   ]
  },
  {
   "cell_type": "markdown",
   "metadata": {},
   "source": [
    "## 查询概念名称"
   ]
  },
  {
   "cell_type": "code",
   "execution_count": 11,
   "metadata": {
    "ExecuteTime": {
     "end_time": "2019-07-09T01:11:01.619395Z",
     "start_time": "2019-07-09T01:10:58.911Z"
    }
   },
   "outputs": [
    {
     "output_type": "execute_result",
     "data": {
      "text/plain": "'云办公'"
     },
     "metadata": {},
     "execution_count": 11
    }
   ],
   "source": [
    "Fundamentals.concept_col_name('A270')"
   ]
  },
  {
   "cell_type": "markdown",
   "metadata": {},
   "source": [
    "## 查询概念编码"
   ]
  },
  {
   "cell_type": "code",
   "execution_count": 12,
   "metadata": {
    "ExecuteTime": {
     "end_time": "2019-07-09T01:11:01.620392Z",
     "start_time": "2019-07-09T01:10:58.913Z"
    }
   },
   "outputs": [
    {
     "output_type": "execute_result",
     "data": {
      "text/plain": "{'A057': '新能源汽车'}"
     },
     "metadata": {},
     "execution_count": 12
    }
   ],
   "source": [
    "Fundamentals.concept_col_code('汽车')"
   ]
  },
  {
   "cell_type": "code",
   "execution_count": 13,
   "metadata": {
    "ExecuteTime": {
     "end_time": "2019-07-09T01:11:01.620392Z",
     "start_time": "2019-07-09T01:10:58.916Z"
    }
   },
   "outputs": [
    {
     "output_type": "execute_result",
     "data": {
      "text/plain": "                                         共享汽车\ndate                      asset              \n2018-01-10 00:00:00+00:00 齐心集团(002301)   True\n                          深南股份(002417)   True\n                          二六三(002467)    True\n                          榕基软件(002474)   True\n                          中装建设(002822)   True\n                          视源股份(002841)   True\n                          天源迪科(300047)   True\n                          三五互联(300051)   True\n                          华平股份(300074)   True\n                          雷曼光电(300162)   True\n                          初灵信息(300250)   True\n                          蓝盾股份(300297)   True\n                          太空智造(300344)   True\n                          北信源(300352)    True\n                          会畅通讯(300578)   True\n                          恒锋信息(300605)   True\n                          亿联网络(300628)   True\n                          中科信息(300678)   True\n                          科创信息(300730)   True\n                          *ST松江(600225)  True\n                          鹏博士(600804)    True\n                          宝信软件(600845)   True\n                          人民网(603000)    True\n                          泛微网络(603039)   True\n                          苏州科达(603660)   True\n                          金桥信息(603918)   True",
      "text/html": "<div>\n<style scoped>\n    .dataframe tbody tr th:only-of-type {\n        vertical-align: middle;\n    }\n\n    .dataframe tbody tr th {\n        vertical-align: top;\n    }\n\n    .dataframe thead th {\n        text-align: right;\n    }\n</style>\n<table border=\"1\" class=\"dataframe\">\n  <thead>\n    <tr style=\"text-align: right;\">\n      <th></th>\n      <th></th>\n      <th>共享汽车</th>\n    </tr>\n    <tr>\n      <th>date</th>\n      <th>asset</th>\n      <th></th>\n    </tr>\n  </thead>\n  <tbody>\n    <tr>\n      <th rowspan=\"26\" valign=\"top\">2018-01-10 00:00:00+00:00</th>\n      <th>齐心集团(002301)</th>\n      <td>True</td>\n    </tr>\n    <tr>\n      <th>深南股份(002417)</th>\n      <td>True</td>\n    </tr>\n    <tr>\n      <th>二六三(002467)</th>\n      <td>True</td>\n    </tr>\n    <tr>\n      <th>榕基软件(002474)</th>\n      <td>True</td>\n    </tr>\n    <tr>\n      <th>中装建设(002822)</th>\n      <td>True</td>\n    </tr>\n    <tr>\n      <th>视源股份(002841)</th>\n      <td>True</td>\n    </tr>\n    <tr>\n      <th>天源迪科(300047)</th>\n      <td>True</td>\n    </tr>\n    <tr>\n      <th>三五互联(300051)</th>\n      <td>True</td>\n    </tr>\n    <tr>\n      <th>华平股份(300074)</th>\n      <td>True</td>\n    </tr>\n    <tr>\n      <th>雷曼光电(300162)</th>\n      <td>True</td>\n    </tr>\n    <tr>\n      <th>初灵信息(300250)</th>\n      <td>True</td>\n    </tr>\n    <tr>\n      <th>蓝盾股份(300297)</th>\n      <td>True</td>\n    </tr>\n    <tr>\n      <th>太空智造(300344)</th>\n      <td>True</td>\n    </tr>\n    <tr>\n      <th>北信源(300352)</th>\n      <td>True</td>\n    </tr>\n    <tr>\n      <th>会畅通讯(300578)</th>\n      <td>True</td>\n    </tr>\n    <tr>\n      <th>恒锋信息(300605)</th>\n      <td>True</td>\n    </tr>\n    <tr>\n      <th>亿联网络(300628)</th>\n      <td>True</td>\n    </tr>\n    <tr>\n      <th>中科信息(300678)</th>\n      <td>True</td>\n    </tr>\n    <tr>\n      <th>科创信息(300730)</th>\n      <td>True</td>\n    </tr>\n    <tr>\n      <th>*ST松江(600225)</th>\n      <td>True</td>\n    </tr>\n    <tr>\n      <th>鹏博士(600804)</th>\n      <td>True</td>\n    </tr>\n    <tr>\n      <th>宝信软件(600845)</th>\n      <td>True</td>\n    </tr>\n    <tr>\n      <th>人民网(603000)</th>\n      <td>True</td>\n    </tr>\n    <tr>\n      <th>泛微网络(603039)</th>\n      <td>True</td>\n    </tr>\n    <tr>\n      <th>苏州科达(603660)</th>\n      <td>True</td>\n    </tr>\n    <tr>\n      <th>金桥信息(603918)</th>\n      <td>True</td>\n    </tr>\n  </tbody>\n</table>\n</div>"
     },
     "metadata": {},
     "execution_count": 13
    }
   ],
   "source": [
    "def make_pipeline():\n",
    "    return Pipeline(columns={\n",
    "        '共享汽车': Fundamentals.info.A270.latest,\n",
    "#         '人工智能': Fundamentals.info.A263.latest,\n",
    "    })\n",
    "\n",
    "data_output = run_pipeline(\n",
    "    make_pipeline(),\n",
    "    start_date='2018-01-10',\n",
    "    end_date='2018-01-10'\n",
    ")\n",
    "\n",
    "data_output[data_output['共享汽车']]"
   ]
  },
  {
   "cell_type": "markdown",
   "metadata": {},
   "source": [
    "# 上市状态"
   ]
  },
  {
   "cell_type": "code",
   "execution_count": 14,
   "metadata": {
    "ExecuteTime": {
     "end_time": "2019-07-09T01:11:01.621390Z",
     "start_time": "2019-07-09T01:10:58.919Z"
    }
   },
   "outputs": [
    {
     "output_type": "execute_result",
     "data": {
      "text/plain": "                                           状态\ndate                      asset              \n2018-01-10 00:00:00+00:00 洛阳钼业(603993)   正常上市\n                          *ST中新(603996)   *ST\n                          继峰股份(603997)   正常上市\n                          方盛制药(603998)   正常上市\n                          读者传媒(603999)   正常上市",
      "text/html": "<div>\n<style scoped>\n    .dataframe tbody tr th:only-of-type {\n        vertical-align: middle;\n    }\n\n    .dataframe tbody tr th {\n        vertical-align: top;\n    }\n\n    .dataframe thead th {\n        text-align: right;\n    }\n</style>\n<table border=\"1\" class=\"dataframe\">\n  <thead>\n    <tr style=\"text-align: right;\">\n      <th></th>\n      <th></th>\n      <th>状态</th>\n    </tr>\n    <tr>\n      <th>date</th>\n      <th>asset</th>\n      <th></th>\n    </tr>\n  </thead>\n  <tbody>\n    <tr>\n      <th rowspan=\"5\" valign=\"top\">2018-01-10 00:00:00+00:00</th>\n      <th>洛阳钼业(603993)</th>\n      <td>正常上市</td>\n    </tr>\n    <tr>\n      <th>*ST中新(603996)</th>\n      <td>*ST</td>\n    </tr>\n    <tr>\n      <th>继峰股份(603997)</th>\n      <td>正常上市</td>\n    </tr>\n    <tr>\n      <th>方盛制药(603998)</th>\n      <td>正常上市</td>\n    </tr>\n    <tr>\n      <th>读者传媒(603999)</th>\n      <td>正常上市</td>\n    </tr>\n  </tbody>\n</table>\n</div>"
     },
     "metadata": {},
     "execution_count": 14
    }
   ],
   "source": [
    "def make_pipeline():\n",
    "    return Pipeline(columns={\n",
    "        '状态': Fundamentals.info.上市状态.latest,\n",
    "    })\n",
    "\n",
    "data_output = run_pipeline(\n",
    "    make_pipeline(),\n",
    "    start_date='2018-01-10',\n",
    "    end_date='2018-01-10'\n",
    ")\n",
    "\n",
    "data_output.tail()"
   ]
  }
 ],
 "metadata": {
  "kernelspec": {
   "display_name": "zipline",
   "language": "python",
   "name": "zipline"
  },
  "language_info": {
   "codemirror_mode": {
    "name": "ipython",
    "version": 3
   },
   "file_extension": ".py",
   "mimetype": "text/x-python",
   "name": "python",
   "nbconvert_exporter": "python",
   "pygments_lexer": "ipython3",
   "version": "3.7.7-final"
  },
  "toc": {
   "base_numbering": 1,
   "nav_menu": {},
   "number_sections": true,
   "sideBar": true,
   "skip_h1_title": false,
   "title_cell": "Table of Contents",
   "title_sidebar": "Contents",
   "toc_cell": false,
   "toc_position": {
    "height": "calc(100% - 180px)",
    "left": "10px",
    "top": "150px",
    "width": "384px"
   },
   "toc_section_display": true,
   "toc_window_display": true
  }
 },
 "nbformat": 4,
 "nbformat_minor": 2
}