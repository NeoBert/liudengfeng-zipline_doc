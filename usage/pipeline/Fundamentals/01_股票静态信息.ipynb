{
 "cells": [
  {
   "cell_type": "code",
   "execution_count": 1,
   "metadata": {
    "ExecuteTime": {
     "end_time": "2019-07-09T01:11:01.441872Z",
     "start_time": "2019-07-09T01:10:59.020523Z"
    }
   },
   "outputs": [],
   "source": [
    "from zipline.pipeline import Pipeline\n",
    "from zipline.research import run_pipeline,symbols,symbol\n",
    "from zipline.pipeline.fundamentals import Fundamentals"
   ]
  },
  {
   "cell_type": "markdown",
   "metadata": {},
   "source": [
    "# 列信息"
   ]
  },
  {
   "cell_type": "code",
   "execution_count": 2,
   "metadata": {
    "ExecuteTime": {
     "end_time": "2019-07-09T01:11:01.613411Z",
     "start_time": "2019-07-09T01:11:01.442867Z"
    }
   },
   "outputs": [],
   "source": [
    "# Fundamentals.info.columns"
   ]
  },
  {
   "cell_type": "markdown",
   "metadata": {},
   "source": [
    "# 注册资本"
   ]
  },
  {
   "cell_type": "code",
   "execution_count": 3,
   "metadata": {},
   "outputs": [
    {
     "output_type": "execute_result",
     "data": {
      "text/plain": "                                                注册资本  注册资本十分位数\ndatetime                  asset                               \n2018-01-10 00:00:00+00:00 洛阳钼业(603993)   431984.8117         9\n                          *ST中新(603996)   30015.0000         2\n                          继峰股份(603997)   102360.2921         6\n                          方盛制药(603998)    43384.4720         3\n                          读者传媒(603999)    57600.0000         4",
      "text/html": "<div>\n<style scoped>\n    .dataframe tbody tr th:only-of-type {\n        vertical-align: middle;\n    }\n\n    .dataframe tbody tr th {\n        vertical-align: top;\n    }\n\n    .dataframe thead th {\n        text-align: right;\n    }\n</style>\n<table border=\"1\" class=\"dataframe\">\n  <thead>\n    <tr style=\"text-align: right;\">\n      <th></th>\n      <th></th>\n      <th>注册资本</th>\n      <th>注册资本十分位数</th>\n    </tr>\n    <tr>\n      <th>datetime</th>\n      <th>asset</th>\n      <th></th>\n      <th></th>\n    </tr>\n  </thead>\n  <tbody>\n    <tr>\n      <th rowspan=\"5\" valign=\"top\">2018-01-10 00:00:00+00:00</th>\n      <th>洛阳钼业(603993)</th>\n      <td>431984.8117</td>\n      <td>9</td>\n    </tr>\n    <tr>\n      <th>*ST中新(603996)</th>\n      <td>30015.0000</td>\n      <td>2</td>\n    </tr>\n    <tr>\n      <th>继峰股份(603997)</th>\n      <td>102360.2921</td>\n      <td>6</td>\n    </tr>\n    <tr>\n      <th>方盛制药(603998)</th>\n      <td>43384.4720</td>\n      <td>3</td>\n    </tr>\n    <tr>\n      <th>读者传媒(603999)</th>\n      <td>57600.0000</td>\n      <td>4</td>\n    </tr>\n  </tbody>\n</table>\n</div>"
     },
     "metadata": {},
     "execution_count": 3
    }
   ],
   "source": [
    "def make_pipeline():\n",
    "    return Pipeline(columns={\n",
    "        '注册资本': Fundamentals.info.注册资本.latest,\n",
    "        '注册资本十分位数': Fundamentals.info.注册资本十分位数.latest,\n",
    "    })\n",
    "\n",
    "data_output = run_pipeline(\n",
    "    make_pipeline(),\n",
    "    start_date='2018-01-10',\n",
    "    end_date='2018-01-10'\n",
    ")\n",
    "\n",
    "data_output.tail()"
   ]
  },
  {
   "cell_type": "markdown",
   "metadata": {},
   "source": [
    "# 部门及超级部门"
   ]
  },
  {
   "cell_type": "code",
   "execution_count": 4,
   "metadata": {
    "ExecuteTime": {
     "end_time": "2019-07-09T01:11:01.614408Z",
     "start_time": "2019-07-09T01:10:58.890Z"
    }
   },
   "outputs": [
    {
     "output_type": "execute_result",
     "data": {
      "text/plain": "                                          部门  超级部门\ndatetime                  asset                   \n2018-01-10 00:00:00+00:00 洛阳钼业(603993)   101     1\n                          *ST中新(603996)  205     2\n                          继峰股份(603997)   205     2\n                          方盛制药(603998)   206     2\n                          读者传媒(603999)   205     2",
      "text/html": "<div>\n<style scoped>\n    .dataframe tbody tr th:only-of-type {\n        vertical-align: middle;\n    }\n\n    .dataframe tbody tr th {\n        vertical-align: top;\n    }\n\n    .dataframe thead th {\n        text-align: right;\n    }\n</style>\n<table border=\"1\" class=\"dataframe\">\n  <thead>\n    <tr style=\"text-align: right;\">\n      <th></th>\n      <th></th>\n      <th>部门</th>\n      <th>超级部门</th>\n    </tr>\n    <tr>\n      <th>datetime</th>\n      <th>asset</th>\n      <th></th>\n      <th></th>\n    </tr>\n  </thead>\n  <tbody>\n    <tr>\n      <th rowspan=\"5\" valign=\"top\">2018-01-10 00:00:00+00:00</th>\n      <th>洛阳钼业(603993)</th>\n      <td>101</td>\n      <td>1</td>\n    </tr>\n    <tr>\n      <th>*ST中新(603996)</th>\n      <td>205</td>\n      <td>2</td>\n    </tr>\n    <tr>\n      <th>继峰股份(603997)</th>\n      <td>205</td>\n      <td>2</td>\n    </tr>\n    <tr>\n      <th>方盛制药(603998)</th>\n      <td>206</td>\n      <td>2</td>\n    </tr>\n    <tr>\n      <th>读者传媒(603999)</th>\n      <td>205</td>\n      <td>2</td>\n    </tr>\n  </tbody>\n</table>\n</div>"
     },
     "metadata": {},
     "execution_count": 4
    }
   ],
   "source": [
    "def make_pipeline():\n",
    "    return Pipeline(columns={\n",
    "        '部门': Fundamentals.info.sector_code.latest,\n",
    "        '超级部门': Fundamentals.info.super_sector_code.latest,\n",
    "    })\n",
    "\n",
    "data_output = run_pipeline(\n",
    "    make_pipeline(),\n",
    "    start_date='2018-01-10',\n",
    "    end_date='2018-01-10'\n",
    ")\n",
    "\n",
    "data_output.tail()"
   ]
  },
  {
   "cell_type": "markdown",
   "metadata": {},
   "source": [
    "# 上市日期"
   ]
  },
  {
   "cell_type": "code",
   "execution_count": 5,
   "metadata": {
    "ExecuteTime": {
     "end_time": "2019-07-09T01:11:01.615405Z",
     "start_time": "2019-07-09T01:10:58.893Z"
    }
   },
   "outputs": [
    {
     "output_type": "execute_result",
     "data": {
      "text/plain": "                                上市日期\ndatetime                            \n2018-01-02 00:00:00+00:00 2013-09-18\n2018-01-03 00:00:00+00:00 2013-09-18\n2018-01-04 00:00:00+00:00 2013-09-18\n2018-01-05 00:00:00+00:00 2013-09-18\n2018-01-08 00:00:00+00:00 2013-09-18\n2018-01-09 00:00:00+00:00 2013-09-18\n2018-01-10 00:00:00+00:00 2013-09-18",
      "text/html": "<div>\n<style scoped>\n    .dataframe tbody tr th:only-of-type {\n        vertical-align: middle;\n    }\n\n    .dataframe tbody tr th {\n        vertical-align: top;\n    }\n\n    .dataframe thead th {\n        text-align: right;\n    }\n</style>\n<table border=\"1\" class=\"dataframe\">\n  <thead>\n    <tr style=\"text-align: right;\">\n      <th></th>\n      <th>上市日期</th>\n    </tr>\n    <tr>\n      <th>datetime</th>\n      <th></th>\n    </tr>\n  </thead>\n  <tbody>\n    <tr>\n      <th>2018-01-02 00:00:00+00:00</th>\n      <td>2013-09-18</td>\n    </tr>\n    <tr>\n      <th>2018-01-03 00:00:00+00:00</th>\n      <td>2013-09-18</td>\n    </tr>\n    <tr>\n      <th>2018-01-04 00:00:00+00:00</th>\n      <td>2013-09-18</td>\n    </tr>\n    <tr>\n      <th>2018-01-05 00:00:00+00:00</th>\n      <td>2013-09-18</td>\n    </tr>\n    <tr>\n      <th>2018-01-08 00:00:00+00:00</th>\n      <td>2013-09-18</td>\n    </tr>\n    <tr>\n      <th>2018-01-09 00:00:00+00:00</th>\n      <td>2013-09-18</td>\n    </tr>\n    <tr>\n      <th>2018-01-10 00:00:00+00:00</th>\n      <td>2013-09-18</td>\n    </tr>\n  </tbody>\n</table>\n</div>"
     },
     "metadata": {},
     "execution_count": 5
    }
   ],
   "source": [
    "# 1993-05-04\n",
    "def make_pipeline():\n",
    "    return Pipeline(columns={\n",
    "        '上市日期': Fundamentals.info.上市日期.latest,\n",
    "    })\n",
    "\n",
    "data_output = run_pipeline(\n",
    "    make_pipeline(),\n",
    "    start_date='2018-01-01',\n",
    "    end_date='2018-01-10'\n",
    ")\n",
    "\n",
    "data_output.xs(symbol(333), level=1)"
   ]
  },
  {
   "cell_type": "markdown",
   "metadata": {},
   "source": [
    "# 行业分类\n",
    "\n",
    "行业分类静态化，数据为最新行业分类。"
   ]
  },
  {
   "cell_type": "markdown",
   "metadata": {},
   "source": [
    "## 证监会行业分类"
   ]
  },
  {
   "cell_type": "code",
   "execution_count": 6,
   "metadata": {
    "ExecuteTime": {
     "end_time": "2019-07-09T01:11:01.616403Z",
     "start_time": "2019-07-09T01:10:58.895Z"
    }
   },
   "outputs": [
    {
     "output_type": "execute_result",
     "data": {
      "text/plain": "                                           证监会一级行业           证监会二级行业\ndatetime                  asset                                     \n2018-01-10 00:00:00+00:00 洛阳钼业(603993)         采矿业          有色金属矿采选业\n                          *ST中新(603996)        制造业  计算机、通信和其他电子设备制造业\n                          继峰股份(603997)         制造业             汽车制造业\n                          方盛制药(603998)         制造业             医药制造业\n                          读者传媒(603999)   文化、体育和娱乐业            新闻和出版业",
      "text/html": "<div>\n<style scoped>\n    .dataframe tbody tr th:only-of-type {\n        vertical-align: middle;\n    }\n\n    .dataframe tbody tr th {\n        vertical-align: top;\n    }\n\n    .dataframe thead th {\n        text-align: right;\n    }\n</style>\n<table border=\"1\" class=\"dataframe\">\n  <thead>\n    <tr style=\"text-align: right;\">\n      <th></th>\n      <th></th>\n      <th>证监会一级行业</th>\n      <th>证监会二级行业</th>\n    </tr>\n    <tr>\n      <th>datetime</th>\n      <th>asset</th>\n      <th></th>\n      <th></th>\n    </tr>\n  </thead>\n  <tbody>\n    <tr>\n      <th rowspan=\"5\" valign=\"top\">2018-01-10 00:00:00+00:00</th>\n      <th>洛阳钼业(603993)</th>\n      <td>采矿业</td>\n      <td>有色金属矿采选业</td>\n    </tr>\n    <tr>\n      <th>*ST中新(603996)</th>\n      <td>制造业</td>\n      <td>计算机、通信和其他电子设备制造业</td>\n    </tr>\n    <tr>\n      <th>继峰股份(603997)</th>\n      <td>制造业</td>\n      <td>汽车制造业</td>\n    </tr>\n    <tr>\n      <th>方盛制药(603998)</th>\n      <td>制造业</td>\n      <td>医药制造业</td>\n    </tr>\n    <tr>\n      <th>读者传媒(603999)</th>\n      <td>文化、体育和娱乐业</td>\n      <td>新闻和出版业</td>\n    </tr>\n  </tbody>\n</table>\n</div>"
     },
     "metadata": {},
     "execution_count": 6
    }
   ],
   "source": [
    "def make_pipeline():\n",
    "    return Pipeline(columns={\n",
    "        '证监会一级行业': Fundamentals.info.证监会一级行业.latest,\n",
    "        '证监会二级行业': Fundamentals.info.证监会二级行业.latest,\n",
    "    })\n",
    "\n",
    "data_output = run_pipeline(\n",
    "    make_pipeline(),\n",
    "    start_date='2018-01-10',\n",
    "    end_date='2018-01-10'\n",
    ")\n",
    "\n",
    "data_output.tail()"
   ]
  },
  {
   "cell_type": "markdown",
   "metadata": {},
   "source": [
    "## 申万行业分类"
   ]
  },
  {
   "cell_type": "code",
   "execution_count": 7,
   "metadata": {
    "ExecuteTime": {
     "end_time": "2019-07-09T01:11:01.616403Z",
     "start_time": "2019-07-09T01:10:58.900Z"
    }
   },
   "outputs": [
    {
     "output_type": "execute_result",
     "data": {
      "text/plain": "                                        申万一级行业 申万二级行业   申万三级行业\ndatetime                  asset                               \n2018-01-10 00:00:00+00:00 洛阳钼业(603993)    有色金属   稀有金属  其他稀有小金属\n                          *ST中新(603996)   家用电器   视听器材       彩电\n                          继峰股份(603997)      汽车  汽车零部件    汽车零部件\n                          方盛制药(603998)    医药生物     中药       中药\n                          读者传媒(603999)      传媒   文化传媒     平面媒体",
      "text/html": "<div>\n<style scoped>\n    .dataframe tbody tr th:only-of-type {\n        vertical-align: middle;\n    }\n\n    .dataframe tbody tr th {\n        vertical-align: top;\n    }\n\n    .dataframe thead th {\n        text-align: right;\n    }\n</style>\n<table border=\"1\" class=\"dataframe\">\n  <thead>\n    <tr style=\"text-align: right;\">\n      <th></th>\n      <th></th>\n      <th>申万一级行业</th>\n      <th>申万二级行业</th>\n      <th>申万三级行业</th>\n    </tr>\n    <tr>\n      <th>datetime</th>\n      <th>asset</th>\n      <th></th>\n      <th></th>\n      <th></th>\n    </tr>\n  </thead>\n  <tbody>\n    <tr>\n      <th rowspan=\"5\" valign=\"top\">2018-01-10 00:00:00+00:00</th>\n      <th>洛阳钼业(603993)</th>\n      <td>有色金属</td>\n      <td>稀有金属</td>\n      <td>其他稀有小金属</td>\n    </tr>\n    <tr>\n      <th>*ST中新(603996)</th>\n      <td>家用电器</td>\n      <td>视听器材</td>\n      <td>彩电</td>\n    </tr>\n    <tr>\n      <th>继峰股份(603997)</th>\n      <td>汽车</td>\n      <td>汽车零部件</td>\n      <td>汽车零部件</td>\n    </tr>\n    <tr>\n      <th>方盛制药(603998)</th>\n      <td>医药生物</td>\n      <td>中药</td>\n      <td>中药</td>\n    </tr>\n    <tr>\n      <th>读者传媒(603999)</th>\n      <td>传媒</td>\n      <td>文化传媒</td>\n      <td>平面媒体</td>\n    </tr>\n  </tbody>\n</table>\n</div>"
     },
     "metadata": {},
     "execution_count": 7
    }
   ],
   "source": [
    "def make_pipeline():\n",
    "    return Pipeline(columns={\n",
    "        '申万一级行业': Fundamentals.info.申万一级行业.latest,\n",
    "        '申万二级行业': Fundamentals.info.申万二级行业.latest,\n",
    "        '申万三级行业': Fundamentals.info.申万三级行业.latest,\n",
    "    })\n",
    "\n",
    "data_output = run_pipeline(\n",
    "    make_pipeline(),\n",
    "    start_date='2018-01-10',\n",
    "    end_date='2018-01-10'\n",
    ")\n",
    "\n",
    "data_output.tail()"
   ]
  },
  {
   "cell_type": "markdown",
   "metadata": {},
   "source": [
    "## 国证行业分类"
   ]
  },
  {
   "cell_type": "code",
   "execution_count": 8,
   "metadata": {
    "ExecuteTime": {
     "end_time": "2019-07-09T01:11:01.617400Z",
     "start_time": "2019-07-09T01:10:58.903Z"
    }
   },
   "outputs": [
    {
     "output_type": "execute_result",
     "data": {
      "text/plain": "                                        国证一级行业    国证二级行业    国证三级行业 国证四级行业\ndatetime                  asset                                          \n2018-01-10 00:00:00+00:00 洛阳钼业(603993)     原材料      基础材料      有色金属   稀有金属\n                          *ST中新(603996)   可选消费     耐用消费品      家用电器   视听器材\n                          继峰股份(603997)    可选消费  汽车与汽车零配件  汽车零配件与设备  汽车零配件\n                          方盛制药(603998)    医药卫生        制药      化学制剂   化学制剂\n                          读者传媒(603999)    可选消费        传媒        传媒     出版",
      "text/html": "<div>\n<style scoped>\n    .dataframe tbody tr th:only-of-type {\n        vertical-align: middle;\n    }\n\n    .dataframe tbody tr th {\n        vertical-align: top;\n    }\n\n    .dataframe thead th {\n        text-align: right;\n    }\n</style>\n<table border=\"1\" class=\"dataframe\">\n  <thead>\n    <tr style=\"text-align: right;\">\n      <th></th>\n      <th></th>\n      <th>国证一级行业</th>\n      <th>国证二级行业</th>\n      <th>国证三级行业</th>\n      <th>国证四级行业</th>\n    </tr>\n    <tr>\n      <th>datetime</th>\n      <th>asset</th>\n      <th></th>\n      <th></th>\n      <th></th>\n      <th></th>\n    </tr>\n  </thead>\n  <tbody>\n    <tr>\n      <th rowspan=\"5\" valign=\"top\">2018-01-10 00:00:00+00:00</th>\n      <th>洛阳钼业(603993)</th>\n      <td>原材料</td>\n      <td>基础材料</td>\n      <td>有色金属</td>\n      <td>稀有金属</td>\n    </tr>\n    <tr>\n      <th>*ST中新(603996)</th>\n      <td>可选消费</td>\n      <td>耐用消费品</td>\n      <td>家用电器</td>\n      <td>视听器材</td>\n    </tr>\n    <tr>\n      <th>继峰股份(603997)</th>\n      <td>可选消费</td>\n      <td>汽车与汽车零配件</td>\n      <td>汽车零配件与设备</td>\n      <td>汽车零配件</td>\n    </tr>\n    <tr>\n      <th>方盛制药(603998)</th>\n      <td>医药卫生</td>\n      <td>制药</td>\n      <td>化学制剂</td>\n      <td>化学制剂</td>\n    </tr>\n    <tr>\n      <th>读者传媒(603999)</th>\n      <td>可选消费</td>\n      <td>传媒</td>\n      <td>传媒</td>\n      <td>出版</td>\n    </tr>\n  </tbody>\n</table>\n</div>"
     },
     "metadata": {},
     "execution_count": 8
    }
   ],
   "source": [
    "def make_pipeline():\n",
    "    return Pipeline(columns={\n",
    "        '国证一级行业': Fundamentals.info.国证一级行业.latest,\n",
    "        '国证二级行业': Fundamentals.info.国证二级行业.latest,\n",
    "        '国证三级行业': Fundamentals.info.国证三级行业.latest,\n",
    "        '国证四级行业': Fundamentals.info.国证四级行业.latest,\n",
    "    })\n",
    "\n",
    "data_output = run_pipeline(\n",
    "    make_pipeline(),\n",
    "    start_date='2018-01-10',\n",
    "    end_date='2018-01-10'\n",
    ")\n",
    "\n",
    "data_output.tail()"
   ]
  },
  {
   "cell_type": "markdown",
   "metadata": {},
   "source": [
    "# 地区分类"
   ]
  },
  {
   "cell_type": "code",
   "execution_count": 9,
   "metadata": {
    "ExecuteTime": {
     "end_time": "2019-07-09T01:11:01.617400Z",
     "start_time": "2019-07-09T01:10:58.905Z"
    }
   },
   "outputs": [
    {
     "output_type": "execute_result",
     "data": {
      "text/plain": "                                         省份   城市\ndatetime                  asset                 \n2018-01-10 00:00:00+00:00 洛阳钼业(603993)   河南  洛阳市\n                          *ST中新(603996)  浙江  台州市\n                          继峰股份(603997)   浙江  宁波市\n                          方盛制药(603998)   湖南  长沙市\n                          读者传媒(603999)   甘肃  兰州市",
      "text/html": "<div>\n<style scoped>\n    .dataframe tbody tr th:only-of-type {\n        vertical-align: middle;\n    }\n\n    .dataframe tbody tr th {\n        vertical-align: top;\n    }\n\n    .dataframe thead th {\n        text-align: right;\n    }\n</style>\n<table border=\"1\" class=\"dataframe\">\n  <thead>\n    <tr style=\"text-align: right;\">\n      <th></th>\n      <th></th>\n      <th>省份</th>\n      <th>城市</th>\n    </tr>\n    <tr>\n      <th>datetime</th>\n      <th>asset</th>\n      <th></th>\n      <th></th>\n    </tr>\n  </thead>\n  <tbody>\n    <tr>\n      <th rowspan=\"5\" valign=\"top\">2018-01-10 00:00:00+00:00</th>\n      <th>洛阳钼业(603993)</th>\n      <td>河南</td>\n      <td>洛阳市</td>\n    </tr>\n    <tr>\n      <th>*ST中新(603996)</th>\n      <td>浙江</td>\n      <td>台州市</td>\n    </tr>\n    <tr>\n      <th>继峰股份(603997)</th>\n      <td>浙江</td>\n      <td>宁波市</td>\n    </tr>\n    <tr>\n      <th>方盛制药(603998)</th>\n      <td>湖南</td>\n      <td>长沙市</td>\n    </tr>\n    <tr>\n      <th>读者传媒(603999)</th>\n      <td>甘肃</td>\n      <td>兰州市</td>\n    </tr>\n  </tbody>\n</table>\n</div>"
     },
     "metadata": {},
     "execution_count": 9
    }
   ],
   "source": [
    "def make_pipeline():\n",
    "    return Pipeline(columns={\n",
    "        '省份': Fundamentals.info.省份.latest,\n",
    "        '城市': Fundamentals.info.城市.latest,\n",
    "    })\n",
    "\n",
    "data_output = run_pipeline(\n",
    "    make_pipeline(),\n",
    "    start_date='2018-01-10',\n",
    "    end_date='2018-01-10'\n",
    ")\n",
    "\n",
    "data_output.tail()"
   ]
  },
  {
   "cell_type": "markdown",
   "metadata": {},
   "source": [
    "# 股票概念"
   ]
  },
  {
   "cell_type": "markdown",
   "metadata": {},
   "source": [
    "## 映射表"
   ]
  },
  {
   "cell_type": "code",
   "execution_count": 10,
   "metadata": {
    "ExecuteTime": {
     "end_time": "2019-07-09T01:11:01.618398Z",
     "start_time": "2019-07-09T01:10:58.908Z"
    }
   },
   "outputs": [
    {
     "output_type": "execute_result",
     "data": {
      "text/plain": "{'A001': '新能源汽车',\n 'A002': '大飞机',\n 'A003': '参股保险',\n 'A004': '食品安全',\n 'A005': '智能电网',\n 'A006': '流感',\n 'A007': '节能照明',\n 'A008': '京津冀一体化',\n 'A009': '禽流感',\n 'A010': '军工',\n 'A011': '煤化工',\n 'A012': '氟化工',\n 'A013': '横琴新区',\n 'A014': '国资驰援',\n 'A015': '磷化工',\n 'A016': '参股券商',\n 'A017': '海工装备',\n 'A018': '生物疫苗',\n 'A019': '创投',\n 'A020': '电子商务',\n 'A021': '移动支付',\n 'A022': '风电',\n 'A023': '高校',\n 'A024': '期货概念',\n 'A025': '国产航母',\n 'A026': '可燃冰',\n 'A027': '燃料电池',\n 'A028': '天然气',\n 'A029': '通用航空',\n 'A030': '污水处理',\n 'A031': '物联网',\n 'A032': '稀土永磁',\n 'A033': '新疆振兴',\n 'A034': '参股新三板',\n 'A035': '页岩气',\n 'A036': '云计算',\n 'A037': '转基因',\n 'A038': '智能交通',\n 'A039': '互联网医疗',\n 'A040': '猪肉',\n 'A041': '智慧城市',\n 'A042': '迪士尼',\n 'A043': '智能医疗',\n 'A044': '中字头股票',\n 'A045': '生物质能',\n 'A046': '卫星导航',\n 'A047': '无线充电',\n 'A048': '节能环保',\n 'A049': '锂电池',\n 'A050': '东盟自贸区',\n 'A051': '网络安全',\n 'A052': '生物医药',\n 'A053': '稀缺资源',\n 'A054': '充电桩',\n 'A055': '安防',\n 'A056': '文化传媒',\n 'A057': '小金属概念',\n 'A058': '家用电器',\n 'A059': '机器人概念',\n 'A060': '量子通信',\n 'A061': '美丽中国',\n 'A062': '大数据',\n 'A063': '乡村振兴',\n 'A064': '5G',\n 'A065': '特钢概念',\n 'A066': '土地流转',\n 'A067': 'ST板块',\n 'A068': '新股与次新股',\n 'A069': '新材料概念',\n 'A070': '无人机',\n 'A071': '高端装备',\n 'A072': '二胎概念',\n 'A073': '融资融券',\n 'A074': '语音技术',\n 'A075': '智能家居',\n 'A076': '生态农业',\n 'A077': '超级电容',\n 'A078': '航运概念',\n 'A079': '乳业',\n 'A080': '手机游戏',\n 'A081': '光伏概念',\n 'A082': '芯片概念',\n 'A083': '足球概念',\n 'A084': '特斯拉',\n 'A085': '大豆',\n 'A086': '上海自贸区',\n 'A087': '蓝宝石',\n 'A088': '基因测序',\n 'A089': 'OLED',\n 'A090': '人脸识别',\n 'A091': '深圳国资改革',\n 'A092': '智能穿戴',\n 'A093': '冷链物流',\n 'A094': '互联网金融',\n 'A095': '电子发票',\n 'A096': '在线旅游',\n 'A097': '在线教育',\n 'A098': '天津自贸区',\n 'A099': '福建自贸区',\n 'A100': '互联网彩票',\n 'A101': '眼科医疗',\n 'A102': '百度概念',\n 'A103': '参股银行',\n 'A104': '小米概念',\n 'A105': '供应链金融',\n 'A106': '无人驾驶',\n 'A107': '染料',\n 'A108': '农机',\n 'A109': '民营医院',\n 'A110': '电子烟',\n 'A111': '一带一路',\n 'A112': '信托概念',\n 'A113': '油品改革',\n 'A114': '上海国资改革',\n 'A115': '物流电商平台',\n 'A116': '口罩',\n 'A117': '高送转',\n 'A118': '摘帽',\n 'A119': '华为概念',\n 'A120': '航空发动机',\n 'A121': '汽车电子',\n 'A122': '工业大麻',\n 'A123': '电力改革',\n 'A124': '沪股通',\n 'A125': '粤港澳大湾区',\n 'A126': '养老概念',\n 'A127': '白酒概念',\n 'A128': '啤酒概念',\n 'A129': '医疗器械概念',\n 'A130': '高铁',\n 'A131': '集成电路概念',\n 'A132': '国产软件',\n 'A133': '首发新股',\n 'A134': '职业教育',\n 'A135': '中韩自贸区',\n 'A136': '细胞免疫治疗',\n 'A137': '央企国资改革',\n 'A138': '阿里巴巴概念',\n 'A139': '两桶油改革',\n 'A140': '跨境电商',\n 'A141': '医药电商',\n 'A142': '玉米',\n 'A143': '养鸡',\n 'A144': '赛马概念',\n 'A145': '体育产业',\n 'A146': '壳资源',\n 'A147': '工业4.0',\n 'A148': '地下管网',\n 'A149': 'PPP概念',\n 'A150': '互联网保险',\n 'A151': '广东自贸区',\n 'A152': '二维码识别',\n 'A153': '农村电商',\n 'A154': '深股通',\n 'A155': '互联网+',\n 'A156': '能源互联网',\n 'A157': '虚拟现实',\n 'A158': '消费金融',\n 'A159': '中船系',\n 'A160': '证金持股',\n 'A161': '人民币贬值受益',\n 'A162': '工业互联网',\n 'A163': '杭州亚运会',\n 'A164': '军民融合',\n 'A165': '青蒿素',\n 'A166': '智能物流',\n 'A167': '健康中国',\n 'A168': '数字货币',\n 'A169': '腾讯概念',\n 'A170': '电子竞技',\n 'A171': '租售同权',\n 'A172': '人工智能',\n 'A173': '区块链',\n 'A174': '债转股',\n 'A175': '网络直播',\n 'A176': '智能音箱',\n 'A177': '网约车',\n 'A178': '参股万达商业',\n 'A179': '蚂蚁金服概念',\n 'A180': '股权转让',\n 'A181': '共享单车',\n 'A182': '微信小程序',\n 'A183': '钴',\n 'A184': '雄安新区',\n 'A185': '新零售',\n 'A186': '特色小镇',\n 'A187': 'MSCI概念',\n 'A188': '无人零售',\n 'A189': '丙烯酸',\n 'A190': '燃料乙醇',\n 'A191': '装配式建筑',\n 'A192': '自由贸易港',\n 'A193': '超级品牌',\n 'A194': '宁德时代概念',\n 'A195': '空铁WIFI',\n 'A196': '边缘计算',\n 'A197': '石墨电极',\n 'A198': '冰雪产业',\n 'A199': '国家大基金持股',\n 'A200': '水泥',\n 'A201': '富士康概念',\n 'A202': '独角兽概念',\n 'A203': '农业种植',\n 'A204': '知识产权保护',\n 'A205': '数字中国',\n 'A206': '氢氟酸',\n 'A207': '送转填权',\n 'A208': '北汽新能源',\n 'A209': '今日头条概念',\n 'A210': '消费电子',\n 'A211': '海南自贸区',\n 'A212': '长三角一体化',\n 'A213': '高送转预期',\n 'A214': '芬太尼',\n 'A215': '半年报预增',\n 'A216': '商誉减值',\n 'A217': '柔性屏',\n 'A218': 'MSCI预期',\n 'A219': '超清视频',\n 'A220': '电力物联网',\n 'A221': '数字孪生',\n 'A222': '网络切片',\n 'A223': '氢能源',\n 'A224': '外资券商影子股',\n 'A225': '融媒体',\n 'A226': '透明工厂',\n 'A227': '超级真菌',\n 'A228': '黑洞概念',\n 'A229': '台湾概念股',\n 'A230': '人造肉',\n 'A231': '草地贪夜蛾防治',\n 'A232': '数字乡村',\n 'A233': '华为海思概念股',\n 'A234': '国产操作系统',\n 'A235': '动物疫苗',\n 'A236': '黑龙江自贸区',\n 'A237': 'ETC',\n 'A238': '烟草',\n 'A239': '垃圾分类',\n 'A240': '创业板重组松绑',\n 'A241': '仿制药一致性评价',\n 'A242': '光刻胶',\n 'A243': '分拆上市意愿',\n 'A244': '标普道琼斯A股',\n 'A245': '无线耳机',\n 'A246': '非科创次新股',\n 'A247': '胎压监测',\n 'A248': '云游戏',\n 'A249': '澳交所概念',\n 'A250': 'MiniLED',\n 'A251': '网红经济',\n 'A252': 'HIT电池',\n 'A253': '云办公',\n 'A254': '消毒剂',\n 'A255': '医疗废物处理',\n 'A256': '氮化镓',\n 'A257': '数据中心',\n 'A258': 'C2M概念',\n 'A259': 'RCS富媒体通信',\n 'A260': '新三板精选层',\n 'A261': 'REITs',\n 'A262': '免税店',\n 'A263': '室外经济'}"
     },
     "metadata": {},
     "execution_count": 10
    }
   ],
   "source": [
    "Fundamentals.concept_maps"
   ]
  },
  {
   "cell_type": "markdown",
   "metadata": {},
   "source": [
    "## 查询概念名称"
   ]
  },
  {
   "cell_type": "code",
   "execution_count": 11,
   "metadata": {
    "ExecuteTime": {
     "end_time": "2019-07-09T01:11:01.619395Z",
     "start_time": "2019-07-09T01:10:58.911Z"
    }
   },
   "outputs": [
    {
     "output_type": "execute_result",
     "data": {
      "text/plain": "'航空发动机'"
     },
     "metadata": {},
     "execution_count": 11
    }
   ],
   "source": [
    "Fundamentals.concept_col_name('A120')"
   ]
  },
  {
   "cell_type": "markdown",
   "metadata": {},
   "source": [
    "## 查询概念编码"
   ]
  },
  {
   "cell_type": "code",
   "execution_count": 12,
   "metadata": {
    "ExecuteTime": {
     "end_time": "2019-07-09T01:11:01.620392Z",
     "start_time": "2019-07-09T01:10:58.913Z"
    }
   },
   "outputs": [
    {
     "output_type": "execute_result",
     "data": {
      "text/plain": "{'A001': '新能源汽车', 'A121': '汽车电子'}"
     },
     "metadata": {},
     "execution_count": 12
    }
   ],
   "source": [
    "Fundamentals.concept_col_code('汽车')"
   ]
  },
  {
   "cell_type": "code",
   "execution_count": 13,
   "metadata": {
    "ExecuteTime": {
     "end_time": "2019-07-09T01:11:01.620392Z",
     "start_time": "2019-07-09T01:10:58.916Z"
    }
   },
   "outputs": [
    {
     "output_type": "execute_result",
     "data": {
      "text/plain": "                                        汽车电子\ndatetime                  asset             \n2018-01-10 00:00:00+00:00 富奥股份(000030)  True\n                          深南电A(000037)  True\n                          深圳华强(000062)  True\n                          中国长城(000066)  True\n                          吉林化纤(000420)  True\n...                                      ...\n                          合力科技(603917)  True\n                          丽岛新材(603937)  True\n                          大理药业(603963)  True\n                          醋化股份(603968)  True\n                          兆易创新(603986)  True\n\n[181 rows x 1 columns]",
      "text/html": "<div>\n<style scoped>\n    .dataframe tbody tr th:only-of-type {\n        vertical-align: middle;\n    }\n\n    .dataframe tbody tr th {\n        vertical-align: top;\n    }\n\n    .dataframe thead th {\n        text-align: right;\n    }\n</style>\n<table border=\"1\" class=\"dataframe\">\n  <thead>\n    <tr style=\"text-align: right;\">\n      <th></th>\n      <th></th>\n      <th>汽车电子</th>\n    </tr>\n    <tr>\n      <th>datetime</th>\n      <th>asset</th>\n      <th></th>\n    </tr>\n  </thead>\n  <tbody>\n    <tr>\n      <th rowspan=\"11\" valign=\"top\">2018-01-10 00:00:00+00:00</th>\n      <th>富奥股份(000030)</th>\n      <td>True</td>\n    </tr>\n    <tr>\n      <th>深南电A(000037)</th>\n      <td>True</td>\n    </tr>\n    <tr>\n      <th>深圳华强(000062)</th>\n      <td>True</td>\n    </tr>\n    <tr>\n      <th>中国长城(000066)</th>\n      <td>True</td>\n    </tr>\n    <tr>\n      <th>吉林化纤(000420)</th>\n      <td>True</td>\n    </tr>\n    <tr>\n      <th>...</th>\n      <td>...</td>\n    </tr>\n    <tr>\n      <th>合力科技(603917)</th>\n      <td>True</td>\n    </tr>\n    <tr>\n      <th>丽岛新材(603937)</th>\n      <td>True</td>\n    </tr>\n    <tr>\n      <th>大理药业(603963)</th>\n      <td>True</td>\n    </tr>\n    <tr>\n      <th>醋化股份(603968)</th>\n      <td>True</td>\n    </tr>\n    <tr>\n      <th>兆易创新(603986)</th>\n      <td>True</td>\n    </tr>\n  </tbody>\n</table>\n<p>181 rows × 1 columns</p>\n</div>"
     },
     "metadata": {},
     "execution_count": 13
    }
   ],
   "source": [
    "def make_pipeline():\n",
    "    return Pipeline(columns={\n",
    "        '汽车电子': Fundamentals.info.A121.latest,\n",
    "#         '人工智能': Fundamentals.info.A263.latest,\n",
    "    })\n",
    "\n",
    "data_output = run_pipeline(\n",
    "    make_pipeline(),\n",
    "    start_date='2018-01-10',\n",
    "    end_date='2018-01-10'\n",
    ")\n",
    "\n",
    "data_output[data_output['汽车电子']]"
   ]
  },
  {
   "cell_type": "markdown",
   "metadata": {},
   "source": [
    "# 上市状态"
   ]
  },
  {
   "cell_type": "code",
   "execution_count": 14,
   "metadata": {
    "ExecuteTime": {
     "end_time": "2019-07-09T01:11:01.621390Z",
     "start_time": "2019-07-09T01:10:58.919Z"
    }
   },
   "outputs": [
    {
     "output_type": "execute_result",
     "data": {
      "text/plain": "                                           状态\ndatetime                  asset              \n2018-01-10 00:00:00+00:00 洛阳钼业(603993)   正常上市\n                          *ST中新(603996)   *ST\n                          继峰股份(603997)   正常上市\n                          方盛制药(603998)   正常上市\n                          读者传媒(603999)   正常上市",
      "text/html": "<div>\n<style scoped>\n    .dataframe tbody tr th:only-of-type {\n        vertical-align: middle;\n    }\n\n    .dataframe tbody tr th {\n        vertical-align: top;\n    }\n\n    .dataframe thead th {\n        text-align: right;\n    }\n</style>\n<table border=\"1\" class=\"dataframe\">\n  <thead>\n    <tr style=\"text-align: right;\">\n      <th></th>\n      <th></th>\n      <th>状态</th>\n    </tr>\n    <tr>\n      <th>datetime</th>\n      <th>asset</th>\n      <th></th>\n    </tr>\n  </thead>\n  <tbody>\n    <tr>\n      <th rowspan=\"5\" valign=\"top\">2018-01-10 00:00:00+00:00</th>\n      <th>洛阳钼业(603993)</th>\n      <td>正常上市</td>\n    </tr>\n    <tr>\n      <th>*ST中新(603996)</th>\n      <td>*ST</td>\n    </tr>\n    <tr>\n      <th>继峰股份(603997)</th>\n      <td>正常上市</td>\n    </tr>\n    <tr>\n      <th>方盛制药(603998)</th>\n      <td>正常上市</td>\n    </tr>\n    <tr>\n      <th>读者传媒(603999)</th>\n      <td>正常上市</td>\n    </tr>\n  </tbody>\n</table>\n</div>"
     },
     "metadata": {},
     "execution_count": 14
    }
   ],
   "source": [
    "def make_pipeline():\n",
    "    return Pipeline(columns={\n",
    "        '状态': Fundamentals.info.上市状态.latest,\n",
    "    })\n",
    "\n",
    "data_output = run_pipeline(\n",
    "    make_pipeline(),\n",
    "    start_date='2018-01-10',\n",
    "    end_date='2018-01-10'\n",
    ")\n",
    "\n",
    "data_output.tail()"
   ]
  }
 ],
 "metadata": {
  "kernelspec": {
   "display_name": "Python 3.7.7 64-bit ('zipline': conda)",
   "language": "python",
   "name": "python37764bitziplinecondafc6f11bd3b9c4249a9fc63b5c8ae4fcf"
  },
  "language_info": {
   "codemirror_mode": {
    "name": "ipython",
    "version": 3
   },
   "file_extension": ".py",
   "mimetype": "text/x-python",
   "name": "python",
   "nbconvert_exporter": "python",
   "pygments_lexer": "ipython3",
   "version": "3.7.7-final"
  },
  "toc": {
   "base_numbering": 1,
   "nav_menu": {},
   "number_sections": true,
   "sideBar": true,
   "skip_h1_title": false,
   "title_cell": "Table of Contents",
   "title_sidebar": "Contents",
   "toc_cell": false,
   "toc_position": {
    "height": "calc(100% - 180px)",
    "left": "10px",
    "top": "150px",
    "width": "384px"
   },
   "toc_section_display": true,
   "toc_window_display": true
  }
 },
 "nbformat": 4,
 "nbformat_minor": 2
}