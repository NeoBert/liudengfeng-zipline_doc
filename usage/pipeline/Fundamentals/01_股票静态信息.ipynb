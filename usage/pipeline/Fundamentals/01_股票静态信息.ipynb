{
 "cells": [
  {
   "cell_type": "code",
   "execution_count": 1,
   "metadata": {
    "ExecuteTime": {
     "end_time": "2019-07-09T01:11:01.441872Z",
     "start_time": "2019-07-09T01:10:59.020523Z"
    }
   },
   "outputs": [],
   "source": [
    "from zipline.pipeline import Pipeline\n",
    "from zipline.research import run_pipeline,symbols,symbol\n",
    "from zipline.pipeline.fundamentals import Fundamentals"
   ]
  },
  {
   "cell_type": "markdown",
   "metadata": {},
   "source": [
    "# 列信息"
   ]
  },
  {
   "cell_type": "code",
   "execution_count": 2,
   "metadata": {
    "ExecuteTime": {
     "end_time": "2019-07-09T01:11:01.613411Z",
     "start_time": "2019-07-09T01:11:01.442867Z"
    }
   },
   "outputs": [],
   "source": [
    "Fundamentals.info.columns"
   ]
  },
  {
   "cell_type": "markdown",
   "metadata": {},
   "source": [
    "# 注册资本"
   ]
  },
  {
   "cell_type": "code",
   "execution_count": 3,
   "metadata": {
    "ExecuteTime": {
     "end_time": "2019-07-09T01:11:01.614408Z",
     "start_time": "2019-07-09T01:10:58.885Z"
    }
   },
   "outputs": [
    {
     "output_type": "execute_result",
     "data": {
      "text/plain": "                                                  注册资本  注册资本十分位数\ndate                      asset                                 \n2018-01-10 00:00:00+00:00 洛阳钼业(603993)   431984.812500         9\n                          *ST中新(603996)   30015.000000         2\n                          继峰股份(603997)   102360.289062         6\n                          方盛制药(603998)    43384.472656         3\n                          读者传媒(603999)    57600.000000         4",
      "text/html": "<div>\n<style scoped>\n    .dataframe tbody tr th:only-of-type {\n        vertical-align: middle;\n    }\n\n    .dataframe tbody tr th {\n        vertical-align: top;\n    }\n\n    .dataframe thead th {\n        text-align: right;\n    }\n</style>\n<table border=\"1\" class=\"dataframe\">\n  <thead>\n    <tr style=\"text-align: right;\">\n      <th></th>\n      <th></th>\n      <th>注册资本</th>\n      <th>注册资本十分位数</th>\n    </tr>\n    <tr>\n      <th>date</th>\n      <th>asset</th>\n      <th></th>\n      <th></th>\n    </tr>\n  </thead>\n  <tbody>\n    <tr>\n      <th rowspan=\"5\" valign=\"top\">2018-01-10 00:00:00+00:00</th>\n      <th>洛阳钼业(603993)</th>\n      <td>431984.812500</td>\n      <td>9</td>\n    </tr>\n    <tr>\n      <th>*ST中新(603996)</th>\n      <td>30015.000000</td>\n      <td>2</td>\n    </tr>\n    <tr>\n      <th>继峰股份(603997)</th>\n      <td>102360.289062</td>\n      <td>6</td>\n    </tr>\n    <tr>\n      <th>方盛制药(603998)</th>\n      <td>43384.472656</td>\n      <td>3</td>\n    </tr>\n    <tr>\n      <th>读者传媒(603999)</th>\n      <td>57600.000000</td>\n      <td>4</td>\n    </tr>\n  </tbody>\n</table>\n</div>"
     },
     "metadata": {},
     "execution_count": 3
    }
   ],
   "source": [
    "def make_pipeline():\n",
    "    return Pipeline(columns={\n",
    "        '注册资本': Fundamentals.info.注册资本.latest,\n",
    "        '注册资本十分位数': Fundamentals.info.注册资本十分位数.latest,\n",
    "    })\n",
    "\n",
    "data_output = run_pipeline(\n",
    "    make_pipeline(),\n",
    "    start_date='2018-01-10',\n",
    "    end_date='2018-01-10'\n",
    ")\n",
    "\n",
    "data_output.tail()"
   ]
  },
  {
   "cell_type": "markdown",
   "metadata": {},
   "source": [
    "# 部门及超级部门"
   ]
  },
  {
   "cell_type": "code",
   "execution_count": 15,
   "metadata": {
    "ExecuteTime": {
     "end_time": "2019-07-09T01:11:01.614408Z",
     "start_time": "2019-07-09T01:10:58.890Z"
    }
   },
   "outputs": [
    {
     "output_type": "execute_result",
     "data": {
      "text/plain": "                                          部门  超级部门\ndate                      asset                   \n2018-01-10 00:00:00+00:00 洛阳钼业(603993)   101     1\n                          *ST中新(603996)  205     2\n                          继峰股份(603997)   205     2\n                          方盛制药(603998)   206     2\n                          读者传媒(603999)   205     2",
      "text/html": "<div>\n<style scoped>\n    .dataframe tbody tr th:only-of-type {\n        vertical-align: middle;\n    }\n\n    .dataframe tbody tr th {\n        vertical-align: top;\n    }\n\n    .dataframe thead th {\n        text-align: right;\n    }\n</style>\n<table border=\"1\" class=\"dataframe\">\n  <thead>\n    <tr style=\"text-align: right;\">\n      <th></th>\n      <th></th>\n      <th>部门</th>\n      <th>超级部门</th>\n    </tr>\n    <tr>\n      <th>date</th>\n      <th>asset</th>\n      <th></th>\n      <th></th>\n    </tr>\n  </thead>\n  <tbody>\n    <tr>\n      <th rowspan=\"5\" valign=\"top\">2018-01-10 00:00:00+00:00</th>\n      <th>洛阳钼业(603993)</th>\n      <td>101</td>\n      <td>1</td>\n    </tr>\n    <tr>\n      <th>*ST中新(603996)</th>\n      <td>205</td>\n      <td>2</td>\n    </tr>\n    <tr>\n      <th>继峰股份(603997)</th>\n      <td>205</td>\n      <td>2</td>\n    </tr>\n    <tr>\n      <th>方盛制药(603998)</th>\n      <td>206</td>\n      <td>2</td>\n    </tr>\n    <tr>\n      <th>读者传媒(603999)</th>\n      <td>205</td>\n      <td>2</td>\n    </tr>\n  </tbody>\n</table>\n</div>"
     },
     "metadata": {},
     "execution_count": 15
    }
   ],
   "source": [
    "def make_pipeline():\n",
    "    return Pipeline(columns={\n",
    "        '部门': Fundamentals.info.sector_code.latest,\n",
    "        '超级部门': Fundamentals.info.super_sector_code.latest,\n",
    "    })\n",
    "\n",
    "data_output = run_pipeline(\n",
    "    make_pipeline(),\n",
    "    start_date='2018-01-10',\n",
    "    end_date='2018-01-10'\n",
    ")\n",
    "\n",
    "data_output.tail()"
   ]
  },
  {
   "cell_type": "markdown",
   "metadata": {},
   "source": [
    "# 上市日期"
   ]
  },
  {
   "cell_type": "code",
   "execution_count": 21,
   "metadata": {
    "ExecuteTime": {
     "end_time": "2019-07-09T01:11:01.615405Z",
     "start_time": "2019-07-09T01:10:58.893Z"
    }
   },
   "outputs": [
    {
     "output_type": "execute_result",
     "data": {
      "text/plain": "                                         上市日期\ndate                                         \n2018-01-02 00:00:00+00:00 2013-09-17 08:00:00\n2018-01-03 00:00:00+00:00 2013-09-17 08:00:00\n2018-01-04 00:00:00+00:00 2013-09-17 08:00:00\n2018-01-05 00:00:00+00:00 2013-09-17 08:00:00\n2018-01-08 00:00:00+00:00 2013-09-17 08:00:00\n2018-01-09 00:00:00+00:00 2013-09-17 08:00:00\n2018-01-10 00:00:00+00:00 2013-09-17 08:00:00",
      "text/html": "<div>\n<style scoped>\n    .dataframe tbody tr th:only-of-type {\n        vertical-align: middle;\n    }\n\n    .dataframe tbody tr th {\n        vertical-align: top;\n    }\n\n    .dataframe thead th {\n        text-align: right;\n    }\n</style>\n<table border=\"1\" class=\"dataframe\">\n  <thead>\n    <tr style=\"text-align: right;\">\n      <th></th>\n      <th>上市日期</th>\n    </tr>\n    <tr>\n      <th>date</th>\n      <th></th>\n    </tr>\n  </thead>\n  <tbody>\n    <tr>\n      <th>2018-01-02 00:00:00+00:00</th>\n      <td>2013-09-17 08:00:00</td>\n    </tr>\n    <tr>\n      <th>2018-01-03 00:00:00+00:00</th>\n      <td>2013-09-17 08:00:00</td>\n    </tr>\n    <tr>\n      <th>2018-01-04 00:00:00+00:00</th>\n      <td>2013-09-17 08:00:00</td>\n    </tr>\n    <tr>\n      <th>2018-01-05 00:00:00+00:00</th>\n      <td>2013-09-17 08:00:00</td>\n    </tr>\n    <tr>\n      <th>2018-01-08 00:00:00+00:00</th>\n      <td>2013-09-17 08:00:00</td>\n    </tr>\n    <tr>\n      <th>2018-01-09 00:00:00+00:00</th>\n      <td>2013-09-17 08:00:00</td>\n    </tr>\n    <tr>\n      <th>2018-01-10 00:00:00+00:00</th>\n      <td>2013-09-17 08:00:00</td>\n    </tr>\n  </tbody>\n</table>\n</div>"
     },
     "metadata": {},
     "execution_count": 21
    }
   ],
   "source": [
    "# 1993-05-04\n",
    "def make_pipeline():\n",
    "    return Pipeline(columns={\n",
    "        '上市日期': Fundamentals.info.上市日期.latest,\n",
    "    })\n",
    "\n",
    "data_output = run_pipeline(\n",
    "    make_pipeline(),\n",
    "    start_date='2018-01-01',\n",
    "    end_date='2018-01-10'\n",
    ")\n",
    "\n",
    "data_output.xs(symbol(333), level=1)"
   ]
  },
  {
   "cell_type": "markdown",
   "metadata": {},
   "source": [
    "# 行业分类\n",
    "\n",
    "行业分类静态化，数据为最新行业分类。"
   ]
  },
  {
   "cell_type": "markdown",
   "metadata": {},
   "source": [
    "## 证监会行业分类"
   ]
  },
  {
   "cell_type": "code",
   "execution_count": 23,
   "metadata": {
    "ExecuteTime": {
     "end_time": "2019-07-09T01:11:01.616403Z",
     "start_time": "2019-07-09T01:10:58.895Z"
    }
   },
   "outputs": [
    {
     "output_type": "execute_result",
     "data": {
      "text/plain": "                                           证监会一级行业           证监会二级行业\ndate                      asset                                     \n2018-01-10 00:00:00+00:00 洛阳钼业(603993)         采矿业          有色金属矿采选业\n                          *ST中新(603996)        制造业  计算机、通信和其他电子设备制造业\n                          继峰股份(603997)         制造业             汽车制造业\n                          方盛制药(603998)         制造业             医药制造业\n                          读者传媒(603999)   文化、体育和娱乐业            新闻和出版业",
      "text/html": "<div>\n<style scoped>\n    .dataframe tbody tr th:only-of-type {\n        vertical-align: middle;\n    }\n\n    .dataframe tbody tr th {\n        vertical-align: top;\n    }\n\n    .dataframe thead th {\n        text-align: right;\n    }\n</style>\n<table border=\"1\" class=\"dataframe\">\n  <thead>\n    <tr style=\"text-align: right;\">\n      <th></th>\n      <th></th>\n      <th>证监会一级行业</th>\n      <th>证监会二级行业</th>\n    </tr>\n    <tr>\n      <th>date</th>\n      <th>asset</th>\n      <th></th>\n      <th></th>\n    </tr>\n  </thead>\n  <tbody>\n    <tr>\n      <th rowspan=\"5\" valign=\"top\">2018-01-10 00:00:00+00:00</th>\n      <th>洛阳钼业(603993)</th>\n      <td>采矿业</td>\n      <td>有色金属矿采选业</td>\n    </tr>\n    <tr>\n      <th>*ST中新(603996)</th>\n      <td>制造业</td>\n      <td>计算机、通信和其他电子设备制造业</td>\n    </tr>\n    <tr>\n      <th>继峰股份(603997)</th>\n      <td>制造业</td>\n      <td>汽车制造业</td>\n    </tr>\n    <tr>\n      <th>方盛制药(603998)</th>\n      <td>制造业</td>\n      <td>医药制造业</td>\n    </tr>\n    <tr>\n      <th>读者传媒(603999)</th>\n      <td>文化、体育和娱乐业</td>\n      <td>新闻和出版业</td>\n    </tr>\n  </tbody>\n</table>\n</div>"
     },
     "metadata": {},
     "execution_count": 23
    }
   ],
   "source": [
    "def make_pipeline():\n",
    "    return Pipeline(columns={\n",
    "        '证监会一级行业': Fundamentals.info.证监会一级行业名称.latest,\n",
    "        '证监会二级行业': Fundamentals.info.证监会二级行业名称.latest,\n",
    "    })\n",
    "\n",
    "data_output = run_pipeline(\n",
    "    make_pipeline(),\n",
    "    start_date='2018-01-10',\n",
    "    end_date='2018-01-10'\n",
    ")\n",
    "\n",
    "data_output.tail()"
   ]
  },
  {
   "cell_type": "markdown",
   "metadata": {},
   "source": [
    "## 申万行业分类"
   ]
  },
  {
   "cell_type": "code",
   "execution_count": 25,
   "metadata": {
    "ExecuteTime": {
     "end_time": "2019-07-09T01:11:01.616403Z",
     "start_time": "2019-07-09T01:10:58.900Z"
    }
   },
   "outputs": [
    {
     "output_type": "execute_result",
     "data": {
      "text/plain": "                                        申万一级行业 申万二级行业   申万三级行业\ndate                      asset                               \n2018-01-10 00:00:00+00:00 洛阳钼业(603993)    有色金属   稀有金属  其他稀有小金属\n                          *ST中新(603996)   家用电器   视听器材       彩电\n                          继峰股份(603997)      汽车  汽车零部件    汽车零部件\n                          方盛制药(603998)    医药生物     中药       中药\n                          读者传媒(603999)      传媒   文化传媒     平面媒体",
      "text/html": "<div>\n<style scoped>\n    .dataframe tbody tr th:only-of-type {\n        vertical-align: middle;\n    }\n\n    .dataframe tbody tr th {\n        vertical-align: top;\n    }\n\n    .dataframe thead th {\n        text-align: right;\n    }\n</style>\n<table border=\"1\" class=\"dataframe\">\n  <thead>\n    <tr style=\"text-align: right;\">\n      <th></th>\n      <th></th>\n      <th>申万一级行业</th>\n      <th>申万二级行业</th>\n      <th>申万三级行业</th>\n    </tr>\n    <tr>\n      <th>date</th>\n      <th>asset</th>\n      <th></th>\n      <th></th>\n      <th></th>\n    </tr>\n  </thead>\n  <tbody>\n    <tr>\n      <th rowspan=\"5\" valign=\"top\">2018-01-10 00:00:00+00:00</th>\n      <th>洛阳钼业(603993)</th>\n      <td>有色金属</td>\n      <td>稀有金属</td>\n      <td>其他稀有小金属</td>\n    </tr>\n    <tr>\n      <th>*ST中新(603996)</th>\n      <td>家用电器</td>\n      <td>视听器材</td>\n      <td>彩电</td>\n    </tr>\n    <tr>\n      <th>继峰股份(603997)</th>\n      <td>汽车</td>\n      <td>汽车零部件</td>\n      <td>汽车零部件</td>\n    </tr>\n    <tr>\n      <th>方盛制药(603998)</th>\n      <td>医药生物</td>\n      <td>中药</td>\n      <td>中药</td>\n    </tr>\n    <tr>\n      <th>读者传媒(603999)</th>\n      <td>传媒</td>\n      <td>文化传媒</td>\n      <td>平面媒体</td>\n    </tr>\n  </tbody>\n</table>\n</div>"
     },
     "metadata": {},
     "execution_count": 25
    }
   ],
   "source": [
    "def make_pipeline():\n",
    "    return Pipeline(columns={\n",
    "        '申万一级行业': Fundamentals.info.申万行业一级名称.latest,\n",
    "        '申万二级行业': Fundamentals.info.申万行业二级名称.latest,\n",
    "        '申万三级行业': Fundamentals.info.申万行业三级名称.latest,\n",
    "    })\n",
    "\n",
    "data_output = run_pipeline(\n",
    "    make_pipeline(),\n",
    "    start_date='2018-01-10',\n",
    "    end_date='2018-01-10'\n",
    ")\n",
    "\n",
    "data_output.tail()"
   ]
  },
  {
   "cell_type": "markdown",
   "metadata": {},
   "source": [
    "## 国证行业分类"
   ]
  },
  {
   "cell_type": "code",
   "execution_count": 26,
   "metadata": {
    "ExecuteTime": {
     "end_time": "2019-07-09T01:11:01.617400Z",
     "start_time": "2019-07-09T01:10:58.903Z"
    }
   },
   "outputs": [
    {
     "output_type": "execute_result",
     "data": {
      "text/plain": "                                        国证一级行业    国证二级行业    国证三级行业 国证四级行业\ndate                      asset                                          \n2018-01-10 00:00:00+00:00 洛阳钼业(603993)     原材料      基础材料      有色金属   稀有金属\n                          *ST中新(603996)   可选消费     耐用消费品      家用电器   视听器材\n                          继峰股份(603997)    可选消费  汽车与汽车零配件  汽车零配件与设备  汽车零配件\n                          方盛制药(603998)    医药卫生        制药      化学制剂   化学制剂\n                          读者传媒(603999)    可选消费        传媒        传媒     出版",
      "text/html": "<div>\n<style scoped>\n    .dataframe tbody tr th:only-of-type {\n        vertical-align: middle;\n    }\n\n    .dataframe tbody tr th {\n        vertical-align: top;\n    }\n\n    .dataframe thead th {\n        text-align: right;\n    }\n</style>\n<table border=\"1\" class=\"dataframe\">\n  <thead>\n    <tr style=\"text-align: right;\">\n      <th></th>\n      <th></th>\n      <th>国证一级行业</th>\n      <th>国证二级行业</th>\n      <th>国证三级行业</th>\n      <th>国证四级行业</th>\n    </tr>\n    <tr>\n      <th>date</th>\n      <th>asset</th>\n      <th></th>\n      <th></th>\n      <th></th>\n      <th></th>\n    </tr>\n  </thead>\n  <tbody>\n    <tr>\n      <th rowspan=\"5\" valign=\"top\">2018-01-10 00:00:00+00:00</th>\n      <th>洛阳钼业(603993)</th>\n      <td>原材料</td>\n      <td>基础材料</td>\n      <td>有色金属</td>\n      <td>稀有金属</td>\n    </tr>\n    <tr>\n      <th>*ST中新(603996)</th>\n      <td>可选消费</td>\n      <td>耐用消费品</td>\n      <td>家用电器</td>\n      <td>视听器材</td>\n    </tr>\n    <tr>\n      <th>继峰股份(603997)</th>\n      <td>可选消费</td>\n      <td>汽车与汽车零配件</td>\n      <td>汽车零配件与设备</td>\n      <td>汽车零配件</td>\n    </tr>\n    <tr>\n      <th>方盛制药(603998)</th>\n      <td>医药卫生</td>\n      <td>制药</td>\n      <td>化学制剂</td>\n      <td>化学制剂</td>\n    </tr>\n    <tr>\n      <th>读者传媒(603999)</th>\n      <td>可选消费</td>\n      <td>传媒</td>\n      <td>传媒</td>\n      <td>出版</td>\n    </tr>\n  </tbody>\n</table>\n</div>"
     },
     "metadata": {},
     "execution_count": 26
    }
   ],
   "source": [
    "def make_pipeline():\n",
    "    return Pipeline(columns={\n",
    "        '国证一级行业': Fundamentals.info.国证一级行业.latest,\n",
    "        '国证二级行业': Fundamentals.info.国证二级行业.latest,\n",
    "        '国证三级行业': Fundamentals.info.国证三级行业.latest,\n",
    "        '国证四级行业': Fundamentals.info.国证四级行业.latest,\n",
    "    })\n",
    "\n",
    "data_output = run_pipeline(\n",
    "    make_pipeline(),\n",
    "    start_date='2018-01-10',\n",
    "    end_date='2018-01-10'\n",
    ")\n",
    "\n",
    "data_output.tail()"
   ]
  },
  {
   "cell_type": "markdown",
   "metadata": {},
   "source": [
    "# 地区分类"
   ]
  },
  {
   "cell_type": "code",
   "execution_count": 27,
   "metadata": {
    "ExecuteTime": {
     "end_time": "2019-07-09T01:11:01.617400Z",
     "start_time": "2019-07-09T01:10:58.905Z"
    }
   },
   "outputs": [
    {
     "output_type": "execute_result",
     "data": {
      "text/plain": "                                         省份   城市\ndate                      asset                 \n2018-01-10 00:00:00+00:00 洛阳钼业(603993)   河南  洛阳市\n                          *ST中新(603996)  浙江  台州市\n                          继峰股份(603997)   浙江  宁波市\n                          方盛制药(603998)   湖南  长沙市\n                          读者传媒(603999)   甘肃  兰州市",
      "text/html": "<div>\n<style scoped>\n    .dataframe tbody tr th:only-of-type {\n        vertical-align: middle;\n    }\n\n    .dataframe tbody tr th {\n        vertical-align: top;\n    }\n\n    .dataframe thead th {\n        text-align: right;\n    }\n</style>\n<table border=\"1\" class=\"dataframe\">\n  <thead>\n    <tr style=\"text-align: right;\">\n      <th></th>\n      <th></th>\n      <th>省份</th>\n      <th>城市</th>\n    </tr>\n    <tr>\n      <th>date</th>\n      <th>asset</th>\n      <th></th>\n      <th></th>\n    </tr>\n  </thead>\n  <tbody>\n    <tr>\n      <th rowspan=\"5\" valign=\"top\">2018-01-10 00:00:00+00:00</th>\n      <th>洛阳钼业(603993)</th>\n      <td>河南</td>\n      <td>洛阳市</td>\n    </tr>\n    <tr>\n      <th>*ST中新(603996)</th>\n      <td>浙江</td>\n      <td>台州市</td>\n    </tr>\n    <tr>\n      <th>继峰股份(603997)</th>\n      <td>浙江</td>\n      <td>宁波市</td>\n    </tr>\n    <tr>\n      <th>方盛制药(603998)</th>\n      <td>湖南</td>\n      <td>长沙市</td>\n    </tr>\n    <tr>\n      <th>读者传媒(603999)</th>\n      <td>甘肃</td>\n      <td>兰州市</td>\n    </tr>\n  </tbody>\n</table>\n</div>"
     },
     "metadata": {},
     "execution_count": 27
    }
   ],
   "source": [
    "def make_pipeline():\n",
    "    return Pipeline(columns={\n",
    "        '省份': Fundamentals.info.省份.latest,\n",
    "        '城市': Fundamentals.info.城市.latest,\n",
    "    })\n",
    "\n",
    "data_output = run_pipeline(\n",
    "    make_pipeline(),\n",
    "    start_date='2018-01-10',\n",
    "    end_date='2018-01-10'\n",
    ")\n",
    "\n",
    "data_output.tail()"
   ]
  },
  {
   "cell_type": "markdown",
   "metadata": {},
   "source": [
    "# 股票概念"
   ]
  },
  {
   "cell_type": "markdown",
   "metadata": {},
   "source": [
    "## 映射表"
   ]
  },
  {
   "cell_type": "code",
   "execution_count": 28,
   "metadata": {
    "ExecuteTime": {
     "end_time": "2019-07-09T01:11:01.618398Z",
     "start_time": "2019-07-09T01:10:58.908Z"
    }
   },
   "outputs": [
    {
     "output_type": "error",
     "ename": "KeyError",
     "evalue": "'概念'",
     "traceback": [
      "\u001b[1;31m---------------------------------------------------------------------------\u001b[0m",
      "\u001b[1;31mKeyError\u001b[0m                                  Traceback (most recent call last)",
      "\u001b[1;32m~\\anaconda3\\envs\\zipline\\lib\\site-packages\\trading_calendars\\utils\\memoize.py\u001b[0m in \u001b[0;36m__get__\u001b[1;34m(self, instance, owner)\u001b[0m\n\u001b[0;32m     46\u001b[0m         \u001b[1;32mtry\u001b[0m\u001b[1;33m:\u001b[0m\u001b[1;33m\u001b[0m\u001b[1;33m\u001b[0m\u001b[0m\n\u001b[1;32m---> 47\u001b[1;33m             \u001b[1;32mreturn\u001b[0m \u001b[0mself\u001b[0m\u001b[1;33m.\u001b[0m\u001b[0m_cache\u001b[0m\u001b[1;33m[\u001b[0m\u001b[0minstance\u001b[0m\u001b[1;33m]\u001b[0m\u001b[1;33m\u001b[0m\u001b[1;33m\u001b[0m\u001b[0m\n\u001b[0m\u001b[0;32m     48\u001b[0m         \u001b[1;32mexcept\u001b[0m \u001b[0mKeyError\u001b[0m\u001b[1;33m:\u001b[0m\u001b[1;33m\u001b[0m\u001b[1;33m\u001b[0m\u001b[0m\n",
      "\u001b[1;32m~\\anaconda3\\envs\\zipline\\lib\\weakref.py\u001b[0m in \u001b[0;36m__getitem__\u001b[1;34m(self, key)\u001b[0m\n\u001b[0;32m    395\u001b[0m     \u001b[1;32mdef\u001b[0m \u001b[0m__getitem__\u001b[0m\u001b[1;33m(\u001b[0m\u001b[0mself\u001b[0m\u001b[1;33m,\u001b[0m \u001b[0mkey\u001b[0m\u001b[1;33m)\u001b[0m\u001b[1;33m:\u001b[0m\u001b[1;33m\u001b[0m\u001b[1;33m\u001b[0m\u001b[0m\n\u001b[1;32m--> 396\u001b[1;33m         \u001b[1;32mreturn\u001b[0m \u001b[0mself\u001b[0m\u001b[1;33m.\u001b[0m\u001b[0mdata\u001b[0m\u001b[1;33m[\u001b[0m\u001b[0mref\u001b[0m\u001b[1;33m(\u001b[0m\u001b[0mkey\u001b[0m\u001b[1;33m)\u001b[0m\u001b[1;33m]\u001b[0m\u001b[1;33m\u001b[0m\u001b[1;33m\u001b[0m\u001b[0m\n\u001b[0m\u001b[0;32m    397\u001b[0m \u001b[1;33m\u001b[0m\u001b[0m\n",
      "\u001b[1;31mKeyError\u001b[0m: <weakref at 0x000002253B9AB228; to 'type' at 0x0000022539B98368 (Fundamentals)>",
      "\nDuring handling of the above exception, another exception occurred:\n",
      "\u001b[1;31mKeyError\u001b[0m                                  Traceback (most recent call last)",
      "\u001b[1;32m<ipython-input-28-f2df9f8caae3>\u001b[0m in \u001b[0;36m<module>\u001b[1;34m\u001b[0m\n\u001b[1;32m----> 1\u001b[1;33m \u001b[0mFundamentals\u001b[0m\u001b[1;33m.\u001b[0m\u001b[0mconcept_maps\u001b[0m\u001b[1;33m\u001b[0m\u001b[1;33m\u001b[0m\u001b[0m\n\u001b[0m",
      "\u001b[1;32mc:\\users\\liude\\repos\\zipline\\zipline\\utils\\memoize.py\u001b[0m in \u001b[0;36m__get__\u001b[1;34m(self, instance, owner)\u001b[0m\n\u001b[0;32m     39\u001b[0m     \u001b[1;31m# descriptor.\u001b[0m\u001b[1;33m\u001b[0m\u001b[1;33m\u001b[0m\u001b[1;33m\u001b[0m\u001b[0m\n\u001b[0;32m     40\u001b[0m     \u001b[1;32mdef\u001b[0m \u001b[0m__get__\u001b[0m\u001b[1;33m(\u001b[0m\u001b[0mself\u001b[0m\u001b[1;33m,\u001b[0m \u001b[0minstance\u001b[0m\u001b[1;33m,\u001b[0m \u001b[0mowner\u001b[0m\u001b[1;33m)\u001b[0m\u001b[1;33m:\u001b[0m\u001b[1;33m\u001b[0m\u001b[1;33m\u001b[0m\u001b[0m\n\u001b[1;32m---> 41\u001b[1;33m         \u001b[1;32mreturn\u001b[0m \u001b[0msuper\u001b[0m\u001b[1;33m(\u001b[0m\u001b[0mclasslazyval\u001b[0m\u001b[1;33m,\u001b[0m \u001b[0mself\u001b[0m\u001b[1;33m)\u001b[0m\u001b[1;33m.\u001b[0m\u001b[0m__get__\u001b[0m\u001b[1;33m(\u001b[0m\u001b[0mowner\u001b[0m\u001b[1;33m,\u001b[0m \u001b[0mowner\u001b[0m\u001b[1;33m)\u001b[0m\u001b[1;33m\u001b[0m\u001b[1;33m\u001b[0m\u001b[0m\n\u001b[0m\u001b[0;32m     42\u001b[0m \u001b[1;33m\u001b[0m\u001b[0m\n\u001b[0;32m     43\u001b[0m \u001b[1;33m\u001b[0m\u001b[0m\n",
      "\u001b[1;32m~\\anaconda3\\envs\\zipline\\lib\\site-packages\\trading_calendars\\utils\\memoize.py\u001b[0m in \u001b[0;36m__get__\u001b[1;34m(self, instance, owner)\u001b[0m\n\u001b[0;32m     47\u001b[0m             \u001b[1;32mreturn\u001b[0m \u001b[0mself\u001b[0m\u001b[1;33m.\u001b[0m\u001b[0m_cache\u001b[0m\u001b[1;33m[\u001b[0m\u001b[0minstance\u001b[0m\u001b[1;33m]\u001b[0m\u001b[1;33m\u001b[0m\u001b[1;33m\u001b[0m\u001b[0m\n\u001b[0;32m     48\u001b[0m         \u001b[1;32mexcept\u001b[0m \u001b[0mKeyError\u001b[0m\u001b[1;33m:\u001b[0m\u001b[1;33m\u001b[0m\u001b[1;33m\u001b[0m\u001b[0m\n\u001b[1;32m---> 49\u001b[1;33m             \u001b[0mself\u001b[0m\u001b[1;33m.\u001b[0m\u001b[0m_cache\u001b[0m\u001b[1;33m[\u001b[0m\u001b[0minstance\u001b[0m\u001b[1;33m]\u001b[0m \u001b[1;33m=\u001b[0m \u001b[0mval\u001b[0m \u001b[1;33m=\u001b[0m \u001b[0mself\u001b[0m\u001b[1;33m.\u001b[0m\u001b[0m_get\u001b[0m\u001b[1;33m(\u001b[0m\u001b[0minstance\u001b[0m\u001b[1;33m)\u001b[0m\u001b[1;33m\u001b[0m\u001b[1;33m\u001b[0m\u001b[0m\n\u001b[0m\u001b[0;32m     50\u001b[0m             \u001b[1;32mreturn\u001b[0m \u001b[0mval\u001b[0m\u001b[1;33m\u001b[0m\u001b[1;33m\u001b[0m\u001b[0m\n\u001b[0;32m     51\u001b[0m \u001b[1;33m\u001b[0m\u001b[0m\n",
      "\u001b[1;32mc:\\users\\liude\\repos\\zipline\\zipline\\pipeline\\fundamentals\\reader.py\u001b[0m in \u001b[0;36mconcept_maps\u001b[1;34m(self)\u001b[0m\n\u001b[0;32m    103\u001b[0m     \u001b[1;33m@\u001b[0m\u001b[0mclasslazyval\u001b[0m\u001b[1;33m\u001b[0m\u001b[1;33m\u001b[0m\u001b[0m\n\u001b[0;32m    104\u001b[0m     \u001b[1;32mdef\u001b[0m \u001b[0mconcept_maps\u001b[0m\u001b[1;33m(\u001b[0m\u001b[0mself\u001b[0m\u001b[1;33m)\u001b[0m\u001b[1;33m:\u001b[0m\u001b[1;33m\u001b[0m\u001b[1;33m\u001b[0m\u001b[0m\n\u001b[1;32m--> 105\u001b[1;33m         \u001b[1;32mreturn\u001b[0m \u001b[0mquery_maps\u001b[0m\u001b[1;33m(\u001b[0m\u001b[1;34m'infoes'\u001b[0m\u001b[1;33m,\u001b[0m \u001b[1;34m'概念'\u001b[0m\u001b[1;33m)\u001b[0m\u001b[1;33m\u001b[0m\u001b[1;33m\u001b[0m\u001b[0m\n\u001b[0m\u001b[0;32m    106\u001b[0m \u001b[1;33m\u001b[0m\u001b[0m\n\u001b[0;32m    107\u001b[0m     \u001b[1;33m@\u001b[0m\u001b[0mstaticmethod\u001b[0m\u001b[1;33m\u001b[0m\u001b[1;33m\u001b[0m\u001b[0m\n",
      "\u001b[1;32mc:\\users\\liude\\repos\\zipline\\zipline\\pipeline\\fundamentals\\reader.py\u001b[0m in \u001b[0;36mquery_maps\u001b[1;34m(table_name, attr_name, key_to_int)\u001b[0m\n\u001b[0;32m     69\u001b[0m     \u001b[0mrootdir\u001b[0m \u001b[1;33m=\u001b[0m \u001b[0mbcolz_table_path\u001b[0m\u001b[1;33m(\u001b[0m\u001b[0mtable_name\u001b[0m\u001b[1;33m)\u001b[0m\u001b[1;33m\u001b[0m\u001b[1;33m\u001b[0m\u001b[0m\n\u001b[0;32m     70\u001b[0m     \u001b[0mct\u001b[0m \u001b[1;33m=\u001b[0m \u001b[0mbcolz\u001b[0m\u001b[1;33m.\u001b[0m\u001b[0mopen\u001b[0m\u001b[1;33m(\u001b[0m\u001b[0mrootdir\u001b[0m\u001b[1;33m)\u001b[0m\u001b[1;33m\u001b[0m\u001b[1;33m\u001b[0m\u001b[0m\n\u001b[1;32m---> 71\u001b[1;33m     \u001b[0md\u001b[0m \u001b[1;33m=\u001b[0m \u001b[0mct\u001b[0m\u001b[1;33m.\u001b[0m\u001b[0mattrs\u001b[0m\u001b[1;33m[\u001b[0m\u001b[0mattr_name\u001b[0m\u001b[1;33m]\u001b[0m\u001b[1;33m\u001b[0m\u001b[1;33m\u001b[0m\u001b[0m\n\u001b[0m\u001b[0;32m     72\u001b[0m     \u001b[1;32mif\u001b[0m \u001b[0mkey_to_int\u001b[0m\u001b[1;33m:\u001b[0m\u001b[1;33m\u001b[0m\u001b[1;33m\u001b[0m\u001b[0m\n\u001b[0;32m     73\u001b[0m         \u001b[1;32mreturn\u001b[0m \u001b[1;33m{\u001b[0m\u001b[0mint\u001b[0m\u001b[1;33m(\u001b[0m\u001b[0mk\u001b[0m\u001b[1;33m)\u001b[0m\u001b[1;33m:\u001b[0m \u001b[0mv\u001b[0m \u001b[1;32mfor\u001b[0m \u001b[0mk\u001b[0m\u001b[1;33m,\u001b[0m \u001b[0mv\u001b[0m \u001b[1;32min\u001b[0m \u001b[0md\u001b[0m\u001b[1;33m.\u001b[0m\u001b[0mitems\u001b[0m\u001b[1;33m(\u001b[0m\u001b[1;33m)\u001b[0m\u001b[1;33m}\u001b[0m\u001b[1;33m\u001b[0m\u001b[1;33m\u001b[0m\u001b[0m\n",
      "\u001b[1;32m~\\anaconda3\\envs\\zipline\\lib\\site-packages\\bcolz\\attrs.py\u001b[0m in \u001b[0;36m__getitem__\u001b[1;34m(self, name)\u001b[0m\n\u001b[0;32m     93\u001b[0m \u001b[1;33m\u001b[0m\u001b[0m\n\u001b[0;32m     94\u001b[0m     \u001b[1;32mdef\u001b[0m \u001b[0m__getitem__\u001b[0m\u001b[1;33m(\u001b[0m\u001b[0mself\u001b[0m\u001b[1;33m,\u001b[0m \u001b[0mname\u001b[0m\u001b[1;33m)\u001b[0m\u001b[1;33m:\u001b[0m\u001b[1;33m\u001b[0m\u001b[1;33m\u001b[0m\u001b[0m\n\u001b[1;32m---> 95\u001b[1;33m         \u001b[1;32mreturn\u001b[0m \u001b[0mself\u001b[0m\u001b[1;33m.\u001b[0m\u001b[0mattrs\u001b[0m\u001b[1;33m[\u001b[0m\u001b[0mname\u001b[0m\u001b[1;33m]\u001b[0m\u001b[1;33m\u001b[0m\u001b[1;33m\u001b[0m\u001b[0m\n\u001b[0m\u001b[0;32m     96\u001b[0m \u001b[1;33m\u001b[0m\u001b[0m\n\u001b[0;32m     97\u001b[0m     \u001b[1;32mdef\u001b[0m \u001b[0m__setitem__\u001b[0m\u001b[1;33m(\u001b[0m\u001b[0mself\u001b[0m\u001b[1;33m,\u001b[0m \u001b[0mname\u001b[0m\u001b[1;33m,\u001b[0m \u001b[0mobj\u001b[0m\u001b[1;33m)\u001b[0m\u001b[1;33m:\u001b[0m\u001b[1;33m\u001b[0m\u001b[1;33m\u001b[0m\u001b[0m\n",
      "\u001b[1;31mKeyError\u001b[0m: '概念'"
     ]
    }
   ],
   "source": [
    "Fundamentals.concept_maps"
   ]
  },
  {
   "cell_type": "markdown",
   "metadata": {},
   "source": [
    "## 查询概念名称"
   ]
  },
  {
   "cell_type": "code",
   "execution_count": 29,
   "metadata": {
    "ExecuteTime": {
     "end_time": "2019-07-09T01:11:01.619395Z",
     "start_time": "2019-07-09T01:10:58.911Z"
    }
   },
   "outputs": [
    {
     "output_type": "error",
     "ename": "KeyError",
     "evalue": "'概念'",
     "traceback": [
      "\u001b[1;31m---------------------------------------------------------------------------\u001b[0m",
      "\u001b[1;31mKeyError\u001b[0m                                  Traceback (most recent call last)",
      "\u001b[1;32m<ipython-input-29-f291bf0843f6>\u001b[0m in \u001b[0;36m<module>\u001b[1;34m\u001b[0m\n\u001b[1;32m----> 1\u001b[1;33m \u001b[0mFundamentals\u001b[0m\u001b[1;33m.\u001b[0m\u001b[0mconcept_col_name\u001b[0m\u001b[1;33m(\u001b[0m\u001b[1;34m'A270'\u001b[0m\u001b[1;33m)\u001b[0m\u001b[1;33m\u001b[0m\u001b[1;33m\u001b[0m\u001b[0m\n\u001b[0m",
      "\u001b[1;32mc:\\users\\liude\\repos\\zipline\\zipline\\pipeline\\fundamentals\\reader.py\u001b[0m in \u001b[0;36mconcept_col_name\u001b[1;34m(code)\u001b[0m\n\u001b[0;32m    110\u001b[0m         \u001b[0mtable_name\u001b[0m \u001b[1;33m=\u001b[0m \u001b[1;34m'infoes'\u001b[0m\u001b[1;33m\u001b[0m\u001b[1;33m\u001b[0m\u001b[0m\n\u001b[0;32m    111\u001b[0m         \u001b[0mattr_name\u001b[0m \u001b[1;33m=\u001b[0m \u001b[1;34m'概念'\u001b[0m\u001b[1;33m\u001b[0m\u001b[1;33m\u001b[0m\u001b[0m\n\u001b[1;32m--> 112\u001b[1;33m         \u001b[0mmaps\u001b[0m \u001b[1;33m=\u001b[0m \u001b[0mquery_maps\u001b[0m\u001b[1;33m(\u001b[0m\u001b[0mtable_name\u001b[0m\u001b[1;33m,\u001b[0m \u001b[0mattr_name\u001b[0m\u001b[1;33m)\u001b[0m\u001b[1;33m\u001b[0m\u001b[1;33m\u001b[0m\u001b[0m\n\u001b[0m\u001b[0;32m    113\u001b[0m         \u001b[1;32mreturn\u001b[0m \u001b[0mmaps\u001b[0m\u001b[1;33m[\u001b[0m\u001b[0mcode\u001b[0m\u001b[1;33m]\u001b[0m\u001b[1;33m\u001b[0m\u001b[1;33m\u001b[0m\u001b[0m\n\u001b[0;32m    114\u001b[0m \u001b[1;33m\u001b[0m\u001b[0m\n",
      "\u001b[1;32mc:\\users\\liude\\repos\\zipline\\zipline\\pipeline\\fundamentals\\reader.py\u001b[0m in \u001b[0;36mquery_maps\u001b[1;34m(table_name, attr_name, key_to_int)\u001b[0m\n\u001b[0;32m     69\u001b[0m     \u001b[0mrootdir\u001b[0m \u001b[1;33m=\u001b[0m \u001b[0mbcolz_table_path\u001b[0m\u001b[1;33m(\u001b[0m\u001b[0mtable_name\u001b[0m\u001b[1;33m)\u001b[0m\u001b[1;33m\u001b[0m\u001b[1;33m\u001b[0m\u001b[0m\n\u001b[0;32m     70\u001b[0m     \u001b[0mct\u001b[0m \u001b[1;33m=\u001b[0m \u001b[0mbcolz\u001b[0m\u001b[1;33m.\u001b[0m\u001b[0mopen\u001b[0m\u001b[1;33m(\u001b[0m\u001b[0mrootdir\u001b[0m\u001b[1;33m)\u001b[0m\u001b[1;33m\u001b[0m\u001b[1;33m\u001b[0m\u001b[0m\n\u001b[1;32m---> 71\u001b[1;33m     \u001b[0md\u001b[0m \u001b[1;33m=\u001b[0m \u001b[0mct\u001b[0m\u001b[1;33m.\u001b[0m\u001b[0mattrs\u001b[0m\u001b[1;33m[\u001b[0m\u001b[0mattr_name\u001b[0m\u001b[1;33m]\u001b[0m\u001b[1;33m\u001b[0m\u001b[1;33m\u001b[0m\u001b[0m\n\u001b[0m\u001b[0;32m     72\u001b[0m     \u001b[1;32mif\u001b[0m \u001b[0mkey_to_int\u001b[0m\u001b[1;33m:\u001b[0m\u001b[1;33m\u001b[0m\u001b[1;33m\u001b[0m\u001b[0m\n\u001b[0;32m     73\u001b[0m         \u001b[1;32mreturn\u001b[0m \u001b[1;33m{\u001b[0m\u001b[0mint\u001b[0m\u001b[1;33m(\u001b[0m\u001b[0mk\u001b[0m\u001b[1;33m)\u001b[0m\u001b[1;33m:\u001b[0m \u001b[0mv\u001b[0m \u001b[1;32mfor\u001b[0m \u001b[0mk\u001b[0m\u001b[1;33m,\u001b[0m \u001b[0mv\u001b[0m \u001b[1;32min\u001b[0m \u001b[0md\u001b[0m\u001b[1;33m.\u001b[0m\u001b[0mitems\u001b[0m\u001b[1;33m(\u001b[0m\u001b[1;33m)\u001b[0m\u001b[1;33m}\u001b[0m\u001b[1;33m\u001b[0m\u001b[1;33m\u001b[0m\u001b[0m\n",
      "\u001b[1;32m~\\anaconda3\\envs\\zipline\\lib\\site-packages\\bcolz\\attrs.py\u001b[0m in \u001b[0;36m__getitem__\u001b[1;34m(self, name)\u001b[0m\n\u001b[0;32m     93\u001b[0m \u001b[1;33m\u001b[0m\u001b[0m\n\u001b[0;32m     94\u001b[0m     \u001b[1;32mdef\u001b[0m \u001b[0m__getitem__\u001b[0m\u001b[1;33m(\u001b[0m\u001b[0mself\u001b[0m\u001b[1;33m,\u001b[0m \u001b[0mname\u001b[0m\u001b[1;33m)\u001b[0m\u001b[1;33m:\u001b[0m\u001b[1;33m\u001b[0m\u001b[1;33m\u001b[0m\u001b[0m\n\u001b[1;32m---> 95\u001b[1;33m         \u001b[1;32mreturn\u001b[0m \u001b[0mself\u001b[0m\u001b[1;33m.\u001b[0m\u001b[0mattrs\u001b[0m\u001b[1;33m[\u001b[0m\u001b[0mname\u001b[0m\u001b[1;33m]\u001b[0m\u001b[1;33m\u001b[0m\u001b[1;33m\u001b[0m\u001b[0m\n\u001b[0m\u001b[0;32m     96\u001b[0m \u001b[1;33m\u001b[0m\u001b[0m\n\u001b[0;32m     97\u001b[0m     \u001b[1;32mdef\u001b[0m \u001b[0m__setitem__\u001b[0m\u001b[1;33m(\u001b[0m\u001b[0mself\u001b[0m\u001b[1;33m,\u001b[0m \u001b[0mname\u001b[0m\u001b[1;33m,\u001b[0m \u001b[0mobj\u001b[0m\u001b[1;33m)\u001b[0m\u001b[1;33m:\u001b[0m\u001b[1;33m\u001b[0m\u001b[1;33m\u001b[0m\u001b[0m\n",
      "\u001b[1;31mKeyError\u001b[0m: '概念'"
     ]
    }
   ],
   "source": [
    "Fundamentals.concept_col_name('A270')"
   ]
  },
  {
   "cell_type": "markdown",
   "metadata": {},
   "source": [
    "## 查询概念编码"
   ]
  },
  {
   "cell_type": "code",
   "execution_count": 12,
   "metadata": {
    "ExecuteTime": {
     "end_time": "2019-07-09T01:11:01.620392Z",
     "start_time": "2019-07-09T01:10:58.913Z"
    }
   },
   "outputs": [
    {
     "output_type": "error",
     "ename": "KeyError",
     "evalue": "'概念'",
     "traceback": [
      "\u001b[1;31m---------------------------------------------------------------------------\u001b[0m",
      "\u001b[1;31mKeyError\u001b[0m                                  Traceback (most recent call last)",
      "\u001b[1;32m<ipython-input-12-40eec95fcab7>\u001b[0m in \u001b[0;36m<module>\u001b[1;34m\u001b[0m\n\u001b[1;32m----> 1\u001b[1;33m \u001b[0mFundamentals\u001b[0m\u001b[1;33m.\u001b[0m\u001b[0mconcept_col_code\u001b[0m\u001b[1;33m(\u001b[0m\u001b[1;34m'汽车'\u001b[0m\u001b[1;33m)\u001b[0m\u001b[1;33m\u001b[0m\u001b[1;33m\u001b[0m\u001b[0m\n\u001b[0m",
      "\u001b[1;32mc:\\users\\liude\\repos\\zipline\\zipline\\pipeline\\fundamentals\\reader.py\u001b[0m in \u001b[0;36mconcept_col_code\u001b[1;34m(key)\u001b[0m\n\u001b[0;32m    122\u001b[0m         \u001b[0mtable_name\u001b[0m \u001b[1;33m=\u001b[0m \u001b[1;34m'infoes'\u001b[0m\u001b[1;33m\u001b[0m\u001b[1;33m\u001b[0m\u001b[0m\n\u001b[0;32m    123\u001b[0m         \u001b[0mattr_name\u001b[0m \u001b[1;33m=\u001b[0m \u001b[1;34m'概念'\u001b[0m\u001b[1;33m\u001b[0m\u001b[1;33m\u001b[0m\u001b[0m\n\u001b[1;32m--> 124\u001b[1;33m         \u001b[0mmaps\u001b[0m \u001b[1;33m=\u001b[0m \u001b[0mquery_maps\u001b[0m\u001b[1;33m(\u001b[0m\u001b[0mtable_name\u001b[0m\u001b[1;33m,\u001b[0m \u001b[0mattr_name\u001b[0m\u001b[1;33m)\u001b[0m\u001b[1;33m\u001b[0m\u001b[1;33m\u001b[0m\u001b[0m\n\u001b[0m\u001b[0;32m    125\u001b[0m         \u001b[0mout\u001b[0m \u001b[1;33m=\u001b[0m \u001b[1;33m{\u001b[0m\u001b[0mk\u001b[0m\u001b[1;33m:\u001b[0m \u001b[0mv\u001b[0m \u001b[1;32mfor\u001b[0m \u001b[0mk\u001b[0m\u001b[1;33m,\u001b[0m \u001b[0mv\u001b[0m \u001b[1;32min\u001b[0m \u001b[0mmaps\u001b[0m\u001b[1;33m.\u001b[0m\u001b[0mitems\u001b[0m\u001b[1;33m(\u001b[0m\u001b[1;33m)\u001b[0m \u001b[1;32mif\u001b[0m \u001b[0mkey\u001b[0m \u001b[1;32min\u001b[0m \u001b[0mv\u001b[0m\u001b[1;33m}\u001b[0m\u001b[1;33m\u001b[0m\u001b[1;33m\u001b[0m\u001b[0m\n\u001b[0;32m    126\u001b[0m         \u001b[1;32mreturn\u001b[0m \u001b[0mout\u001b[0m\u001b[1;33m\u001b[0m\u001b[1;33m\u001b[0m\u001b[0m\n",
      "\u001b[1;32mc:\\users\\liude\\repos\\zipline\\zipline\\pipeline\\fundamentals\\reader.py\u001b[0m in \u001b[0;36mquery_maps\u001b[1;34m(table_name, attr_name, key_to_int)\u001b[0m\n\u001b[0;32m     69\u001b[0m     \u001b[0mrootdir\u001b[0m \u001b[1;33m=\u001b[0m \u001b[0mbcolz_table_path\u001b[0m\u001b[1;33m(\u001b[0m\u001b[0mtable_name\u001b[0m\u001b[1;33m)\u001b[0m\u001b[1;33m\u001b[0m\u001b[1;33m\u001b[0m\u001b[0m\n\u001b[0;32m     70\u001b[0m     \u001b[0mct\u001b[0m \u001b[1;33m=\u001b[0m \u001b[0mbcolz\u001b[0m\u001b[1;33m.\u001b[0m\u001b[0mopen\u001b[0m\u001b[1;33m(\u001b[0m\u001b[0mrootdir\u001b[0m\u001b[1;33m)\u001b[0m\u001b[1;33m\u001b[0m\u001b[1;33m\u001b[0m\u001b[0m\n\u001b[1;32m---> 71\u001b[1;33m     \u001b[0md\u001b[0m \u001b[1;33m=\u001b[0m \u001b[0mct\u001b[0m\u001b[1;33m.\u001b[0m\u001b[0mattrs\u001b[0m\u001b[1;33m[\u001b[0m\u001b[0mattr_name\u001b[0m\u001b[1;33m]\u001b[0m\u001b[1;33m\u001b[0m\u001b[1;33m\u001b[0m\u001b[0m\n\u001b[0m\u001b[0;32m     72\u001b[0m     \u001b[1;32mif\u001b[0m \u001b[0mkey_to_int\u001b[0m\u001b[1;33m:\u001b[0m\u001b[1;33m\u001b[0m\u001b[1;33m\u001b[0m\u001b[0m\n\u001b[0;32m     73\u001b[0m         \u001b[1;32mreturn\u001b[0m \u001b[1;33m{\u001b[0m\u001b[0mint\u001b[0m\u001b[1;33m(\u001b[0m\u001b[0mk\u001b[0m\u001b[1;33m)\u001b[0m\u001b[1;33m:\u001b[0m \u001b[0mv\u001b[0m \u001b[1;32mfor\u001b[0m \u001b[0mk\u001b[0m\u001b[1;33m,\u001b[0m \u001b[0mv\u001b[0m \u001b[1;32min\u001b[0m \u001b[0md\u001b[0m\u001b[1;33m.\u001b[0m\u001b[0mitems\u001b[0m\u001b[1;33m(\u001b[0m\u001b[1;33m)\u001b[0m\u001b[1;33m}\u001b[0m\u001b[1;33m\u001b[0m\u001b[1;33m\u001b[0m\u001b[0m\n",
      "\u001b[1;32m~\\anaconda3\\envs\\zipline\\lib\\site-packages\\bcolz\\attrs.py\u001b[0m in \u001b[0;36m__getitem__\u001b[1;34m(self, name)\u001b[0m\n\u001b[0;32m     93\u001b[0m \u001b[1;33m\u001b[0m\u001b[0m\n\u001b[0;32m     94\u001b[0m     \u001b[1;32mdef\u001b[0m \u001b[0m__getitem__\u001b[0m\u001b[1;33m(\u001b[0m\u001b[0mself\u001b[0m\u001b[1;33m,\u001b[0m \u001b[0mname\u001b[0m\u001b[1;33m)\u001b[0m\u001b[1;33m:\u001b[0m\u001b[1;33m\u001b[0m\u001b[1;33m\u001b[0m\u001b[0m\n\u001b[1;32m---> 95\u001b[1;33m         \u001b[1;32mreturn\u001b[0m \u001b[0mself\u001b[0m\u001b[1;33m.\u001b[0m\u001b[0mattrs\u001b[0m\u001b[1;33m[\u001b[0m\u001b[0mname\u001b[0m\u001b[1;33m]\u001b[0m\u001b[1;33m\u001b[0m\u001b[1;33m\u001b[0m\u001b[0m\n\u001b[0m\u001b[0;32m     96\u001b[0m \u001b[1;33m\u001b[0m\u001b[0m\n\u001b[0;32m     97\u001b[0m     \u001b[1;32mdef\u001b[0m \u001b[0m__setitem__\u001b[0m\u001b[1;33m(\u001b[0m\u001b[0mself\u001b[0m\u001b[1;33m,\u001b[0m \u001b[0mname\u001b[0m\u001b[1;33m,\u001b[0m \u001b[0mobj\u001b[0m\u001b[1;33m)\u001b[0m\u001b[1;33m:\u001b[0m\u001b[1;33m\u001b[0m\u001b[1;33m\u001b[0m\u001b[0m\n",
      "\u001b[1;31mKeyError\u001b[0m: '概念'"
     ]
    }
   ],
   "source": [
    "Fundamentals.concept_col_code('汽车')"
   ]
  },
  {
   "cell_type": "code",
   "execution_count": 30,
   "metadata": {
    "ExecuteTime": {
     "end_time": "2019-07-09T01:11:01.620392Z",
     "start_time": "2019-07-09T01:10:58.916Z"
    }
   },
   "outputs": [
    {
     "output_type": "execute_result",
     "data": {
      "text/plain": "                                         共享汽车\ndate                      asset              \n2018-01-10 00:00:00+00:00 齐心集团(002301)   True\n                          深南股份(002417)   True\n                          二六三(002467)    True\n                          榕基软件(002474)   True\n                          中装建设(002822)   True\n                          视源股份(002841)   True\n                          天源迪科(300047)   True\n                          三五互联(300051)   True\n                          华平股份(300074)   True\n                          雷曼光电(300162)   True\n                          初灵信息(300250)   True\n                          蓝盾股份(300297)   True\n                          太空智造(300344)   True\n                          北信源(300352)    True\n                          会畅通讯(300578)   True\n                          恒锋信息(300605)   True\n                          亿联网络(300628)   True\n                          中科信息(300678)   True\n                          科创信息(300730)   True\n                          *ST松江(600225)  True\n                          鹏博士(600804)    True\n                          宝信软件(600845)   True\n                          人民网(603000)    True\n                          泛微网络(603039)   True\n                          苏州科达(603660)   True\n                          金桥信息(603918)   True",
      "text/html": "<div>\n<style scoped>\n    .dataframe tbody tr th:only-of-type {\n        vertical-align: middle;\n    }\n\n    .dataframe tbody tr th {\n        vertical-align: top;\n    }\n\n    .dataframe thead th {\n        text-align: right;\n    }\n</style>\n<table border=\"1\" class=\"dataframe\">\n  <thead>\n    <tr style=\"text-align: right;\">\n      <th></th>\n      <th></th>\n      <th>共享汽车</th>\n    </tr>\n    <tr>\n      <th>date</th>\n      <th>asset</th>\n      <th></th>\n    </tr>\n  </thead>\n  <tbody>\n    <tr>\n      <th rowspan=\"26\" valign=\"top\">2018-01-10 00:00:00+00:00</th>\n      <th>齐心集团(002301)</th>\n      <td>True</td>\n    </tr>\n    <tr>\n      <th>深南股份(002417)</th>\n      <td>True</td>\n    </tr>\n    <tr>\n      <th>二六三(002467)</th>\n      <td>True</td>\n    </tr>\n    <tr>\n      <th>榕基软件(002474)</th>\n      <td>True</td>\n    </tr>\n    <tr>\n      <th>中装建设(002822)</th>\n      <td>True</td>\n    </tr>\n    <tr>\n      <th>视源股份(002841)</th>\n      <td>True</td>\n    </tr>\n    <tr>\n      <th>天源迪科(300047)</th>\n      <td>True</td>\n    </tr>\n    <tr>\n      <th>三五互联(300051)</th>\n      <td>True</td>\n    </tr>\n    <tr>\n      <th>华平股份(300074)</th>\n      <td>True</td>\n    </tr>\n    <tr>\n      <th>雷曼光电(300162)</th>\n      <td>True</td>\n    </tr>\n    <tr>\n      <th>初灵信息(300250)</th>\n      <td>True</td>\n    </tr>\n    <tr>\n      <th>蓝盾股份(300297)</th>\n      <td>True</td>\n    </tr>\n    <tr>\n      <th>太空智造(300344)</th>\n      <td>True</td>\n    </tr>\n    <tr>\n      <th>北信源(300352)</th>\n      <td>True</td>\n    </tr>\n    <tr>\n      <th>会畅通讯(300578)</th>\n      <td>True</td>\n    </tr>\n    <tr>\n      <th>恒锋信息(300605)</th>\n      <td>True</td>\n    </tr>\n    <tr>\n      <th>亿联网络(300628)</th>\n      <td>True</td>\n    </tr>\n    <tr>\n      <th>中科信息(300678)</th>\n      <td>True</td>\n    </tr>\n    <tr>\n      <th>科创信息(300730)</th>\n      <td>True</td>\n    </tr>\n    <tr>\n      <th>*ST松江(600225)</th>\n      <td>True</td>\n    </tr>\n    <tr>\n      <th>鹏博士(600804)</th>\n      <td>True</td>\n    </tr>\n    <tr>\n      <th>宝信软件(600845)</th>\n      <td>True</td>\n    </tr>\n    <tr>\n      <th>人民网(603000)</th>\n      <td>True</td>\n    </tr>\n    <tr>\n      <th>泛微网络(603039)</th>\n      <td>True</td>\n    </tr>\n    <tr>\n      <th>苏州科达(603660)</th>\n      <td>True</td>\n    </tr>\n    <tr>\n      <th>金桥信息(603918)</th>\n      <td>True</td>\n    </tr>\n  </tbody>\n</table>\n</div>"
     },
     "metadata": {},
     "execution_count": 30
    }
   ],
   "source": [
    "def make_pipeline():\n",
    "    return Pipeline(columns={\n",
    "        '共享汽车': Fundamentals.info.A270.latest,\n",
    "#         '人工智能': Fundamentals.info.A263.latest,\n",
    "    })\n",
    "\n",
    "data_output = run_pipeline(\n",
    "    make_pipeline(),\n",
    "    start_date='2018-01-10',\n",
    "    end_date='2018-01-10'\n",
    ")\n",
    "\n",
    "data_output[data_output['共享汽车']]"
   ]
  },
  {
   "cell_type": "markdown",
   "metadata": {},
   "source": [
    "# 上市状态"
   ]
  },
  {
   "cell_type": "code",
   "execution_count": 31,
   "metadata": {
    "ExecuteTime": {
     "end_time": "2019-07-09T01:11:01.621390Z",
     "start_time": "2019-07-09T01:10:58.919Z"
    }
   },
   "outputs": [
    {
     "output_type": "execute_result",
     "data": {
      "text/plain": "                                           状态\ndate                      asset              \n2018-01-10 00:00:00+00:00 洛阳钼业(603993)   正常上市\n                          *ST中新(603996)   *ST\n                          继峰股份(603997)   正常上市\n                          方盛制药(603998)   正常上市\n                          读者传媒(603999)   正常上市",
      "text/html": "<div>\n<style scoped>\n    .dataframe tbody tr th:only-of-type {\n        vertical-align: middle;\n    }\n\n    .dataframe tbody tr th {\n        vertical-align: top;\n    }\n\n    .dataframe thead th {\n        text-align: right;\n    }\n</style>\n<table border=\"1\" class=\"dataframe\">\n  <thead>\n    <tr style=\"text-align: right;\">\n      <th></th>\n      <th></th>\n      <th>状态</th>\n    </tr>\n    <tr>\n      <th>date</th>\n      <th>asset</th>\n      <th></th>\n    </tr>\n  </thead>\n  <tbody>\n    <tr>\n      <th rowspan=\"5\" valign=\"top\">2018-01-10 00:00:00+00:00</th>\n      <th>洛阳钼业(603993)</th>\n      <td>正常上市</td>\n    </tr>\n    <tr>\n      <th>*ST中新(603996)</th>\n      <td>*ST</td>\n    </tr>\n    <tr>\n      <th>继峰股份(603997)</th>\n      <td>正常上市</td>\n    </tr>\n    <tr>\n      <th>方盛制药(603998)</th>\n      <td>正常上市</td>\n    </tr>\n    <tr>\n      <th>读者传媒(603999)</th>\n      <td>正常上市</td>\n    </tr>\n  </tbody>\n</table>\n</div>"
     },
     "metadata": {},
     "execution_count": 31
    }
   ],
   "source": [
    "def make_pipeline():\n",
    "    return Pipeline(columns={\n",
    "        '状态': Fundamentals.info.上市状态.latest,\n",
    "    })\n",
    "\n",
    "data_output = run_pipeline(\n",
    "    make_pipeline(),\n",
    "    start_date='2018-01-10',\n",
    "    end_date='2018-01-10'\n",
    ")\n",
    "\n",
    "data_output.tail()"
   ]
  }
 ],
 "metadata": {
  "kernelspec": {
   "display_name": "zipline",
   "language": "python",
   "name": "zipline"
  },
  "language_info": {
   "codemirror_mode": {
    "name": "ipython",
    "version": 3
   },
   "file_extension": ".py",
   "mimetype": "text/x-python",
   "name": "python",
   "nbconvert_exporter": "python",
   "pygments_lexer": "ipython3",
   "version": "3.7.7-final"
  },
  "toc": {
   "base_numbering": 1,
   "nav_menu": {},
   "number_sections": true,
   "sideBar": true,
   "skip_h1_title": false,
   "title_cell": "Table of Contents",
   "title_sidebar": "Contents",
   "toc_cell": false,
   "toc_position": {
    "height": "calc(100% - 180px)",
    "left": "10px",
    "top": "150px",
    "width": "384px"
   },
   "toc_section_display": true,
   "toc_window_display": true
  }
 },
 "nbformat": 4,
 "nbformat_minor": 2
}