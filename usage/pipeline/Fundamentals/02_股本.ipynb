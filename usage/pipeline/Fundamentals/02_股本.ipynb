{
 "cells": [
  {
   "cell_type": "code",
   "execution_count": null,
   "metadata": {
    "ExecuteTime": {
     "end_time": "2019-01-02T05:32:41.735436Z",
     "start_time": "2019-01-02T05:32:38.569397Z"
    }
   },
   "outputs": [],
   "source": [
    "from zipline.pipeline import Pipeline\n",
    "from zipline.research import run_pipeline, symbols, symbol\n",
    "from zipline.pipeline.fundamentals import Fundamentals"
   ]
  },
  {
   "cell_type": "code",
   "execution_count": 2,
   "metadata": {
    "ExecuteTime": {
     "end_time": "2019-01-02T05:32:43.315698Z",
     "start_time": "2019-01-02T05:32:41.735436Z"
    }
   },
   "outputs": [],
   "source": [
    "def make_pipeline():\n",
    "    return Pipeline(\n",
    "        columns={\n",
    "            '总股本': Fundamentals.info.总股本.latest,\n",
    "            '流通股本': Fundamentals.info.流通股本.latest,\n",
    "        })\n",
    "\n",
    "\n",
    "data_output = run_pipeline(\n",
    "    make_pipeline(), start_date='2018-05-01', end_date='2018-05-10')\n",
    "\n",
    "data_output.xs(symbol(333), level=1)"
   ]
  },
  {
   "cell_type": "code",
   "execution_count": null,
   "metadata": {},
   "outputs": [],
   "source": []
  }
 ],
 "metadata": {
  "kernelspec": {
   "display_name": "Python 3.7.7 64-bit ('zipline': conda)",
   "language": "python",
   "name": "python37764bitziplinecondafc6f11bd3b9c4249a9fc63b5c8ae4fcf"
  },
  "language_info": {
   "codemirror_mode": {
    "name": "ipython",
    "version": 3
   },
   "file_extension": ".py",
   "mimetype": "text/x-python",
   "name": "python",
   "nbconvert_exporter": "python",
   "pygments_lexer": "ipython3",
   "version": "3.7.7-final"
  },
  "toc": {
   "base_numbering": 1,
   "nav_menu": {},
   "number_sections": true,
   "sideBar": true,
   "skip_h1_title": false,
   "title_cell": "Table of Contents",
   "title_sidebar": "Contents",
   "toc_cell": false,
   "toc_position": {},
   "toc_section_display": true,
   "toc_window_display": false
  }
 },
 "nbformat": 4,
 "nbformat_minor": 2
}