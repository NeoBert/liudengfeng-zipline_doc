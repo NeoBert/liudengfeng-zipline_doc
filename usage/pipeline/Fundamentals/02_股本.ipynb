{
 "cells": [
  {
   "cell_type": "code",
   "execution_count": 1,
   "metadata": {
    "ExecuteTime": {
     "end_time": "2019-01-02T05:32:41.735436Z",
     "start_time": "2019-01-02T05:32:38.569397Z"
    }
   },
   "outputs": [],
   "source": [
    "from zipline.pipeline import Pipeline\n",
    "from zipline.research import run_pipeline, symbols, symbol\n",
    "from zipline.pipeline.fundamentals import Fundamentals"
   ]
  },
  {
   "cell_type": "code",
   "execution_count": 2,
   "metadata": {
    "ExecuteTime": {
     "end_time": "2019-01-02T05:32:43.315698Z",
     "start_time": "2019-01-02T05:32:41.735436Z"
    }
   },
   "outputs": [
    {
     "data": {
      "text/html": [
       "<div>\n",
       "<style scoped>\n",
       "    .dataframe tbody tr th:only-of-type {\n",
       "        vertical-align: middle;\n",
       "    }\n",
       "\n",
       "    .dataframe tbody tr th {\n",
       "        vertical-align: top;\n",
       "    }\n",
       "\n",
       "    .dataframe thead th {\n",
       "        text-align: right;\n",
       "    }\n",
       "</style>\n",
       "<table border=\"1\" class=\"dataframe\">\n",
       "  <thead>\n",
       "    <tr style=\"text-align: right;\">\n",
       "      <th></th>\n",
       "      <th>总股本</th>\n",
       "      <th>流通股本</th>\n",
       "    </tr>\n",
       "  </thead>\n",
       "  <tbody>\n",
       "    <tr>\n",
       "      <th>2018-05-02 00:00:00+00:00</th>\n",
       "      <td>6.575447e+09</td>\n",
       "      <td>6.358119e+09</td>\n",
       "    </tr>\n",
       "    <tr>\n",
       "      <th>2018-05-03 00:00:00+00:00</th>\n",
       "      <td>6.575447e+09</td>\n",
       "      <td>6.358119e+09</td>\n",
       "    </tr>\n",
       "    <tr>\n",
       "      <th>2018-05-04 00:00:00+00:00</th>\n",
       "      <td>6.584023e+09</td>\n",
       "      <td>6.366695e+09</td>\n",
       "    </tr>\n",
       "    <tr>\n",
       "      <th>2018-05-07 00:00:00+00:00</th>\n",
       "      <td>6.584023e+09</td>\n",
       "      <td>6.366695e+09</td>\n",
       "    </tr>\n",
       "    <tr>\n",
       "      <th>2018-05-08 00:00:00+00:00</th>\n",
       "      <td>6.584023e+09</td>\n",
       "      <td>6.366695e+09</td>\n",
       "    </tr>\n",
       "    <tr>\n",
       "      <th>2018-05-09 00:00:00+00:00</th>\n",
       "      <td>6.584023e+09</td>\n",
       "      <td>6.366695e+09</td>\n",
       "    </tr>\n",
       "    <tr>\n",
       "      <th>2018-05-10 00:00:00+00:00</th>\n",
       "      <td>6.584023e+09</td>\n",
       "      <td>6.366695e+09</td>\n",
       "    </tr>\n",
       "  </tbody>\n",
       "</table>\n",
       "</div>"
      ],
      "text/plain": [
       "                                    总股本          流通股本\n",
       "2018-05-02 00:00:00+00:00  6.575447e+09  6.358119e+09\n",
       "2018-05-03 00:00:00+00:00  6.575447e+09  6.358119e+09\n",
       "2018-05-04 00:00:00+00:00  6.584023e+09  6.366695e+09\n",
       "2018-05-07 00:00:00+00:00  6.584023e+09  6.366695e+09\n",
       "2018-05-08 00:00:00+00:00  6.584023e+09  6.366695e+09\n",
       "2018-05-09 00:00:00+00:00  6.584023e+09  6.366695e+09\n",
       "2018-05-10 00:00:00+00:00  6.584023e+09  6.366695e+09"
      ]
     },
     "execution_count": 2,
     "metadata": {},
     "output_type": "execute_result"
    }
   ],
   "source": [
    "def make_pipeline():\n",
    "    return Pipeline(\n",
    "        columns={\n",
    "            '总股本': Fundamentals.equity.总股本.latest,\n",
    "            '流通股本': Fundamentals.equity.流通股本.latest,\n",
    "        })\n",
    "\n",
    "\n",
    "data_output = run_pipeline(\n",
    "    make_pipeline(), start_date='2018-05-01', end_date='2018-05-10')\n",
    "\n",
    "data_output.xs(symbol(333), level=1)"
   ]
  }
 ],
 "metadata": {
  "kernelspec": {
   "display_name": "zipline",
   "language": "python",
   "name": "zipline"
  },
  "language_info": {
   "codemirror_mode": {
    "name": "ipython",
    "version": 3
   },
   "file_extension": ".py",
   "mimetype": "text/x-python",
   "name": "python",
   "nbconvert_exporter": "python",
   "pygments_lexer": "ipython3",
   "version": "3.7.1"
  },
  "toc": {
   "base_numbering": 1,
   "nav_menu": {},
   "number_sections": true,
   "sideBar": true,
   "skip_h1_title": false,
   "title_cell": "Table of Contents",
   "title_sidebar": "Contents",
   "toc_cell": false,
   "toc_position": {},
   "toc_section_display": true,
   "toc_window_display": false
  }
 },
 "nbformat": 4,
 "nbformat_minor": 2
}
