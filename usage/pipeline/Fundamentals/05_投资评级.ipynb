{
 "cells": [
  {
   "cell_type": "code",
   "execution_count": 1,
   "metadata": {
    "ExecuteTime": {
     "end_time": "2019-01-02T05:54:44.869318Z",
     "start_time": "2019-01-02T05:54:41.768912Z"
    }
   },
   "outputs": [],
   "source": [
    "from zipline.pipeline import Pipeline\n",
    "from zipline.research import run_pipeline, symbols, symbol\n",
    "from zipline.pipeline.fundamentals import Fundamentals"
   ]
  },
  {
   "cell_type": "markdown",
   "metadata": {},
   "source": [
    "# 查询编码"
   ]
  },
  {
   "cell_type": "markdown",
   "metadata": {},
   "source": [
    "## 研究机构编码"
   ]
  },
  {
   "cell_type": "code",
   "execution_count": 2,
   "metadata": {
    "ExecuteTime": {
     "end_time": "2019-01-02T05:54:44.905774Z",
     "start_time": "2019-01-02T05:54:44.869318Z"
    }
   },
   "outputs": [
    {
     "data": {
      "text/plain": [
       "{'141': '国泰君安', '142': '国泰君安证券(香港)有限公司', '143': '国泰君安证券股份有限公司'}"
      ]
     },
     "execution_count": 2,
     "metadata": {},
     "output_type": "execute_result"
    }
   ],
   "source": [
    "Fundamentals.ir_iarc_code('国泰君安')"
   ]
  },
  {
   "cell_type": "markdown",
   "metadata": {},
   "source": [
    "## 研究员编码"
   ]
  },
  {
   "cell_type": "code",
   "execution_count": 3,
   "metadata": {
    "ExecuteTime": {
     "end_time": "2019-01-02T05:54:44.938694Z",
     "start_time": "2019-01-02T05:54:44.905774Z"
    }
   },
   "outputs": [
    {
     "data": {
      "text/plain": [
       "{'4128': '孙亮,陈希怡',\n",
       " '4132': '孙亮，陈希怡',\n",
       " '6533': '易镜明,陈希怡',\n",
       " '15179': '陈希怡',\n",
       " '15180': '陈希怡 李文健',\n",
       " '15181': '陈希怡,孙亮',\n",
       " '15182': '陈希怡,李文健'}"
      ]
     },
     "execution_count": 3,
     "metadata": {},
     "output_type": "execute_result"
    }
   ],
   "source": [
    "Fundamentals.ir_researcher_code('陈希怡')"
   ]
  },
  {
   "cell_type": "markdown",
   "metadata": {},
   "source": [
    "# 查询名称\n"
   ]
  },
  {
   "cell_type": "code",
   "execution_count": 4,
   "metadata": {
    "ExecuteTime": {
     "end_time": "2019-01-02T05:54:44.970870Z",
     "start_time": "2019-01-02T05:54:44.938694Z"
    }
   },
   "outputs": [
    {
     "data": {
      "text/plain": [
       "'国泰君安证券股份有限公司'"
      ]
     },
     "execution_count": 4,
     "metadata": {},
     "output_type": "execute_result"
    }
   ],
   "source": [
    "Fundamentals.ir_iarc_cname('143')"
   ]
  },
  {
   "cell_type": "code",
   "execution_count": 5,
   "metadata": {
    "ExecuteTime": {
     "end_time": "2019-01-02T05:54:45.003433Z",
     "start_time": "2019-01-02T05:54:44.970870Z"
    }
   },
   "outputs": [
    {
     "data": {
      "text/plain": [
       "'国泰君安证券股份有限公司'"
      ]
     },
     "execution_count": 5,
     "metadata": {},
     "output_type": "execute_result"
    }
   ],
   "source": [
    "Fundamentals.ir_iarc_cname(143)"
   ]
  },
  {
   "cell_type": "code",
   "execution_count": 6,
   "metadata": {
    "ExecuteTime": {
     "end_time": "2019-01-02T05:54:45.039387Z",
     "start_time": "2019-01-02T05:54:45.003433Z"
    }
   },
   "outputs": [
    {
     "data": {
      "text/plain": [
       "'陈希怡,李文健'"
      ]
     },
     "execution_count": 6,
     "metadata": {},
     "output_type": "execute_result"
    }
   ],
   "source": [
    "Fundamentals.ir_researcher_cname('15182')"
   ]
  },
  {
   "cell_type": "markdown",
   "metadata": {},
   "source": [
    "# 投资评级"
   ]
  },
  {
   "cell_type": "code",
   "execution_count": 7,
   "metadata": {
    "ExecuteTime": {
     "end_time": "2019-01-02T05:54:48.007594Z",
     "start_time": "2019-01-02T05:54:45.039387Z"
    }
   },
   "outputs": [
    {
     "data": {
      "text/html": [
       "<div>\n",
       "<style scoped>\n",
       "    .dataframe tbody tr th:only-of-type {\n",
       "        vertical-align: middle;\n",
       "    }\n",
       "\n",
       "    .dataframe tbody tr th {\n",
       "        vertical-align: top;\n",
       "    }\n",
       "\n",
       "    .dataframe thead th {\n",
       "        text-align: right;\n",
       "    }\n",
       "</style>\n",
       "<table border=\"1\" class=\"dataframe\">\n",
       "  <thead>\n",
       "    <tr style=\"text-align: right;\">\n",
       "      <th></th>\n",
       "      <th></th>\n",
       "      <th>投资评级</th>\n",
       "    </tr>\n",
       "  </thead>\n",
       "  <tbody>\n",
       "    <tr>\n",
       "      <th rowspan=\"5\" valign=\"top\">2018-01-10 00:00:00+00:00</th>\n",
       "      <th>平安银行(000001)</th>\n",
       "      <td>卖出</td>\n",
       "    </tr>\n",
       "    <tr>\n",
       "      <th>万 科Ａ(000002)</th>\n",
       "      <td>买入</td>\n",
       "    </tr>\n",
       "    <tr>\n",
       "      <th>国农科技(000004)</th>\n",
       "      <td>BUY</td>\n",
       "    </tr>\n",
       "    <tr>\n",
       "      <th>世纪星源(000005)</th>\n",
       "      <td>无</td>\n",
       "    </tr>\n",
       "    <tr>\n",
       "      <th>深振业Ａ(000006)</th>\n",
       "      <td>无</td>\n",
       "    </tr>\n",
       "  </tbody>\n",
       "</table>\n",
       "</div>"
      ],
      "text/plain": [
       "                                       投资评级\n",
       "2018-01-10 00:00:00+00:00 平安银行(000001)   卖出\n",
       "                          万 科Ａ(000002)   买入\n",
       "                          国农科技(000004)  BUY\n",
       "                          世纪星源(000005)    无\n",
       "                          深振业Ａ(000006)    无"
      ]
     },
     "execution_count": 7,
     "metadata": {},
     "output_type": "execute_result"
    }
   ],
   "source": [
    "def make_pipeline():\n",
    "    return Pipeline(columns={\n",
    "        '投资评级': Fundamentals.rating.投资评级.latest,\n",
    "    })\n",
    "\n",
    "\n",
    "data_output = run_pipeline(\n",
    "    make_pipeline(), start_date='2018-01-10', end_date='2018-01-10')\n",
    "\n",
    "data_output.head()"
   ]
  },
  {
   "cell_type": "markdown",
   "metadata": {},
   "source": [
    "# 底层数据需要进一步整理"
   ]
  },
  {
   "cell_type": "code",
   "execution_count": 8,
   "metadata": {
    "ExecuteTime": {
     "end_time": "2019-01-02T05:54:48.011590Z",
     "start_time": "2019-01-02T05:54:48.007594Z"
    }
   },
   "outputs": [],
   "source": [
    "from zipline.pipeline.fundamentals.sql import get_investment_rating_data"
   ]
  },
  {
   "cell_type": "code",
   "execution_count": 9,
   "metadata": {
    "ExecuteTime": {
     "end_time": "2019-01-02T05:54:52.508254Z",
     "start_time": "2019-01-02T05:54:48.011590Z"
    }
   },
   "outputs": [],
   "source": [
    "df = get_investment_rating_data(False)"
   ]
  },
  {
   "cell_type": "code",
   "execution_count": 10,
   "metadata": {
    "ExecuteTime": {
     "end_time": "2019-01-02T05:54:52.577216Z",
     "start_time": "2019-01-02T05:54:52.508254Z"
    }
   },
   "outputs": [
    {
     "data": {
      "text/plain": [
       "array(['-', '卖出', '谨慎增持', '增持', '谨慎推荐', '中性', '推荐', '买入', '落后大市', '强烈推荐',\n",
       "       '大市同步', '审慎推荐', '持有', '同步大市', '观望', '谨慎持有', '跑赢大市', '强于大市', '特有',\n",
       "       '长线买入', '适度关注', '長綫買入', 'Overweight', 'Buy', '审慎推荐-A',\n",
       "       'overweight', 'Neutral', 'HOLD', 'NEUTRAL', 'BUY', 'ACCUMULATE',\n",
       "       'UNDERWEIGHT', '无', '不评级', '买 入', '优于大市', '强买', '强力买入',\n",
       "       'Outperform', '买进', 'OVERWEIGHT', 'OUTPERFORM', '强烈买入', 'SELL',\n",
       "       '谨慎买入', '减持', 'STRONG BUY', '强推', '看好', '关注', '超强大市', '重点推荐',\n",
       "       'Sell', '中立', 'OW', '增持\\x7f', '谨慎中性', 'Hold', '跑输大市', '未评级',\n",
       "       '强力推荐', '持有-超越同业', '逢低增持', '卖入', '与大市同步', '回避', '谨慎买', '0.5403',\n",
       "       'buy', '无评级', 'EQUAL-WEIGHT', '0.8319', 'OP', '跑赢大盘', 'NC', '慎推荐',\n",
       "       '谨慎增', 'UNDERPERFORM', '调出', '0.3199', '谨慎', '谨慎看好', '长期推荐', '买',\n",
       "       'Equal-weight', 'REDUCE', '广济药业', '0.5093', '鑫富药业', '超配', '威海广泰',\n",
       "       '审慎买入', '强烈推推', '0.1634', 'CL-BUY', '审慎增持', '谨持', '持股', '强力买进',\n",
       "       '0.5400', '未有评级', '中性\\x7f', '强力卖出', '尚未评级', '中级', '0.3183', '短线推荐',\n",
       "       '0.5675', '维持', '强势', 'FULLY VALUED', '0.4042', 'neutral', '增次',\n",
       "       '增性', '收集', '增持-A', 'Underweight', '弱于大市'], dtype=object)"
      ]
     },
     "execution_count": 10,
     "metadata": {},
     "output_type": "execute_result"
    }
   ],
   "source": [
    "df['投资评级'].unique()"
   ]
  }
 ],
 "metadata": {
  "kernelspec": {
   "display_name": "zipline",
   "language": "python",
   "name": "zipline"
  },
  "language_info": {
   "codemirror_mode": {
    "name": "ipython",
    "version": 3
   },
   "file_extension": ".py",
   "mimetype": "text/x-python",
   "name": "python",
   "nbconvert_exporter": "python",
   "pygments_lexer": "ipython3",
   "version": "3.7.1"
  },
  "toc": {
   "base_numbering": 1,
   "nav_menu": {},
   "number_sections": true,
   "sideBar": true,
   "skip_h1_title": false,
   "title_cell": "Table of Contents",
   "title_sidebar": "Contents",
   "toc_cell": false,
   "toc_position": {
    "height": "calc(100% - 180px)",
    "left": "10px",
    "top": "150px",
    "width": "384px"
   },
   "toc_section_display": true,
   "toc_window_display": true
  }
 },
 "nbformat": 4,
 "nbformat_minor": 2
}
