{
 "cells": [
  {
   "cell_type": "code",
   "execution_count": 1,
   "metadata": {
    "ExecuteTime": {
     "end_time": "2019-06-22T08:05:58.509942Z",
     "start_time": "2019-06-22T08:05:54.810335Z"
    }
   },
   "outputs": [],
   "source": [
    "from zipline.research import get_pricing"
   ]
  },
  {
   "cell_type": "markdown",
   "metadata": {},
   "source": [
    "# 单字段、单股票\n",
    "\n",
    "返回序列"
   ]
  },
  {
   "cell_type": "code",
   "execution_count": 2,
   "metadata": {
    "ExecuteTime": {
     "end_time": "2019-06-22T08:05:58.946817Z",
     "start_time": "2019-06-22T08:05:58.510940Z"
    }
   },
   "outputs": [],
   "source": [
    "df = get_pricing(\n",
    "  '000002',\n",
    "  start_date='2014-1-1',\n",
    "  end_date='2016-2-1', # must be after run_pipeline()'s end date. Explained more in lesson 4\n",
    "  fields='high'# Generally, you should use open pricing. Explained more in lesson 4\n",
    ")"
   ]
  },
  {
   "cell_type": "code",
   "execution_count": 3,
   "metadata": {
    "ExecuteTime": {
     "end_time": "2019-06-22T08:05:58.952827Z",
     "start_time": "2019-06-22T08:05:58.947816Z"
    }
   },
   "outputs": [
    {
     "data": {
      "text/plain": [
       "2016-01-26 00:00:00+00:00    24.43\n",
       "2016-01-27 00:00:00+00:00    24.43\n",
       "2016-01-28 00:00:00+00:00    24.43\n",
       "2016-01-29 00:00:00+00:00    24.43\n",
       "2016-02-01 00:00:00+00:00    24.43\n",
       "Freq: C, Name: 万 科Ａ(000002), dtype: float64"
      ]
     },
     "execution_count": 3,
     "metadata": {},
     "output_type": "execute_result"
    }
   ],
   "source": [
    "df.tail()"
   ]
  },
  {
   "cell_type": "markdown",
   "metadata": {},
   "source": [
    "# 单字段、多股票"
   ]
  },
  {
   "cell_type": "code",
   "execution_count": 4,
   "metadata": {
    "ExecuteTime": {
     "end_time": "2019-06-22T08:05:59.203174Z",
     "start_time": "2019-06-22T08:05:58.953799Z"
    }
   },
   "outputs": [],
   "source": [
    "df = get_pricing(\n",
    "  ['000002','600645'],\n",
    "  start_date='2014-1-1',\n",
    "  end_date='2016-2-1', # must be after run_pipeline()'s end date. Explained more in lesson 4\n",
    "  fields='high'# Generally, you should use open pricing. Explained more in lesson 4\n",
    ")"
   ]
  },
  {
   "cell_type": "code",
   "execution_count": 5,
   "metadata": {
    "ExecuteTime": {
     "end_time": "2019-06-22T08:05:59.211139Z",
     "start_time": "2019-06-22T08:05:59.204130Z"
    }
   },
   "outputs": [
    {
     "data": {
      "text/html": [
       "<div>\n",
       "<style scoped>\n",
       "    .dataframe tbody tr th:only-of-type {\n",
       "        vertical-align: middle;\n",
       "    }\n",
       "\n",
       "    .dataframe tbody tr th {\n",
       "        vertical-align: top;\n",
       "    }\n",
       "\n",
       "    .dataframe thead th {\n",
       "        text-align: right;\n",
       "    }\n",
       "</style>\n",
       "<table border=\"1\" class=\"dataframe\">\n",
       "  <thead>\n",
       "    <tr style=\"text-align: right;\">\n",
       "      <th></th>\n",
       "      <th>万 科Ａ(000002)</th>\n",
       "      <th>中源协和(600645)</th>\n",
       "    </tr>\n",
       "    <tr>\n",
       "      <th>high</th>\n",
       "      <th></th>\n",
       "      <th></th>\n",
       "    </tr>\n",
       "  </thead>\n",
       "  <tbody>\n",
       "    <tr>\n",
       "      <th>2016-01-26 00:00:00+00:00</th>\n",
       "      <td>24.43</td>\n",
       "      <td>40.20</td>\n",
       "    </tr>\n",
       "    <tr>\n",
       "      <th>2016-01-27 00:00:00+00:00</th>\n",
       "      <td>24.43</td>\n",
       "      <td>37.47</td>\n",
       "    </tr>\n",
       "    <tr>\n",
       "      <th>2016-01-28 00:00:00+00:00</th>\n",
       "      <td>24.43</td>\n",
       "      <td>36.07</td>\n",
       "    </tr>\n",
       "    <tr>\n",
       "      <th>2016-01-29 00:00:00+00:00</th>\n",
       "      <td>24.43</td>\n",
       "      <td>36.41</td>\n",
       "    </tr>\n",
       "    <tr>\n",
       "      <th>2016-02-01 00:00:00+00:00</th>\n",
       "      <td>24.43</td>\n",
       "      <td>36.67</td>\n",
       "    </tr>\n",
       "  </tbody>\n",
       "</table>\n",
       "</div>"
      ],
      "text/plain": [
       "                           万 科Ａ(000002)  中源协和(600645)\n",
       "high                                                 \n",
       "2016-01-26 00:00:00+00:00         24.43         40.20\n",
       "2016-01-27 00:00:00+00:00         24.43         37.47\n",
       "2016-01-28 00:00:00+00:00         24.43         36.07\n",
       "2016-01-29 00:00:00+00:00         24.43         36.41\n",
       "2016-02-01 00:00:00+00:00         24.43         36.67"
      ]
     },
     "execution_count": 5,
     "metadata": {},
     "output_type": "execute_result"
    }
   ],
   "source": [
    "df.tail()"
   ]
  },
  {
   "cell_type": "markdown",
   "metadata": {},
   "source": [
    "# 多字段、单股票"
   ]
  },
  {
   "cell_type": "code",
   "execution_count": 6,
   "metadata": {
    "ExecuteTime": {
     "end_time": "2019-06-22T08:05:59.501403Z",
     "start_time": "2019-06-22T08:05:59.212109Z"
    }
   },
   "outputs": [],
   "source": [
    "df = get_pricing(\n",
    "  '000333',\n",
    "  start_date='2019-6-1',\n",
    "  end_date='2019-6-21', # must be after run_pipeline()'s end date. Explained more in lesson 4\n",
    "  fields=['high','low']# Generally, you should use open pricing. Explained more in lesson 4\n",
    ")"
   ]
  },
  {
   "cell_type": "code",
   "execution_count": 7,
   "metadata": {
    "ExecuteTime": {
     "end_time": "2019-06-22T08:05:59.509315Z",
     "start_time": "2019-06-22T08:05:59.502333Z"
    }
   },
   "outputs": [
    {
     "data": {
      "text/html": [
       "<div>\n",
       "<style scoped>\n",
       "    .dataframe tbody tr th:only-of-type {\n",
       "        vertical-align: middle;\n",
       "    }\n",
       "\n",
       "    .dataframe tbody tr th {\n",
       "        vertical-align: top;\n",
       "    }\n",
       "\n",
       "    .dataframe thead th {\n",
       "        text-align: right;\n",
       "    }\n",
       "</style>\n",
       "<table border=\"1\" class=\"dataframe\">\n",
       "  <thead>\n",
       "    <tr style=\"text-align: right;\">\n",
       "      <th></th>\n",
       "      <th>high</th>\n",
       "      <th>low</th>\n",
       "    </tr>\n",
       "    <tr>\n",
       "      <th>[美的集团(000333)]</th>\n",
       "      <th></th>\n",
       "      <th></th>\n",
       "    </tr>\n",
       "  </thead>\n",
       "  <tbody>\n",
       "    <tr>\n",
       "      <th>2019-06-17 00:00:00+00:00</th>\n",
       "      <td>51.25</td>\n",
       "      <td>50.39</td>\n",
       "    </tr>\n",
       "    <tr>\n",
       "      <th>2019-06-18 00:00:00+00:00</th>\n",
       "      <td>51.30</td>\n",
       "      <td>50.50</td>\n",
       "    </tr>\n",
       "    <tr>\n",
       "      <th>2019-06-19 00:00:00+00:00</th>\n",
       "      <td>52.97</td>\n",
       "      <td>52.01</td>\n",
       "    </tr>\n",
       "    <tr>\n",
       "      <th>2019-06-20 00:00:00+00:00</th>\n",
       "      <td>53.95</td>\n",
       "      <td>52.11</td>\n",
       "    </tr>\n",
       "    <tr>\n",
       "      <th>2019-06-21 00:00:00+00:00</th>\n",
       "      <td>NaN</td>\n",
       "      <td>NaN</td>\n",
       "    </tr>\n",
       "  </tbody>\n",
       "</table>\n",
       "</div>"
      ],
      "text/plain": [
       "                            high    low\n",
       "[美的集团(000333)]                         \n",
       "2019-06-17 00:00:00+00:00  51.25  50.39\n",
       "2019-06-18 00:00:00+00:00  51.30  50.50\n",
       "2019-06-19 00:00:00+00:00  52.97  52.01\n",
       "2019-06-20 00:00:00+00:00  53.95  52.11\n",
       "2019-06-21 00:00:00+00:00    NaN    NaN"
      ]
     },
     "execution_count": 7,
     "metadata": {},
     "output_type": "execute_result"
    }
   ],
   "source": [
    "df.tail()"
   ]
  },
  {
   "cell_type": "markdown",
   "metadata": {},
   "source": [
    "# 多字段、多股票"
   ]
  },
  {
   "cell_type": "code",
   "execution_count": 8,
   "metadata": {
    "ExecuteTime": {
     "end_time": "2019-06-22T08:05:59.842626Z",
     "start_time": "2019-06-22T08:05:59.510312Z"
    }
   },
   "outputs": [],
   "source": [
    "df = get_pricing(\n",
    "  ['000333','600645'],\n",
    "  start_date='2019-6-1',\n",
    "  end_date='2019-6-21', # must be after run_pipeline()'s end date. Explained more in lesson 4\n",
    "  fields=['high','low']# Generally, you should use open pricing. Explained more in lesson 4\n",
    ")"
   ]
  },
  {
   "cell_type": "code",
   "execution_count": 9,
   "metadata": {
    "ExecuteTime": {
     "end_time": "2019-06-22T08:05:59.850403Z",
     "start_time": "2019-06-22T08:05:59.843422Z"
    }
   },
   "outputs": [
    {
     "data": {
      "text/html": [
       "<div>\n",
       "<style scoped>\n",
       "    .dataframe tbody tr th:only-of-type {\n",
       "        vertical-align: middle;\n",
       "    }\n",
       "\n",
       "    .dataframe tbody tr th {\n",
       "        vertical-align: top;\n",
       "    }\n",
       "\n",
       "    .dataframe thead th {\n",
       "        text-align: right;\n",
       "    }\n",
       "</style>\n",
       "<table border=\"1\" class=\"dataframe\">\n",
       "  <thead>\n",
       "    <tr style=\"text-align: right;\">\n",
       "      <th></th>\n",
       "      <th></th>\n",
       "      <th>high</th>\n",
       "      <th>low</th>\n",
       "    </tr>\n",
       "  </thead>\n",
       "  <tbody>\n",
       "    <tr>\n",
       "      <th rowspan=\"2\" valign=\"top\">2019-06-18 00:00:00+00:00</th>\n",
       "      <th>美的集团(000333)</th>\n",
       "      <td>51.30</td>\n",
       "      <td>50.50</td>\n",
       "    </tr>\n",
       "    <tr>\n",
       "      <th>中源协和(600645)</th>\n",
       "      <td>17.95</td>\n",
       "      <td>17.60</td>\n",
       "    </tr>\n",
       "    <tr>\n",
       "      <th rowspan=\"2\" valign=\"top\">2019-06-19 00:00:00+00:00</th>\n",
       "      <th>美的集团(000333)</th>\n",
       "      <td>52.97</td>\n",
       "      <td>52.01</td>\n",
       "    </tr>\n",
       "    <tr>\n",
       "      <th>中源协和(600645)</th>\n",
       "      <td>18.35</td>\n",
       "      <td>17.83</td>\n",
       "    </tr>\n",
       "    <tr>\n",
       "      <th rowspan=\"2\" valign=\"top\">2019-06-20 00:00:00+00:00</th>\n",
       "      <th>美的集团(000333)</th>\n",
       "      <td>53.95</td>\n",
       "      <td>52.11</td>\n",
       "    </tr>\n",
       "    <tr>\n",
       "      <th>中源协和(600645)</th>\n",
       "      <td>18.34</td>\n",
       "      <td>17.77</td>\n",
       "    </tr>\n",
       "  </tbody>\n",
       "</table>\n",
       "</div>"
      ],
      "text/plain": [
       "                                         high    low\n",
       "2019-06-18 00:00:00+00:00 美的集团(000333)  51.30  50.50\n",
       "                          中源协和(600645)  17.95  17.60\n",
       "2019-06-19 00:00:00+00:00 美的集团(000333)  52.97  52.01\n",
       "                          中源协和(600645)  18.35  17.83\n",
       "2019-06-20 00:00:00+00:00 美的集团(000333)  53.95  52.11\n",
       "                          中源协和(600645)  18.34  17.77"
      ]
     },
     "execution_count": 9,
     "metadata": {},
     "output_type": "execute_result"
    }
   ],
   "source": [
    "df.tail(6)"
   ]
  }
 ],
 "metadata": {
  "kernelspec": {
   "display_name": "zipline",
   "language": "python",
   "name": "zipline"
  },
  "language_info": {
   "codemirror_mode": {
    "name": "ipython",
    "version": 3
   },
   "file_extension": ".py",
   "mimetype": "text/x-python",
   "name": "python",
   "nbconvert_exporter": "python",
   "pygments_lexer": "ipython3",
   "version": "3.7.3"
  },
  "toc": {
   "base_numbering": 1,
   "nav_menu": {},
   "number_sections": true,
   "sideBar": true,
   "skip_h1_title": false,
   "title_cell": "Table of Contents",
   "title_sidebar": "Contents",
   "toc_cell": false,
   "toc_position": {},
   "toc_section_display": true,
   "toc_window_display": false
  }
 },
 "nbformat": 4,
 "nbformat_minor": 2
}
