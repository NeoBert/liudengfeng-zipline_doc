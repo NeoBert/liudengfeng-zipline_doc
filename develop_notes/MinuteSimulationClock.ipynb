{
 "cells": [
  {
   "cell_type": "markdown",
   "metadata": {},
   "source": [
    "# 交易日历"
   ]
  },
  {
   "cell_type": "code",
   "execution_count": null,
   "metadata": {
    "ExecuteTime": {
     "end_time": "2020-07-18T01:10:19.423012Z",
     "start_time": "2020-07-18T01:10:18.723992Z"
    }
   },
   "outputs": [],
   "source": [
    "from trading_calendars import get_calendar"
   ]
  },
  {
   "cell_type": "code",
   "execution_count": null,
   "metadata": {
    "ExecuteTime": {
     "end_time": "2020-07-18T01:10:19.710989Z",
     "start_time": "2020-07-18T01:10:19.425987Z"
    }
   },
   "outputs": [],
   "source": [
    "calendar = get_calendar('XSHG')"
   ]
  },
  {
   "cell_type": "code",
   "execution_count": null,
   "metadata": {
    "ExecuteTime": {
     "end_time": "2020-07-18T01:10:19.726989Z",
     "start_time": "2020-07-18T01:10:19.711960Z"
    }
   },
   "outputs": [],
   "source": [
    "calendar.schedule.index"
   ]
  },
  {
   "cell_type": "code",
   "execution_count": null,
   "metadata": {
    "ExecuteTime": {
     "end_time": "2020-07-18T01:10:19.742984Z",
     "start_time": "2020-07-18T01:10:19.727980Z"
    }
   },
   "outputs": [],
   "source": [
    "calendar.schedule.tail()"
   ]
  },
  {
   "cell_type": "markdown",
   "metadata": {},
   "source": [
    "# 模拟期间"
   ]
  },
  {
   "cell_type": "code",
   "execution_count": null,
   "metadata": {
    "ExecuteTime": {
     "end_time": "2020-07-18T01:10:19.758985Z",
     "start_time": "2020-07-18T01:10:19.743983Z"
    }
   },
   "outputs": [],
   "source": [
    "import pandas as pd"
   ]
  },
  {
   "cell_type": "code",
   "execution_count": null,
   "metadata": {
    "ExecuteTime": {
     "end_time": "2020-07-18T01:10:19.774993Z",
     "start_time": "2020-07-18T01:10:19.759960Z"
    }
   },
   "outputs": [],
   "source": [
    "sessions = pd.date_range('2020-06-20', '2020-06-30', tz='UTC')"
   ]
  },
  {
   "cell_type": "code",
   "execution_count": null,
   "metadata": {
    "ExecuteTime": {
     "end_time": "2020-07-18T01:10:19.791008Z",
     "start_time": "2020-07-18T01:10:19.779998Z"
    }
   },
   "outputs": [],
   "source": [
    "trading_sessions = calendar.schedule.index.intersection(sessions)\n",
    "trading_o_and_c = calendar.schedule.loc[trading_sessions]"
   ]
  },
  {
   "cell_type": "code",
   "execution_count": null,
   "metadata": {
    "ExecuteTime": {
     "end_time": "2020-07-18T01:10:19.806991Z",
     "start_time": "2020-07-18T01:10:19.795969Z"
    }
   },
   "outputs": [],
   "source": [
    "trading_sessions"
   ]
  },
  {
   "cell_type": "code",
   "execution_count": null,
   "metadata": {
    "ExecuteTime": {
     "end_time": "2020-07-18T01:10:19.822990Z",
     "start_time": "2020-07-18T01:10:19.808962Z"
    }
   },
   "outputs": [],
   "source": [
    "trading_o_and_c"
   ]
  },
  {
   "cell_type": "code",
   "execution_count": null,
   "metadata": {
    "ExecuteTime": {
     "end_time": "2020-07-18T01:10:21.197033Z",
     "start_time": "2020-07-18T01:10:19.823960Z"
    }
   },
   "outputs": [],
   "source": [
    "from zipline.algorithm import *"
   ]
  },
  {
   "cell_type": "markdown",
   "metadata": {},
   "source": [
    "# 模拟时钟"
   ]
  },
  {
   "cell_type": "code",
   "execution_count": null,
   "metadata": {
    "ExecuteTime": {
     "end_time": "2020-07-18T01:10:21.213006Z",
     "start_time": "2020-07-18T01:10:21.200999Z"
    }
   },
   "outputs": [],
   "source": [
    "market_closes = trading_o_and_c['market_close']\n",
    "minutely_emission = False"
   ]
  },
  {
   "cell_type": "code",
   "execution_count": null,
   "metadata": {
    "ExecuteTime": {
     "end_time": "2020-07-18T01:10:21.228019Z",
     "start_time": "2020-07-18T01:10:21.213986Z"
    }
   },
   "outputs": [],
   "source": [
    "execution_closes = calendar.execution_time_from_close(market_closes)\n",
    "execution_opens = execution_closes"
   ]
  },
  {
   "cell_type": "code",
   "execution_count": null,
   "metadata": {
    "ExecuteTime": {
     "end_time": "2020-07-18T01:10:21.244019Z",
     "start_time": "2020-07-18T01:10:21.228996Z"
    }
   },
   "outputs": [],
   "source": [
    "before_trading_start_minutes = days_at_time(\n",
    "    trading_sessions,\n",
    "    time(9, 30),  # √\n",
    "    \"Asia/Shanghai\"  # √\n",
    ")"
   ]
  },
  {
   "cell_type": "code",
   "execution_count": null,
   "metadata": {
    "ExecuteTime": {
     "end_time": "2020-07-18T01:10:21.260019Z",
     "start_time": "2020-07-18T01:10:21.250018Z"
    }
   },
   "outputs": [],
   "source": [
    "STATUS = {\n",
    "    0: 'BAR',\n",
    "    1: 'SESSION_START',\n",
    "    2: 'SESSION_END',\n",
    "    3: 'MINUTE_END',\n",
    "    4: 'BEFORE_TRADING_START_BAR'\n",
    "}"
   ]
  },
  {
   "cell_type": "markdown",
   "metadata": {},
   "source": [
    "## `daily mode`\n",
    "in daily mode, we want to have one bar per session, timestamped as the last minute of the session."
   ]
  },
  {
   "cell_type": "code",
   "execution_count": null,
   "metadata": {
    "ExecuteTime": {
     "end_time": "2020-07-18T01:10:21.275962Z",
     "start_time": "2020-07-18T01:10:21.262965Z"
    }
   },
   "outputs": [],
   "source": [
    "clock = MinuteSimulationClock(\n",
    "    trading_sessions,\n",
    "    execution_opens,\n",
    "    execution_closes,\n",
    "    before_trading_start_minutes,\n",
    "    minute_emission=False,\n",
    ")"
   ]
  },
  {
   "cell_type": "code",
   "execution_count": null,
   "metadata": {
    "ExecuteTime": {
     "end_time": "2020-07-18T01:10:21.292069Z",
     "start_time": "2020-07-18T01:10:21.277960Z"
    }
   },
   "outputs": [],
   "source": [
    "for dt, ac in clock:\n",
    "    print(dt.tz_convert('Asia/Shanghai'), STATUS[ac])"
   ]
  },
  {
   "cell_type": "markdown",
   "metadata": {},
   "source": [
    "## 考虑午休的分钟级别模式"
   ]
  },
  {
   "cell_type": "code",
   "execution_count": null,
   "metadata": {
    "ExecuteTime": {
     "end_time": "2020-07-18T01:10:21.308076Z",
     "start_time": "2020-07-18T01:10:21.293069Z"
    }
   },
   "outputs": [],
   "source": [
    "market_opens = trading_o_and_c['market_open']\n",
    "execution_opens = calendar.execution_time_from_open(market_opens)\n",
    "execution_closes = calendar.execution_time_from_close(market_closes)"
   ]
  },
  {
   "cell_type": "code",
   "execution_count": null,
   "metadata": {
    "ExecuteTime": {
     "end_time": "2020-07-18T01:10:21.324071Z",
     "start_time": "2020-07-18T01:10:21.312075Z"
    }
   },
   "outputs": [],
   "source": [
    "clock = MinuteSimulationClock(\n",
    "    trading_sessions,\n",
    "    execution_opens,\n",
    "    execution_closes,\n",
    "    before_trading_start_minutes,\n",
    "    minute_emission=True,\n",
    ")"
   ]
  },
  {
   "cell_type": "code",
   "execution_count": null,
   "metadata": {
    "ExecuteTime": {
     "end_time": "2020-07-18T01:10:21.753068Z",
     "start_time": "2020-07-18T01:10:21.326071Z"
    }
   },
   "outputs": [],
   "source": [
    "for dt, ac in clock:\n",
    "    print(dt.tz_convert('Asia/Shanghai'), STATUS[ac])"
   ]
  }
 ],
 "metadata": {
  "kernelspec": {
   "display_name": "Python 3.7.7 64-bit ('zipline': conda)",
   "language": "python",
   "name": "python37764bitziplinecondafc6f11bd3b9c4249a9fc63b5c8ae4fcf"
  },
  "language_info": {
   "codemirror_mode": {
    "name": "ipython",
    "version": 3
   },
   "file_extension": ".py",
   "mimetype": "text/x-python",
   "name": "python",
   "nbconvert_exporter": "python",
   "pygments_lexer": "ipython3",
   "version": "3.7.7"
  },
  "toc": {
   "base_numbering": 1,
   "nav_menu": {},
   "number_sections": true,
   "sideBar": true,
   "skip_h1_title": false,
   "title_cell": "Table of Contents",
   "title_sidebar": "Contents",
   "toc_cell": false,
   "toc_position": {},
   "toc_section_display": true,
   "toc_window_display": true
  },
  "varInspector": {
   "cols": {
    "lenName": 16,
    "lenType": 16,
    "lenVar": 40
   },
   "kernels_config": {
    "python": {
     "delete_cmd_postfix": "",
     "delete_cmd_prefix": "del ",
     "library": "var_list.py",
     "varRefreshCmd": "print(var_dic_list())"
    },
    "r": {
     "delete_cmd_postfix": ") ",
     "delete_cmd_prefix": "rm(",
     "library": "var_list.r",
     "varRefreshCmd": "cat(var_dic_list()) "
    }
   },
   "types_to_exclude": [
    "module",
    "function",
    "builtin_function_or_method",
    "instance",
    "_Feature"
   ],
   "window_display": false
  }
 },
 "nbformat": 4,
 "nbformat_minor": 4
}
